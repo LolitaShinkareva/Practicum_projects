{
 "cells": [
  {
   "cell_type": "markdown",
   "id": "e06910dd",
   "metadata": {
    "id": "e06910dd"
   },
   "source": [
    "# Сравнительный анализ активности читателей Яндекс.Книг (СПб vs Москва) и оценка эффективности новой версии интерфейса интернет-магазина BitMotion Kit на основе A/B-тестирования\n",
    "\n",
    "## Краткое описание:\n",
    "\n",
    "Проект состоит из двух ключевых частей:\n",
    "\n",
    "Сравнительный анализ активности читателей Яндекс.Книг в Санкт-Петербурге и Москве – проверить, действительно ли пользователи из Санкт-Петербурга проводят в среднем больше времени за чтением и прослушиванием книг в приложении, чем пользователи из Москвы.\n",
    "\n",
    "Анализ результатов A/B-тестирования новой версии интерфейса интернет-магазина BitMotion Kit – оценка эффективности изменений в интерфейсе на основе ключевых метрик (конверсия, средний чек, отказы и др.).\n",
    "\n",
    "## Цель:\n",
    "Выявить закономерности в поведении пользователей Яндекс.Книг и определить, насколько новая версия интерфейса BitMotion Kit улучшает пользовательский опыт и бизнес-показатели.\n",
    "\n",
    "## Задачи:\n",
    "\n",
    "**Для анализа Яндекс.Книг**:\n",
    "\n",
    "Сравнить количество наблюдений, среднее значение, дисперсию и другие характеристики распределения времени активности между пользователями двух городов.\n",
    "\n",
    "Провести двусторонний t-тест для независимых выборок, чтобы определить, существует ли статистически значимое различие между средним временем активности пользователей из разных городов.\n",
    "\n",
    "**Для A/B-теста BitMotion Kit**:\n",
    "\n",
    "Провести статистический анализ результатов теста (A/B-группы).\n",
    "\n",
    "Сформулировать рекомендации по внедрению изменений.\n",
    "\n",
    "## Итог:\n",
    "Проект объединяет маркетинговый и UX-анализ, помогая оптимизировать сервисы на основе данных о поведении пользователей."
   ]
  },
  {
   "cell_type": "markdown",
   "id": "4149134c",
   "metadata": {
    "id": "4149134c"
   },
   "source": [
    "## **Часть 1.** Сравнительный анализ активности читателей Яндекс.Книг СПб vs Москва\n",
    "\n",
    "\n",
    "\n",
    "\n",
    "2. Сравнить количество наблюдений, среднее значение, дисперсию и другие характеристики распределения времени активности между пользователями двух городов.\n",
    "\n",
    "3. Провести двусторонний t-тест для независимых выборок, чтобы определить, существует ли статистически значимое различие между средним временем активности пользователей из разных городов."
   ]
  },
  {
   "cell_type": "markdown",
   "id": "728986ea",
   "metadata": {
    "id": "728986ea"
   },
   "source": [
    "### Описание данных\n",
    "\n",
    "Таблицы этого проекта содержат данные о чтении и прослушивании контента в сервисе Яндекс Книги, которые включают информацию о пользователях, платформах, времени, длительности сессий и типах контента. Данные представлены за период с 1 сентября по 11 декабря 2024 года. В вашем распоряжении будет несколько таблиц.\n",
    "\n",
    "<b>Таблица bookmate.audition содержит данные об активности пользователей и состоит из следующих полей:</b>\n",
    "\n",
    "•\taudition_id — уникальный идентификатор сессии чтения или прослушивания;\n",
    "\n",
    "•\tpuid — идентификатор пользователя;\n",
    "\n",
    "•\tusage_platform_ru — название платформы, с помощью которой пользователь слушал контент;\n",
    "\n",
    "•\tmsk_business_dt_str — дата события в формате строки (московское время);\n",
    "\n",
    "•\tapp_version — версия приложения, которая использовалась для чтения или прослушивания;\n",
    "\n",
    "•\tadult_content_flg — был ли это контент для взрослых: True или False;\n",
    "\n",
    "•\thours — длительность чтения или прослушивания в часах;\n",
    "\n",
    "•\thours_sessions_long — продолжительность длинных сессий чтения или прослушивания в часах;\n",
    "\n",
    "•\tkids_content_flg — был ли это детский контент: True или False;\n",
    "\n",
    "•\tmain_content_id — идентификатор основного контента;\n",
    "\n",
    "•\tusage_geo_id — идентификатор географического местоположения.\n",
    "\n",
    "<b>Таблица bookmate.content содержит данные о контенте и состоит из следующих полей:</b>\n",
    "\n",
    "•\tmain_content_id — идентификатор основного контента;\n",
    "\n",
    "•\tmain_author_id — идентификатор основного автора контента;\n",
    "\n",
    "•\tmain_content_type — тип контента;\n",
    "\n",
    "•\tmain_content_name— название контента;\n",
    "\n",
    "•\tmain_content_duration_hours — длительность контента в часах;\n",
    "\n",
    "•\tpublished_topic_title_list — список жанров контента.\n",
    "\n",
    "<b> Таблица bookmate.author содержит данные об авторах контента и состоит из следующих полей:</b>\n",
    "\n",
    "•\tmain_author_id — идентификатор основного автора контента;\n",
    "\n",
    "•\tmain_author_name — имя основного автора контента.\n",
    "\n",
    "<b>Таблица bookmate.geo содержит данные о местоположении и состоит из следующих полей:</b>\n",
    "\n",
    "•\tusage_geo_id — идентификатор географического положения;\n",
    "\n",
    "•\tusage_geo_id_name — город или регион географического положения;\n",
    "\n",
    "•\tusage_country_name — страна географического положения.\n"
   ]
  },
  {
   "cell_type": "markdown",
   "id": "6f7d21d6",
   "metadata": {
    "id": "6f7d21d6"
   },
   "source": [
    "### 1. Загрузка данных и знакомство с ними"
   ]
  },
  {
   "cell_type": "code",
   "execution_count": 1,
   "id": "1921998f",
   "metadata": {},
   "outputs": [],
   "source": [
    "# Импортируем необходимые библиотеки\n",
    "import pandas as pd\n",
    "import numpy as np\n",
    "\n",
    "# Устанавливаем недостающие библиотеки через try-except\n",
    "try:\n",
    "    from scipy import stats\n",
    "except ImportError:\n",
    "    !pip install scipy\n",
    "    from scipy import stats\n",
    "\n",
    "try:\n",
    "    from scipy.stats import norm\n",
    "except ImportError:\n",
    "    !pip install scipy\n",
    "    from scipy.stats import norm\n",
    "\n",
    "result = stats.ttest_ind"
   ]
  },
  {
   "cell_type": "code",
   "execution_count": 2,
   "id": "ce87c1db",
   "metadata": {
    "id": "ce87c1db"
   },
   "outputs": [],
   "source": [
    "# Загружаем базу данных\n",
    "df = pd.read_csv('https://code.s3.yandex.net/datasets/yandex_knigi_data.csv')"
   ]
  },
  {
   "cell_type": "code",
   "execution_count": 3,
   "id": "f68a7419",
   "metadata": {
    "id": "f68a7419"
   },
   "outputs": [
    {
     "data": {
      "text/html": [
       "<div>\n",
       "<style scoped>\n",
       "    .dataframe tbody tr th:only-of-type {\n",
       "        vertical-align: middle;\n",
       "    }\n",
       "\n",
       "    .dataframe tbody tr th {\n",
       "        vertical-align: top;\n",
       "    }\n",
       "\n",
       "    .dataframe thead th {\n",
       "        text-align: right;\n",
       "    }\n",
       "</style>\n",
       "<table border=\"1\" class=\"dataframe\">\n",
       "  <thead>\n",
       "    <tr style=\"text-align: right;\">\n",
       "      <th></th>\n",
       "      <th>Unnamed: 0</th>\n",
       "      <th>city</th>\n",
       "      <th>puid</th>\n",
       "      <th>hours</th>\n",
       "    </tr>\n",
       "  </thead>\n",
       "  <tbody>\n",
       "    <tr>\n",
       "      <th>0</th>\n",
       "      <td>0</td>\n",
       "      <td>Москва</td>\n",
       "      <td>9668</td>\n",
       "      <td>26.167776</td>\n",
       "    </tr>\n",
       "    <tr>\n",
       "      <th>1</th>\n",
       "      <td>1</td>\n",
       "      <td>Москва</td>\n",
       "      <td>16598</td>\n",
       "      <td>82.111217</td>\n",
       "    </tr>\n",
       "    <tr>\n",
       "      <th>2</th>\n",
       "      <td>2</td>\n",
       "      <td>Москва</td>\n",
       "      <td>80401</td>\n",
       "      <td>4.656906</td>\n",
       "    </tr>\n",
       "    <tr>\n",
       "      <th>3</th>\n",
       "      <td>3</td>\n",
       "      <td>Москва</td>\n",
       "      <td>140205</td>\n",
       "      <td>1.840556</td>\n",
       "    </tr>\n",
       "    <tr>\n",
       "      <th>4</th>\n",
       "      <td>4</td>\n",
       "      <td>Москва</td>\n",
       "      <td>248755</td>\n",
       "      <td>151.326434</td>\n",
       "    </tr>\n",
       "    <tr>\n",
       "      <th>...</th>\n",
       "      <td>...</td>\n",
       "      <td>...</td>\n",
       "      <td>...</td>\n",
       "      <td>...</td>\n",
       "    </tr>\n",
       "    <tr>\n",
       "      <th>8779</th>\n",
       "      <td>8779</td>\n",
       "      <td>Санкт-Петербург</td>\n",
       "      <td>1130000028554332</td>\n",
       "      <td>4.107774</td>\n",
       "    </tr>\n",
       "    <tr>\n",
       "      <th>8780</th>\n",
       "      <td>8780</td>\n",
       "      <td>Санкт-Петербург</td>\n",
       "      <td>1130000030307246</td>\n",
       "      <td>45.069222</td>\n",
       "    </tr>\n",
       "    <tr>\n",
       "      <th>8781</th>\n",
       "      <td>8781</td>\n",
       "      <td>Санкт-Петербург</td>\n",
       "      <td>1130000038726322</td>\n",
       "      <td>0.211944</td>\n",
       "    </tr>\n",
       "    <tr>\n",
       "      <th>8782</th>\n",
       "      <td>8782</td>\n",
       "      <td>Санкт-Петербург</td>\n",
       "      <td>1130000047892100</td>\n",
       "      <td>4.311841</td>\n",
       "    </tr>\n",
       "    <tr>\n",
       "      <th>8783</th>\n",
       "      <td>8783</td>\n",
       "      <td>Санкт-Петербург</td>\n",
       "      <td>1130000061443598</td>\n",
       "      <td>20.847222</td>\n",
       "    </tr>\n",
       "  </tbody>\n",
       "</table>\n",
       "<p>8784 rows × 4 columns</p>\n",
       "</div>"
      ],
      "text/plain": [
       "      Unnamed: 0             city              puid       hours\n",
       "0              0           Москва              9668   26.167776\n",
       "1              1           Москва             16598   82.111217\n",
       "2              2           Москва             80401    4.656906\n",
       "3              3           Москва            140205    1.840556\n",
       "4              4           Москва            248755  151.326434\n",
       "...          ...              ...               ...         ...\n",
       "8779        8779  Санкт-Петербург  1130000028554332    4.107774\n",
       "8780        8780  Санкт-Петербург  1130000030307246   45.069222\n",
       "8781        8781  Санкт-Петербург  1130000038726322    0.211944\n",
       "8782        8782  Санкт-Петербург  1130000047892100    4.311841\n",
       "8783        8783  Санкт-Петербург  1130000061443598   20.847222\n",
       "\n",
       "[8784 rows x 4 columns]"
      ]
     },
     "metadata": {},
     "output_type": "display_data"
    },
    {
     "name": "stdout",
     "output_type": "stream",
     "text": [
      "<class 'pandas.core.frame.DataFrame'>\n",
      "RangeIndex: 8784 entries, 0 to 8783\n",
      "Data columns (total 4 columns):\n",
      " #   Column      Non-Null Count  Dtype  \n",
      "---  ------      --------------  -----  \n",
      " 0   Unnamed: 0  8784 non-null   int64  \n",
      " 1   city        8784 non-null   object \n",
      " 2   puid        8784 non-null   int64  \n",
      " 3   hours       8784 non-null   float64\n",
      "dtypes: float64(1), int64(2), object(1)\n",
      "memory usage: 274.6+ KB\n"
     ]
    }
   ],
   "source": [
    "# Выводим датасет на экран для анализа \n",
    "display(df)\n",
    "df.info()"
   ]
  },
  {
   "cell_type": "markdown",
   "id": "a2f34f04",
   "metadata": {},
   "source": [
    "Краткий вывод по данным:\n",
    "\n",
    "Набор данных состоит из 8784 записей с четырьмя столбцами:\n",
    "\n",
    "<b>Unnamed:0</b>: выглядит как технический индекс, скорее всего автоматически созданный системой при загрузке файла. Его рекомендуется удалить, поскольку такой столбец излишне увеличивает размер датасета и затрудняет восприятие.\n",
    "\n",
    "<b>city:</b> название города хранится в виде строкового типа, и это хорошо. Однако стоит убедиться, что оно приведено к единому формату (отсутствие пробелов перед названием и после него).\n",
    "\n",
    "<b>puid:</b> уникальный идентификатор пользователя (целое число).\n",
    "\n",
    "<b>hours:</b> активность пользователей в часах (десятичные числа).\n",
    "\n",
    "Все данные заполнены, отсутствуют пропуски. Типы данных верны и подходят для дальнейшего анализа."
   ]
  },
  {
   "cell_type": "code",
   "execution_count": 4,
   "id": "f163910b",
   "metadata": {},
   "outputs": [],
   "source": [
    "# Удаляем ненужный столбец Unnamed: 0:\n",
    "df.drop(columns=['Unnamed: 0'], inplace=True)\n",
    "\n"
   ]
  },
  {
   "cell_type": "code",
   "execution_count": 5,
   "id": "386bc779",
   "metadata": {},
   "outputs": [],
   "source": [
    "# Убираем возможные лишние пробелы из названий городов\n",
    "df['city'] = df['city'].str.strip()"
   ]
  },
  {
   "cell_type": "code",
   "execution_count": 6,
   "id": "066e6f2c",
   "metadata": {},
   "outputs": [
    {
     "data": {
      "text/html": [
       "<div>\n",
       "<style scoped>\n",
       "    .dataframe tbody tr th:only-of-type {\n",
       "        vertical-align: middle;\n",
       "    }\n",
       "\n",
       "    .dataframe tbody tr th {\n",
       "        vertical-align: top;\n",
       "    }\n",
       "\n",
       "    .dataframe thead th {\n",
       "        text-align: right;\n",
       "    }\n",
       "</style>\n",
       "<table border=\"1\" class=\"dataframe\">\n",
       "  <thead>\n",
       "    <tr style=\"text-align: right;\">\n",
       "      <th></th>\n",
       "      <th>city</th>\n",
       "      <th>puid</th>\n",
       "      <th>hours</th>\n",
       "    </tr>\n",
       "  </thead>\n",
       "  <tbody>\n",
       "    <tr>\n",
       "      <th>0</th>\n",
       "      <td>Москва</td>\n",
       "      <td>9668</td>\n",
       "      <td>26.167776</td>\n",
       "    </tr>\n",
       "    <tr>\n",
       "      <th>1</th>\n",
       "      <td>Москва</td>\n",
       "      <td>16598</td>\n",
       "      <td>82.111217</td>\n",
       "    </tr>\n",
       "    <tr>\n",
       "      <th>2</th>\n",
       "      <td>Москва</td>\n",
       "      <td>80401</td>\n",
       "      <td>4.656906</td>\n",
       "    </tr>\n",
       "    <tr>\n",
       "      <th>3</th>\n",
       "      <td>Москва</td>\n",
       "      <td>140205</td>\n",
       "      <td>1.840556</td>\n",
       "    </tr>\n",
       "    <tr>\n",
       "      <th>4</th>\n",
       "      <td>Москва</td>\n",
       "      <td>248755</td>\n",
       "      <td>151.326434</td>\n",
       "    </tr>\n",
       "    <tr>\n",
       "      <th>...</th>\n",
       "      <td>...</td>\n",
       "      <td>...</td>\n",
       "      <td>...</td>\n",
       "    </tr>\n",
       "    <tr>\n",
       "      <th>8779</th>\n",
       "      <td>Санкт-Петербург</td>\n",
       "      <td>1130000028554332</td>\n",
       "      <td>4.107774</td>\n",
       "    </tr>\n",
       "    <tr>\n",
       "      <th>8780</th>\n",
       "      <td>Санкт-Петербург</td>\n",
       "      <td>1130000030307246</td>\n",
       "      <td>45.069222</td>\n",
       "    </tr>\n",
       "    <tr>\n",
       "      <th>8781</th>\n",
       "      <td>Санкт-Петербург</td>\n",
       "      <td>1130000038726322</td>\n",
       "      <td>0.211944</td>\n",
       "    </tr>\n",
       "    <tr>\n",
       "      <th>8782</th>\n",
       "      <td>Санкт-Петербург</td>\n",
       "      <td>1130000047892100</td>\n",
       "      <td>4.311841</td>\n",
       "    </tr>\n",
       "    <tr>\n",
       "      <th>8783</th>\n",
       "      <td>Санкт-Петербург</td>\n",
       "      <td>1130000061443598</td>\n",
       "      <td>20.847222</td>\n",
       "    </tr>\n",
       "  </tbody>\n",
       "</table>\n",
       "<p>8784 rows × 3 columns</p>\n",
       "</div>"
      ],
      "text/plain": [
       "                 city              puid       hours\n",
       "0              Москва              9668   26.167776\n",
       "1              Москва             16598   82.111217\n",
       "2              Москва             80401    4.656906\n",
       "3              Москва            140205    1.840556\n",
       "4              Москва            248755  151.326434\n",
       "...               ...               ...         ...\n",
       "8779  Санкт-Петербург  1130000028554332    4.107774\n",
       "8780  Санкт-Петербург  1130000030307246   45.069222\n",
       "8781  Санкт-Петербург  1130000038726322    0.211944\n",
       "8782  Санкт-Петербург  1130000047892100    4.311841\n",
       "8783  Санкт-Петербург  1130000061443598   20.847222\n",
       "\n",
       "[8784 rows x 3 columns]"
      ]
     },
     "metadata": {},
     "output_type": "display_data"
    }
   ],
   "source": [
    "# Смотрим еще раз датасет\n",
    "display(df)"
   ]
  },
  {
   "cell_type": "markdown",
   "id": "956e82e2",
   "metadata": {
    "id": "956e82e2"
   },
   "source": [
    "### 2. Проверка гипотезы в Python\n",
    "\n",
    "Гипотеза звучит так: пользователи из Санкт-Петербурга проводят в среднем больше времени за чтением и прослушиванием книг в приложении, чем пользователи из Москвы. Попробуйте статистически это доказать, используя одностороннюю проверку гипотезы с двумя выборками:\n",
    "\n",
    "- Нулевая гипотеза H₀: Средняя активность пользователей в часах в двух группах (Москва и Санкт-Петербург) не различается.\n",
    "\n",
    "- Альтернативная гипотеза H₁: Средняя активность пользователей в Санкт-Петербурге больше, и это различие статистически значимо."
   ]
  },
  {
   "cell_type": "markdown",
   "id": "1ec7ec6a",
   "metadata": {},
   "source": [
    "<b>Формулировка гипотез:</b>\n",
    "\n",
    "Гипотеза H0: Нет разницы в средней активности пользователей из Москвы и Санкт-Петербурга.\n",
    "\n",
    "Гипотеза H1: Пользователи из Санкт-Петербурга проводят больше времени за чтением и прослушиванием книг в приложении.\n",
    "\n",
    "<b>Проведение теста:</b>\n",
    "\n",
    "Используется критерий Стьюдента для несвязанных выборок с односторонней альтернативой. Уровень значимости традиционно принимаем равным α=0.05."
   ]
  },
  {
   "cell_type": "code",
   "execution_count": 7,
   "id": "dd252210",
   "metadata": {},
   "outputs": [
    {
     "name": "stdout",
     "output_type": "stream",
     "text": [
      "Количество дублирующихся идентификаторов пользователей: 488\n"
     ]
    }
   ],
   "source": [
    "# Проверяем на наличие дуликатов\n",
    "duplicate_puids = df.duplicated(subset='puid', keep=False).sum()\n",
    "print(f'Количество дублирующихся идентификаторов пользователей: {duplicate_puids}')"
   ]
  },
  {
   "cell_type": "code",
   "execution_count": 8,
   "id": "ec171762",
   "metadata": {},
   "outputs": [
    {
     "name": "stdout",
     "output_type": "stream",
     "text": [
      "Количество дублирующихся идентификаторов пользователей после очистки: 0\n"
     ]
    }
   ],
   "source": [
    "# Удаляем дубликаты и заново проверяем количество записей \n",
    "df_cleaned = df.drop_duplicates(subset=['puid'])\n",
    "duplicate_puids_after_cleanup = df_cleaned.duplicated(subset='puid', keep=False).sum()\n",
    "print(f'Количество дублирующихся идентификаторов пользователей после очистки: {duplicate_puids_after_cleanup}')"
   ]
  },
  {
   "cell_type": "code",
   "execution_count": 9,
   "id": "67956690",
   "metadata": {
    "id": "67956690"
   },
   "outputs": [
    {
     "name": "stdout",
     "output_type": "stream",
     "text": [
      "Размер выборки пользователей из Москвы: 6234\n",
      "Размер выборки пользователей из Санкт-Петербурга: 2550\n"
     ]
    }
   ],
   "source": [
    "# Разделим данные на 2 группы и оцениваем размер выборок\n",
    "msk_group = df.query(\"city == 'Москва'\")\n",
    "spb_group = df.query(\"city == 'Санкт-Петербург'\")\n",
    "print(\"Размер выборки пользователей из Москвы:\", len(msk_group))\n",
    "print(\"Размер выборки пользователей из Санкт-Петербурга:\", len(spb_group))"
   ]
  },
  {
   "cell_type": "code",
   "execution_count": 10,
   "id": "22bedff4",
   "metadata": {},
   "outputs": [
    {
     "name": "stdout",
     "output_type": "stream",
     "text": [
      "Средняя активность пользователей в Москве: 10.88, стандартное отклонение: 36.85\n",
      "Средняя активность пользователей в СПб: 11.59, стандартное отклонение: 39.70\n"
     ]
    }
   ],
   "source": [
    "# Посчитаем средние часы активности и стандартные отклонения для обеих групп:\n",
    "mean_msk = msk_group['hours'].mean()\n",
    "std_msk = msk_group['hours'].std()\n",
    "\n",
    "mean_spb = spb_group['hours'].mean()\n",
    "std_spb = spb_group['hours'].std()\n",
    "\n",
    "print(f\"Средняя активность пользователей в Москве: {mean_msk:.2f}, стандартное отклонение: {std_msk:.2f}\")\n",
    "print(f\"Средняя активность пользователей в СПб: {mean_spb:.2f}, стандартное отклонение: {std_spb:.2f}\")"
   ]
  },
  {
   "cell_type": "markdown",
   "id": "fcf201fb",
   "metadata": {},
   "source": [
    "Выводы по статистике:\n",
    "\n",
    "Анализ показал, что средняя активность пользователей незначительно отличается:\n",
    "\n",
    "Москва: 10.88 ч\n",
    "\n",
    "Санкт-Петербург: 11.59 ч\n",
    "\n",
    "Стандартные отклонения высокие (36.85 и 39.70 соответственно), что подтверждает большую вариативность активности. \n",
    "Эти особенности предполагают использование <b> критерия Стьюдента с учётом неравенства дисперсий </b> для оценки статистической значимости выявленных различий."
   ]
  },
  {
   "cell_type": "code",
   "execution_count": 11,
   "id": "eb6c420f",
   "metadata": {
    "scrolled": true
   },
   "outputs": [
    {
     "name": "stdout",
     "output_type": "stream",
     "text": [
      "p-значение: 0.2182\n",
      "\n",
      "Интерпретация результата:\n",
      "Поскольку полученное p-значение (0.2182) больше уровня значимости (обычно равного 0.05), мы не можем отвергнуть нулевую гипотезу. Это означает, что нет достаточных доказательств того, что сотрудники из Санкт-Петербурга работают больше, чем сотрудники из Москвы. Возможно, требуются дополнительные исследования или изменения бизнес-процессов.\n"
     ]
    }
   ],
   "source": [
    "# Выполняем односторонний t-тест для независимых выборок\n",
    "result = stats.ttest_ind(spb_group['hours'], msk_group['hours'], equal_var=False, alternative=\"greater\")  \n",
    "p_value = result.pvalue\n",
    "print(f'p-значение: {p_value:.4f}')\n",
    "\n",
    "# Интерпретация полученного p-значения\n",
    "if p_value > 0.05:\n",
    "    interpretation = (\n",
    "        f\"Поскольку полученное p-значение ({p_value:.4f}) больше уровня значимости \"\n",
    "        \"(обычно равного 0.05), мы не можем отвергнуть нулевую гипотезу. Это означает, что \"\n",
    "        \"нет достаточных доказательств того, что сотрудники из Санкт-Петербурга работают больше, \"\n",
    "        \"чем сотрудники из Москвы. Возможно, требуются дополнительные исследования или изменения \"\n",
    "        \"бизнес-процессов.\"\n",
    "    )\n",
    "else:\n",
    "    interpretation = (\n",
    "        f\"Поскольку полученное p-значение ({p_value:.4f}) меньше уровня значимости \"\n",
    "        \"(обычно равного 0.05), мы отвергаем нулевую гипотезу. Это позволяет нам утверждать, что \"\n",
    "        \"есть статистически значимая разница между средними рабочими часами сотрудников из \"\n",
    "        \"Санкт-Петербурга и Москвы. Сотрудники из Санкт-Петербурга работают значительно больше.\"\n",
    "    )\n",
    "\n",
    "# Печать полного отчета\n",
    "print(\"\\nИнтерпретация результата:\")\n",
    "print(interpretation)"
   ]
  },
  {
   "cell_type": "markdown",
   "id": "6953e84c",
   "metadata": {
    "id": "6953e84c"
   },
   "source": [
    "### 3. Аналитическая записка"
   ]
  },
  {
   "cell_type": "markdown",
   "id": "3880ad12",
   "metadata": {},
   "source": [
    "<b>Аналитическая записка</b>\n",
    "\n",
    "<b>Тип t-теста:</b> Односторонний независимый t-тест для двух выборок (Welch's t-test).\n",
    "\n",
    "<b> Уровень значимости:</b>  \n",
    "α=0.05\n",
    "\n",
    "<b> Полученное p-значение:</b>  \n",
    "0.2182\n",
    "\n",
    "<b> Интерпретация результатов:</b>  Поскольку p-значение (\n",
    "0.2182) больше установленного уровня значимости (α=0.05), мы не можем отвергнуть нулевую гипотезу. Следовательно, нет достаточных оснований утверждать, что среднее время активности пользователей из Санкт-Петербурга существенно больше, чем у пользователей из Москвы.\n",
    "\n",
    "<b> Возможные объяснения отсутствия значимых различий:</b> \n",
    "\n",
    "В целом, поведение пользователей в обоих городах схожее, и среда проживания оказывает незначительное влияние на их предпочтения.\n",
    "Возможно, выборка недостаточно репрезентативна, либо существуют внешние факторы, маскирующие реальные различия в потреблении контента.\n",
    "\n",
    "Таким образом, имеющиеся данные не позволяют сделать уверенный вывод о превосходстве активности пользователей из Санкт-Петербурга над активностью москвичей."
   ]
  },
  {
   "cell_type": "markdown",
   "id": "hc1d6jVISegz",
   "metadata": {
    "id": "hc1d6jVISegz"
   },
   "source": [
    "----"
   ]
  },
  {
   "cell_type": "markdown",
   "id": "NqOUIYhbrIfC",
   "metadata": {
    "id": "NqOUIYhbrIfC"
   },
   "source": [
    "## **Часть 2.** Анализ результатов A/B-тестирования"
   ]
  },
  {
   "cell_type": "markdown",
   "id": "UNXAAyF5r9Rk",
   "metadata": {
    "id": "UNXAAyF5r9Rk"
   },
   "source": [
    "##  Цель исследования\n",
    "\n"
   ]
  },
  {
   "cell_type": "markdown",
   "id": "kHx-51yES8bd",
   "metadata": {
    "id": "kHx-51yES8bd"
   },
   "source": [
    "Оценка эффективности новой версии интерфейса интернет-магазина BitMotion Kit путем анализа результатов проведенного A/B-теста."
   ]
  },
  {
   "cell_type": "markdown",
   "id": "_CZryx2OsH-s",
   "metadata": {
    "id": "_CZryx2OsH-s"
   },
   "source": [
    "### Загрузка данных\n"
   ]
  },
  {
   "cell_type": "code",
   "execution_count": 12,
   "id": "DjFcJbeGsTIg",
   "metadata": {
    "id": "DjFcJbeGsTIg"
   },
   "outputs": [],
   "source": [
    "participants = pd.read_csv('https://code.s3.yandex.net/datasets/ab_test_participants.csv')\n",
    "events = pd.read_csv('https://code.s3.yandex.net/datasets/ab_test_events.zip',\n",
    "                     parse_dates=['event_dt'], low_memory=False)"
   ]
  },
  {
   "cell_type": "code",
   "execution_count": 13,
   "id": "d288da2b",
   "metadata": {},
   "outputs": [
    {
     "data": {
      "text/html": [
       "<div>\n",
       "<style scoped>\n",
       "    .dataframe tbody tr th:only-of-type {\n",
       "        vertical-align: middle;\n",
       "    }\n",
       "\n",
       "    .dataframe tbody tr th {\n",
       "        vertical-align: top;\n",
       "    }\n",
       "\n",
       "    .dataframe thead th {\n",
       "        text-align: right;\n",
       "    }\n",
       "</style>\n",
       "<table border=\"1\" class=\"dataframe\">\n",
       "  <thead>\n",
       "    <tr style=\"text-align: right;\">\n",
       "      <th></th>\n",
       "      <th>user_id</th>\n",
       "      <th>group</th>\n",
       "      <th>ab_test</th>\n",
       "      <th>device</th>\n",
       "    </tr>\n",
       "  </thead>\n",
       "  <tbody>\n",
       "    <tr>\n",
       "      <th>0</th>\n",
       "      <td>0002CE61FF2C4011</td>\n",
       "      <td>B</td>\n",
       "      <td>interface_eu_test</td>\n",
       "      <td>Mac</td>\n",
       "    </tr>\n",
       "    <tr>\n",
       "      <th>1</th>\n",
       "      <td>001064FEAAB631A1</td>\n",
       "      <td>B</td>\n",
       "      <td>recommender_system_test</td>\n",
       "      <td>Android</td>\n",
       "    </tr>\n",
       "    <tr>\n",
       "      <th>2</th>\n",
       "      <td>001064FEAAB631A1</td>\n",
       "      <td>A</td>\n",
       "      <td>interface_eu_test</td>\n",
       "      <td>Android</td>\n",
       "    </tr>\n",
       "    <tr>\n",
       "      <th>3</th>\n",
       "      <td>0010A1C096941592</td>\n",
       "      <td>A</td>\n",
       "      <td>recommender_system_test</td>\n",
       "      <td>Android</td>\n",
       "    </tr>\n",
       "    <tr>\n",
       "      <th>4</th>\n",
       "      <td>001E72F50D1C48FA</td>\n",
       "      <td>A</td>\n",
       "      <td>interface_eu_test</td>\n",
       "      <td>Mac</td>\n",
       "    </tr>\n",
       "  </tbody>\n",
       "</table>\n",
       "</div>"
      ],
      "text/plain": [
       "            user_id group                  ab_test   device\n",
       "0  0002CE61FF2C4011     B        interface_eu_test      Mac\n",
       "1  001064FEAAB631A1     B  recommender_system_test  Android\n",
       "2  001064FEAAB631A1     A        interface_eu_test  Android\n",
       "3  0010A1C096941592     A  recommender_system_test  Android\n",
       "4  001E72F50D1C48FA     A        interface_eu_test      Mac"
      ]
     },
     "metadata": {},
     "output_type": "display_data"
    },
    {
     "name": "stdout",
     "output_type": "stream",
     "text": [
      "<class 'pandas.core.frame.DataFrame'>\n",
      "RangeIndex: 14525 entries, 0 to 14524\n",
      "Data columns (total 4 columns):\n",
      " #   Column   Non-Null Count  Dtype \n",
      "---  ------   --------------  ----- \n",
      " 0   user_id  14525 non-null  object\n",
      " 1   group    14525 non-null  object\n",
      " 2   ab_test  14525 non-null  object\n",
      " 3   device   14525 non-null  object\n",
      "dtypes: object(4)\n",
      "memory usage: 454.0+ KB\n"
     ]
    }
   ],
   "source": [
    "display(participants.head())\n",
    "participants.info()"
   ]
  },
  {
   "cell_type": "markdown",
   "id": "68256791",
   "metadata": {},
   "source": [
    "<b>Структура и характеристики датасета PARTICIPANTS: </b>\n",
    "\n",
    "Всего записей: 14525\n",
    "\n",
    "Количество столбцов: 4\n",
    "\n",
    "Тип данных всех колонок: объект (object)\n",
    "\n",
    "Пропущенных значений нет.\n",
    "\n",
    "Датасет выглядит чистым и структурированным. Все колонки заполнены, отсутствуют пропуски. Строки соответствуют каждому участнику эксперимента с указанием типа устройства и проведённого А/Б теста. Проблем с качеством данных на данном этапе не выявлено."
   ]
  },
  {
   "cell_type": "code",
   "execution_count": 14,
   "id": "cd0cef34",
   "metadata": {},
   "outputs": [
    {
     "data": {
      "text/html": [
       "<div>\n",
       "<style scoped>\n",
       "    .dataframe tbody tr th:only-of-type {\n",
       "        vertical-align: middle;\n",
       "    }\n",
       "\n",
       "    .dataframe tbody tr th {\n",
       "        vertical-align: top;\n",
       "    }\n",
       "\n",
       "    .dataframe thead th {\n",
       "        text-align: right;\n",
       "    }\n",
       "</style>\n",
       "<table border=\"1\" class=\"dataframe\">\n",
       "  <thead>\n",
       "    <tr style=\"text-align: right;\">\n",
       "      <th></th>\n",
       "      <th>user_id</th>\n",
       "      <th>event_dt</th>\n",
       "      <th>event_name</th>\n",
       "      <th>details</th>\n",
       "    </tr>\n",
       "  </thead>\n",
       "  <tbody>\n",
       "    <tr>\n",
       "      <th>0</th>\n",
       "      <td>GLOBAL</td>\n",
       "      <td>2020-12-01 00:00:00</td>\n",
       "      <td>End of Black Friday Ads Campaign</td>\n",
       "      <td>ZONE_CODE15</td>\n",
       "    </tr>\n",
       "    <tr>\n",
       "      <th>1</th>\n",
       "      <td>CCBE9E7E99F94A08</td>\n",
       "      <td>2020-12-01 00:00:11</td>\n",
       "      <td>registration</td>\n",
       "      <td>0.0</td>\n",
       "    </tr>\n",
       "    <tr>\n",
       "      <th>2</th>\n",
       "      <td>GLOBAL</td>\n",
       "      <td>2020-12-01 00:00:25</td>\n",
       "      <td>product_page</td>\n",
       "      <td>NaN</td>\n",
       "    </tr>\n",
       "    <tr>\n",
       "      <th>3</th>\n",
       "      <td>CCBE9E7E99F94A08</td>\n",
       "      <td>2020-12-01 00:00:33</td>\n",
       "      <td>login</td>\n",
       "      <td>NaN</td>\n",
       "    </tr>\n",
       "    <tr>\n",
       "      <th>4</th>\n",
       "      <td>CCBE9E7E99F94A08</td>\n",
       "      <td>2020-12-01 00:00:52</td>\n",
       "      <td>product_page</td>\n",
       "      <td>NaN</td>\n",
       "    </tr>\n",
       "  </tbody>\n",
       "</table>\n",
       "</div>"
      ],
      "text/plain": [
       "            user_id            event_dt                        event_name  \\\n",
       "0            GLOBAL 2020-12-01 00:00:00  End of Black Friday Ads Campaign   \n",
       "1  CCBE9E7E99F94A08 2020-12-01 00:00:11                      registration   \n",
       "2            GLOBAL 2020-12-01 00:00:25                      product_page   \n",
       "3  CCBE9E7E99F94A08 2020-12-01 00:00:33                             login   \n",
       "4  CCBE9E7E99F94A08 2020-12-01 00:00:52                      product_page   \n",
       "\n",
       "       details  \n",
       "0  ZONE_CODE15  \n",
       "1          0.0  \n",
       "2          NaN  \n",
       "3          NaN  \n",
       "4          NaN  "
      ]
     },
     "metadata": {},
     "output_type": "display_data"
    },
    {
     "name": "stdout",
     "output_type": "stream",
     "text": [
      "<class 'pandas.core.frame.DataFrame'>\n",
      "RangeIndex: 787286 entries, 0 to 787285\n",
      "Data columns (total 4 columns):\n",
      " #   Column      Non-Null Count   Dtype         \n",
      "---  ------      --------------   -----         \n",
      " 0   user_id     787286 non-null  object        \n",
      " 1   event_dt    787286 non-null  datetime64[ns]\n",
      " 2   event_name  787286 non-null  object        \n",
      " 3   details     249022 non-null  object        \n",
      "dtypes: datetime64[ns](1), object(3)\n",
      "memory usage: 24.0+ MB\n"
     ]
    }
   ],
   "source": [
    "display(events.head())\n",
    "events.info()"
   ]
  },
  {
   "cell_type": "markdown",
   "id": "ddb1e757",
   "metadata": {},
   "source": [
    "<b> Cтруктура и характеристики датасета EVENTS: </b>\n",
    "\n",
    "Всего записей: 787286\n",
    "\n",
    "Количество столбцов: 4\n",
    "\n",
    "Тип данных: datetime64[ns] (для event_dt), остальные объекты (object)\n",
    "\n",
    "Значительное количество пропущенных данных в колонке details: 538264 строки содержат пустые значения.\n",
    "\n",
    "Присутствуют странные записи с идентификатором \"GLOBAL\" в колонке user_id.\n",
    "\n",
    "\n",
    "Записи с идентификатором \"GLOBAL\":Такие записи скорее всего являются общесистемными событиями, не относящимися к действиям конкретных пользователей. Их наличие может повлиять на дальнейшие расчёты и анализ поведения пользователей. Эти строки желательно исключить перед началом основной части анализа.\n",
    "\n",
    "Пропуски в колонке \"details\":Поскольку эта колонка является необязательной и содержит много пропусков, её присутствие может затруднить анализ поведения пользователей. Нужно решить, как поступить с этими пропусками (например, оставить пустой, заполнить нулями или удалить).\n",
    "\n",
    "Тип данных колонки \"event_dt\":Колонка имеет правильный тип данных datetime64[ns]. Она готова к дальнейшей обработке временных интервалов и событий.\n",
    "\n",
    "<b>Следующие шаги: </b>\n",
    "\n",
    "Исключаем строки с \"GLOBAL\" в user_id, поскольку они относятся к глобальным событиям и могут исказить картину действий реальных пользователей.\n",
    "\n",
    "Удаляем колонку details.\n"
   ]
  },
  {
   "cell_type": "code",
   "execution_count": 15,
   "id": "67912876",
   "metadata": {},
   "outputs": [
    {
     "name": "stdout",
     "output_type": "stream",
     "text": [
      "            user_id            event_dt    event_name\n",
      "1  CCBE9E7E99F94A08 2020-12-01 00:00:11  registration\n",
      "3  CCBE9E7E99F94A08 2020-12-01 00:00:33         login\n",
      "4  CCBE9E7E99F94A08 2020-12-01 00:00:52  product_page\n",
      "5  AA346F4D22148024 2020-12-01 00:01:46  registration\n",
      "6  7EF01D0E72AF449D 2020-12-01 00:02:06  registration\n"
     ]
    }
   ],
   "source": [
    "# Шаг 1: удаление строк с идентификатором \"GLOBAL\"\n",
    "events = events.query('user_id != \"GLOBAL\"')\n",
    "\n",
    "# Шаг 2: удаление колонки \"details\"\n",
    "events.drop(columns=['details'], inplace=True)\n",
    "\n",
    "# Просмотр первых нескольких строк очищенного датасета\n",
    "print(events.head())"
   ]
  },
  {
   "cell_type": "markdown",
   "id": "CnzA-efasUrk",
   "metadata": {
    "id": "CnzA-efasUrk"
   },
   "source": [
    "### По таблице `ab_test_participants` оцениваем корректность проведения теста:\n",
    "\n",
    "   3\\.1 Выделяем пользователей, участвующих в тесте, и проверяем:\n",
    "\n",
    "   - соответствие требованиям технического задания,\n",
    "\n",
    "   - равномерность распределения пользователей по группам теста,\n",
    "\n",
    "   - отсутствие пересечений с конкурирующим тестом (нет пользователей, участвующих одновременно в двух тестовых группах)."
   ]
  },
  {
   "cell_type": "code",
   "execution_count": 16,
   "id": "aNa3zHrKslEN",
   "metadata": {
    "id": "aNa3zHrKslEN"
   },
   "outputs": [
    {
     "name": "stdout",
     "output_type": "stream",
     "text": [
      "A    0.559725\n",
      "B    0.440275\n",
      "Name: group, dtype: float64\n"
     ]
    }
   ],
   "source": [
    "# Посчитаем долю пользователей в каждой группе\n",
    "group_counts = participants['group'].value_counts(normalize=True)\n",
    "print(group_counts)"
   ]
  },
  {
   "cell_type": "code",
   "execution_count": 17,
   "id": "e152ed1f",
   "metadata": {},
   "outputs": [
    {
     "name": "stdout",
     "output_type": "stream",
     "text": [
      "A    8130\n",
      "B    6395\n",
      "Name: group, dtype: int64\n"
     ]
    }
   ],
   "source": [
    "group_counts = participants['group'].value_counts()\n",
    "print(group_counts)"
   ]
  },
  {
   "cell_type": "code",
   "execution_count": 18,
   "id": "2905dcb7",
   "metadata": {},
   "outputs": [
    {
     "name": "stdout",
     "output_type": "stream",
     "text": [
      "Пользователи участвуют в нескольких тестах:\n",
      "1        001064FEAAB631A1\n",
      "8        00341D8401F0F665\n",
      "23       0082295A41A867B5\n",
      "38       00E68F103C66C1F7\n",
      "41       00EFA157F7B6E1C4\n",
      "               ...       \n",
      "13576    FEA0C585A53E7027\n",
      "13582    FEC0BCA6C323872F\n",
      "13605    FF2174A1AA0EAD20\n",
      "13610    FF44696E39039D29\n",
      "13636    FFF28D02B1EACBE1\n",
      "Name: user_id, Length: 887, dtype: object\n"
     ]
    }
   ],
   "source": [
    "# Проверяем пересечения с конкурирующим тестом\n",
    "duplicate_users = participants.groupby(['user_id']).size().reset_index(name='count')\n",
    "duplicate_tests = duplicate_users[duplicate_users['count'] > 1]['user_id']\n",
    "if len(duplicate_tests) > 0:\n",
    "    print(f\"Пользователи участвуют в нескольких тестах:\\n{duplicate_tests}\")\n",
    "else:\n",
    "    print(\"Нет пользователей, участвующих в нескольких тестах.\")"
   ]
  },
  {
   "cell_type": "code",
   "execution_count": 19,
   "id": "e45f6c04",
   "metadata": {},
   "outputs": [
    {
     "name": "stdout",
     "output_type": "stream",
     "text": [
      "Все пользователи теперь уникальны.\n"
     ]
    }
   ],
   "source": [
    "# Удаляем дублирующиеся записи (оставляем первую встречу)\n",
    "clean_participants = participants.drop_duplicates(subset='user_id', keep='first')\n",
    "\n",
    "# Перепроверяем наличие повторяющихся пользователей\n",
    "new_duplicate_users = clean_participants.groupby(['user_id']).size().reset_index(name='count')\n",
    "new_duplicate_tests = new_duplicate_users[new_duplicate_users['count'] > 1]['user_id']\n",
    "if len(new_duplicate_tests) > 0:\n",
    "    print(f\"Остались пользователи, участвующие в нескольких тестах:\\n{new_duplicate_tests}\")\n",
    "else:\n",
    "    print(\"Все пользователи теперь уникальны.\")"
   ]
  },
  {
   "cell_type": "markdown",
   "id": "GjulgSrlsqUU",
   "metadata": {
    "id": "GjulgSrlsqUU"
   },
   "source": [
    "### Анализируем данные о пользовательской активности по таблице `ab_test_events`:\n",
    "\n",
    "- оставляем только события, связанные с участвующими в изучаемом тесте пользователями;"
   ]
  },
  {
   "cell_type": "code",
   "execution_count": 20,
   "id": "QMt0Ybo_swDK",
   "metadata": {
    "id": "QMt0Ybo_swDK"
   },
   "outputs": [
    {
     "data": {
      "text/html": [
       "<div>\n",
       "<style scoped>\n",
       "    .dataframe tbody tr th:only-of-type {\n",
       "        vertical-align: middle;\n",
       "    }\n",
       "\n",
       "    .dataframe tbody tr th {\n",
       "        vertical-align: top;\n",
       "    }\n",
       "\n",
       "    .dataframe thead th {\n",
       "        text-align: right;\n",
       "    }\n",
       "</style>\n",
       "<table border=\"1\" class=\"dataframe\">\n",
       "  <thead>\n",
       "    <tr style=\"text-align: right;\">\n",
       "      <th></th>\n",
       "      <th>user_id</th>\n",
       "      <th>event_dt</th>\n",
       "      <th>event_name</th>\n",
       "    </tr>\n",
       "  </thead>\n",
       "  <tbody>\n",
       "    <tr>\n",
       "      <th>64672</th>\n",
       "      <td>5F506CEBEDC05D30</td>\n",
       "      <td>2020-12-06 14:10:01</td>\n",
       "      <td>registration</td>\n",
       "    </tr>\n",
       "    <tr>\n",
       "      <th>64946</th>\n",
       "      <td>51278A006E918D97</td>\n",
       "      <td>2020-12-06 14:37:25</td>\n",
       "      <td>registration</td>\n",
       "    </tr>\n",
       "    <tr>\n",
       "      <th>66585</th>\n",
       "      <td>A0C1E8EFAD874D8B</td>\n",
       "      <td>2020-12-06 17:20:22</td>\n",
       "      <td>registration</td>\n",
       "    </tr>\n",
       "    <tr>\n",
       "      <th>67873</th>\n",
       "      <td>275A8D6254ACF530</td>\n",
       "      <td>2020-12-06 19:36:54</td>\n",
       "      <td>registration</td>\n",
       "    </tr>\n",
       "    <tr>\n",
       "      <th>67930</th>\n",
       "      <td>0B704EB2DC7FCA4B</td>\n",
       "      <td>2020-12-06 19:42:20</td>\n",
       "      <td>registration</td>\n",
       "    </tr>\n",
       "    <tr>\n",
       "      <th>...</th>\n",
       "      <td>...</td>\n",
       "      <td>...</td>\n",
       "      <td>...</td>\n",
       "    </tr>\n",
       "    <tr>\n",
       "      <th>777488</th>\n",
       "      <td>F80C9BDDEA02E53C</td>\n",
       "      <td>2020-12-30 10:03:51</td>\n",
       "      <td>purchase</td>\n",
       "    </tr>\n",
       "    <tr>\n",
       "      <th>777489</th>\n",
       "      <td>F80C9BDDEA02E53C</td>\n",
       "      <td>2020-12-30 10:03:52</td>\n",
       "      <td>product_cart</td>\n",
       "    </tr>\n",
       "    <tr>\n",
       "      <th>778138</th>\n",
       "      <td>6181F3835EBE66BF</td>\n",
       "      <td>2020-12-30 12:10:39</td>\n",
       "      <td>product_cart</td>\n",
       "    </tr>\n",
       "    <tr>\n",
       "      <th>778369</th>\n",
       "      <td>DD4352CDCF8C3D57</td>\n",
       "      <td>2020-12-30 12:47:46</td>\n",
       "      <td>product_page</td>\n",
       "    </tr>\n",
       "    <tr>\n",
       "      <th>780371</th>\n",
       "      <td>9DF4F595A906A0BA</td>\n",
       "      <td>2020-12-30 18:34:08</td>\n",
       "      <td>product_page</td>\n",
       "    </tr>\n",
       "  </tbody>\n",
       "</table>\n",
       "<p>98658 rows × 3 columns</p>\n",
       "</div>"
      ],
      "text/plain": [
       "                 user_id            event_dt    event_name\n",
       "64672   5F506CEBEDC05D30 2020-12-06 14:10:01  registration\n",
       "64946   51278A006E918D97 2020-12-06 14:37:25  registration\n",
       "66585   A0C1E8EFAD874D8B 2020-12-06 17:20:22  registration\n",
       "67873   275A8D6254ACF530 2020-12-06 19:36:54  registration\n",
       "67930   0B704EB2DC7FCA4B 2020-12-06 19:42:20  registration\n",
       "...                  ...                 ...           ...\n",
       "777488  F80C9BDDEA02E53C 2020-12-30 10:03:51      purchase\n",
       "777489  F80C9BDDEA02E53C 2020-12-30 10:03:52  product_cart\n",
       "778138  6181F3835EBE66BF 2020-12-30 12:10:39  product_cart\n",
       "778369  DD4352CDCF8C3D57 2020-12-30 12:47:46  product_page\n",
       "780371  9DF4F595A906A0BA 2020-12-30 18:34:08  product_page\n",
       "\n",
       "[98658 rows x 3 columns]"
      ]
     },
     "metadata": {},
     "output_type": "display_data"
    }
   ],
   "source": [
    "# Оставляем только тестируемых юзеров\n",
    "test_user_ids = participants['user_id'].unique()\n",
    "\n",
    "# Фильтруем по событию, оставляя только тестируемых юзеров\n",
    "filtered_events = events[events['user_id'].isin(test_user_ids)]\n",
    "\n",
    "display(filtered_events)"
   ]
  },
  {
   "cell_type": "markdown",
   "id": "fBZ4DC2xswZJ",
   "metadata": {
    "id": "fBZ4DC2xswZJ"
   },
   "source": [
    "- определяем горизонт анализа: рассчитываем время (лайфтайм) совершения события пользователем после регистрации и оставляем только те события, которые были выполнены в течение первых семи дней с момента регистрации;"
   ]
  },
  {
   "cell_type": "code",
   "execution_count": 21,
   "id": "sES4-dKts0Yb",
   "metadata": {
    "id": "sES4-dKts0Yb"
   },
   "outputs": [],
   "source": [
    "# Получаем серию дат регистрации для каждого пользователя\n",
    "registrations = filtered_events.query(\"event_name == 'registration'\")[['user_id', 'event_dt']]\n",
    "registrations.rename(columns={'event_dt': 'registration_date'}, inplace=True)\n",
    "\n",
    "# Объединяем с основными событиями, чтобы иметь доступ к дате регистрации\n",
    "merged_data = filtered_events.merge(registrations, on='user_id', how='left')"
   ]
  },
  {
   "cell_type": "code",
   "execution_count": 22,
   "id": "285f5d1a",
   "metadata": {},
   "outputs": [],
   "source": [
    "# Преобразование временных типов\n",
    "merged_data['event_dt'] = pd.to_datetime(merged_data['event_dt'])\n",
    "merged_data['registration_date'] = pd.to_datetime(merged_data['registration_date'])\n",
    "\n",
    "# Создаем новый столбец с временным промежутком\n",
    "merged_data['days_since_registration'] = (merged_data['event_dt'] - merged_data['registration_date']).dt.days"
   ]
  },
  {
   "cell_type": "code",
   "execution_count": 32,
   "id": "94f719ce",
   "metadata": {},
   "outputs": [
    {
     "data": {
      "text/html": [
       "<div>\n",
       "<style scoped>\n",
       "    .dataframe tbody tr th:only-of-type {\n",
       "        vertical-align: middle;\n",
       "    }\n",
       "\n",
       "    .dataframe tbody tr th {\n",
       "        vertical-align: top;\n",
       "    }\n",
       "\n",
       "    .dataframe thead th {\n",
       "        text-align: right;\n",
       "    }\n",
       "</style>\n",
       "<table border=\"1\" class=\"dataframe\">\n",
       "  <thead>\n",
       "    <tr style=\"text-align: right;\">\n",
       "      <th></th>\n",
       "      <th>user_id</th>\n",
       "      <th>event_dt</th>\n",
       "      <th>event_name</th>\n",
       "      <th>registration_date</th>\n",
       "      <th>days_since_registration</th>\n",
       "    </tr>\n",
       "  </thead>\n",
       "  <tbody>\n",
       "    <tr>\n",
       "      <th>0</th>\n",
       "      <td>5F506CEBEDC05D30</td>\n",
       "      <td>2020-12-06 14:10:01</td>\n",
       "      <td>registration</td>\n",
       "      <td>2020-12-06 14:10:01</td>\n",
       "      <td>0</td>\n",
       "    </tr>\n",
       "    <tr>\n",
       "      <th>1</th>\n",
       "      <td>51278A006E918D97</td>\n",
       "      <td>2020-12-06 14:37:25</td>\n",
       "      <td>registration</td>\n",
       "      <td>2020-12-06 14:37:25</td>\n",
       "      <td>0</td>\n",
       "    </tr>\n",
       "    <tr>\n",
       "      <th>2</th>\n",
       "      <td>A0C1E8EFAD874D8B</td>\n",
       "      <td>2020-12-06 17:20:22</td>\n",
       "      <td>registration</td>\n",
       "      <td>2020-12-06 17:20:22</td>\n",
       "      <td>0</td>\n",
       "    </tr>\n",
       "    <tr>\n",
       "      <th>3</th>\n",
       "      <td>275A8D6254ACF530</td>\n",
       "      <td>2020-12-06 19:36:54</td>\n",
       "      <td>registration</td>\n",
       "      <td>2020-12-06 19:36:54</td>\n",
       "      <td>0</td>\n",
       "    </tr>\n",
       "    <tr>\n",
       "      <th>4</th>\n",
       "      <td>0B704EB2DC7FCA4B</td>\n",
       "      <td>2020-12-06 19:42:20</td>\n",
       "      <td>registration</td>\n",
       "      <td>2020-12-06 19:42:20</td>\n",
       "      <td>0</td>\n",
       "    </tr>\n",
       "    <tr>\n",
       "      <th>...</th>\n",
       "      <td>...</td>\n",
       "      <td>...</td>\n",
       "      <td>...</td>\n",
       "      <td>...</td>\n",
       "      <td>...</td>\n",
       "    </tr>\n",
       "    <tr>\n",
       "      <th>98629</th>\n",
       "      <td>D4E530F6595A05A3</td>\n",
       "      <td>2020-12-29 23:39:54</td>\n",
       "      <td>product_cart</td>\n",
       "      <td>2020-12-22 06:00:57</td>\n",
       "      <td>7</td>\n",
       "    </tr>\n",
       "    <tr>\n",
       "      <th>98631</th>\n",
       "      <td>31DBDCA380DD035F</td>\n",
       "      <td>2020-12-29 23:41:16</td>\n",
       "      <td>product_page</td>\n",
       "      <td>2020-12-23 18:11:40</td>\n",
       "      <td>6</td>\n",
       "    </tr>\n",
       "    <tr>\n",
       "      <th>98638</th>\n",
       "      <td>E6D34EE376AADC42</td>\n",
       "      <td>2020-12-29 23:45:33</td>\n",
       "      <td>product_cart</td>\n",
       "      <td>2020-12-22 02:50:40</td>\n",
       "      <td>7</td>\n",
       "    </tr>\n",
       "    <tr>\n",
       "      <th>98639</th>\n",
       "      <td>E6D34EE376AADC42</td>\n",
       "      <td>2020-12-29 23:46:13</td>\n",
       "      <td>product_cart</td>\n",
       "      <td>2020-12-22 02:50:40</td>\n",
       "      <td>7</td>\n",
       "    </tr>\n",
       "    <tr>\n",
       "      <th>98640</th>\n",
       "      <td>E6D34EE376AADC42</td>\n",
       "      <td>2020-12-29 23:46:38</td>\n",
       "      <td>product_cart</td>\n",
       "      <td>2020-12-22 02:50:40</td>\n",
       "      <td>7</td>\n",
       "    </tr>\n",
       "  </tbody>\n",
       "</table>\n",
       "<p>88184 rows × 5 columns</p>\n",
       "</div>"
      ],
      "text/plain": [
       "                user_id            event_dt    event_name   registration_date  \\\n",
       "0      5F506CEBEDC05D30 2020-12-06 14:10:01  registration 2020-12-06 14:10:01   \n",
       "1      51278A006E918D97 2020-12-06 14:37:25  registration 2020-12-06 14:37:25   \n",
       "2      A0C1E8EFAD874D8B 2020-12-06 17:20:22  registration 2020-12-06 17:20:22   \n",
       "3      275A8D6254ACF530 2020-12-06 19:36:54  registration 2020-12-06 19:36:54   \n",
       "4      0B704EB2DC7FCA4B 2020-12-06 19:42:20  registration 2020-12-06 19:42:20   \n",
       "...                 ...                 ...           ...                 ...   \n",
       "98629  D4E530F6595A05A3 2020-12-29 23:39:54  product_cart 2020-12-22 06:00:57   \n",
       "98631  31DBDCA380DD035F 2020-12-29 23:41:16  product_page 2020-12-23 18:11:40   \n",
       "98638  E6D34EE376AADC42 2020-12-29 23:45:33  product_cart 2020-12-22 02:50:40   \n",
       "98639  E6D34EE376AADC42 2020-12-29 23:46:13  product_cart 2020-12-22 02:50:40   \n",
       "98640  E6D34EE376AADC42 2020-12-29 23:46:38  product_cart 2020-12-22 02:50:40   \n",
       "\n",
       "       days_since_registration  \n",
       "0                            0  \n",
       "1                            0  \n",
       "2                            0  \n",
       "3                            0  \n",
       "4                            0  \n",
       "...                        ...  \n",
       "98629                        7  \n",
       "98631                        6  \n",
       "98638                        7  \n",
       "98639                        7  \n",
       "98640                        7  \n",
       "\n",
       "[88184 rows x 5 columns]"
      ]
     },
     "metadata": {},
     "output_type": "display_data"
    }
   ],
   "source": [
    "# Остаемся только с событиями, выполненными в течение первых семи дней\n",
    "final_filtered_data = merged_data[merged_data['days_since_registration'] < 8]\n",
    "\n",
    "# Cмотрим получившуюся выборку\n",
    "display(final_filtered_data)"
   ]
  },
  {
   "cell_type": "markdown",
   "id": "7cf1df48",
   "metadata": {},
   "source": [
    "Оцениваем достаточность выборки для получения статистически значимых результатов A/B-теста. Заданные параметры:\n",
    "\n",
    "- базовый показатель конверсии — 30%,\n",
    "\n",
    "- мощность теста — 80%,\n",
    "\n",
    "- достоверность теста — 95%."
   ]
  },
  {
   "cell_type": "code",
   "execution_count": 25,
   "id": "7d97b466",
   "metadata": {},
   "outputs": [
    {
     "name": "stdout",
     "output_type": "stream",
     "text": [
      "Минимально необходимое количество пользователей в одной группе: 4247\n",
      "Вашей выборки достаточно для статистически значимых результатов.\n"
     ]
    }
   ],
   "source": [
    "base_conversion_rate = 0.30          \n",
    "power = 0.80                          \n",
    "confidence_level = 0.95                \n",
    "expected_min_change = 0.05            \n",
    "\n",
    "# Стандартные значения квантилей нормального распределения\n",
    "z_alpha_half = norm.ppf((1 + confidence_level)/2)         \n",
    "z_beta = norm.ppf(power)                                    \n",
    "\n",
    "# Расчёт необходимой минимальной выборки на одну группу\n",
    "def calculate_sample_size(base_conv_rate, expected_min_change, z_alpha_half, z_beta):\n",
    "    sigma_squared = base_conv_rate * (1 - base_conv_rate)    \n",
    "    delta = base_conv_rate * expected_min_change              \n",
    "    \n",
    "    sample_size_per_group = ((sigma_squared / delta**2) *\n",
    "                             (z_alpha_half**2 + z_beta**2))\n",
    "    \n",
    "    return int(np.ceil(sample_size_per_group))                \n",
    "\n",
    "# Минимально необходимая выборка на одну группу\n",
    "min_sample_size_per_group = calculate_sample_size(\n",
    "    base_conversion_rate, expected_min_change, z_alpha_half, z_beta\n",
    ")\n",
    "\n",
    "# Печать результата\n",
    "print(f\"Минимально необходимое количество пользователей в одной группе: {min_sample_size_per_group}\")\n",
    "\n",
    "# Допустим, общая выборка делится поровну на две группы\n",
    "current_total_sample_size = 14525 // 2 \n",
    "\n",
    "# Проверка достаточности вашей выборки\n",
    "if current_total_sample_size >= min_sample_size_per_group:\n",
    "    print(\"Вашей выборки достаточно для статистически значимых результатов.\")\n",
    "else:\n",
    "    print(\"Вашей выборки недостаточно. Увеличьте объём выборки.\")"
   ]
  },
  {
   "cell_type": "markdown",
   "id": "SadyUDgZs0t3",
   "metadata": {
    "id": "SadyUDgZs0t3"
   },
   "source": [
    "- рассчитываем для каждой группы количество посетителей, сделавших покупку, и общее количество посетителей."
   ]
  },
  {
   "cell_type": "code",
   "execution_count": 26,
   "id": "af5522cb",
   "metadata": {},
   "outputs": [
    {
     "name": "stdout",
     "output_type": "stream",
     "text": [
      "       total_visitors  buyers  conversion_rate\n",
      "group                                         \n",
      "A                7805    2230         0.285714\n",
      "B                6279    1885         0.300207\n"
     ]
    }
   ],
   "source": [
    "# Фильтруем строки, содержащие событие покупки (\"purchase\") и добавляем группу участника\n",
    "purchases_with_groups = final_filtered_data.merge(participants[[\"user_id\", \"group\"]], on=\"user_id\", how=\"inner\").query(\"event_name == 'purchase'\")\n",
    "\n",
    "# Теперь подсчитываем уникальные покупки по каждой группе\n",
    "buyers_per_group = purchases_with_groups.groupby('group')['user_id'].nunique()\n",
    "\n",
    "# Общее число уникальных посетителей по группам\n",
    "visitors_per_group = final_filtered_data.merge(participants[[\"user_id\", \"group\"]], on=\"user_id\", how=\"inner\").groupby('group')['user_id'].nunique()\n",
    "\n",
    "# Собираем результаты вместе\n",
    "result = pd.DataFrame({\n",
    "    'total_visitors': visitors_per_group,\n",
    "    'buyers': buyers_per_group\n",
    "})\n",
    "\n",
    "# Рассчитываем коэффициент конверсии\n",
    "result['conversion_rate'] = result['buyers'] / result['total_visitors']\n",
    "\n",
    "print(result)"
   ]
  },
  {
   "cell_type": "markdown",
   "id": "e49ebd71",
   "metadata": {
    "id": "hHTHPkJYs8mE"
   },
   "source": [
    "Анализируя представленные данные, можно сделать следующий предварительный вывод:\n",
    "\n",
    "В контрольной группе (A) из 7805 пользователей совершили покупку 2230 человек, что дало коэффициент конверсии примерно 28.57%.\n",
    "В тестовой группе (B) из 6279 пользователей покупку совершили 1885 человек, что привело к коэффициенту конверсии примерно 30.02%.\n",
    "Хотя тестовая группа имеет меньше пользователей, она показала чуть лучший коэффициент конверсии (+1.45%), что предполагает некоторое положительное влияние внесенных изменений на поведение пользователей. Однако, изначально ожидалось повышение коэффициента конверсии на 3 процентных пункта, однако фактический прирост составил лишь 1.45%. Это означает, что цель достигнута не была.\n",
    "\n",
    "Тем не менее, несмотря на благоприятные тенденции, необходимы дополнительные меры предосторожности и статистические тесты, чтобы гарантировать значимость полученных результатов. Ключевыми вопросами остаются:\n",
    "\n",
    "Достаточно ли велика выборка для подтверждения статистической значимости?\n",
    "Может ли эта небольшая разница быть следствием случайности?\n",
    "Есть ли риски неравномерного распределения характеристик пользователей между группами?\n",
    "Таким образом, пока можно осторожно предположить, что обновления оказали позитивное влияние на поведение пользователей, повысив конверсию. Однако точный вывод потребует дополнительной верификации с применением методов статистического анализа."
   ]
  },
  {
   "cell_type": "markdown",
   "id": "IKZ1Oo3Ws919",
   "metadata": {
    "id": "IKZ1Oo3Ws919"
   },
   "source": [
    "### Проводим оценку результатов A/B-тестирования:"
   ]
  },
  {
   "cell_type": "markdown",
   "id": "ea630c95",
   "metadata": {},
   "source": [
    "<b>Формулировка гипотез </b>\n",
    "\n",
    "Нулевая гипотеза (H0): Нет значимых различий в уровне конверсии между группой А и группой Б.\n",
    "\n",
    "Альтернативная гипотеза (H1): Имеются значительные различия в уровне конверсии между двумя группами.\n"
   ]
  },
  {
   "cell_type": "code",
   "execution_count": 27,
   "id": "be1976f8",
   "metadata": {},
   "outputs": [
    {
     "name": "stdout",
     "output_type": "stream",
     "text": [
      "Z-статистика: -1.880, критическое значение: 1.960.\n",
      "Нулевая гипотеза принимается. Значимой разницы в конверсии не обнаружено.\n"
     ]
    }
   ],
   "source": [
    "# Определение общих оценок\n",
    "n_A = result.loc['A', 'total_visitors']\n",
    "x_A = result.loc['A', 'buyers']\n",
    "p_A = x_A / n_A\n",
    "\n",
    "n_B = result.loc['B', 'total_visitors']\n",
    "x_B = result.loc['B', 'buyers']\n",
    "p_B = x_B / n_B\n",
    "\n",
    "# Средневзвешенный коэффициент конверсии\n",
    "p_pool = (x_A + x_B) / (n_A + n_B)\n",
    "\n",
    "# Стандартная ошибка\n",
    "se = np.sqrt(p_pool * (1 - p_pool) * (1 / n_A + 1 / n_B))\n",
    "\n",
    "# Z-статистика\n",
    "z_statistic = (p_A - p_B) / se\n",
    "\n",
    "# Уровень значимости\n",
    "alpha = 0.05\n",
    "\n",
    "# Критическое значение для двустороннего теста\n",
    "critical_value = norm.ppf(1 - alpha / 2)\n",
    "\n",
    "# Проверка гипотез\n",
    "if abs(z_statistic) > critical_value:\n",
    "    conclusion = f\"Нулевая гипотеза отклоняется. Наблюдается значимая разница в конверсии.\"\n",
    "else:\n",
    "    conclusion = f\"Нулевая гипотеза принимается. Значимой разницы в конверсии не обнаружено.\"\n",
    "\n",
    "# Печать результатов\n",
    "print(f\"Z-статистика: {z_statistic:.3f}, критическое значение: {critical_value:.3f}.\")\n",
    "print(conclusion)"
   ]
  },
  {
   "cell_type": "markdown",
   "id": "npoPPSKytKvR",
   "metadata": {
    "id": "npoPPSKytKvR"
   },
   "source": [
    "<b>Цель A/B-тестирования состояла в проверке влияния новой версии интерфейса на поведение пользователей интернет-магазина. Было проведено сравнение двух групп: контрольной (группа A) и тестовой (группа B), с целью выяснить, улучшилась ли конверсия пользователей благодаря изменениям интерфейса.</b>\n",
    "\n",
    "<b>Гипотеза:</b>\n",
    "\n",
    "Нулевая гипотеза: изменения интерфейса не оказывают значимого влияния на конверсию пользователей.\n",
    "\n",
    "Альтернативная гипотеза: новая версия интерфейса приводит к значимым изменениям в конверсии.\n",
    "\n",
    "<b>Анализ данных:</b>\n",
    "\n",
    "Группа A (контрольная группа):\n",
    "Всего пользователей: 7805\n",
    "Совершили покупку: 2230\n",
    "Коэффициент конверсии: 28.57%\n",
    "\n",
    "Группа B (тестовая группа):\n",
    "Всего пользователей: 6279\n",
    "Совершили покупку: 1885\n",
    "Коэффициент конверсии: 30.02%\n",
    "\n",
    "<b>Статистический анализ:</b>\n",
    "\n",
    "Был проведен z-тест для пропорций, чтобы проверить, отличаются ли коэффициенты конверсии в группах A и B. \n",
    "\n",
    "<b>Основной результат:</b>\n",
    "\n",
    "Z-статистика составила примерно −1.880, что меньше, чем критическое значение для уровня значимости \n",
    "α=0.05 (±1.96). \n",
    "\n",
    "<b>Интерпретация:</b>\n",
    "\n",
    "Так как модуль z-статистики меньше критического значения (1.880 < 1.960), нулевая гипотеза НЕ ОТКАЗЫВАЕТСЯ. То есть полученные различия в конверсиях между контрольной и тестовой группами НЕ ЯВЛЯЮТСЯ СТАТИСТИЧЕСКИ ЗНАЧИМЫМИ.\n",
    "\n",
    "<b>Заключение:</b>\n",
    "\n",
    "Проведенное A/B-тестирование не позволило обнаружить значимые отличия в поведении пользователей контрольной и тестовой групп. Новая версия интерфейса не привела к ощутимому повышению конверсии, следовательно, нельзя утверждать, что сделанные изменения положительно повлияли на покупательское поведение пользователей. Требуются дальнейшие исследования или улучшение дизайна интерфейса для достижения желаемого роста конверсии."
   ]
  }
 ],
 "metadata": {
  "ExecuteTimeLog": [
   {
    "duration": 400,
    "start_time": "2025-05-29T06:11:07.179Z"
   },
   {
    "duration": 3,
    "start_time": "2025-05-29T06:11:09.670Z"
   },
   {
    "duration": 78,
    "start_time": "2025-05-29T06:11:51.054Z"
   },
   {
    "duration": 149,
    "start_time": "2025-05-29T06:12:34.598Z"
   },
   {
    "duration": 21,
    "start_time": "2025-05-29T06:12:40.846Z"
   },
   {
    "duration": 12,
    "start_time": "2025-05-29T06:14:05.240Z"
   },
   {
    "duration": 75,
    "start_time": "2025-05-29T06:14:16.736Z"
   },
   {
    "duration": 26,
    "start_time": "2025-05-29T06:14:29.376Z"
   },
   {
    "duration": 19,
    "start_time": "2025-05-29T06:15:18.288Z"
   },
   {
    "duration": 18,
    "start_time": "2025-05-29T06:15:36.504Z"
   },
   {
    "duration": 21,
    "start_time": "2025-05-29T06:15:48.401Z"
   },
   {
    "duration": 1645,
    "start_time": "2025-05-29T07:00:29.544Z"
   },
   {
    "duration": 81,
    "start_time": "2025-05-29T07:01:04.992Z"
   },
   {
    "duration": 80,
    "start_time": "2025-05-29T07:01:24.632Z"
   },
   {
    "duration": 97,
    "start_time": "2025-05-29T07:01:30.544Z"
   },
   {
    "duration": 508,
    "start_time": "2025-05-29T07:02:27.506Z"
   },
   {
    "duration": 22,
    "start_time": "2025-05-29T07:02:44.817Z"
   },
   {
    "duration": 10,
    "start_time": "2025-05-29T07:02:49.104Z"
   },
   {
    "duration": 8,
    "start_time": "2025-05-29T07:03:25.488Z"
   },
   {
    "duration": 7,
    "start_time": "2025-05-29T07:03:44.952Z"
   },
   {
    "duration": 4,
    "start_time": "2025-05-29T07:04:16.241Z"
   },
   {
    "duration": 7,
    "start_time": "2025-05-29T07:05:17.065Z"
   },
   {
    "duration": 4,
    "start_time": "2025-05-29T07:05:18.393Z"
   },
   {
    "duration": 35,
    "start_time": "2025-05-29T07:06:13.673Z"
   },
   {
    "duration": 6,
    "start_time": "2025-05-29T07:06:36.570Z"
   },
   {
    "duration": 6,
    "start_time": "2025-05-29T07:08:37.354Z"
   },
   {
    "duration": 5,
    "start_time": "2025-05-29T07:08:44.554Z"
   },
   {
    "duration": 9,
    "start_time": "2025-05-29T07:08:55.394Z"
   },
   {
    "duration": 9,
    "start_time": "2025-05-29T07:10:02.683Z"
   },
   {
    "duration": 7,
    "start_time": "2025-05-29T07:10:04.051Z"
   },
   {
    "duration": 4,
    "start_time": "2025-05-29T07:10:06.811Z"
   },
   {
    "duration": 13,
    "start_time": "2025-05-29T07:11:18.028Z"
   },
   {
    "duration": 10,
    "start_time": "2025-05-29T07:11:37.612Z"
   },
   {
    "duration": 10,
    "start_time": "2025-05-29T07:12:27.491Z"
   },
   {
    "duration": 7,
    "start_time": "2025-05-29T07:12:31.731Z"
   },
   {
    "duration": 3,
    "start_time": "2025-05-29T07:12:39.555Z"
   },
   {
    "duration": 77,
    "start_time": "2025-05-29T07:12:40.419Z"
   },
   {
    "duration": 27,
    "start_time": "2025-05-29T07:12:40.995Z"
   },
   {
    "duration": 6,
    "start_time": "2025-05-29T07:12:42.731Z"
   },
   {
    "duration": 8,
    "start_time": "2025-05-29T07:12:43.691Z"
   },
   {
    "duration": 9,
    "start_time": "2025-05-29T07:12:44.275Z"
   },
   {
    "duration": 6,
    "start_time": "2025-05-29T07:12:45.996Z"
   },
   {
    "duration": 10,
    "start_time": "2025-05-29T07:14:56.477Z"
   },
   {
    "duration": 9,
    "start_time": "2025-05-29T07:15:39.221Z"
   },
   {
    "duration": 10,
    "start_time": "2025-05-29T07:15:40.741Z"
   },
   {
    "duration": 3,
    "start_time": "2025-05-29T07:15:54.165Z"
   },
   {
    "duration": 222,
    "start_time": "2025-05-29T07:15:54.724Z"
   },
   {
    "duration": 20,
    "start_time": "2025-05-29T07:15:56.237Z"
   },
   {
    "duration": 6,
    "start_time": "2025-05-29T07:15:58.020Z"
   },
   {
    "duration": 9,
    "start_time": "2025-05-29T07:15:58.788Z"
   },
   {
    "duration": 10,
    "start_time": "2025-05-29T07:15:59.189Z"
   },
   {
    "duration": 8,
    "start_time": "2025-05-29T07:15:59.708Z"
   },
   {
    "duration": 9,
    "start_time": "2025-05-29T07:16:00.941Z"
   },
   {
    "duration": 3,
    "start_time": "2025-05-29T07:16:44.324Z"
   },
   {
    "duration": 11,
    "start_time": "2025-05-29T07:16:50.246Z"
   },
   {
    "duration": 10,
    "start_time": "2025-05-29T07:18:05.014Z"
   },
   {
    "duration": 10,
    "start_time": "2025-05-29T07:28:05.969Z"
   },
   {
    "duration": 10,
    "start_time": "2025-05-29T07:28:31.601Z"
   },
   {
    "duration": 1954,
    "start_time": "2025-05-29T07:46:44.064Z"
   },
   {
    "duration": 3,
    "start_time": "2025-05-29T07:47:10.471Z"
   },
   {
    "duration": 1586,
    "start_time": "2025-05-29T07:47:18.259Z"
   },
   {
    "duration": 48,
    "start_time": "2025-05-29T07:47:19.848Z"
   },
   {
    "duration": 2650,
    "start_time": "2025-05-29T07:47:54.903Z"
   },
   {
    "duration": 3,
    "start_time": "2025-05-29T07:48:20.503Z"
   },
   {
    "duration": 2505,
    "start_time": "2025-05-29T07:48:20.952Z"
   },
   {
    "duration": 73,
    "start_time": "2025-05-29T07:48:23.459Z"
   },
   {
    "duration": 27,
    "start_time": "2025-05-29T07:48:23.534Z"
   },
   {
    "duration": 7,
    "start_time": "2025-05-29T07:48:23.563Z"
   },
   {
    "duration": 7,
    "start_time": "2025-05-29T07:48:24.344Z"
   },
   {
    "duration": 9,
    "start_time": "2025-05-29T07:48:25.152Z"
   },
   {
    "duration": 6,
    "start_time": "2025-05-29T07:48:25.834Z"
   },
   {
    "duration": 12,
    "start_time": "2025-05-29T07:48:26.992Z"
   },
   {
    "duration": 9,
    "start_time": "2025-05-29T07:48:28.184Z"
   },
   {
    "duration": 2614,
    "start_time": "2025-05-29T07:49:22.504Z"
   },
   {
    "duration": 70,
    "start_time": "2025-05-29T07:49:25.121Z"
   },
   {
    "duration": 19,
    "start_time": "2025-05-29T07:49:31.640Z"
   },
   {
    "duration": 450,
    "start_time": "2025-05-29T07:51:51.812Z"
   },
   {
    "duration": 3176,
    "start_time": "2025-05-29T07:51:53.129Z"
   },
   {
    "duration": 200,
    "start_time": "2025-05-29T07:51:56.370Z"
   },
   {
    "duration": 30,
    "start_time": "2025-05-29T07:51:57.097Z"
   },
   {
    "duration": 6,
    "start_time": "2025-05-29T07:51:59.648Z"
   },
   {
    "duration": 8,
    "start_time": "2025-05-29T07:52:01.121Z"
   },
   {
    "duration": 10,
    "start_time": "2025-05-29T07:52:01.961Z"
   },
   {
    "duration": 7,
    "start_time": "2025-05-29T07:52:03.385Z"
   },
   {
    "duration": 94,
    "start_time": "2025-05-29T07:52:05.001Z"
   },
   {
    "duration": 11,
    "start_time": "2025-05-29T07:52:06.561Z"
   },
   {
    "duration": 10,
    "start_time": "2025-05-29T07:52:07.777Z"
   },
   {
    "duration": 419,
    "start_time": "2025-05-29T07:52:13.153Z"
   },
   {
    "duration": 3046,
    "start_time": "2025-05-29T07:52:13.573Z"
   },
   {
    "duration": 54,
    "start_time": "2025-05-29T07:52:16.620Z"
   },
   {
    "duration": 29,
    "start_time": "2025-05-29T07:52:16.677Z"
   },
   {
    "duration": 6,
    "start_time": "2025-05-29T07:52:16.707Z"
   },
   {
    "duration": 23,
    "start_time": "2025-05-29T07:52:16.715Z"
   },
   {
    "duration": 28,
    "start_time": "2025-05-29T07:52:16.740Z"
   },
   {
    "duration": 41,
    "start_time": "2025-05-29T07:52:16.770Z"
   },
   {
    "duration": 111,
    "start_time": "2025-05-29T07:52:16.813Z"
   },
   {
    "duration": 0,
    "start_time": "2025-05-29T07:52:16.926Z"
   },
   {
    "duration": 0,
    "start_time": "2025-05-29T07:52:16.927Z"
   },
   {
    "duration": 2530,
    "start_time": "2025-05-29T08:14:10.182Z"
   },
   {
    "duration": 2539,
    "start_time": "2025-05-29T08:14:17.487Z"
   },
   {
    "duration": 8,
    "start_time": "2025-05-29T08:14:22.006Z"
   },
   {
    "duration": 6,
    "start_time": "2025-05-29T08:14:22.902Z"
   },
   {
    "duration": 6,
    "start_time": "2025-05-29T08:14:55.311Z"
   },
   {
    "duration": 50,
    "start_time": "2025-05-30T06:31:34.199Z"
   },
   {
    "duration": 113,
    "start_time": "2025-05-30T06:31:41.895Z"
   },
   {
    "duration": 7,
    "start_time": "2025-05-30T06:32:17.992Z"
   },
   {
    "duration": 365,
    "start_time": "2025-05-30T06:32:28.016Z"
   },
   {
    "duration": 3160,
    "start_time": "2025-05-30T06:32:28.664Z"
   },
   {
    "duration": 117,
    "start_time": "2025-05-30T06:32:31.826Z"
   },
   {
    "duration": 26,
    "start_time": "2025-05-30T06:32:31.944Z"
   },
   {
    "duration": 32,
    "start_time": "2025-05-30T06:32:31.972Z"
   },
   {
    "duration": 7,
    "start_time": "2025-05-30T06:32:32.175Z"
   },
   {
    "duration": 10,
    "start_time": "2025-05-30T06:32:33.255Z"
   },
   {
    "duration": 6,
    "start_time": "2025-05-30T06:32:35.007Z"
   },
   {
    "duration": 1682,
    "start_time": "2025-05-30T06:32:38.159Z"
   },
   {
    "duration": 95,
    "start_time": "2025-05-30T06:32:41.063Z"
   },
   {
    "duration": 10,
    "start_time": "2025-05-30T06:32:51.399Z"
   },
   {
    "duration": 19,
    "start_time": "2025-05-30T06:33:06.815Z"
   },
   {
    "duration": 136,
    "start_time": "2025-05-30T06:33:54.105Z"
   },
   {
    "duration": 7,
    "start_time": "2025-05-30T06:38:41.962Z"
   },
   {
    "duration": 6,
    "start_time": "2025-05-30T06:39:19.282Z"
   },
   {
    "duration": 18,
    "start_time": "2025-05-30T06:40:51.890Z"
   },
   {
    "duration": 16,
    "start_time": "2025-05-30T06:41:41.034Z"
   },
   {
    "duration": 19,
    "start_time": "2025-05-30T06:57:28.264Z"
   },
   {
    "duration": 6,
    "start_time": "2025-05-30T06:57:47.457Z"
   },
   {
    "duration": 67,
    "start_time": "2025-05-30T07:17:26.015Z"
   },
   {
    "duration": 39,
    "start_time": "2025-05-30T07:18:52.816Z"
   },
   {
    "duration": 27,
    "start_time": "2025-05-30T07:19:05.472Z"
   },
   {
    "duration": 22,
    "start_time": "2025-05-30T07:19:21.167Z"
   },
   {
    "duration": 56,
    "start_time": "2025-05-30T07:22:34.089Z"
   },
   {
    "duration": 2401,
    "start_time": "2025-05-30T07:23:46.825Z"
   },
   {
    "duration": 93,
    "start_time": "2025-05-30T07:23:49.229Z"
   },
   {
    "duration": 21,
    "start_time": "2025-05-30T07:23:49.705Z"
   },
   {
    "duration": 66,
    "start_time": "2025-05-30T07:23:55.586Z"
   },
   {
    "duration": 39,
    "start_time": "2025-05-30T07:23:57.320Z"
   },
   {
    "duration": 27,
    "start_time": "2025-05-30T07:23:59.194Z"
   },
   {
    "duration": 22,
    "start_time": "2025-05-30T07:24:00.153Z"
   },
   {
    "duration": 6,
    "start_time": "2025-05-30T07:24:01.906Z"
   },
   {
    "duration": 8,
    "start_time": "2025-05-30T07:24:24.201Z"
   },
   {
    "duration": 23,
    "start_time": "2025-05-30T07:25:20.259Z"
   },
   {
    "duration": 64,
    "start_time": "2025-05-30T09:25:44.628Z"
   },
   {
    "duration": 19,
    "start_time": "2025-05-30T09:34:06.519Z"
   },
   {
    "duration": 2147,
    "start_time": "2025-05-30T09:35:38.718Z"
   },
   {
    "duration": 144,
    "start_time": "2025-05-30T09:35:40.867Z"
   },
   {
    "duration": 19,
    "start_time": "2025-05-30T09:35:53.752Z"
   },
   {
    "duration": 7,
    "start_time": "2025-05-30T09:38:15.239Z"
   },
   {
    "duration": 6,
    "start_time": "2025-05-30T09:38:54.967Z"
   },
   {
    "duration": 5,
    "start_time": "2025-05-30T09:39:05.552Z"
   },
   {
    "duration": 7,
    "start_time": "2025-05-30T09:39:30.792Z"
   },
   {
    "duration": 7,
    "start_time": "2025-05-30T09:40:19.264Z"
   },
   {
    "duration": 21,
    "start_time": "2025-05-30T09:40:20.849Z"
   },
   {
    "duration": 196,
    "start_time": "2025-05-30T09:44:15.586Z"
   },
   {
    "duration": 1968,
    "start_time": "2025-05-30T09:45:12.674Z"
   },
   {
    "duration": 1616,
    "start_time": "2025-05-30T09:46:11.089Z"
   },
   {
    "duration": 6,
    "start_time": "2025-05-30T11:35:13.005Z"
   },
   {
    "duration": 1682,
    "start_time": "2025-05-30T11:35:24.380Z"
   },
   {
    "duration": 161,
    "start_time": "2025-05-30T11:35:26.064Z"
   },
   {
    "duration": 8,
    "start_time": "2025-05-30T11:35:50.126Z"
   },
   {
    "duration": 87,
    "start_time": "2025-05-30T11:35:57.308Z"
   },
   {
    "duration": 4,
    "start_time": "2025-05-30T11:36:40.580Z"
   },
   {
    "duration": 143,
    "start_time": "2025-05-30T11:36:48.956Z"
   },
   {
    "duration": 7,
    "start_time": "2025-05-30T11:37:01.732Z"
   },
   {
    "duration": 7,
    "start_time": "2025-05-30T11:37:03.060Z"
   },
   {
    "duration": 17,
    "start_time": "2025-05-30T11:37:04.581Z"
   },
   {
    "duration": 23,
    "start_time": "2025-05-30T11:37:06.781Z"
   },
   {
    "duration": 7,
    "start_time": "2025-05-30T11:37:08.087Z"
   },
   {
    "duration": 74,
    "start_time": "2025-05-30T11:37:21.932Z"
   },
   {
    "duration": 1890,
    "start_time": "2025-05-30T11:39:34.118Z"
   },
   {
    "duration": 13,
    "start_time": "2025-05-30T11:48:03.200Z"
   },
   {
    "duration": 2798,
    "start_time": "2025-05-30T11:48:35.200Z"
   },
   {
    "duration": 70,
    "start_time": "2025-05-30T11:48:38.376Z"
   },
   {
    "duration": 7,
    "start_time": "2025-05-30T11:48:40.904Z"
   },
   {
    "duration": 440,
    "start_time": "2025-05-31T06:45:25.280Z"
   },
   {
    "duration": 3613,
    "start_time": "2025-05-31T06:45:25.723Z"
   },
   {
    "duration": 53,
    "start_time": "2025-05-31T06:45:29.338Z"
   },
   {
    "duration": 29,
    "start_time": "2025-05-31T06:45:29.393Z"
   },
   {
    "duration": 31,
    "start_time": "2025-05-31T06:45:29.424Z"
   },
   {
    "duration": 19,
    "start_time": "2025-05-31T06:45:29.457Z"
   },
   {
    "duration": 11,
    "start_time": "2025-05-31T06:45:29.478Z"
   },
   {
    "duration": 21,
    "start_time": "2025-05-31T06:45:29.491Z"
   },
   {
    "duration": 62,
    "start_time": "2025-05-31T06:45:29.514Z"
   },
   {
    "duration": 1552,
    "start_time": "2025-05-31T06:45:29.579Z"
   },
   {
    "duration": 171,
    "start_time": "2025-05-31T06:45:31.133Z"
   },
   {
    "duration": 7,
    "start_time": "2025-05-31T06:45:31.305Z"
   },
   {
    "duration": 26,
    "start_time": "2025-05-31T06:45:31.313Z"
   },
   {
    "duration": 48,
    "start_time": "2025-05-31T06:45:31.341Z"
   },
   {
    "duration": 20,
    "start_time": "2025-05-31T06:45:31.391Z"
   },
   {
    "duration": 85,
    "start_time": "2025-05-31T06:45:31.413Z"
   },
   {
    "duration": 68,
    "start_time": "2025-05-31T06:45:31.500Z"
   },
   {
    "duration": 31,
    "start_time": "2025-05-31T06:45:31.570Z"
   },
   {
    "duration": 23,
    "start_time": "2025-05-31T06:45:31.603Z"
   },
   {
    "duration": 187,
    "start_time": "2025-05-31T06:45:31.627Z"
   },
   {
    "duration": 1971,
    "start_time": "2025-05-31T06:45:31.815Z"
   },
   {
    "duration": 6,
    "start_time": "2025-05-31T06:45:33.788Z"
   },
   {
    "duration": 7,
    "start_time": "2025-05-31T06:45:43.653Z"
   },
   {
    "duration": 957,
    "start_time": "2025-06-02T05:27:58.858Z"
   },
   {
    "duration": 14,
    "start_time": "2025-06-02T05:28:30.859Z"
   },
   {
    "duration": 93,
    "start_time": "2025-06-02T05:59:27.135Z"
   },
   {
    "duration": 6,
    "start_time": "2025-06-02T05:59:34.988Z"
   },
   {
    "duration": 74,
    "start_time": "2025-06-02T05:59:36.932Z"
   },
   {
    "duration": 28,
    "start_time": "2025-06-02T05:59:38.477Z"
   },
   {
    "duration": 10,
    "start_time": "2025-06-02T05:59:40.765Z"
   },
   {
    "duration": 6,
    "start_time": "2025-06-02T06:01:27.909Z"
   },
   {
    "duration": 9,
    "start_time": "2025-06-02T06:02:52.541Z"
   },
   {
    "duration": 12,
    "start_time": "2025-06-02T06:03:04.917Z"
   },
   {
    "duration": 11,
    "start_time": "2025-06-02T06:04:56.382Z"
   },
   {
    "duration": 6,
    "start_time": "2025-06-02T06:05:47.886Z"
   },
   {
    "duration": 6,
    "start_time": "2025-06-02T06:06:19.590Z"
   },
   {
    "duration": 16,
    "start_time": "2025-06-02T06:06:33.053Z"
   },
   {
    "duration": 6,
    "start_time": "2025-06-02T06:07:06.791Z"
   },
   {
    "duration": 13,
    "start_time": "2025-06-02T06:07:08.559Z"
   },
   {
    "duration": 6,
    "start_time": "2025-06-02T06:07:20.240Z"
   },
   {
    "duration": 90,
    "start_time": "2025-06-02T06:07:21.590Z"
   },
   {
    "duration": 19,
    "start_time": "2025-06-02T06:07:22.598Z"
   },
   {
    "duration": 5,
    "start_time": "2025-06-02T06:07:26.845Z"
   },
   {
    "duration": 8,
    "start_time": "2025-06-02T06:07:27.870Z"
   },
   {
    "duration": 10,
    "start_time": "2025-06-02T06:07:29.191Z"
   },
   {
    "duration": 9,
    "start_time": "2025-06-02T06:51:25.595Z"
   },
   {
    "duration": 26,
    "start_time": "2025-06-02T06:53:08.910Z"
   },
   {
    "duration": 18,
    "start_time": "2025-06-02T06:55:28.406Z"
   },
   {
    "duration": 74,
    "start_time": "2025-06-02T06:55:32.128Z"
   },
   {
    "duration": 22,
    "start_time": "2025-06-02T06:55:33.132Z"
   },
   {
    "duration": 7,
    "start_time": "2025-06-02T06:55:37.367Z"
   },
   {
    "duration": 23,
    "start_time": "2025-06-02T06:55:40.062Z"
   },
   {
    "duration": 11,
    "start_time": "2025-06-02T06:55:50.476Z"
   },
   {
    "duration": 110,
    "start_time": "2025-06-02T06:55:52.082Z"
   },
   {
    "duration": 21,
    "start_time": "2025-06-02T06:55:53.407Z"
   },
   {
    "duration": 4,
    "start_time": "2025-06-02T06:55:55.655Z"
   },
   {
    "duration": 8,
    "start_time": "2025-06-02T06:55:57.911Z"
   },
   {
    "duration": 13,
    "start_time": "2025-06-02T06:56:01.078Z"
   },
   {
    "duration": 98,
    "start_time": "2025-06-02T07:10:06.076Z"
   },
   {
    "duration": 88,
    "start_time": "2025-06-02T07:10:08.323Z"
   },
   {
    "duration": 93,
    "start_time": "2025-06-02T07:10:10.154Z"
   },
   {
    "duration": 110,
    "start_time": "2025-06-02T07:10:22.035Z"
   },
   {
    "duration": 113,
    "start_time": "2025-06-02T07:10:27.011Z"
   },
   {
    "duration": 106,
    "start_time": "2025-06-02T07:10:53.252Z"
   },
   {
    "duration": 112,
    "start_time": "2025-06-02T07:11:02.158Z"
   },
   {
    "duration": 17,
    "start_time": "2025-06-02T07:11:06.555Z"
   },
   {
    "duration": 72,
    "start_time": "2025-06-02T07:11:09.339Z"
   },
   {
    "duration": 28,
    "start_time": "2025-06-02T07:11:10.955Z"
   },
   {
    "duration": 4,
    "start_time": "2025-06-02T07:11:14.996Z"
   },
   {
    "duration": 7,
    "start_time": "2025-06-02T07:11:16.340Z"
   },
   {
    "duration": 11,
    "start_time": "2025-06-02T07:11:17.474Z"
   },
   {
    "duration": 89,
    "start_time": "2025-06-02T07:11:23.012Z"
   },
   {
    "duration": 94,
    "start_time": "2025-06-02T07:11:34.612Z"
   },
   {
    "duration": 21,
    "start_time": "2025-06-02T07:12:24.052Z"
   },
   {
    "duration": 6,
    "start_time": "2025-06-02T07:30:24.954Z"
   },
   {
    "duration": 1377,
    "start_time": "2025-06-02T07:31:56.369Z"
   },
   {
    "duration": 19,
    "start_time": "2025-06-02T07:34:39.908Z"
   },
   {
    "duration": 117,
    "start_time": "2025-06-02T07:34:46.379Z"
   },
   {
    "duration": 94,
    "start_time": "2025-06-02T07:48:15.688Z"
   },
   {
    "duration": 8,
    "start_time": "2025-06-02T07:52:28.969Z"
   },
   {
    "duration": 7,
    "start_time": "2025-06-02T07:52:30.607Z"
   },
   {
    "duration": 15,
    "start_time": "2025-06-02T07:52:32.809Z"
   },
   {
    "duration": 20,
    "start_time": "2025-06-02T07:52:36.018Z"
   },
   {
    "duration": 61,
    "start_time": "2025-06-02T07:53:00.306Z"
   },
   {
    "duration": 10,
    "start_time": "2025-06-02T08:15:31.627Z"
   },
   {
    "duration": 9,
    "start_time": "2025-06-02T08:15:33.939Z"
   },
   {
    "duration": 10,
    "start_time": "2025-06-02T08:15:42.402Z"
   },
   {
    "duration": 70,
    "start_time": "2025-06-02T08:15:45.306Z"
   },
   {
    "duration": 34,
    "start_time": "2025-06-02T08:15:46.723Z"
   },
   {
    "duration": 35,
    "start_time": "2025-06-02T08:15:47.642Z"
   },
   {
    "duration": 20,
    "start_time": "2025-06-02T08:15:48.995Z"
   },
   {
    "duration": 17,
    "start_time": "2025-06-02T08:15:55.043Z"
   },
   {
    "duration": 14,
    "start_time": "2025-06-02T08:15:57.019Z"
   },
   {
    "duration": 13,
    "start_time": "2025-06-02T08:15:58.667Z"
   },
   {
    "duration": 6,
    "start_time": "2025-06-02T08:16:00.019Z"
   },
   {
    "duration": 72,
    "start_time": "2025-06-02T08:16:02.635Z"
   },
   {
    "duration": 41,
    "start_time": "2025-06-02T08:16:04.986Z"
   },
   {
    "duration": 33,
    "start_time": "2025-06-02T08:16:06.641Z"
   },
   {
    "duration": 16,
    "start_time": "2025-06-02T08:16:07.627Z"
   },
   {
    "duration": 7,
    "start_time": "2025-06-02T08:16:12.788Z"
   },
   {
    "duration": 22,
    "start_time": "2025-06-02T08:16:34.467Z"
   },
   {
    "duration": 6,
    "start_time": "2025-06-02T08:16:49.715Z"
   },
   {
    "duration": 30,
    "start_time": "2025-06-02T08:16:57.966Z"
   },
   {
    "duration": 6,
    "start_time": "2025-06-02T08:16:59.451Z"
   },
   {
    "duration": 13,
    "start_time": "2025-06-02T08:17:05.708Z"
   },
   {
    "duration": 6,
    "start_time": "2025-06-02T08:17:08.023Z"
   },
   {
    "duration": 17,
    "start_time": "2025-06-02T08:17:20.112Z"
   },
   {
    "duration": 7,
    "start_time": "2025-06-02T08:17:22.448Z"
   },
   {
    "duration": 15,
    "start_time": "2025-06-02T08:17:32.521Z"
   },
   {
    "duration": 7,
    "start_time": "2025-06-02T08:17:34.000Z"
   },
   {
    "duration": 19,
    "start_time": "2025-06-02T08:17:37.475Z"
   },
   {
    "duration": 14,
    "start_time": "2025-06-02T08:17:39.674Z"
   },
   {
    "duration": 1452,
    "start_time": "2025-06-02T08:31:23.824Z"
   },
   {
    "duration": 1472,
    "start_time": "2025-06-02T08:32:31.006Z"
   },
   {
    "duration": 1542,
    "start_time": "2025-06-02T08:37:53.163Z"
   },
   {
    "duration": 1573,
    "start_time": "2025-06-02T08:38:49.407Z"
   },
   {
    "duration": 1922,
    "start_time": "2025-06-02T08:50:08.188Z"
   },
   {
    "duration": 32,
    "start_time": "2025-06-02T08:51:16.461Z"
   },
   {
    "duration": 1811,
    "start_time": "2025-06-02T08:54:55.973Z"
   },
   {
    "duration": 1929,
    "start_time": "2025-06-02T08:54:58.101Z"
   },
   {
    "duration": 20,
    "start_time": "2025-06-02T08:58:14.326Z"
   },
   {
    "duration": 18,
    "start_time": "2025-06-02T08:58:24.248Z"
   },
   {
    "duration": 1747,
    "start_time": "2025-06-02T08:59:12.535Z"
   },
   {
    "duration": 19,
    "start_time": "2025-06-02T09:01:41.703Z"
   },
   {
    "duration": 7,
    "start_time": "2025-06-02T09:02:40.803Z"
   },
   {
    "duration": 17,
    "start_time": "2025-06-02T09:02:47.168Z"
   },
   {
    "duration": 1496,
    "start_time": "2025-06-02T09:02:57.432Z"
   },
   {
    "duration": 33,
    "start_time": "2025-06-02T09:02:58.930Z"
   },
   {
    "duration": 127,
    "start_time": "2025-06-02T09:03:01.935Z"
   },
   {
    "duration": 95,
    "start_time": "2025-06-02T09:03:04.456Z"
   },
   {
    "duration": 7,
    "start_time": "2025-06-02T09:03:06.487Z"
   },
   {
    "duration": 5,
    "start_time": "2025-06-02T09:03:09.480Z"
   },
   {
    "duration": 16,
    "start_time": "2025-06-02T09:03:11.368Z"
   },
   {
    "duration": 21,
    "start_time": "2025-06-02T09:03:13.399Z"
   },
   {
    "duration": 62,
    "start_time": "2025-06-02T09:03:15.072Z"
   },
   {
    "duration": 34,
    "start_time": "2025-06-02T09:03:16.872Z"
   },
   {
    "duration": 95,
    "start_time": "2025-06-02T09:03:17.616Z"
   },
   {
    "duration": 18,
    "start_time": "2025-06-02T09:03:18.391Z"
   },
   {
    "duration": 7,
    "start_time": "2025-06-02T09:03:20.006Z"
   },
   {
    "duration": 8,
    "start_time": "2025-06-02T09:03:21.600Z"
   },
   {
    "duration": 19,
    "start_time": "2025-06-02T09:03:24.080Z"
   },
   {
    "duration": 17,
    "start_time": "2025-06-02T09:03:27.328Z"
   },
   {
    "duration": 68,
    "start_time": "2025-06-02T11:39:55.395Z"
   },
   {
    "duration": 61,
    "start_time": "2025-06-02T12:00:35.831Z"
   },
   {
    "duration": 20,
    "start_time": "2025-06-02T12:09:03.712Z"
   },
   {
    "duration": 99,
    "start_time": "2025-06-02T12:22:32.269Z"
   },
   {
    "duration": 13,
    "start_time": "2025-06-02T12:34:11.480Z"
   },
   {
    "duration": 8,
    "start_time": "2025-06-02T12:35:48.729Z"
   },
   {
    "duration": 11,
    "start_time": "2025-06-02T12:36:01.504Z"
   },
   {
    "duration": 7,
    "start_time": "2025-06-02T12:36:12.064Z"
   },
   {
    "duration": 11,
    "start_time": "2025-06-02T12:51:32.565Z"
   },
   {
    "duration": 5,
    "start_time": "2025-06-02T12:51:49.725Z"
   },
   {
    "duration": 6,
    "start_time": "2025-06-02T12:51:51.310Z"
   },
   {
    "duration": 2961,
    "start_time": "2025-06-02T12:53:18.382Z"
   },
   {
    "duration": 2466,
    "start_time": "2025-06-02T12:54:16.903Z"
   },
   {
    "duration": 2407,
    "start_time": "2025-06-02T12:54:51.951Z"
   },
   {
    "duration": 5,
    "start_time": "2025-06-02T12:54:57.078Z"
   },
   {
    "duration": 899,
    "start_time": "2025-06-02T12:55:07.257Z"
   },
   {
    "duration": 135,
    "start_time": "2025-06-02T12:55:08.161Z"
   },
   {
    "duration": 28,
    "start_time": "2025-06-02T12:55:08.298Z"
   },
   {
    "duration": 3,
    "start_time": "2025-06-02T12:55:08.329Z"
   },
   {
    "duration": 11,
    "start_time": "2025-06-02T12:55:08.334Z"
   },
   {
    "duration": 14,
    "start_time": "2025-06-02T12:55:08.346Z"
   },
   {
    "duration": 6,
    "start_time": "2025-06-02T12:55:08.361Z"
   },
   {
    "duration": 41,
    "start_time": "2025-06-02T12:55:08.368Z"
   },
   {
    "duration": 9,
    "start_time": "2025-06-02T12:55:08.410Z"
   },
   {
    "duration": 15,
    "start_time": "2025-06-02T12:55:08.422Z"
   },
   {
    "duration": 29,
    "start_time": "2025-06-02T12:55:08.438Z"
   },
   {
    "duration": 1800,
    "start_time": "2025-06-02T12:55:08.469Z"
   },
   {
    "duration": 17,
    "start_time": "2025-06-02T12:55:10.271Z"
   },
   {
    "duration": 134,
    "start_time": "2025-06-02T12:55:10.290Z"
   },
   {
    "duration": 104,
    "start_time": "2025-06-02T12:55:10.426Z"
   },
   {
    "duration": 7,
    "start_time": "2025-06-02T12:55:10.532Z"
   },
   {
    "duration": 13,
    "start_time": "2025-06-02T12:55:10.540Z"
   },
   {
    "duration": 16,
    "start_time": "2025-06-02T12:55:10.563Z"
   },
   {
    "duration": 19,
    "start_time": "2025-06-02T12:55:10.581Z"
   },
   {
    "duration": 81,
    "start_time": "2025-06-02T12:55:10.601Z"
   },
   {
    "duration": 33,
    "start_time": "2025-06-02T12:55:10.684Z"
   },
   {
    "duration": 43,
    "start_time": "2025-06-02T12:55:10.719Z"
   },
   {
    "duration": 23,
    "start_time": "2025-06-02T12:55:10.764Z"
   },
   {
    "duration": 6,
    "start_time": "2025-06-02T12:55:10.788Z"
   },
   {
    "duration": 87,
    "start_time": "2025-06-02T12:55:10.795Z"
   },
   {
    "duration": 185,
    "start_time": "2025-06-02T12:55:10.883Z"
   },
   {
    "duration": 97,
    "start_time": "2025-06-02T12:55:11.070Z"
   },
   {
    "duration": 10,
    "start_time": "2025-06-02T12:55:27.690Z"
   },
   {
    "duration": 6,
    "start_time": "2025-06-02T12:56:19.211Z"
   },
   {
    "duration": 7,
    "start_time": "2025-06-02T12:56:56.011Z"
   },
   {
    "duration": 7,
    "start_time": "2025-06-02T12:57:40.907Z"
   },
   {
    "duration": 7,
    "start_time": "2025-06-02T12:57:54.010Z"
   },
   {
    "duration": 1025,
    "start_time": "2025-06-02T18:24:00.369Z"
   },
   {
    "duration": 68,
    "start_time": "2025-06-02T18:24:01.396Z"
   },
   {
    "duration": 28,
    "start_time": "2025-06-02T18:24:01.466Z"
   },
   {
    "duration": 5,
    "start_time": "2025-06-02T18:24:01.496Z"
   },
   {
    "duration": 27,
    "start_time": "2025-06-02T18:24:01.504Z"
   },
   {
    "duration": 39,
    "start_time": "2025-06-02T18:24:01.533Z"
   },
   {
    "duration": 64,
    "start_time": "2025-06-02T18:24:01.573Z"
   },
   {
    "duration": 116,
    "start_time": "2025-06-02T18:24:01.638Z"
   },
   {
    "duration": 41,
    "start_time": "2025-06-02T18:24:01.755Z"
   },
   {
    "duration": 14,
    "start_time": "2025-06-02T18:24:01.798Z"
   },
   {
    "duration": 12,
    "start_time": "2025-06-02T18:24:01.815Z"
   },
   {
    "duration": 2168,
    "start_time": "2025-06-02T18:24:01.829Z"
   },
   {
    "duration": 39,
    "start_time": "2025-06-02T18:24:03.999Z"
   },
   {
    "duration": 143,
    "start_time": "2025-06-02T18:24:04.041Z"
   },
   {
    "duration": 120,
    "start_time": "2025-06-02T18:24:04.186Z"
   },
   {
    "duration": 9,
    "start_time": "2025-06-02T18:24:04.308Z"
   },
   {
    "duration": 27,
    "start_time": "2025-06-02T18:24:04.319Z"
   },
   {
    "duration": 23,
    "start_time": "2025-06-02T18:24:04.348Z"
   },
   {
    "duration": 33,
    "start_time": "2025-06-02T18:24:04.372Z"
   },
   {
    "duration": 69,
    "start_time": "2025-06-02T18:24:04.408Z"
   },
   {
    "duration": 61,
    "start_time": "2025-06-02T18:24:04.479Z"
   },
   {
    "duration": 31,
    "start_time": "2025-06-02T18:24:04.542Z"
   },
   {
    "duration": 49,
    "start_time": "2025-06-02T18:24:04.575Z"
   },
   {
    "duration": 8,
    "start_time": "2025-06-02T18:24:04.626Z"
   },
   {
    "duration": 13,
    "start_time": "2025-06-02T18:24:04.637Z"
   },
   {
    "duration": 140,
    "start_time": "2025-06-02T18:24:04.651Z"
   },
   {
    "duration": 17,
    "start_time": "2025-06-02T18:24:04.793Z"
   },
   {
    "duration": 21,
    "start_time": "2025-06-02T18:30:01.913Z"
   },
   {
    "duration": 18,
    "start_time": "2025-06-02T18:30:07.448Z"
   },
   {
    "duration": 19,
    "start_time": "2025-06-02T18:30:12.753Z"
   },
   {
    "duration": 6,
    "start_time": "2025-06-02T18:30:13.917Z"
   },
   {
    "duration": 19,
    "start_time": "2025-06-02T18:33:16.259Z"
   },
   {
    "duration": 7,
    "start_time": "2025-06-02T18:33:17.035Z"
   }
  ],
  "colab": {
   "provenance": [],
   "toc_visible": true
  },
  "kernelspec": {
   "display_name": "Python 3",
   "language": "python",
   "name": "python3"
  },
  "language_info": {
   "codemirror_mode": {
    "name": "ipython",
    "version": 3
   },
   "file_extension": ".py",
   "mimetype": "text/x-python",
   "name": "python",
   "nbconvert_exporter": "python",
   "pygments_lexer": "ipython3",
   "version": "3.12.5"
  },
  "toc": {
   "base_numbering": 1,
   "nav_menu": {},
   "number_sections": true,
   "sideBar": true,
   "skip_h1_title": true,
   "title_cell": "Table of Contents",
   "title_sidebar": "Contents",
   "toc_cell": false,
   "toc_position": {},
   "toc_section_display": true,
   "toc_window_display": false
  }
 },
 "nbformat": 4,
 "nbformat_minor": 5
}
