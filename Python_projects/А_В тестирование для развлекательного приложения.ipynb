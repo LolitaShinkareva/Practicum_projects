{
 "cells": [
  {
   "cell_type": "markdown",
   "metadata": {
    "id": "u98L9TgH0eMk"
   },
   "source": [
    "# Разработка A/B-тестирования и анализ результатов\n",
    "\n",
    "В рамках разработки A/B-тестирования для оценки нового алгоритма рекомендаций в развлекательном приложении с функцией «бесконечной» ленты, предлагаются две модели монетизации: ежемесячная платная подписка для просмотра без рекламы и бесплатный доступ с показом рекламы для неподписанных пользователей.\n",
    "\n",
    "Необходимо рассчитать параметры A/B-теста, который позволит проверить эффективность нового алгоритма рекомендаций. Тестирование должно определить, способен ли новый алгоритм предоставлять пользователям более качественный и интересный контент. Важным аспектом является анализ полученных результатов тестирования для формирования обоснованных выводов и рекомендаций по развитию продукта."
   ]
  },
  {
   "cell_type": "markdown",
   "metadata": {
    "id": "LJBRALHs0eMf"
   },
   "source": [
    "## Описание данных\n",
    "\n",
    "3 таблицы:\n",
    "\n",
    "- `sessions_project_history.csv` — таблица с историческими данными по сессиям пользователей на период с 2025-08-15 по 2025-09-23. Путь к файлу: `/datasets/sessions_project_history.csv`.\n",
    "\n",
    "- `sessions_project_test_part.csv` — таблица с данными за первый день проведения A/B-теста, то есть за 2025-10-14. Путь к файлу: `/datasets/sessions_project_test_part.csv`.\n",
    "\n",
    "- `sessions_project_test.csv` — таблица с данными за весь период проведения A/B-теста, то есть с 2025-10-14 по 2025-11-02. Путь к файлу: `/datasets/sessions_project_test.csv`.\n",
    "\n",
    "У этих таблиц почти совпадает структура и содержание колонок, различаются лишь периоды наблюдения.\n",
    "\n",
    "Поля таблиц `sessions_project_history.csv`, `sessions_project_test.csv`, `sessions_project_test_part.csv`:\n",
    "\n",
    "- `user_id` — идентификатор пользователя;\n",
    "\n",
    "- `session_id` — идентификатор сессии в приложении;\n",
    "\n",
    "- `session_date` — дата сессии;\n",
    "\n",
    "- `session_start_ts` — дата и время начала сессии;\n",
    "\n",
    "- `install_date` — дата установки приложения;\n",
    "\n",
    "- `session_number` — порядковый номер сессии для конкретного пользователя;\n",
    "\n",
    "- `registration_flag` — является ли пользователь зарегистрированным;\n",
    "\n",
    "- `page_counter` — количество просмотренных страниц во время сессии;\n",
    "\n",
    "- `region` — регион пользователя;\n",
    "\n",
    "- `device` — тип устройства пользователя;\n",
    "\n",
    "- `test_group` — тестовая группа (в таблице с историческими данными этого столбца нет).\n",
    "\n",
    "\n",
    "\n",
    "**Задачи:** рассчитать параметры теста, оценить корректность его проведения и проанализировать результаты эксперимента."
   ]
  },
  {
   "cell_type": "markdown",
   "metadata": {},
   "source": [
    "После внедрения нового алгоритма рекомендации мы ожидаем увидеть рост среднего количества просматриваемых страниц на сеанс минимум на 10%, повышение конверсии в премиум-аккаунт хотя бы на 5% и снижение оттока пользователей благодаря повышению уровня удовлетворенности контентом."
   ]
  },
  {
   "cell_type": "markdown",
   "metadata": {
    "id": "UpOucjID0eMl"
   },
   "source": [
    "### 1. Работа с историческими данными (EDA)"
   ]
  },
  {
   "cell_type": "markdown",
   "metadata": {
    "id": "8iJMtL-30eMl"
   },
   "source": [
    "#### 1.1. Загрузка исторических данных\n",
    "На первом этапе поработайте с историческими данными приложения:\n",
    "\n",
    "- Импортируйте библиотеку pandas.\n",
    "\n",
    "- Считайте и сохраните в датафрейм `sessions_history` CSV-файл с историческими данными о сессиях пользователей `sessions_project_history.csv`.\n",
    "\n",
    "Выведите на экран первые пять строк полученного датафрейма."
   ]
  },
  {
   "cell_type": "code",
   "execution_count": 1,
   "metadata": {
    "id": "6TPR2-1RPboT"
   },
   "outputs": [],
   "source": [
    "# загружаем необходимые библиотеки\n",
    "import pandas as pd\n",
    "import matplotlib.pyplot as plt\n",
    "from math import ceil\n",
    "import seaborn as sns\n",
    "from scipy.stats import ttest_ind\n",
    "from statsmodels.stats.proportion import proportions_ztest"
   ]
  },
  {
   "cell_type": "code",
   "execution_count": 2,
   "metadata": {},
   "outputs": [
    {
     "data": {
      "text/html": [
       "<div>\n",
       "<style scoped>\n",
       "    .dataframe tbody tr th:only-of-type {\n",
       "        vertical-align: middle;\n",
       "    }\n",
       "\n",
       "    .dataframe tbody tr th {\n",
       "        vertical-align: top;\n",
       "    }\n",
       "\n",
       "    .dataframe thead th {\n",
       "        text-align: right;\n",
       "    }\n",
       "</style>\n",
       "<table border=\"1\" class=\"dataframe\">\n",
       "  <thead>\n",
       "    <tr style=\"text-align: right;\">\n",
       "      <th></th>\n",
       "      <th>user_id</th>\n",
       "      <th>session_id</th>\n",
       "      <th>session_date</th>\n",
       "      <th>session_start_ts</th>\n",
       "      <th>install_date</th>\n",
       "      <th>session_number</th>\n",
       "      <th>registration_flag</th>\n",
       "      <th>page_counter</th>\n",
       "      <th>region</th>\n",
       "      <th>device</th>\n",
       "    </tr>\n",
       "  </thead>\n",
       "  <tbody>\n",
       "    <tr>\n",
       "      <th>0</th>\n",
       "      <td>E302123B7000BFE4</td>\n",
       "      <td>F9AF61A0C2023832</td>\n",
       "      <td>2025-08-15</td>\n",
       "      <td>2025-08-15 17:47:35</td>\n",
       "      <td>2025-08-15</td>\n",
       "      <td>1</td>\n",
       "      <td>0</td>\n",
       "      <td>3</td>\n",
       "      <td>CIS</td>\n",
       "      <td>iPhone</td>\n",
       "    </tr>\n",
       "    <tr>\n",
       "      <th>1</th>\n",
       "      <td>2530F72E221829FB</td>\n",
       "      <td>85003A206CBDAC6F</td>\n",
       "      <td>2025-08-15</td>\n",
       "      <td>2025-08-15 16:42:14</td>\n",
       "      <td>2025-08-15</td>\n",
       "      <td>1</td>\n",
       "      <td>0</td>\n",
       "      <td>4</td>\n",
       "      <td>MENA</td>\n",
       "      <td>Android</td>\n",
       "    </tr>\n",
       "    <tr>\n",
       "      <th>2</th>\n",
       "      <td>876E020A4FC512F5</td>\n",
       "      <td>3677423E49D72DEE</td>\n",
       "      <td>2025-08-15</td>\n",
       "      <td>2025-08-15 12:30:00</td>\n",
       "      <td>2025-08-15</td>\n",
       "      <td>1</td>\n",
       "      <td>0</td>\n",
       "      <td>4</td>\n",
       "      <td>EU</td>\n",
       "      <td>PC</td>\n",
       "    </tr>\n",
       "    <tr>\n",
       "      <th>3</th>\n",
       "      <td>2640B349E1D81584</td>\n",
       "      <td>956B45F5915CA225</td>\n",
       "      <td>2025-08-15</td>\n",
       "      <td>2025-08-15 15:31:31</td>\n",
       "      <td>2025-08-15</td>\n",
       "      <td>1</td>\n",
       "      <td>0</td>\n",
       "      <td>4</td>\n",
       "      <td>CIS</td>\n",
       "      <td>Android</td>\n",
       "    </tr>\n",
       "    <tr>\n",
       "      <th>4</th>\n",
       "      <td>94E1CBFAEF1F5EE9</td>\n",
       "      <td>83BF0DA35F9F1F40</td>\n",
       "      <td>2025-08-15</td>\n",
       "      <td>2025-08-15 21:33:53</td>\n",
       "      <td>2025-08-15</td>\n",
       "      <td>1</td>\n",
       "      <td>0</td>\n",
       "      <td>3</td>\n",
       "      <td>CIS</td>\n",
       "      <td>Android</td>\n",
       "    </tr>\n",
       "  </tbody>\n",
       "</table>\n",
       "</div>"
      ],
      "text/plain": [
       "            user_id        session_id session_date     session_start_ts  \\\n",
       "0  E302123B7000BFE4  F9AF61A0C2023832   2025-08-15  2025-08-15 17:47:35   \n",
       "1  2530F72E221829FB  85003A206CBDAC6F   2025-08-15  2025-08-15 16:42:14   \n",
       "2  876E020A4FC512F5  3677423E49D72DEE   2025-08-15  2025-08-15 12:30:00   \n",
       "3  2640B349E1D81584  956B45F5915CA225   2025-08-15  2025-08-15 15:31:31   \n",
       "4  94E1CBFAEF1F5EE9  83BF0DA35F9F1F40   2025-08-15  2025-08-15 21:33:53   \n",
       "\n",
       "  install_date  session_number  registration_flag  page_counter region  \\\n",
       "0   2025-08-15               1                  0             3    CIS   \n",
       "1   2025-08-15               1                  0             4   MENA   \n",
       "2   2025-08-15               1                  0             4     EU   \n",
       "3   2025-08-15               1                  0             4    CIS   \n",
       "4   2025-08-15               1                  0             3    CIS   \n",
       "\n",
       "    device  \n",
       "0   iPhone  \n",
       "1  Android  \n",
       "2       PC  \n",
       "3  Android  \n",
       "4  Android  "
      ]
     },
     "metadata": {},
     "output_type": "display_data"
    },
    {
     "name": "stdout",
     "output_type": "stream",
     "text": [
      "<class 'pandas.core.frame.DataFrame'>\n",
      "RangeIndex: 435924 entries, 0 to 435923\n",
      "Data columns (total 10 columns):\n",
      " #   Column             Non-Null Count   Dtype \n",
      "---  ------             --------------   ----- \n",
      " 0   user_id            435924 non-null  object\n",
      " 1   session_id         435924 non-null  object\n",
      " 2   session_date       435924 non-null  object\n",
      " 3   session_start_ts   435924 non-null  object\n",
      " 4   install_date       435924 non-null  object\n",
      " 5   session_number     435924 non-null  int64 \n",
      " 6   registration_flag  435924 non-null  int64 \n",
      " 7   page_counter       435924 non-null  int64 \n",
      " 8   region             435924 non-null  object\n",
      " 9   device             435924 non-null  object\n",
      "dtypes: int64(3), object(7)\n",
      "memory usage: 33.3+ MB\n"
     ]
    },
    {
     "data": {
      "text/plain": [
       "None"
      ]
     },
     "metadata": {},
     "output_type": "display_data"
    }
   ],
   "source": [
    "# Загрузка файла напрямую из интернета\n",
    "sessions_history = pd.read_csv(r'https://code.s3.yandex.net/datasets/sessions_project_history.csv')\n",
    "\n",
    "display(sessions_history.head())\n",
    "display(sessions_history.info())"
   ]
  },
  {
   "cell_type": "markdown",
   "metadata": {
    "id": "qTDoiODz0eMo"
   },
   "source": [
    "#### 1.2. Знакомство с данными\n",
    "- Для каждого уникального пользователя `user_id` рассчитайте количество уникальных сессий `session_id`.\n",
    "\n",
    "- Выведите на экран все данные из таблицы `sessions_history` для одного пользователя с наибольшим количеством сессий. Если таких пользователей несколько, выберите любого из них.\n",
    "\n",
    "- Изучите таблицу для одного пользователя, чтобы лучше понять логику формирования каждого столбца данных.\n",
    "\n"
   ]
  },
  {
   "cell_type": "code",
   "execution_count": 3,
   "metadata": {},
   "outputs": [
    {
     "data": {
      "text/html": [
       "<div>\n",
       "<style scoped>\n",
       "    .dataframe tbody tr th:only-of-type {\n",
       "        vertical-align: middle;\n",
       "    }\n",
       "\n",
       "    .dataframe tbody tr th {\n",
       "        vertical-align: top;\n",
       "    }\n",
       "\n",
       "    .dataframe thead th {\n",
       "        text-align: right;\n",
       "    }\n",
       "</style>\n",
       "<table border=\"1\" class=\"dataframe\">\n",
       "  <thead>\n",
       "    <tr style=\"text-align: right;\">\n",
       "      <th></th>\n",
       "      <th>user_id</th>\n",
       "      <th>session_id</th>\n",
       "      <th>session_date</th>\n",
       "      <th>session_start_ts</th>\n",
       "      <th>install_date</th>\n",
       "      <th>session_number</th>\n",
       "      <th>registration_flag</th>\n",
       "      <th>page_counter</th>\n",
       "      <th>region</th>\n",
       "      <th>device</th>\n",
       "    </tr>\n",
       "  </thead>\n",
       "  <tbody>\n",
       "    <tr>\n",
       "      <th>115558</th>\n",
       "      <td>10E0DEFC1ABDBBE0</td>\n",
       "      <td>B8F0423BBFFCF5DC</td>\n",
       "      <td>2025-08-14</td>\n",
       "      <td>2025-08-14 13:57:39</td>\n",
       "      <td>2025-08-14</td>\n",
       "      <td>1</td>\n",
       "      <td>0</td>\n",
       "      <td>4</td>\n",
       "      <td>CIS</td>\n",
       "      <td>Android</td>\n",
       "    </tr>\n",
       "    <tr>\n",
       "      <th>191751</th>\n",
       "      <td>10E0DEFC1ABDBBE0</td>\n",
       "      <td>87CA2FA549473837</td>\n",
       "      <td>2025-08-15</td>\n",
       "      <td>2025-08-15 16:42:10</td>\n",
       "      <td>2025-08-14</td>\n",
       "      <td>2</td>\n",
       "      <td>0</td>\n",
       "      <td>3</td>\n",
       "      <td>CIS</td>\n",
       "      <td>Android</td>\n",
       "    </tr>\n",
       "    <tr>\n",
       "      <th>239370</th>\n",
       "      <td>10E0DEFC1ABDBBE0</td>\n",
       "      <td>4ADD8011DCDCE318</td>\n",
       "      <td>2025-08-16</td>\n",
       "      <td>2025-08-16 19:53:21</td>\n",
       "      <td>2025-08-14</td>\n",
       "      <td>3</td>\n",
       "      <td>0</td>\n",
       "      <td>3</td>\n",
       "      <td>CIS</td>\n",
       "      <td>Android</td>\n",
       "    </tr>\n",
       "    <tr>\n",
       "      <th>274629</th>\n",
       "      <td>10E0DEFC1ABDBBE0</td>\n",
       "      <td>DF0FD0E09BF1F3D7</td>\n",
       "      <td>2025-08-17</td>\n",
       "      <td>2025-08-17 15:03:43</td>\n",
       "      <td>2025-08-14</td>\n",
       "      <td>4</td>\n",
       "      <td>0</td>\n",
       "      <td>1</td>\n",
       "      <td>CIS</td>\n",
       "      <td>Android</td>\n",
       "    </tr>\n",
       "    <tr>\n",
       "      <th>302501</th>\n",
       "      <td>10E0DEFC1ABDBBE0</td>\n",
       "      <td>3C221774B4DE6885</td>\n",
       "      <td>2025-08-18</td>\n",
       "      <td>2025-08-18 17:29:14</td>\n",
       "      <td>2025-08-14</td>\n",
       "      <td>5</td>\n",
       "      <td>0</td>\n",
       "      <td>4</td>\n",
       "      <td>CIS</td>\n",
       "      <td>Android</td>\n",
       "    </tr>\n",
       "    <tr>\n",
       "      <th>325557</th>\n",
       "      <td>10E0DEFC1ABDBBE0</td>\n",
       "      <td>031BD7A67048105B</td>\n",
       "      <td>2025-08-19</td>\n",
       "      <td>2025-08-19 13:23:55</td>\n",
       "      <td>2025-08-14</td>\n",
       "      <td>6</td>\n",
       "      <td>0</td>\n",
       "      <td>2</td>\n",
       "      <td>CIS</td>\n",
       "      <td>Android</td>\n",
       "    </tr>\n",
       "    <tr>\n",
       "      <th>345336</th>\n",
       "      <td>10E0DEFC1ABDBBE0</td>\n",
       "      <td>FF4315CF4AD4B100</td>\n",
       "      <td>2025-08-20</td>\n",
       "      <td>2025-08-20 19:31:54</td>\n",
       "      <td>2025-08-14</td>\n",
       "      <td>7</td>\n",
       "      <td>0</td>\n",
       "      <td>2</td>\n",
       "      <td>CIS</td>\n",
       "      <td>Android</td>\n",
       "    </tr>\n",
       "    <tr>\n",
       "      <th>377532</th>\n",
       "      <td>10E0DEFC1ABDBBE0</td>\n",
       "      <td>4045FEA0747203B4</td>\n",
       "      <td>2025-08-22</td>\n",
       "      <td>2025-08-22 17:54:13</td>\n",
       "      <td>2025-08-14</td>\n",
       "      <td>8</td>\n",
       "      <td>0</td>\n",
       "      <td>2</td>\n",
       "      <td>CIS</td>\n",
       "      <td>Android</td>\n",
       "    </tr>\n",
       "    <tr>\n",
       "      <th>403538</th>\n",
       "      <td>10E0DEFC1ABDBBE0</td>\n",
       "      <td>344B086C421C7F37</td>\n",
       "      <td>2025-08-24</td>\n",
       "      <td>2025-08-24 14:46:13</td>\n",
       "      <td>2025-08-14</td>\n",
       "      <td>9</td>\n",
       "      <td>0</td>\n",
       "      <td>2</td>\n",
       "      <td>CIS</td>\n",
       "      <td>Android</td>\n",
       "    </tr>\n",
       "    <tr>\n",
       "      <th>414743</th>\n",
       "      <td>10E0DEFC1ABDBBE0</td>\n",
       "      <td>054F20BA371E4C9D</td>\n",
       "      <td>2025-08-25</td>\n",
       "      <td>2025-08-25 18:36:41</td>\n",
       "      <td>2025-08-14</td>\n",
       "      <td>10</td>\n",
       "      <td>0</td>\n",
       "      <td>3</td>\n",
       "      <td>CIS</td>\n",
       "      <td>Android</td>\n",
       "    </tr>\n",
       "  </tbody>\n",
       "</table>\n",
       "</div>"
      ],
      "text/plain": [
       "                 user_id        session_id session_date     session_start_ts  \\\n",
       "115558  10E0DEFC1ABDBBE0  B8F0423BBFFCF5DC   2025-08-14  2025-08-14 13:57:39   \n",
       "191751  10E0DEFC1ABDBBE0  87CA2FA549473837   2025-08-15  2025-08-15 16:42:10   \n",
       "239370  10E0DEFC1ABDBBE0  4ADD8011DCDCE318   2025-08-16  2025-08-16 19:53:21   \n",
       "274629  10E0DEFC1ABDBBE0  DF0FD0E09BF1F3D7   2025-08-17  2025-08-17 15:03:43   \n",
       "302501  10E0DEFC1ABDBBE0  3C221774B4DE6885   2025-08-18  2025-08-18 17:29:14   \n",
       "325557  10E0DEFC1ABDBBE0  031BD7A67048105B   2025-08-19  2025-08-19 13:23:55   \n",
       "345336  10E0DEFC1ABDBBE0  FF4315CF4AD4B100   2025-08-20  2025-08-20 19:31:54   \n",
       "377532  10E0DEFC1ABDBBE0  4045FEA0747203B4   2025-08-22  2025-08-22 17:54:13   \n",
       "403538  10E0DEFC1ABDBBE0  344B086C421C7F37   2025-08-24  2025-08-24 14:46:13   \n",
       "414743  10E0DEFC1ABDBBE0  054F20BA371E4C9D   2025-08-25  2025-08-25 18:36:41   \n",
       "\n",
       "       install_date  session_number  registration_flag  page_counter region  \\\n",
       "115558   2025-08-14               1                  0             4    CIS   \n",
       "191751   2025-08-14               2                  0             3    CIS   \n",
       "239370   2025-08-14               3                  0             3    CIS   \n",
       "274629   2025-08-14               4                  0             1    CIS   \n",
       "302501   2025-08-14               5                  0             4    CIS   \n",
       "325557   2025-08-14               6                  0             2    CIS   \n",
       "345336   2025-08-14               7                  0             2    CIS   \n",
       "377532   2025-08-14               8                  0             2    CIS   \n",
       "403538   2025-08-14               9                  0             2    CIS   \n",
       "414743   2025-08-14              10                  0             3    CIS   \n",
       "\n",
       "         device  \n",
       "115558  Android  \n",
       "191751  Android  \n",
       "239370  Android  \n",
       "274629  Android  \n",
       "302501  Android  \n",
       "325557  Android  \n",
       "345336  Android  \n",
       "377532  Android  \n",
       "403538  Android  \n",
       "414743  Android  "
      ]
     },
     "metadata": {},
     "output_type": "display_data"
    }
   ],
   "source": [
    "# Подсчёт уникальных сессий для каждого пользователя\n",
    "unique_sessions_per_user = sessions_history.groupby('user_id')['session_id'].nunique().reset_index()\n",
    "\n",
    "# Выбор пользователя с наибольшим количеством сессий\n",
    "max_session_user = unique_sessions_per_user.sort_values(by='session_id', ascending=False)['user_id'].iloc[0]\n",
    "\n",
    "# Фильтрация данных по пользователю с максимальным количеством сессий\n",
    "selected_user_data = sessions_history.query('user_id == @max_session_user')\n",
    "\n",
    "# Выводим всю информацию по данному пользователю\n",
    "display(selected_user_data)"
   ]
  },
  {
   "cell_type": "markdown",
   "metadata": {
    "id": "CmcGpJTP0eMq"
   },
   "source": [
    "#### 1.3. Анализ числа регистраций"
   ]
  },
  {
   "cell_type": "code",
   "execution_count": 4,
   "metadata": {
    "id": "tN_6Ml3EPatS"
   },
   "outputs": [
    {
     "data": {
      "image/png": "[encoded data removed]",
      "text/plain": [
       "<Figure size 864x432 with 1 Axes>"
      ]
     },
     "metadata": {
      "needs_background": "light"
     },
     "output_type": "display_data"
    },
    {
     "data": {
      "image/png": "[encoded data removed]",
      "text/plain": [
       "<Figure size 864x432 with 1 Axes>"
      ]
     },
     "metadata": {
      "needs_background": "light"
     },
     "output_type": "display_data"
    }
   ],
   "source": [
    "# Преобразовываем строки с датами в объекты datetime\n",
    "sessions_history['session_date'] = pd.to_datetime(sessions_history['session_date'])\n",
    "\n",
    "# Агрегация данных: считаем уникальных пользователей и зарегистрированных пользователей по дням\n",
    "aggregated_data = sessions_history.groupby('session_date').agg({\n",
    "    'user_id': 'nunique',          # Уникальные пользователи\n",
    "    'registration_flag': 'sum'     # Зарегистрированные пользователи (суммируем True/False как 1/0)\n",
    "}).rename(columns={\n",
    "    'user_id': 'total_users',\n",
    "    'registration_flag': 'registered_users'\n",
    "})\n",
    "\n",
    "# Добавляем долю зарегистрированных пользователей\n",
    "aggregated_data['share_registered'] = aggregated_data['registered_users'] / aggregated_data['total_users']\n",
    "\n",
    "# Построение первого графика: общий тренд пользователей и зарегистрированных пользователей\n",
    "plt.figure(figsize=(12, 6))  # Размер графика\n",
    "plt.plot(aggregated_data.index, aggregated_data['total_users'], label='Общее число пользователей')\n",
    "plt.plot(aggregated_data.index, aggregated_data['registered_users'], label='Зарегистрированные пользователи')\n",
    "plt.title('Динамика пользователей и зарегистрированных пользователей')\n",
    "plt.xlabel('Дата')\n",
    "plt.ylabel('Количество пользователей')\n",
    "plt.grid(True)\n",
    "plt.legend()\n",
    "plt.show()\n",
    "\n",
    "# Построение второго графика: доля зарегистрированных пользователей\n",
    "plt.figure(figsize=(12, 6))\n",
    "plt.plot(aggregated_data.index, aggregated_data['share_registered'])\n",
    "plt.title('Доля зарегистрированных пользователей')\n",
    "plt.xlabel('Дата')\n",
    "plt.ylabel('Доля зарегистрированных пользователей')\n",
    "plt.grid(True)\n",
    "plt.show()"
   ]
  },
  {
   "cell_type": "markdown",
   "metadata": {},
   "source": [
    "**ГРАФИК 1:** Динамика пользователей и зарегистрированных пользователей\n",
    "\n",
    "Общее количество пользователей демонстрирует ярко выраженный рост с начала периода до конца августа, достигая пика около 17 500 пользователей. После этого наблюдается устойчивое снижение.\n",
    "Число зарегистрированных пользователей увеличивается более умеренными темпами и варьируется от около 500 до 2 000. Видим небольшие колебания, но без резких скачков.\n",
    "С 10 сентября начинается постепенное снижение как общего количества, так и числа зарегистрированных пользователей, что может говорить о спаде активности или завершении рекламной кампании.\n",
    "\n",
    "**ГРАФИК 2:** Доля зарегистрированных пользователей\n",
    "\n",
    "Доля зарегистрированных пользователей возросла с ~4.5% до более 12%, что говорит об улучшении конверсии — несмотря на общее падение числа пользователей, качество трафика увеличилось.\n",
    "На протяжении всего периода доля демонстрирует положительный тренд с умеренной волатильностью, что может указывать на более эффективные механизмы привлечения и удержания зарегистрированных пользователей.\n",
    "\n",
    "**ОСНОВНЫЕ ВЫВОДЫ:**\n",
    "В августе наблюдается пик активности, за которым следует устойчивый спад.\n",
    "Регистрации остаются относительно стабильными, несмотря на снижение общего трафика.\n",
    "Конверсия в регистрацию улучшается, особенно в сентябре, что является положительным сигналом."
   ]
  },
  {
   "cell_type": "markdown",
   "metadata": {
    "id": "UR7D7RhF0eMr"
   },
   "source": [
    "#### 1.4. Анализ числа просмотренных страниц\n",
    "Другая важная метрика продукта — число просмотренных страниц в приложении. Чем больше страниц просмотрено, тем сильнее пользователь увлечён контентом, а значит, выше шансы на то, что он зарегистрируется и оплатит подписку.\n",
    "\n",
    "- Найдите количество сессий для каждого значения количества просмотренных страниц. Например: одну страницу просмотрели в 29160 сессиях, две страницы в 105536 сессиях и так далее.\n",
    "\n",
    "- Постройте столбчатую диаграмму, где по оси X будет число просмотренных страниц, по оси Y — количество сессий.\n",
    "\n",
    "- На диаграмме должны быть заголовок, подписанные оси X и Y."
   ]
  },
  {
   "cell_type": "code",
   "execution_count": 5,
   "metadata": {
    "id": "cb6hPlVzPaSf"
   },
   "outputs": [
    {
     "data": {
      "image/png": "[encoded data removed]",
      "text/plain": [
       "<Figure size 864x432 with 1 Axes>"
      ]
     },
     "metadata": {
      "needs_background": "light"
     },
     "output_type": "display_data"
    }
   ],
   "source": [
    "# Группировка данных по количеству просмотренных страниц и подсчет количества сессий\n",
    "pages_count = sessions_history.groupby('page_counter')['session_id'].count().reset_index()\n",
    "pages_count.columns = ['Просмотренные страницы', 'Количество сессий']\n",
    "\n",
    "# Построение столбчатой диаграммы\n",
    "plt.figure(figsize=(12, 6))\n",
    "plt.bar(pages_count['Просмотренные страницы'], pages_count['Количество сессий'])\n",
    "plt.title('Распределение сессий по количеству просмотренных страниц')\n",
    "plt.xlabel('Количество просмотренных страниц')\n",
    "plt.ylabel('Количество сессий')\n",
    "plt.grid(axis='y')\n",
    "plt.show()"
   ]
  },
  {
   "cell_type": "markdown",
   "metadata": {
    "id": "xDltSpVP0eMr"
   },
   "source": [
    "#### 1.5. Доля пользователей, просмотревших более четырёх страниц"
   ]
  },
  {
   "cell_type": "code",
   "execution_count": 6,
   "metadata": {
    "id": "iygaPfixPYMW"
   },
   "outputs": [
    {
     "data": {
      "image/png": "[encoded data removed]",
      "text/plain": [
       "<Figure size 864x432 with 1 Axes>"
      ]
     },
     "metadata": {
      "needs_background": "light"
     },
     "output_type": "display_data"
    }
   ],
   "source": [
    "# Создаем новый столбец good_session, равный 1, если просмотрено >= 4 страниц, иначе 0\n",
    "sessions_history['good_session'] = (sessions_history['page_counter'] >= 4).astype(int)\n",
    "\n",
    "# Группируем данные по датам и рассчитываем среднюю долю хороших сессий\n",
    "average_good_sessions_by_day = sessions_history.groupby('session_date')['good_session'].mean()\n",
    "\n",
    "# Строим график средней доли удачных сессий по дням\n",
    "plt.figure(figsize=(12, 6))\n",
    "plt.plot(average_good_sessions_by_day.index, average_good_sessions_by_day.values)\n",
    "plt.title('Средняя доля успешных сессий по дням')\n",
    "plt.xlabel('Дата')\n",
    "plt.ylabel('Средняя доля успешных сессий')\n",
    "plt.grid(True)\n",
    "plt.show()"
   ]
  },
  {
   "cell_type": "markdown",
   "metadata": {
    "id": "21JcG77Y0eMt"
   },
   "source": [
    "### 2. Подготовка к тесту\n",
    "При планировании теста необходимо проделать несколько важных шагов:\n",
    "\n",
    "- Определиться с целевой метрикой.\n",
    "\n",
    "- Рассчитать необходимый размер выборки.\n",
    "\n",
    "- Исходя из текущих значений трафика, рассчитать необходимую длительность проведения теста."
   ]
  },
  {
   "cell_type": "markdown",
   "metadata": {
    "id": "uzaeln270eMt"
   },
   "source": [
    "#### 2.1. Расчёт размера выборки"
   ]
  },
  {
   "cell_type": "code",
   "execution_count": 7,
   "metadata": {
    "id": "zSxJyPGPNdaI"
   },
   "outputs": [
    {
     "name": "stdout",
     "output_type": "stream",
     "text": [
      "Необходимый размер выборки для каждой группы: 17441\n"
     ]
    }
   ],
   "source": [
    "from statsmodels.stats.power import NormalIndPower\n",
    "\n",
    "# Задаём параметры\n",
    "alpha = 0.05  # Уровень значимости\n",
    "beta = 0.2  # Ошибка второго рода, часто 1 - мощность\n",
    "power = 0.8  # Мощность теста\n",
    "mde = 0.03  # Минимальный детектируемый эффект\n",
    "\n",
    "# Инициализируем класс NormalIndPower\n",
    "power_analysis = NormalIndPower()\n",
    "\n",
    "# Рассчитываем размер выборки\n",
    "sample_size = power_analysis.solve_power(\n",
    "    effect_size = mde,\n",
    "    power = power,\n",
    "    alpha = alpha,\n",
    "    ratio = 1 # Равномерное распределение выборок\n",
    ")\n",
    "\n",
    "print(f\"Необходимый размер выборки для каждой группы: {int(sample_size)}\")"
   ]
  },
  {
   "cell_type": "markdown",
   "metadata": {
    "id": "qLEv4RoV0eMu"
   },
   "source": [
    "#### 2.1. Расчёт длительности A/B-теста\n",
    "\n",
    "Используйте данные о количестве пользователей в каждой выборке и среднем количестве пользователей приложения. Рассчитайте длительность теста, разделив одно на другое.\n",
    "\n",
    "- Рассчитайте среднее количество уникальных пользователей приложения в день.\n",
    "\n",
    "- Определите длительность теста, исходя из рассчитанного значения размера выборок и среднего дневного трафика приложения. Количество дней округлите в большую сторону."
   ]
  },
  {
   "cell_type": "code",
   "execution_count": 8,
   "metadata": {},
   "outputs": [
    {
     "name": "stdout",
     "output_type": "stream",
     "text": [
      "Среднее количество уникальных пользователей в день: 9907.36\n"
     ]
    }
   ],
   "source": [
    "# Определяем количество уникальных пользователей в день\n",
    "daily_unique_users = sessions_history.groupby('session_date')['user_id'].nunique()\n",
    "\n",
    "# Средний дневной трафик (среднее количество уникальных пользователей в день)\n",
    "avg_daily_users = daily_unique_users.mean()\n",
    "\n",
    "print(f\"Среднее количество уникальных пользователей в день: {avg_daily_users:.2f}\")"
   ]
  },
  {
   "cell_type": "code",
   "execution_count": 9,
   "metadata": {
    "id": "KZDRbryDOGHa"
   },
   "outputs": [
    {
     "name": "stdout",
     "output_type": "stream",
     "text": [
      "Рассчитанная длительность A/B-теста при текущем уровене трафика в 9907 пользователей в день составит 4 дней\n"
     ]
    }
   ],
   "source": [
    "# Среднее количество пользователей приложения в день по историческим данным\n",
    "avg_daily_users = 9907\n",
    "\n",
    "# Рассчитываем длительность теста в днях как отношение размера выборки к среднему числу пользователей\n",
    "test_duration = ceil((sample_size*2)/avg_daily_users)\n",
    "\n",
    "print(f\"Рассчитанная длительность A/B-теста при текущем уровене трафика в {avg_daily_users} пользователей в день составит {test_duration} дней\")"
   ]
  },
  {
   "cell_type": "markdown",
   "metadata": {
    "id": "ZuvtAdha0eMv"
   },
   "source": [
    "### 3. Мониторинг А/В-теста"
   ]
  },
  {
   "cell_type": "markdown",
   "metadata": {
    "id": "jq5sE3Ya0eMv"
   },
   "source": [
    "#### 3.1. Проверка распределения пользователей"
   ]
  },
  {
   "cell_type": "code",
   "execution_count": 10,
   "metadata": {
    "id": "G1bqIzDJOUiz"
   },
   "outputs": [],
   "source": [
    "sessions_test_part = pd.read_csv(r'https://code.s3.yandex.net/datasets/sessions_project_test_part.csv')"
   ]
  },
  {
   "cell_type": "code",
   "execution_count": 11,
   "metadata": {},
   "outputs": [
    {
     "name": "stdout",
     "output_type": "stream",
     "text": [
      "test_group\n",
      "A    1477\n",
      "B    1466\n",
      "Name: user_id, dtype: int64\n",
      "Процентная разница в количестве пользователей между группами: 0.74%\n"
     ]
    },
    {
     "data": {
      "image/png": "[encoded data removed]",
      "text/plain": [
       "<Figure size 576x432 with 1 Axes>"
      ]
     },
     "metadata": {},
     "output_type": "display_data"
    }
   ],
   "source": [
    "# Преобразуем дату в правильный формат\n",
    "sessions_test_part['session_date'] = pd.to_datetime(sessions_test_part['session_date'])\n",
    "\n",
    "# Последний день из данных\n",
    "last_day = sessions_test_part['session_date'].max()\n",
    "\n",
    "# Оставляем только данные за последний день\n",
    "filtered_data = sessions_test_part[sessions_test_part['session_date'] == last_day]\n",
    "\n",
    "# Количество уникальных пользователей в каждой группе\n",
    "users_in_groups = filtered_data.groupby('test_group')['user_id'].nunique()\n",
    "\n",
    "# Выводим количество пользователей в каждой группе\n",
    "print(users_in_groups)\n",
    "\n",
    "# Функция для расчёта процентной разницы\n",
    "def percent_difference(A, B):\n",
    "    return abs((A - B) / A) * 100\n",
    "\n",
    "# Первая группа (A) и вторая группа (B)\n",
    "group_A = users_in_groups.iloc[0]\n",
    "group_B = users_in_groups.iloc[1]\n",
    "\n",
    "# Процентная разница\n",
    "percent_diff = percent_difference(group_A, group_B)\n",
    "\n",
    "# Выводим результат\n",
    "print(f\"Процентная разница в количестве пользователей между группами: {percent_diff:.2f}%\")\n",
    "\n",
    "# Визуализация\n",
    "sns.set(style=\"whitegrid\")\n",
    "plt.figure(figsize=(8, 6))\n",
    "sns.barplot(x=users_in_groups.index, y=users_in_groups.values)\n",
    "plt.title(f\"Количество уникальных пользователей по группам за {last_day.strftime('%Y-%m-%d')}\")\n",
    "plt.xlabel(\"Тестовая группа\")\n",
    "plt.ylabel(\"Количество пользователей\")\n",
    "plt.show()"
   ]
  },
  {
   "cell_type": "markdown",
   "metadata": {
    "id": "sgpNY5bv0eM0"
   },
   "source": [
    "#### 3.2. Проверка пересечений пользователей"
   ]
  },
  {
   "cell_type": "code",
   "execution_count": 12,
   "metadata": {
    "id": "E72ozN9FOX1u"
   },
   "outputs": [
    {
     "name": "stdout",
     "output_type": "stream",
     "text": [
      "Пользователи распределены корректно, пересечений между группами нет.\n"
     ]
    }
   ],
   "source": [
    "# Отделяем пользователей по группам\n",
    "group_a_users = set(sessions_test_part[sessions_test_part['test_group'] == 'A']['user_id'])\n",
    "group_b_users = set(sessions_test_part[sessions_test_part['test_group'] == 'B']['user_id'])\n",
    "\n",
    "# Находим пересечение пользователей\n",
    "common_users = group_a_users.intersection(group_b_users)\n",
    "\n",
    "# Выводим результат\n",
    "if len(common_users) > 0:\n",
    "    print(f\"ВНИМАНИЕ! Пользователи попали одновременно в обе группы:\")\n",
    "    print(common_users)\n",
    "else:\n",
    "    print(\"Пользователи распределены корректно, пересечений между группами нет.\")"
   ]
  },
  {
   "cell_type": "markdown",
   "metadata": {
    "id": "6RvkNLrg0eM1"
   },
   "source": [
    "#### 3.3. Равномерность разделения пользователей по устройствам\n"
   ]
  },
  {
   "cell_type": "code",
   "execution_count": 13,
   "metadata": {
    "id": "x_IP6PUNPWHC"
   },
   "outputs": [
    {
     "data": {
      "image/png": "[encoded data removed]",
      "text/plain": [
       "<Figure size 864x432 with 2 Axes>"
      ]
     },
     "metadata": {},
     "output_type": "display_data"
    }
   ],
   "source": [
    "# Отделяем пользователей по группам\n",
    "group_a_data = sessions_test_part[sessions_test_part['test_group'] == 'A']\n",
    "group_b_data = sessions_test_part[sessions_test_part['test_group'] == 'B']\n",
    "\n",
    "# Подсчитываем уникальные устройства в каждой группе\n",
    "devices_a = group_a_data.groupby('device')['user_id'].nunique()\n",
    "devices_b = group_b_data.groupby('device')['user_id'].nunique()\n",
    "\n",
    "# Визуализация распределения устройств в группе A\n",
    "plt.figure(figsize=(12, 6))\n",
    "plt.subplot(1, 2, 1)\n",
    "plt.pie(devices_a, labels=devices_a.index, autopct='%1.1f%%', startangle=90)\n",
    "plt.title('Группа A: Распределение по устройствам')\n",
    "\n",
    "# Визуализация распределения устройств в группе B\n",
    "plt.subplot(1, 2, 2)\n",
    "plt.pie(devices_b, labels=devices_b.index, autopct='%1.1f%%', startangle=90)\n",
    "plt.title('Группа B: Распределение по устройствам')\n",
    "\n",
    "# Улучшили внешний вид графика\n",
    "plt.tight_layout()\n",
    "plt.show()"
   ]
  },
  {
   "cell_type": "markdown",
   "metadata": {
    "id": "gAgmP6vo0eM1"
   },
   "source": [
    "#### 3.4. Равномерность распределения пользователей по регионам\n",
    "Теперь убедитесь, что пользователи равномерно распределены по регионам.\n",
    "\n",
    "Постройте две диаграммы:\n",
    "\n",
    "- доля каждого региона для пользователей из группы A,\n",
    "\n",
    "- доля каждого региона для пользователей из группы B.\n",
    "\n",
    "Постарайтесь добавить на диаграммы все необходимые подписи, пояснения и заголовки, которые позволят сделать вывод о том, совпадает ли распределение регионов в группах A и B. Постарайтесь использовать другой тип диаграммы, не тот, что в прошлом задании.\n"
   ]
  },
  {
   "cell_type": "code",
   "execution_count": 14,
   "metadata": {},
   "outputs": [
    {
     "data": {
      "image/png": "[encoded data removed]",
      "text/plain": [
       "<Figure size 720x432 with 1 Axes>"
      ]
     },
     "metadata": {},
     "output_type": "display_data"
    }
   ],
   "source": [
    "# Подсчет количества уникальных пользователей по регионам и группам тестов\n",
    "grouped_data = sessions_test_part.groupby(['region', 'test_group'])['user_id'].nunique().reset_index(name='count')\n",
    "\n",
    "# Суммируем общее число пользователей по каждому типу теста\n",
    "total_users = grouped_data.groupby('test_group')['count'].sum().reset_index(name='total_count')\n",
    "\n",
    "# Объединяем данные\n",
    "merged_data = pd.merge(grouped_data, total_users, on='test_group')\n",
    "\n",
    "# Рассчитываем долю пользователей в процентах\n",
    "merged_data['percentage'] = (merged_data['count'] / merged_data['total_count']) * 100\n",
    "\n",
    "# Создание графика\n",
    "plt.figure(figsize=(10, 6))\n",
    "\n",
    "# Ширина баров\n",
    "bar_width = 0.35\n",
    "x = range(len(merged_data['region'].unique()))\n",
    "\n",
    "# Уникальные регионы\n",
    "regions = merged_data['region'].unique()\n",
    "\n",
    "# Данные по группам A и B\n",
    "data_A = merged_data[merged_data['test_group'] == 'A']\n",
    "data_B = merged_data[merged_data['test_group'] == 'B']\n",
    "\n",
    "# Строим график\n",
    "plt.bar(x, data_A['percentage'], width=bar_width, label='Группа A', color='lightslategray', align='center')\n",
    "plt.bar([p + bar_width for p in x], data_B['percentage'], width=bar_width, label='Группа B', color='thistle', align='center')\n",
    "\n",
    "# Подписи над столбцами\n",
    "for i in range(len(regions)):\n",
    "    plt.text(i, data_A['percentage'].iloc[i] + 1, f\"{data_A['percentage'].iloc[i]:.1f}%\", ha='center', va='bottom')\n",
    "    plt.text(i + bar_width, data_B['percentage'].iloc[i] + 1, f\"{data_B['percentage'].iloc[i]:.1f}%\", ha='center', va='bottom')\n",
    "\n",
    "# Оформление графика\n",
    "plt.title('Доля уникальных пользователей по регионам из групп A и B')\n",
    "plt.xlabel('Регион')\n",
    "plt.ylabel('Доля (%)')\n",
    "plt.xticks([p + bar_width / 2 for p in x], regions)\n",
    "plt.legend()\n",
    "\n",
    "plt.tight_layout()\n",
    "plt.show()"
   ]
  },
  {
   "cell_type": "markdown",
   "metadata": {
    "id": "X2WSZ-sDrSUi"
   },
   "source": [
    "#### 3.5. Вывод после проверки A/B-теста\n",
    "\n",
    "На основе проведённого анализа A/B-теста сформулируйте и запишите свои выводы. В выводе обязательно укажите:\n",
    "\n",
    "- Были ли обнаружено различие в количестве пользователей в двух группах.\n",
    "\n",
    "- Являются ли выборки независимыми. Было ли обнаружено пересечение пользователей из тестовой и контрольной групп.\n",
    "\n",
    "- Сохраняется ли равномерное распределение пользователей тестовой и контрольной групп по категориальным переменным: устройствам и регионам.\n",
    "\n",
    "Сделайте заключение о том, корректно ли проходит A/B-тест или наблюдаются какие-либо нарушения."
   ]
  },
  {
   "cell_type": "markdown",
   "metadata": {
    "id": "dDELHlAcOi8d"
   },
   "source": [
    "ВЫВОДЫ ПО АНАЛИЗУ A/B-ТЕСТА\n",
    "\n",
    "1. РАВЕНСТВО КОЛИЧЕСТВА ПОЛЬЗОВАТЕЛЕЙ В ГРУППАХ\n",
    "\n",
    "Анализ показал незначительные отклонения в численности пользователей между группой A и группой B. Это отклонение составило менее 5%, что является приемлемым уровнем разброса и говорит о том, что пользователи были примерно равномерно распределены между группами.\n",
    "\n",
    "2. НЕЗАВИСИМОСТЬ ВЫБОРОК: \n",
    "\n",
    "Не обнаружено пересечений пользователей между группами A и B. Все участники принадлежат строго к одной из групп, что обеспечивает независимость выборок и отсутствие взаимозависимых эффектов.\n",
    "\n",
    "3. РАСПРЕДЕЛЕНИЕ ПО КАКОРИАЛЬНЫМ ПЕРЕМЕННЫМ\n",
    "\n",
    "Устройство:\n",
    "\n",
    "На изображении представлены две круговые диаграммы, показывающие распределение пользователей по типам устройств в группах A и B. В группе A: Android — 43.7%, iPhone — 20.4%, PC — 25.2%, Mac — 10.7%. Несмотря на схожесть, есть небольшие различия в распределении. Например, в группе B чуть больше пользователей на Android и Mac, а в группе A чуть больше пользователей на iPhone и PC. Однако эти различия незначительны и не должны существенно повлиять на результаты A/B-теста.\n",
    "\n",
    "\n",
    "Регион:\n",
    "\n",
    "Региональное распределение пользователей в группах A и B также оказалось однородным, что подтверждает справедливость проведенного разделения и исключает влияние региональных особенностей на результаты теста.\n",
    "\n",
    "ОБЩЕЕ ЗАКЛЮЧЕНИЕ\n",
    "На основе проведенного анализа можно утверждать, что:\n",
    "\n",
    "разделение пользователей по группам прошло корректно, обеспечило независимость выборок и равномерное распределение по ключевым характеристикам (устройствам и регионам);\n",
    "наблюдается хорошее качество рандомизации, позволяющее уверенно полагаться на будущие выводы A/B-теста;\n",
    "никаких существенных нарушений процесса рандомизации выявлено не было.\n",
    "Таким образом, результаты текущего этапа подтверждают корректность и надежность проведенных процедур рандомизации, и тестирование можно продолжать согласно плану."
   ]
  },
  {
   "cell_type": "markdown",
   "metadata": {
    "id": "nudRr_BQ0eM2"
   },
   "source": [
    "### 4. Проверка результатов A/B-теста"
   ]
  },
  {
   "cell_type": "markdown",
   "metadata": {
    "id": "JVve-YBB0eM2"
   },
   "source": [
    "#### 4.1. Получение результатов теста и подсчёт основной метрики\n",
    "\n",
    "- Считайте и сохраните в датафрейм `sessions_test` CSV-файл с историческими данными о сессиях пользователей `sessions_project_test.csv`.\n",
    "\n",
    "- В датафрейме `sessions_test` создайте дополнительный столбец `good_session`. В него войдёт значение `1`, если за одну сессию было просмотрено 4 и более страниц, и значение `0`, если просмотрено меньше."
   ]
  },
  {
   "cell_type": "code",
   "execution_count": 15,
   "metadata": {
    "id": "EqRlwMtKPTir"
   },
   "outputs": [
    {
     "data": {
      "text/html": [
       "<div>\n",
       "<style scoped>\n",
       "    .dataframe tbody tr th:only-of-type {\n",
       "        vertical-align: middle;\n",
       "    }\n",
       "\n",
       "    .dataframe tbody tr th {\n",
       "        vertical-align: top;\n",
       "    }\n",
       "\n",
       "    .dataframe thead th {\n",
       "        text-align: right;\n",
       "    }\n",
       "</style>\n",
       "<table border=\"1\" class=\"dataframe\">\n",
       "  <thead>\n",
       "    <tr style=\"text-align: right;\">\n",
       "      <th></th>\n",
       "      <th>user_id</th>\n",
       "      <th>session_id</th>\n",
       "      <th>session_date</th>\n",
       "      <th>session_start_ts</th>\n",
       "      <th>install_date</th>\n",
       "      <th>session_number</th>\n",
       "      <th>registration_flag</th>\n",
       "      <th>page_counter</th>\n",
       "      <th>region</th>\n",
       "      <th>device</th>\n",
       "      <th>test_group</th>\n",
       "      <th>good_session</th>\n",
       "    </tr>\n",
       "  </thead>\n",
       "  <tbody>\n",
       "    <tr>\n",
       "      <th>0</th>\n",
       "      <td>6DAE3B3654DA738E</td>\n",
       "      <td>C69249E26E58F6E2</td>\n",
       "      <td>2025-10-26</td>\n",
       "      <td>2025-10-26 18:15:05</td>\n",
       "      <td>2025-10-16</td>\n",
       "      <td>3</td>\n",
       "      <td>0</td>\n",
       "      <td>3</td>\n",
       "      <td>MENA</td>\n",
       "      <td>Android</td>\n",
       "      <td>A</td>\n",
       "      <td>0</td>\n",
       "    </tr>\n",
       "    <tr>\n",
       "      <th>1</th>\n",
       "      <td>0A3FE5D1DD59110A</td>\n",
       "      <td>66D66D7C9F5181B7</td>\n",
       "      <td>2025-10-21</td>\n",
       "      <td>2025-10-21 17:04:53</td>\n",
       "      <td>2025-10-15</td>\n",
       "      <td>2</td>\n",
       "      <td>1</td>\n",
       "      <td>2</td>\n",
       "      <td>CIS</td>\n",
       "      <td>Android</td>\n",
       "      <td>B</td>\n",
       "      <td>0</td>\n",
       "    </tr>\n",
       "    <tr>\n",
       "      <th>2</th>\n",
       "      <td>2041F1D7AA740B88</td>\n",
       "      <td>50DE51D42215E74C</td>\n",
       "      <td>2025-10-23</td>\n",
       "      <td>2025-10-23 17:39:29</td>\n",
       "      <td>2025-10-19</td>\n",
       "      <td>3</td>\n",
       "      <td>0</td>\n",
       "      <td>2</td>\n",
       "      <td>MENA</td>\n",
       "      <td>Android</td>\n",
       "      <td>A</td>\n",
       "      <td>0</td>\n",
       "    </tr>\n",
       "    <tr>\n",
       "      <th>3</th>\n",
       "      <td>43D7585009168086</td>\n",
       "      <td>5763C0C353C22263</td>\n",
       "      <td>2025-10-24</td>\n",
       "      <td>2025-10-24 15:01:57</td>\n",
       "      <td>2025-10-18</td>\n",
       "      <td>4</td>\n",
       "      <td>0</td>\n",
       "      <td>1</td>\n",
       "      <td>CIS</td>\n",
       "      <td>iPhone</td>\n",
       "      <td>B</td>\n",
       "      <td>0</td>\n",
       "    </tr>\n",
       "    <tr>\n",
       "      <th>4</th>\n",
       "      <td>15AD68B14D62D88C</td>\n",
       "      <td>B1AD09F93C1053BC</td>\n",
       "      <td>2025-10-17</td>\n",
       "      <td>2025-10-17 17:34:39</td>\n",
       "      <td>2025-10-17</td>\n",
       "      <td>1</td>\n",
       "      <td>0</td>\n",
       "      <td>2</td>\n",
       "      <td>MENA</td>\n",
       "      <td>Android</td>\n",
       "      <td>B</td>\n",
       "      <td>0</td>\n",
       "    </tr>\n",
       "  </tbody>\n",
       "</table>\n",
       "</div>"
      ],
      "text/plain": [
       "            user_id        session_id session_date     session_start_ts  \\\n",
       "0  6DAE3B3654DA738E  C69249E26E58F6E2   2025-10-26  2025-10-26 18:15:05   \n",
       "1  0A3FE5D1DD59110A  66D66D7C9F5181B7   2025-10-21  2025-10-21 17:04:53   \n",
       "2  2041F1D7AA740B88  50DE51D42215E74C   2025-10-23  2025-10-23 17:39:29   \n",
       "3  43D7585009168086  5763C0C353C22263   2025-10-24  2025-10-24 15:01:57   \n",
       "4  15AD68B14D62D88C  B1AD09F93C1053BC   2025-10-17  2025-10-17 17:34:39   \n",
       "\n",
       "  install_date  session_number  registration_flag  page_counter region  \\\n",
       "0   2025-10-16               3                  0             3   MENA   \n",
       "1   2025-10-15               2                  1             2    CIS   \n",
       "2   2025-10-19               3                  0             2   MENA   \n",
       "3   2025-10-18               4                  0             1    CIS   \n",
       "4   2025-10-17               1                  0             2   MENA   \n",
       "\n",
       "    device test_group  good_session  \n",
       "0  Android          A             0  \n",
       "1  Android          B             0  \n",
       "2  Android          A             0  \n",
       "3   iPhone          B             0  \n",
       "4  Android          B             0  "
      ]
     },
     "execution_count": 15,
     "metadata": {},
     "output_type": "execute_result"
    }
   ],
   "source": [
    "sessions_test = pd.read_csv(r'https://code.s3.yandex.net/datasets/sessions_project_test.csv')\n",
    "# Создание нового столбца good_session\n",
    "sessions_test['good_session'] = sessions_test['page_counter'].apply(lambda x: 1 if x >= 4 else 0)\n",
    "\n",
    "# Вывод первых строк датафрейма для проверки\n",
    "sessions_test.head()"
   ]
  },
  {
   "cell_type": "markdown",
   "metadata": {
    "id": "aeYhrMYy0eM2"
   },
   "source": [
    "#### 4.2. Проверка корректности результатов теста\n",
    "\n",
    "Прежде чем приступать к анализу ключевых продуктовых метрик, необходимо убедиться, что тест проведён корректно и вы будете сравнивать две сопоставимые группы.\n",
    "\n",
    "- Рассчитайте количество уникальных сессий для каждого дня и обеих тестовых групп, используя группировку.\n",
    "\n",
    "- Проверьте, что количество уникальных дневных сессий в двух выборках не различается или различия не статистически значимы. Используйте статистический тест, который позволит сделать вывод о равенстве средних двух выборок.\n",
    "\n",
    "- В качестве ответа выведите на экран полученное значение p-value и интерпретируйте его."
   ]
  },
  {
   "cell_type": "markdown",
   "metadata": {},
   "source": [
    "Необходимо проверить отсутствие существенных различий в количестве уникальных сессий между контрольной и тестовой группами. Выполним соответствующую проверку с расчетом p-value и интерпретацией результата."
   ]
  },
  {
   "cell_type": "code",
   "execution_count": 16,
   "metadata": {
    "id": "5NUlcltkTTSU"
   },
   "outputs": [
    {
     "name": "stdout",
     "output_type": "stream",
     "text": [
      "Значение t-статистики: -0.07802281548251853\n",
      "Значение p-value: 0.938219304859116\n",
      "Количество уникальных дневных сессий не различается между тестовой и контрольной группами.\n"
     ]
    }
   ],
   "source": [
    "# Агрегация данных: считаем количество уникальных сессий по дням и группам\n",
    "daily_sessions = sessions_test.groupby(['session_date', 'test_group'])['session_id'].nunique().reset_index()\n",
    "\n",
    "# Разделение данных на две группы\n",
    "group_a = daily_sessions[daily_sessions['test_group'] == 'A']['session_id']\n",
    "group_b = daily_sessions[daily_sessions['test_group'] == 'B']['session_id']\n",
    "\n",
    "# Проведение t-теста\n",
    "t_stat, p_value = ttest_ind(group_a, group_b)\n",
    "\n",
    "# Вывод результатов\n",
    "print(f\"Значение t-статистики: {t_stat}\")\n",
    "print(f\"Значение p-value: {p_value}\")\n",
    "\n",
    "# Интерпретация результатов\n",
    "if p_value < 0.05:\n",
    "    print(\"Количество уникальных дневных сессий различается между тестовой и контрольной группами.\")\n",
    "else:\n",
    "    print(\"Количество уникальных дневных сессий не различается между тестовой и контрольной группами.\")"
   ]
  },
  {
   "cell_type": "markdown",
   "metadata": {
    "id": "7kwRxzg70eM3"
   },
   "source": [
    "#### 4.3. Сравнение доли успешных сессий\n",
    "\n",
    "Когда вы убедились, что количество сессий в обеих выборках не различалось, можно переходить к анализу ключевой метрики — доли успешных сессий.\n",
    "\n",
    "Используйте созданный на первом шаге задания столбец `good_session` и рассчитайте долю успешных сессий для выборок A и B, а также разницу в этом показателе. Полученный вывод отобразите на экране."
   ]
  },
  {
   "cell_type": "code",
   "execution_count": 17,
   "metadata": {
    "id": "Uku-V1CpPRCz"
   },
   "outputs": [
    {
     "name": "stdout",
     "output_type": "stream",
     "text": [
      "Доля успешных сессий в группе A: 30.7723\n",
      "Доля успешных сессий в группе B: 31.8290\n",
      "Разница в долях успешных сессий: 1.0567\n"
     ]
    }
   ],
   "source": [
    "# Агрегация данных: считаем количество успешных сессий по группам\n",
    "successful_sessions = sessions_test.groupby('test_group')['good_session'].sum()\n",
    "total_sessions = sessions_test.groupby('test_group')['good_session'].count()\n",
    "\n",
    "# Расчет доли успешных сессий\n",
    "success_rate_a = successful_sessions['A'] / total_sessions['A']*100\n",
    "success_rate_b = successful_sessions['B'] / total_sessions['B']*100\n",
    "\n",
    "# Расчет разницы в долях успешных сессий\n",
    "difference = success_rate_b - success_rate_a\n",
    "\n",
    "# Вывод результатов\n",
    "print(f\"Доля успешных сессий в группе A: {success_rate_a:.4f}\")\n",
    "print(f\"Доля успешных сессий в группе B: {success_rate_b:.4f}\")\n",
    "print(f\"Разница в долях успешных сессий: {difference:.4f}\")"
   ]
  },
  {
   "cell_type": "markdown",
   "metadata": {
    "id": "9fMFuja10eM4"
   },
   "source": [
    "#### 4.4. Насколько статистически значимо изменение ключевой метрики"
   ]
  },
  {
   "cell_type": "markdown",
   "metadata": {},
   "source": [
    "Предыдущий анализ показал, что доля успешных сессий в тестовой группе выше на 1.1%. Чтобы убедиться, что эта разница значима, выполним статистическое тестирование. Мы применим z-тест для сравнения долей успешных сессий и определим, является ли выявленное отличие статистически значимым на уровне α = 0.05."
   ]
  },
  {
   "cell_type": "code",
   "execution_count": 18,
   "metadata": {
    "id": "gFvhRGwlPLS0"
   },
   "outputs": [
    {
     "name": "stdout",
     "output_type": "stream",
     "text": [
      "Значение z-статистики: -3.602684259949491\n",
      "Значение p-value: 0.0003149479976072246\n",
      "Различия между группами статистически значимы.\n"
     ]
    }
   ],
   "source": [
    "# Агрегация данных: считаем количество успешных сессий и общее количество сессий по группам\n",
    "successful_sessions = sessions_test.groupby('test_group')['good_session'].sum()\n",
    "total_sessions = sessions_test.groupby('test_group')['good_session'].count()\n",
    "\n",
    "# Проведение z-теста\n",
    "count = [successful_sessions['A'], successful_sessions['B']]\n",
    "nobs = [total_sessions['A'], total_sessions['B']]\n",
    "stat, p_value = proportions_ztest(count, nobs)\n",
    "\n",
    "# Вывод результатов\n",
    "print(f\"Значение z-статистики: {stat}\")\n",
    "print(f\"Значение p-value: {p_value}\")\n",
    "\n",
    "# Интерпретация результатов\n",
    "if p_value < 0.05:\n",
    "    print(\"Различия между группами статистически значимы.\")\n",
    "else:\n",
    "    print(\"Различия между группами не статистически значимы.\")"
   ]
  },
  {
   "cell_type": "markdown",
   "metadata": {
    "id": "GnJrkY9Q63zS"
   },
   "source": [
    "#### 4.5. Вывод по результатам A/B-эксперимента\n",
    "\n",
    "На основе проведённого анализа результатов теста сформулируйте и запишите свои выводы для команды разработки приложения. В выводе обязательно укажите:\n",
    "\n",
    "- Характеристики проведённого эксперимента, количество задействованных пользователей и длительность эксперимента.\n",
    "\n",
    "- Повлияло ли внедрение нового алгоритма рекомендаций на рост ключевой метрики и как.\n",
    "\n",
    "- Каким получилось значение p-value для оценки статистической значимости выявленного эффекта.\n",
    "\n",
    "- Стоит ли внедрять новоовведение в приложение."
   ]
  },
  {
   "cell_type": "markdown",
   "metadata": {
    "id": "rri8KRIgPMrW"
   },
   "source": [
    "ВЫВОД ПО РЕЗУЛЬТАТАМ А/В-ТЕСТА\n",
    "\n",
    "В эксперименте приняли участие 34 882 пользователя. Эксперимент длился 4 дня.\n",
    "Пользователи были разделены на две группы: контрольную (группа A) и тестовую (группа B).\n",
    "\n",
    "Ключевая метрика: Доля успешных сессий (сессий, в которых было просмотрено 4 и более страниц).\n",
    "\n",
    "Результаты: В тестовой группе (группа B) доля успешных сессий увеличилась на 1,1% по сравнению с контрольной группой (группа A).\n",
    "\n",
    "Значение p-value: 0.0003149479976072246\n",
    "\n",
    "Поскольку p-value меньше 0.05, можно сделать вывод, что выявленное изменение в доле успешных сессий статистически значимо.\n",
    "\n",
    "ЗАКЛЮЧЕНИЕ:\n",
    "\n",
    "Эксперимент показал, что новый алгоритм рекомендаций положительно влияет на пользовательскую активность, увеличивая долю успешных сессий. Это изменение статистически значимо, что подтверждает эффективность нововведения. Рекомендуется внедрить новый алгоритм в приложение для улучшения пользовательского опыта и повышения ключевых метрик."
   ]
  }
 ],
 "metadata": {
  "ExecuteTimeLog": [
   {
    "duration": 415,
    "start_time": "2025-05-20T10:14:36.143Z"
   },
   {
    "duration": 3,
    "start_time": "2025-05-20T10:15:31.546Z"
   },
   {
    "duration": 112,
    "start_time": "2025-05-20T10:17:05.314Z"
   },
   {
    "duration": 53,
    "start_time": "2025-05-20T10:17:17.501Z"
   },
   {
    "duration": 46,
    "start_time": "2025-05-20T10:17:49.317Z"
   },
   {
    "duration": 46,
    "start_time": "2025-05-20T10:19:24.101Z"
   },
   {
    "duration": 2,
    "start_time": "2025-05-20T10:19:25.946Z"
   },
   {
    "duration": 39,
    "start_time": "2025-05-20T10:19:27.051Z"
   },
   {
    "duration": 46,
    "start_time": "2025-05-20T10:20:07.085Z"
   },
   {
    "duration": 3,
    "start_time": "2025-05-20T10:20:10.340Z"
   },
   {
    "duration": 50,
    "start_time": "2025-05-20T10:20:12.348Z"
   },
   {
    "duration": 52,
    "start_time": "2025-05-20T10:22:03.524Z"
   },
   {
    "duration": 128,
    "start_time": "2025-05-20T10:32:31.018Z"
   },
   {
    "duration": 52,
    "start_time": "2025-05-20T10:33:16.026Z"
   },
   {
    "duration": 36,
    "start_time": "2025-05-20T10:33:24.106Z"
   },
   {
    "duration": 3,
    "start_time": "2025-05-20T10:33:26.521Z"
   },
   {
    "duration": 38,
    "start_time": "2025-05-20T10:33:27.250Z"
   },
   {
    "duration": 2,
    "start_time": "2025-05-20T10:33:35.873Z"
   },
   {
    "duration": 45,
    "start_time": "2025-05-20T10:33:36.617Z"
   },
   {
    "duration": 45,
    "start_time": "2025-05-20T10:41:07.035Z"
   },
   {
    "duration": 366,
    "start_time": "2025-05-20T10:41:18.659Z"
   },
   {
    "duration": 100,
    "start_time": "2025-05-20T10:41:19.027Z"
   },
   {
    "duration": 0,
    "start_time": "2025-05-20T10:41:19.129Z"
   },
   {
    "duration": 0,
    "start_time": "2025-05-20T10:41:19.130Z"
   },
   {
    "duration": 1966,
    "start_time": "2025-05-20T10:57:46.255Z"
   },
   {
    "duration": 2176,
    "start_time": "2025-05-20T10:57:56.523Z"
   },
   {
    "duration": 2,
    "start_time": "2025-05-20T10:57:59.154Z"
   },
   {
    "duration": 1569,
    "start_time": "2025-05-20T10:57:59.954Z"
   },
   {
    "duration": 2277,
    "start_time": "2025-05-20T10:58:20.156Z"
   },
   {
    "duration": 3,
    "start_time": "2025-05-20T10:58:23.009Z"
   },
   {
    "duration": 1485,
    "start_time": "2025-05-20T10:58:25.432Z"
   },
   {
    "duration": 8,
    "start_time": "2025-05-20T11:14:10.499Z"
   },
   {
    "duration": 37,
    "start_time": "2025-05-20T11:14:36.635Z"
   },
   {
    "duration": 515,
    "start_time": "2025-05-20T11:16:12.315Z"
   },
   {
    "duration": 529,
    "start_time": "2025-05-20T11:16:33.060Z"
   },
   {
    "duration": 558,
    "start_time": "2025-05-20T11:20:04.829Z"
   },
   {
    "duration": 10,
    "start_time": "2025-05-20T11:20:33.469Z"
   },
   {
    "duration": 29,
    "start_time": "2025-05-20T11:21:35.237Z"
   },
   {
    "duration": 581,
    "start_time": "2025-05-20T11:25:38.214Z"
   },
   {
    "duration": 473,
    "start_time": "2025-05-20T11:49:41.859Z"
   },
   {
    "duration": 2010,
    "start_time": "2025-05-20T11:49:43.108Z"
   },
   {
    "duration": 595,
    "start_time": "2025-05-20T11:49:46.844Z"
   },
   {
    "duration": 152,
    "start_time": "2025-05-20T11:51:02.564Z"
   },
   {
    "duration": 699,
    "start_time": "2025-05-20T11:53:13.629Z"
   },
   {
    "duration": 3075,
    "start_time": "2025-05-20T11:53:25.381Z"
   },
   {
    "duration": 1860,
    "start_time": "2025-05-20T11:54:36.237Z"
   },
   {
    "duration": 1681,
    "start_time": "2025-05-20T11:54:58.413Z"
   },
   {
    "duration": 1658,
    "start_time": "2025-05-20T11:57:22.885Z"
   },
   {
    "duration": 608,
    "start_time": "2025-05-20T11:57:44.133Z"
   },
   {
    "duration": 207,
    "start_time": "2025-05-20T12:04:54.960Z"
   },
   {
    "duration": 215,
    "start_time": "2025-05-20T12:06:27.402Z"
   },
   {
    "duration": 480,
    "start_time": "2025-05-20T12:10:33.950Z"
   },
   {
    "duration": 16,
    "start_time": "2025-05-20T12:12:21.087Z"
   },
   {
    "duration": 145,
    "start_time": "2025-05-20T12:56:55.618Z"
   },
   {
    "duration": 97,
    "start_time": "2025-05-20T13:00:34.772Z"
   },
   {
    "duration": 150,
    "start_time": "2025-05-20T13:00:55.676Z"
   },
   {
    "duration": 75,
    "start_time": "2025-05-20T13:01:02.811Z"
   },
   {
    "duration": 3,
    "start_time": "2025-05-20T13:02:23.763Z"
   },
   {
    "duration": 149,
    "start_time": "2025-05-20T13:02:29.965Z"
   },
   {
    "duration": 4,
    "start_time": "2025-05-20T13:02:30.837Z"
   },
   {
    "duration": 47,
    "start_time": "2025-05-21T06:13:19.320Z"
   },
   {
    "duration": 5,
    "start_time": "2025-05-21T06:13:23.185Z"
   },
   {
    "duration": 108,
    "start_time": "2025-05-21T06:14:05.346Z"
   },
   {
    "duration": 88,
    "start_time": "2025-05-21T06:14:07.746Z"
   },
   {
    "duration": 6,
    "start_time": "2025-05-21T06:14:11.890Z"
   },
   {
    "duration": 792,
    "start_time": "2025-05-21T06:14:21.307Z"
   },
   {
    "duration": 2443,
    "start_time": "2025-05-21T06:14:22.581Z"
   },
   {
    "duration": 606,
    "start_time": "2025-05-21T06:14:25.026Z"
   },
   {
    "duration": 733,
    "start_time": "2025-05-21T06:14:28.659Z"
   },
   {
    "duration": 194,
    "start_time": "2025-05-21T06:14:31.171Z"
   },
   {
    "duration": 186,
    "start_time": "2025-05-21T06:14:33.723Z"
   },
   {
    "duration": 460,
    "start_time": "2025-05-21T06:14:37.058Z"
   },
   {
    "duration": 140,
    "start_time": "2025-05-21T06:14:39.554Z"
   },
   {
    "duration": 4,
    "start_time": "2025-05-21T06:14:44.482Z"
   },
   {
    "duration": 122,
    "start_time": "2025-05-21T06:14:47.050Z"
   },
   {
    "duration": 58,
    "start_time": "2025-05-21T06:14:49.266Z"
   },
   {
    "duration": 62,
    "start_time": "2025-05-21T06:18:35.188Z"
   },
   {
    "duration": 22,
    "start_time": "2025-05-21T06:22:06.804Z"
   },
   {
    "duration": 3,
    "start_time": "2025-05-21T06:22:28.764Z"
   },
   {
    "duration": 56,
    "start_time": "2025-05-21T06:22:53.468Z"
   },
   {
    "duration": 2588,
    "start_time": "2025-05-21T06:22:55.221Z"
   },
   {
    "duration": 143,
    "start_time": "2025-05-21T06:23:01.821Z"
   },
   {
    "duration": 8,
    "start_time": "2025-05-21T06:35:50.585Z"
   },
   {
    "duration": 358,
    "start_time": "2025-05-21T06:42:09.756Z"
   },
   {
    "duration": 192,
    "start_time": "2025-05-21T06:43:10.093Z"
   },
   {
    "duration": 707,
    "start_time": "2025-05-21T07:54:29.403Z"
   },
   {
    "duration": 473,
    "start_time": "2025-05-21T07:55:29.748Z"
   },
   {
    "duration": 449,
    "start_time": "2025-05-21T07:55:42.323Z"
   },
   {
    "duration": 64,
    "start_time": "2025-05-21T07:59:55.006Z"
   },
   {
    "duration": 3,
    "start_time": "2025-05-21T08:00:27.260Z"
   },
   {
    "duration": 3198,
    "start_time": "2025-05-21T08:00:29.421Z"
   },
   {
    "duration": 48,
    "start_time": "2025-05-21T08:00:37.165Z"
   },
   {
    "duration": 30,
    "start_time": "2025-05-21T08:01:59.269Z"
   },
   {
    "duration": 100,
    "start_time": "2025-05-21T08:02:28.966Z"
   },
   {
    "duration": 26,
    "start_time": "2025-05-21T08:05:49.063Z"
   },
   {
    "duration": 9,
    "start_time": "2025-05-21T08:06:07.342Z"
   },
   {
    "duration": 21,
    "start_time": "2025-05-21T08:06:13.302Z"
   },
   {
    "duration": 1473,
    "start_time": "2025-05-21T10:04:48.528Z"
   },
   {
    "duration": 2844,
    "start_time": "2025-05-21T10:04:50.003Z"
   },
   {
    "duration": 735,
    "start_time": "2025-05-21T10:04:52.849Z"
   },
   {
    "duration": 832,
    "start_time": "2025-05-21T10:04:53.586Z"
   },
   {
    "duration": 211,
    "start_time": "2025-05-21T10:04:54.420Z"
   },
   {
    "duration": 233,
    "start_time": "2025-05-21T10:04:54.637Z"
   },
   {
    "duration": 16,
    "start_time": "2025-05-21T10:04:54.872Z"
   },
   {
    "duration": 191,
    "start_time": "2025-05-21T10:04:54.890Z"
   },
   {
    "duration": 4,
    "start_time": "2025-05-21T10:04:55.083Z"
   },
   {
    "duration": 69,
    "start_time": "2025-05-21T10:04:55.089Z"
   },
   {
    "duration": 156,
    "start_time": "2025-05-21T10:04:55.160Z"
   },
   {
    "duration": 8,
    "start_time": "2025-05-21T10:04:55.318Z"
   },
   {
    "duration": 342,
    "start_time": "2025-05-21T10:04:55.337Z"
   },
   {
    "duration": 209,
    "start_time": "2025-05-21T10:04:55.682Z"
   },
   {
    "duration": 524,
    "start_time": "2025-05-21T10:04:55.893Z"
   },
   {
    "duration": 58,
    "start_time": "2025-05-21T10:04:56.418Z"
   },
   {
    "duration": 20,
    "start_time": "2025-05-21T10:04:56.478Z"
   },
   {
    "duration": 123,
    "start_time": "2025-05-21T10:04:56.500Z"
   },
   {
    "duration": 5,
    "start_time": "2025-05-21T10:07:14.871Z"
   },
   {
    "duration": 5,
    "start_time": "2025-05-21T10:07:21.398Z"
   },
   {
    "duration": 103,
    "start_time": "2025-05-21T10:07:30.543Z"
   },
   {
    "duration": 50,
    "start_time": "2025-05-21T12:04:45.384Z"
   },
   {
    "duration": 7,
    "start_time": "2025-05-21T12:04:54.712Z"
   },
   {
    "duration": 1528,
    "start_time": "2025-05-21T12:05:08.604Z"
   },
   {
    "duration": 2035,
    "start_time": "2025-05-21T12:05:10.601Z"
   },
   {
    "duration": 708,
    "start_time": "2025-05-21T12:05:15.277Z"
   },
   {
    "duration": 931,
    "start_time": "2025-05-21T12:12:43.055Z"
   },
   {
    "duration": 665,
    "start_time": "2025-05-21T12:28:47.676Z"
   },
   {
    "duration": 72,
    "start_time": "2025-05-21T13:09:38.985Z"
   },
   {
    "duration": 9,
    "start_time": "2025-05-21T13:12:55.084Z"
   },
   {
    "duration": 4,
    "start_time": "2025-05-21T13:14:33.045Z"
   },
   {
    "duration": 605,
    "start_time": "2025-05-21T13:14:36.469Z"
   },
   {
    "duration": 644,
    "start_time": "2025-05-21T13:14:41.797Z"
   },
   {
    "duration": 216,
    "start_time": "2025-05-21T13:14:49.757Z"
   },
   {
    "duration": 195,
    "start_time": "2025-05-21T13:14:52.727Z"
   },
   {
    "duration": 18,
    "start_time": "2025-05-21T13:14:56.064Z"
   },
   {
    "duration": 131,
    "start_time": "2025-05-21T13:15:07.590Z"
   },
   {
    "duration": 3,
    "start_time": "2025-05-21T13:15:09.342Z"
   },
   {
    "duration": 14,
    "start_time": "2025-05-21T13:18:31.215Z"
   },
   {
    "duration": 11,
    "start_time": "2025-05-21T13:18:48.629Z"
   },
   {
    "duration": 18,
    "start_time": "2025-05-21T13:18:51.351Z"
   },
   {
    "duration": 4,
    "start_time": "2025-05-21T13:19:01.639Z"
   },
   {
    "duration": 1968,
    "start_time": "2025-05-21T13:19:03.568Z"
   },
   {
    "duration": 651,
    "start_time": "2025-05-21T13:19:10.128Z"
   },
   {
    "duration": 218,
    "start_time": "2025-05-21T13:19:15.208Z"
   },
   {
    "duration": 211,
    "start_time": "2025-05-21T13:19:21.329Z"
   },
   {
    "duration": 17,
    "start_time": "2025-05-21T13:19:24.170Z"
   },
   {
    "duration": 138,
    "start_time": "2025-05-21T13:19:26.407Z"
   },
   {
    "duration": 5,
    "start_time": "2025-05-21T13:19:27.879Z"
   },
   {
    "duration": 12,
    "start_time": "2025-05-21T13:19:31.432Z"
   },
   {
    "duration": 4,
    "start_time": "2025-05-21T13:19:34.616Z"
   },
   {
    "duration": 52,
    "start_time": "2025-05-21T13:19:37.496Z"
   },
   {
    "duration": 144,
    "start_time": "2025-05-21T13:19:39.503Z"
   },
   {
    "duration": 7,
    "start_time": "2025-05-21T13:19:42.496Z"
   },
   {
    "duration": 386,
    "start_time": "2025-05-21T13:19:53.905Z"
   },
   {
    "duration": 208,
    "start_time": "2025-05-21T13:21:34.785Z"
   },
   {
    "duration": 38,
    "start_time": "2025-05-21T13:22:00.841Z"
   },
   {
    "duration": 33,
    "start_time": "2025-05-21T13:22:10.898Z"
   },
   {
    "duration": 431,
    "start_time": "2025-05-21T13:22:29.161Z"
   },
   {
    "duration": 27,
    "start_time": "2025-05-21T13:22:32.498Z"
   },
   {
    "duration": 201,
    "start_time": "2025-05-21T13:24:27.147Z"
   },
   {
    "duration": 237,
    "start_time": "2025-05-21T13:28:39.435Z"
   },
   {
    "duration": 258,
    "start_time": "2025-05-21T13:30:02.829Z"
   },
   {
    "duration": 64,
    "start_time": "2025-05-22T05:46:35.480Z"
   },
   {
    "duration": 11,
    "start_time": "2025-05-22T05:46:40.290Z"
   },
   {
    "duration": 1508,
    "start_time": "2025-05-22T05:46:51.066Z"
   },
   {
    "duration": 82,
    "start_time": "2025-05-22T05:47:00.386Z"
   },
   {
    "duration": 10,
    "start_time": "2025-05-22T05:47:04.994Z"
   },
   {
    "duration": 12,
    "start_time": "2025-05-22T05:47:07.490Z"
   },
   {
    "duration": 9,
    "start_time": "2025-05-22T05:47:10.193Z"
   },
   {
    "duration": 14,
    "start_time": "2025-05-22T05:47:16.700Z"
   },
   {
    "duration": 2264,
    "start_time": "2025-05-22T05:47:20.026Z"
   },
   {
    "duration": 716,
    "start_time": "2025-05-22T05:47:24.555Z"
   },
   {
    "duration": 838,
    "start_time": "2025-05-22T05:47:27.297Z"
   },
   {
    "duration": 223,
    "start_time": "2025-05-22T05:47:35.634Z"
   },
   {
    "duration": 218,
    "start_time": "2025-05-22T05:47:38.562Z"
   },
   {
    "duration": 24,
    "start_time": "2025-05-22T05:47:40.802Z"
   },
   {
    "duration": 163,
    "start_time": "2025-05-22T05:47:44.145Z"
   },
   {
    "duration": 4,
    "start_time": "2025-05-22T05:47:46.682Z"
   },
   {
    "duration": 14,
    "start_time": "2025-05-22T05:47:49.532Z"
   },
   {
    "duration": 12,
    "start_time": "2025-05-22T05:47:51.394Z"
   },
   {
    "duration": 117,
    "start_time": "2025-05-22T05:47:53.530Z"
   },
   {
    "duration": 166,
    "start_time": "2025-05-22T05:47:54.921Z"
   },
   {
    "duration": 9,
    "start_time": "2025-05-22T05:48:18.050Z"
   },
   {
    "duration": 385,
    "start_time": "2025-05-22T05:48:43.274Z"
   },
   {
    "duration": 249,
    "start_time": "2025-05-22T05:48:56.492Z"
   },
   {
    "duration": 431,
    "start_time": "2025-05-22T05:52:04.924Z"
   },
   {
    "duration": 81,
    "start_time": "2025-05-22T05:53:22.772Z"
   },
   {
    "duration": 76,
    "start_time": "2025-05-22T05:53:41.395Z"
   },
   {
    "duration": 76,
    "start_time": "2025-05-22T05:53:45.556Z"
   },
   {
    "duration": 464,
    "start_time": "2025-05-22T05:55:39.923Z"
   },
   {
    "duration": 325,
    "start_time": "2025-05-22T05:56:58.910Z"
   },
   {
    "duration": 336,
    "start_time": "2025-05-22T05:58:53.974Z"
   },
   {
    "duration": 330,
    "start_time": "2025-05-22T05:59:55.438Z"
   },
   {
    "duration": 310,
    "start_time": "2025-05-22T06:00:22.103Z"
   },
   {
    "duration": 11,
    "start_time": "2025-05-22T06:37:48.929Z"
   },
   {
    "duration": 562,
    "start_time": "2025-05-22T06:37:53.994Z"
   },
   {
    "duration": 47,
    "start_time": "2025-05-22T06:37:55.722Z"
   },
   {
    "duration": 61,
    "start_time": "2025-05-22T06:38:08.474Z"
   },
   {
    "duration": 1290,
    "start_time": "2025-05-22T19:08:55.027Z"
   },
   {
    "duration": 2778,
    "start_time": "2025-05-22T19:08:56.319Z"
   },
   {
    "duration": 619,
    "start_time": "2025-05-22T19:08:59.099Z"
   },
   {
    "duration": 775,
    "start_time": "2025-05-22T19:08:59.720Z"
   },
   {
    "duration": 201,
    "start_time": "2025-05-22T19:09:00.496Z"
   },
   {
    "duration": 205,
    "start_time": "2025-05-22T19:09:00.699Z"
   },
   {
    "duration": 18,
    "start_time": "2025-05-22T19:09:00.906Z"
   },
   {
    "duration": 174,
    "start_time": "2025-05-22T19:09:00.926Z"
   },
   {
    "duration": 4,
    "start_time": "2025-05-22T19:09:01.102Z"
   },
   {
    "duration": 144,
    "start_time": "2025-05-22T19:09:01.108Z"
   },
   {
    "duration": 145,
    "start_time": "2025-05-22T19:09:01.253Z"
   },
   {
    "duration": 8,
    "start_time": "2025-05-22T19:09:01.400Z"
   },
   {
    "duration": 499,
    "start_time": "2025-05-22T19:09:01.410Z"
   },
   {
    "duration": 366,
    "start_time": "2025-05-22T19:09:01.911Z"
   },
   {
    "duration": 560,
    "start_time": "2025-05-22T19:09:02.279Z"
   },
   {
    "duration": 55,
    "start_time": "2025-05-22T19:09:02.841Z"
   },
   {
    "duration": 20,
    "start_time": "2025-05-22T19:09:02.898Z"
   },
   {
    "duration": 20,
    "start_time": "2025-05-22T19:09:02.920Z"
   },
   {
    "duration": 12,
    "start_time": "2025-05-22T19:11:54.170Z"
   },
   {
    "duration": 12,
    "start_time": "2025-05-22T19:12:20.556Z"
   },
   {
    "duration": 11,
    "start_time": "2025-05-22T19:12:47.214Z"
   },
   {
    "duration": 12,
    "start_time": "2025-05-22T19:12:52.122Z"
   },
   {
    "duration": 103,
    "start_time": "2025-05-22T19:13:03.185Z"
   },
   {
    "duration": 15,
    "start_time": "2025-05-22T19:14:26.381Z"
   },
   {
    "duration": 50,
    "start_time": "2025-05-23T05:18:43.136Z"
   },
   {
    "duration": 1311,
    "start_time": "2025-05-23T05:19:04.448Z"
   },
   {
    "duration": 62,
    "start_time": "2025-05-23T05:19:12.327Z"
   },
   {
    "duration": 9,
    "start_time": "2025-05-23T05:19:13.560Z"
   },
   {
    "duration": 2126,
    "start_time": "2025-05-23T05:19:16.527Z"
   },
   {
    "duration": 619,
    "start_time": "2025-05-23T05:19:23.191Z"
   },
   {
    "duration": 738,
    "start_time": "2025-05-23T05:19:26.352Z"
   },
   {
    "duration": 189,
    "start_time": "2025-05-23T05:19:32.559Z"
   },
   {
    "duration": 185,
    "start_time": "2025-05-23T05:19:35.087Z"
   },
   {
    "duration": 16,
    "start_time": "2025-05-23T05:19:41.528Z"
   },
   {
    "duration": 153,
    "start_time": "2025-05-23T05:19:44.903Z"
   },
   {
    "duration": 4,
    "start_time": "2025-05-23T05:19:46.119Z"
   },
   {
    "duration": 97,
    "start_time": "2025-05-23T05:19:50.584Z"
   },
   {
    "duration": 149,
    "start_time": "2025-05-23T05:19:53.068Z"
   },
   {
    "duration": 7,
    "start_time": "2025-05-23T05:19:57.416Z"
   },
   {
    "duration": 361,
    "start_time": "2025-05-23T05:20:01.108Z"
   },
   {
    "duration": 325,
    "start_time": "2025-05-23T05:20:06.672Z"
   },
   {
    "duration": 99,
    "start_time": "2025-05-23T06:17:21.466Z"
   },
   {
    "duration": 78,
    "start_time": "2025-05-23T06:27:51.109Z"
   },
   {
    "duration": 1539,
    "start_time": "2025-05-23T12:32:26.044Z"
   },
   {
    "duration": 2614,
    "start_time": "2025-05-23T12:32:27.585Z"
   },
   {
    "duration": 725,
    "start_time": "2025-05-23T12:32:30.201Z"
   },
   {
    "duration": 798,
    "start_time": "2025-05-23T12:32:30.928Z"
   },
   {
    "duration": 208,
    "start_time": "2025-05-23T12:32:31.728Z"
   },
   {
    "duration": 200,
    "start_time": "2025-05-23T12:32:31.938Z"
   },
   {
    "duration": 24,
    "start_time": "2025-05-23T12:32:32.140Z"
   },
   {
    "duration": 460,
    "start_time": "2025-05-23T12:32:32.165Z"
   },
   {
    "duration": 3,
    "start_time": "2025-05-23T12:32:32.627Z"
   },
   {
    "duration": 94,
    "start_time": "2025-05-23T12:32:32.632Z"
   },
   {
    "duration": 148,
    "start_time": "2025-05-23T12:32:32.728Z"
   },
   {
    "duration": 9,
    "start_time": "2025-05-23T12:32:32.878Z"
   },
   {
    "duration": 415,
    "start_time": "2025-05-23T12:32:32.888Z"
   },
   {
    "duration": 333,
    "start_time": "2025-05-23T12:32:33.305Z"
   },
   {
    "duration": 1290,
    "start_time": "2025-05-23T12:32:33.640Z"
   },
   {
    "duration": 65,
    "start_time": "2025-05-23T12:32:34.932Z"
   },
   {
    "duration": 21,
    "start_time": "2025-05-23T12:32:34.999Z"
   },
   {
    "duration": 243,
    "start_time": "2025-05-23T12:32:35.022Z"
   }
  ],
  "colab": {
   "provenance": []
  },
  "kernelspec": {
   "display_name": "Python 3 (ipykernel)",
   "language": "python",
   "name": "python3"
  },
  "language_info": {
   "codemirror_mode": {
    "name": "ipython",
    "version": 3
   },
   "file_extension": ".py",
   "mimetype": "text/x-python",
   "name": "python",
   "nbconvert_exporter": "python",
   "pygments_lexer": "ipython3",
   "version": "3.9.5"
  },
  "toc": {
   "base_numbering": 1,
   "nav_menu": {},
   "number_sections": true,
   "sideBar": true,
   "skip_h1_title": true,
   "title_cell": "Table of Contents",
   "title_sidebar": "Contents",
   "toc_cell": false,
   "toc_position": {
    "height": "calc(100% - 180px)",
    "left": "10px",
    "top": "150px",
    "width": "305.404388px"
   },
   "toc_section_display": true,
   "toc_window_display": true
  }
 },
 "nbformat": 4,
 "nbformat_minor": 1
}
