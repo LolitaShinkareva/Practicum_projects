{
 "cells": [
  {
   "cell_type": "markdown",
   "metadata": {},
   "source": [
    "# Анализ эволюции игровой индустрии с 2000 по 2013 год"
   ]
  },
  {
   "cell_type": "markdown",
   "metadata": {},
   "source": [
    "### Цель проекта:\n",
    "\n",
    "Подготовка статьи о развитии игровой индустрии начала XXI века, с фокусом на жанр RPG и игру «Секреты Темнолесья». Основные задачи, решаемые с помощью Python:\n",
    "\n",
    "**Шаги:**\n",
    "\n",
    "*Сбор данных:* исторические данные об играх 2000–2013 годов, включающие продажи, жанры, платформы, оценки.\n",
    "\n",
    "*Предварительная обработка:* преобразование названий столбцов в lower_snake_case.\n",
    "\n",
    "*Очистка данных:* замена строковых значений вроде \"unknown\" на пропуски.\n",
    "\n",
    "*Анализ пропусков:* вычисление количества и разработка стратегии заполнения (средние значения по платформе/году).\n",
    "\n",
    "*Обнаружение дубликатов:* устранение явных и скрытых повторений, нормализация данных.\n",
    "\n",
    "*Срез данных:* выбор периода 2000–2013 гг., сохранение в отдельный датафрейм.\n",
    "\n",
    "*Категоризация данных:* оценки пользователей: высокая (8–10), средняя (3–8), низкая (0–3). Оценки критиков: высокая (80–100), средняя (30–80), низкая (0–30).\n",
    "\n",
    "*Анализ платформ:* определение топ-7 платформ по числу выпущенных игр.\n",
    "\n",
    "*Итоговые выводы:* обобщение результатов, описание новых полей и изменений в исходных данных.\n",
    "\n",
    "**Эти шаги помогут создать статью, подчеркивая популярность жанра RPG и игры «Секреты Темнолесья», стимулируя рост интереса к классическим играм.**\n",
    "\n"
   ]
  },
  {
   "cell_type": "markdown",
   "metadata": {},
   "source": [
    "### Описание данных\n",
    "\n",
    "Данные /datasets/new_games.csv содержат информацию о продажах игр разных жанров и платформ, а также пользовательские и экспертные оценки игр:\n",
    "\n",
    "Name — название игры.\n",
    "\n",
    "Platform — название платформы.\n",
    "\n",
    "Year of Release — год выпуска игры.\n",
    "\n",
    "Genre — жанр игры.\n",
    "\n",
    "NA sales — продажи в Северной Америке (в миллионах проданных копий).\n",
    "\n",
    "EU sales — продажи в Европе (в миллионах проданных копий).\n",
    "\n",
    "JP sales — продажи в Японии (в миллионах проданных копий).\n",
    "\n",
    "Other sales — продажи в других странах (в миллионах проданных копий).\n",
    "\n",
    "Critic Score — оценка критиков (от 0 до 100).\n",
    "\n",
    "User Score — оценка пользователей (от 0 до 10).\n",
    "\n",
    "Rating — рейтинг организации ESRB (англ. Entertainment Software Rating Board). Эта ассоциация определяет рейтинг компьютерных игр и присваивает им подходящую возрастную категорию."
   ]
  },
  {
   "cell_type": "markdown",
   "metadata": {},
   "source": [
    "#### 1. Загрузка данных и знакомство с ними"
   ]
  },
  {
   "cell_type": "code",
   "execution_count": 1,
   "metadata": {},
   "outputs": [],
   "source": [
    "# Ипорт библиотеки Pandas\n",
    "import pandas as pd \n"
   ]
  },
  {
   "cell_type": "code",
   "execution_count": 2,
   "metadata": {},
   "outputs": [
    {
     "name": "stdout",
     "output_type": "stream",
     "text": [
      "<class 'pandas.core.frame.DataFrame'>\n",
      "RangeIndex: 16956 entries, 0 to 16955\n",
      "Data columns (total 11 columns):\n",
      " #   Column           Non-Null Count  Dtype  \n",
      "---  ------           --------------  -----  \n",
      " 0   Name             16954 non-null  object \n",
      " 1   Platform         16956 non-null  object \n",
      " 2   Year of Release  16681 non-null  float64\n",
      " 3   Genre            16954 non-null  object \n",
      " 4   NA sales         16956 non-null  float64\n",
      " 5   EU sales         16956 non-null  object \n",
      " 6   JP sales         16956 non-null  object \n",
      " 7   Other sales      16956 non-null  float64\n",
      " 8   Critic Score     8242 non-null   float64\n",
      " 9   User Score       10152 non-null  object \n",
      " 10  Rating           10085 non-null  object \n",
      "dtypes: float64(4), object(7)\n",
      "memory usage: 1.4+ MB\n"
     ]
    }
   ],
   "source": [
    "# Загружаем данные\n",
    "df = pd.read_csv('https://code.s3.yandex.net/datasets/new_games.csv')\n",
    "\n",
    "# Выводим результат \n",
    "df.info()"
   ]
  },
  {
   "cell_type": "markdown",
   "metadata": {},
   "source": [
    "*Анализ данных показывает, что из 16956 записей с 11 столбцами.\n",
    "Столбцы «EU sales», «JP sales» «User Score» имеют тип данных object, что может указывать на наличие некорректных значений. Вероятно, это связано с наличием пропусков или некорректной записи чисел (например, запятые вместо точек). Это потребует преобразования типов данных. Рекомендуется преобразовать эти столбцы в числовой формат после проверки данных. \n",
    "Названия столбцов содержат пробелы и нестрогий стиль написания, что может затруднить работу с фреймом данных. Рекомендуется привести их к единому стилю, например, заменить пробелы на подчеркивания и сделать названия более выраженными для лучшего понимания их содержания.*"
   ]
  },
  {
   "cell_type": "markdown",
   "metadata": {},
   "source": [
    "### 2. Проверка ошибок в данных и их предобработка\n",
    "\n",
    "#### 2.1 Названия, или метки, столбцов датафрейма"
   ]
  },
  {
   "cell_type": "code",
   "execution_count": 3,
   "metadata": {},
   "outputs": [
    {
     "data": {
      "text/html": [
       "<div>\n",
       "<style scoped>\n",
       "    .dataframe tbody tr th:only-of-type {\n",
       "        vertical-align: middle;\n",
       "    }\n",
       "\n",
       "    .dataframe tbody tr th {\n",
       "        vertical-align: top;\n",
       "    }\n",
       "\n",
       "    .dataframe thead th {\n",
       "        text-align: right;\n",
       "    }\n",
       "</style>\n",
       "<table border=\"1\" class=\"dataframe\">\n",
       "  <thead>\n",
       "    <tr style=\"text-align: right;\">\n",
       "      <th></th>\n",
       "      <th>name</th>\n",
       "      <th>platform</th>\n",
       "      <th>year_of_release</th>\n",
       "      <th>genre</th>\n",
       "      <th>na_sales</th>\n",
       "      <th>eu_sales</th>\n",
       "      <th>jp_sales</th>\n",
       "      <th>other_sales</th>\n",
       "      <th>critic_score</th>\n",
       "      <th>user_score</th>\n",
       "      <th>rating</th>\n",
       "    </tr>\n",
       "  </thead>\n",
       "  <tbody>\n",
       "    <tr>\n",
       "      <th>0</th>\n",
       "      <td>Wii Sports</td>\n",
       "      <td>Wii</td>\n",
       "      <td>2006.0</td>\n",
       "      <td>Sports</td>\n",
       "      <td>41.36</td>\n",
       "      <td>28.96</td>\n",
       "      <td>3.77</td>\n",
       "      <td>8.45</td>\n",
       "      <td>76.0</td>\n",
       "      <td>8</td>\n",
       "      <td>E</td>\n",
       "    </tr>\n",
       "    <tr>\n",
       "      <th>1</th>\n",
       "      <td>Super Mario Bros.</td>\n",
       "      <td>NES</td>\n",
       "      <td>1985.0</td>\n",
       "      <td>Platform</td>\n",
       "      <td>29.08</td>\n",
       "      <td>3.58</td>\n",
       "      <td>6.81</td>\n",
       "      <td>0.77</td>\n",
       "      <td>NaN</td>\n",
       "      <td>NaN</td>\n",
       "      <td>NaN</td>\n",
       "    </tr>\n",
       "    <tr>\n",
       "      <th>2</th>\n",
       "      <td>Mario Kart Wii</td>\n",
       "      <td>Wii</td>\n",
       "      <td>2008.0</td>\n",
       "      <td>Racing</td>\n",
       "      <td>15.68</td>\n",
       "      <td>12.76</td>\n",
       "      <td>3.79</td>\n",
       "      <td>3.29</td>\n",
       "      <td>82.0</td>\n",
       "      <td>8.3</td>\n",
       "      <td>E</td>\n",
       "    </tr>\n",
       "    <tr>\n",
       "      <th>3</th>\n",
       "      <td>Wii Sports Resort</td>\n",
       "      <td>Wii</td>\n",
       "      <td>2009.0</td>\n",
       "      <td>Sports</td>\n",
       "      <td>15.61</td>\n",
       "      <td>10.93</td>\n",
       "      <td>3.28</td>\n",
       "      <td>2.95</td>\n",
       "      <td>80.0</td>\n",
       "      <td>8</td>\n",
       "      <td>E</td>\n",
       "    </tr>\n",
       "    <tr>\n",
       "      <th>4</th>\n",
       "      <td>Pokemon Red/Pokemon Blue</td>\n",
       "      <td>GB</td>\n",
       "      <td>1996.0</td>\n",
       "      <td>Role-Playing</td>\n",
       "      <td>11.27</td>\n",
       "      <td>8.89</td>\n",
       "      <td>10.22</td>\n",
       "      <td>1.00</td>\n",
       "      <td>NaN</td>\n",
       "      <td>NaN</td>\n",
       "      <td>NaN</td>\n",
       "    </tr>\n",
       "    <tr>\n",
       "      <th>...</th>\n",
       "      <td>...</td>\n",
       "      <td>...</td>\n",
       "      <td>...</td>\n",
       "      <td>...</td>\n",
       "      <td>...</td>\n",
       "      <td>...</td>\n",
       "      <td>...</td>\n",
       "      <td>...</td>\n",
       "      <td>...</td>\n",
       "      <td>...</td>\n",
       "      <td>...</td>\n",
       "    </tr>\n",
       "    <tr>\n",
       "      <th>16951</th>\n",
       "      <td>Samurai Warriors: Sanada Maru</td>\n",
       "      <td>PS3</td>\n",
       "      <td>2016.0</td>\n",
       "      <td>Action</td>\n",
       "      <td>0.00</td>\n",
       "      <td>0.0</td>\n",
       "      <td>0.01</td>\n",
       "      <td>0.00</td>\n",
       "      <td>NaN</td>\n",
       "      <td>NaN</td>\n",
       "      <td>NaN</td>\n",
       "    </tr>\n",
       "    <tr>\n",
       "      <th>16952</th>\n",
       "      <td>LMA Manager 2007</td>\n",
       "      <td>X360</td>\n",
       "      <td>2006.0</td>\n",
       "      <td>Sports</td>\n",
       "      <td>0.00</td>\n",
       "      <td>0.01</td>\n",
       "      <td>0.0</td>\n",
       "      <td>0.00</td>\n",
       "      <td>NaN</td>\n",
       "      <td>NaN</td>\n",
       "      <td>NaN</td>\n",
       "    </tr>\n",
       "    <tr>\n",
       "      <th>16953</th>\n",
       "      <td>Haitaka no Psychedelica</td>\n",
       "      <td>PSV</td>\n",
       "      <td>2016.0</td>\n",
       "      <td>Adventure</td>\n",
       "      <td>0.00</td>\n",
       "      <td>0.0</td>\n",
       "      <td>0.01</td>\n",
       "      <td>0.00</td>\n",
       "      <td>NaN</td>\n",
       "      <td>NaN</td>\n",
       "      <td>NaN</td>\n",
       "    </tr>\n",
       "    <tr>\n",
       "      <th>16954</th>\n",
       "      <td>Spirits &amp; Spells</td>\n",
       "      <td>GBA</td>\n",
       "      <td>2003.0</td>\n",
       "      <td>Platform</td>\n",
       "      <td>0.01</td>\n",
       "      <td>0.0</td>\n",
       "      <td>0.0</td>\n",
       "      <td>0.00</td>\n",
       "      <td>NaN</td>\n",
       "      <td>NaN</td>\n",
       "      <td>NaN</td>\n",
       "    </tr>\n",
       "    <tr>\n",
       "      <th>16955</th>\n",
       "      <td>Winning Post 8 2016</td>\n",
       "      <td>PSV</td>\n",
       "      <td>2016.0</td>\n",
       "      <td>Simulation</td>\n",
       "      <td>0.00</td>\n",
       "      <td>0.0</td>\n",
       "      <td>0.01</td>\n",
       "      <td>0.00</td>\n",
       "      <td>NaN</td>\n",
       "      <td>NaN</td>\n",
       "      <td>NaN</td>\n",
       "    </tr>\n",
       "  </tbody>\n",
       "</table>\n",
       "<p>16956 rows × 11 columns</p>\n",
       "</div>"
      ],
      "text/plain": [
       "                                name platform  year_of_release         genre  \\\n",
       "0                         Wii Sports      Wii           2006.0        Sports   \n",
       "1                  Super Mario Bros.      NES           1985.0      Platform   \n",
       "2                     Mario Kart Wii      Wii           2008.0        Racing   \n",
       "3                  Wii Sports Resort      Wii           2009.0        Sports   \n",
       "4           Pokemon Red/Pokemon Blue       GB           1996.0  Role-Playing   \n",
       "...                              ...      ...              ...           ...   \n",
       "16951  Samurai Warriors: Sanada Maru      PS3           2016.0        Action   \n",
       "16952               LMA Manager 2007     X360           2006.0        Sports   \n",
       "16953        Haitaka no Psychedelica      PSV           2016.0     Adventure   \n",
       "16954               Spirits & Spells      GBA           2003.0      Platform   \n",
       "16955            Winning Post 8 2016      PSV           2016.0    Simulation   \n",
       "\n",
       "       na_sales eu_sales jp_sales  other_sales  critic_score user_score rating  \n",
       "0         41.36    28.96     3.77         8.45          76.0          8      E  \n",
       "1         29.08     3.58     6.81         0.77           NaN        NaN    NaN  \n",
       "2         15.68    12.76     3.79         3.29          82.0        8.3      E  \n",
       "3         15.61    10.93     3.28         2.95          80.0          8      E  \n",
       "4         11.27     8.89    10.22         1.00           NaN        NaN    NaN  \n",
       "...         ...      ...      ...          ...           ...        ...    ...  \n",
       "16951      0.00      0.0     0.01         0.00           NaN        NaN    NaN  \n",
       "16952      0.00     0.01      0.0         0.00           NaN        NaN    NaN  \n",
       "16953      0.00      0.0     0.01         0.00           NaN        NaN    NaN  \n",
       "16954      0.01      0.0      0.0         0.00           NaN        NaN    NaN  \n",
       "16955      0.00      0.0     0.01         0.00           NaN        NaN    NaN  \n",
       "\n",
       "[16956 rows x 11 columns]"
      ]
     },
     "execution_count": 3,
     "metadata": {},
     "output_type": "execute_result"
    }
   ],
   "source": [
    "\n",
    "# Приведение названий столбцов к стилю snake_case\n",
    "df.columns = df.columns.str.lower().str.replace(' ', '_')\n",
    "(df)"
   ]
  },
  {
   "cell_type": "markdown",
   "metadata": {},
   "source": [
    "#### 2.2. Типы данных"
   ]
  },
  {
   "cell_type": "code",
   "execution_count": 4,
   "metadata": {},
   "outputs": [],
   "source": [
    "# Приведение столбцов к соответсвующим форматам \n",
    "df['eu_sales'] = pd.to_numeric(df['eu_sales'], errors='coerce')"
   ]
  },
  {
   "cell_type": "code",
   "execution_count": 5,
   "metadata": {},
   "outputs": [],
   "source": [
    "# Приведение столбцов к соответсвующим форматам \n",
    "df['jp_sales'] = pd.to_numeric(df['eu_sales'], errors='coerce')"
   ]
  },
  {
   "cell_type": "code",
   "execution_count": 6,
   "metadata": {},
   "outputs": [],
   "source": [
    "# Приведение столбцов к соответсвующим форматам \n",
    "df['user_score'] = pd.to_numeric(df['user_score'], errors='coerce')"
   ]
  },
  {
   "cell_type": "code",
   "execution_count": 7,
   "metadata": {},
   "outputs": [
    {
     "name": "stdout",
     "output_type": "stream",
     "text": [
      "<class 'pandas.core.frame.DataFrame'>\n",
      "RangeIndex: 16956 entries, 0 to 16955\n",
      "Data columns (total 11 columns):\n",
      " #   Column           Non-Null Count  Dtype  \n",
      "---  ------           --------------  -----  \n",
      " 0   name             16954 non-null  object \n",
      " 1   platform         16956 non-null  object \n",
      " 2   year_of_release  16681 non-null  float64\n",
      " 3   genre            16954 non-null  object \n",
      " 4   na_sales         16956 non-null  float64\n",
      " 5   eu_sales         16950 non-null  float64\n",
      " 6   jp_sales         16950 non-null  float64\n",
      " 7   other_sales      16956 non-null  float64\n",
      " 8   critic_score     8242 non-null   float64\n",
      " 9   user_score       7688 non-null   float64\n",
      " 10  rating           10085 non-null  object \n",
      "dtypes: float64(7), object(4)\n",
      "memory usage: 1.4+ MB\n"
     ]
    }
   ],
   "source": [
    "df.info()"
   ]
  },
  {
   "cell_type": "markdown",
   "metadata": {},
   "source": [
    "#### 2.3. Наличие пропусков в данных"
   ]
  },
  {
   "cell_type": "code",
   "execution_count": 8,
   "metadata": {},
   "outputs": [
    {
     "name": "stdout",
     "output_type": "stream",
     "text": [
      "Количество пропусков в каждом столбце после обработки:\n",
      "name                  2\n",
      "platform              0\n",
      "year_of_release     275\n",
      "genre                 2\n",
      "na_sales              0\n",
      "eu_sales              6\n",
      "jp_sales              6\n",
      "other_sales           0\n",
      "critic_score       8714\n",
      "user_score         9268\n",
      "rating             6871\n",
      "dtype: int64\n"
     ]
    }
   ],
   "source": [
    "# Считаем количество пропусков\n",
    "print(f'Количество пропусков в каждом столбце после обработки:')\n",
    "print(df.isnull().sum())"
   ]
  },
  {
   "cell_type": "code",
   "execution_count": 9,
   "metadata": {},
   "outputs": [
    {
     "name": "stdout",
     "output_type": "stream",
     "text": [
      "Относительное количество пропусков в каждом столбце:\n",
      "name                0.011795\n",
      "platform            0.000000\n",
      "year_of_release     1.621845\n",
      "genre               0.011795\n",
      "na_sales            0.000000\n",
      "eu_sales            0.035386\n",
      "jp_sales            0.035386\n",
      "other_sales         0.000000\n",
      "critic_score       51.391838\n",
      "user_score         54.659118\n",
      "rating             40.522529\n",
      "dtype: float64\n"
     ]
    }
   ],
   "source": [
    "# Считаем относительное количество пропусков\n",
    "relative_missing = df.isnull().mean() * 100\n",
    "\n",
    "# Выводим результат в таблице\n",
    "print('Относительное количество пропусков в каждом столбце:')\n",
    "print(relative_missing)"
   ]
  },
  {
   "cell_type": "markdown",
   "metadata": {},
   "source": [
    "*Столбец \"name\" содержит всего 2 пропуска, что составляет 0,01% от общего числа записей и столбец \"year_of_release\" имеет 275 пропусков, что составляет 1,6% от общего числа записей. Это может быть связано как с ошибками ввода данных, так и с отсутствием информации о дате выхода игр. В столбце \"critic_score\" количество пропусков значительно выше — 8714 значений, что составляет 51,4%. Это указывает на то, что многие игры не были оценены критиками или не получили официальных рецензий.\n",
    "В \"user_score\" зафиксировано 6804 пропуска, что соответствует 40,1%. Это может быть следствием отсутствия пользовательских оценок или ошибок в процессе сбора информации. Столбец \"rating\" также содержит 6871 пропуск, что составляет 40,5%. Это может указывать на нехватку информации о возрастных категориях игр или трудности в их классификации по рейтингам.\n",
    "С точки зрения обработки пропусков, для таких столбцов, как \"name\" и \"year_of_release\", где количество пропусков относительно невелико, возможно, целесообразно удалить записи с пропусками. Для столбцов с более значительным количеством отсутствующих значений, таких как \"critic_score\" и \"user_score\", стоит рассмотреть вариант заполнения пропусков медианой или средним значением. Для столбца \"rating\" можно ввести категорию \"не указано\" для отражения отсутствия информации о возрастной категории.*"
   ]
  },
  {
   "cell_type": "code",
   "execution_count": 10,
   "metadata": {},
   "outputs": [],
   "source": [
    "# Удаляем пропущенные названия игр\n",
    "df=df.dropna(subset=['name'])"
   ]
  },
  {
   "cell_type": "code",
   "execution_count": 11,
   "metadata": {},
   "outputs": [],
   "source": [
    "# Удаляем пропущенные значения по году выпуска игры\n",
    "df=df.dropna(subset=['year_of_release'])"
   ]
  },
  {
   "cell_type": "code",
   "execution_count": 12,
   "metadata": {},
   "outputs": [],
   "source": [
    "# Заполненяем пропуски медианой\n",
    "df['critic_score']=df['critic_score'].fillna(df['critic_score'].median())\n",
    "df['user_score']=df['user_score'].fillna(df['user_score'].median())\n",
    "df['eu_sales']=df['eu_sales'].fillna(df['eu_sales'].median())\n",
    "df['jp_sales']=df['jp_sales'].fillna(df['jp_sales'].median())\n",
    "df['rating'] = df['rating'].fillna('Не указано')"
   ]
  },
  {
   "cell_type": "code",
   "execution_count": 13,
   "metadata": {},
   "outputs": [
    {
     "name": "stdout",
     "output_type": "stream",
     "text": [
      "Количество пропусков в каждом столбце после обработки:\n",
      "name               0\n",
      "platform           0\n",
      "year_of_release    0\n",
      "genre              0\n",
      "na_sales           0\n",
      "eu_sales           0\n",
      "jp_sales           0\n",
      "other_sales        0\n",
      "critic_score       0\n",
      "user_score         0\n",
      "rating             0\n",
      "dtype: int64\n"
     ]
    }
   ],
   "source": [
    "# Считаем количество пропусков\n",
    "print(f'Количество пропусков в каждом столбце после обработки:')\n",
    "print(df.isnull().sum())"
   ]
  },
  {
   "cell_type": "code",
   "execution_count": 14,
   "metadata": {},
   "outputs": [
    {
     "data": {
      "text/html": [
       "<div>\n",
       "<style scoped>\n",
       "    .dataframe tbody tr th:only-of-type {\n",
       "        vertical-align: middle;\n",
       "    }\n",
       "\n",
       "    .dataframe tbody tr th {\n",
       "        vertical-align: top;\n",
       "    }\n",
       "\n",
       "    .dataframe thead th {\n",
       "        text-align: right;\n",
       "    }\n",
       "</style>\n",
       "<table border=\"1\" class=\"dataframe\">\n",
       "  <thead>\n",
       "    <tr style=\"text-align: right;\">\n",
       "      <th></th>\n",
       "      <th>name</th>\n",
       "      <th>platform</th>\n",
       "      <th>year_of_release</th>\n",
       "      <th>genre</th>\n",
       "      <th>na_sales</th>\n",
       "      <th>eu_sales</th>\n",
       "      <th>jp_sales</th>\n",
       "      <th>other_sales</th>\n",
       "      <th>critic_score</th>\n",
       "      <th>user_score</th>\n",
       "      <th>rating</th>\n",
       "    </tr>\n",
       "  </thead>\n",
       "  <tbody>\n",
       "    <tr>\n",
       "      <th>0</th>\n",
       "      <td>SPORTS</td>\n",
       "      <td>Wii</td>\n",
       "      <td>2006.0</td>\n",
       "      <td>sports</td>\n",
       "      <td>41.36</td>\n",
       "      <td>28.96</td>\n",
       "      <td>28.96</td>\n",
       "      <td>8.45</td>\n",
       "      <td>76.0</td>\n",
       "      <td>8.0</td>\n",
       "      <td>E</td>\n",
       "    </tr>\n",
       "    <tr>\n",
       "      <th>1</th>\n",
       "      <td>PLATFORM</td>\n",
       "      <td>NES</td>\n",
       "      <td>1985.0</td>\n",
       "      <td>platform</td>\n",
       "      <td>29.08</td>\n",
       "      <td>3.58</td>\n",
       "      <td>3.58</td>\n",
       "      <td>0.77</td>\n",
       "      <td>71.0</td>\n",
       "      <td>7.5</td>\n",
       "      <td>НЕ УКАЗАНО</td>\n",
       "    </tr>\n",
       "    <tr>\n",
       "      <th>2</th>\n",
       "      <td>RACING</td>\n",
       "      <td>Wii</td>\n",
       "      <td>2008.0</td>\n",
       "      <td>racing</td>\n",
       "      <td>15.68</td>\n",
       "      <td>12.76</td>\n",
       "      <td>12.76</td>\n",
       "      <td>3.29</td>\n",
       "      <td>82.0</td>\n",
       "      <td>8.3</td>\n",
       "      <td>E</td>\n",
       "    </tr>\n",
       "    <tr>\n",
       "      <th>3</th>\n",
       "      <td>SPORTS</td>\n",
       "      <td>Wii</td>\n",
       "      <td>2009.0</td>\n",
       "      <td>sports</td>\n",
       "      <td>15.61</td>\n",
       "      <td>10.93</td>\n",
       "      <td>10.93</td>\n",
       "      <td>2.95</td>\n",
       "      <td>80.0</td>\n",
       "      <td>8.0</td>\n",
       "      <td>E</td>\n",
       "    </tr>\n",
       "    <tr>\n",
       "      <th>4</th>\n",
       "      <td>ROLE-PLAYING</td>\n",
       "      <td>GB</td>\n",
       "      <td>1996.0</td>\n",
       "      <td>role-playing</td>\n",
       "      <td>11.27</td>\n",
       "      <td>8.89</td>\n",
       "      <td>8.89</td>\n",
       "      <td>1.00</td>\n",
       "      <td>71.0</td>\n",
       "      <td>7.5</td>\n",
       "      <td>НЕ УКАЗАНО</td>\n",
       "    </tr>\n",
       "    <tr>\n",
       "      <th>...</th>\n",
       "      <td>...</td>\n",
       "      <td>...</td>\n",
       "      <td>...</td>\n",
       "      <td>...</td>\n",
       "      <td>...</td>\n",
       "      <td>...</td>\n",
       "      <td>...</td>\n",
       "      <td>...</td>\n",
       "      <td>...</td>\n",
       "      <td>...</td>\n",
       "      <td>...</td>\n",
       "    </tr>\n",
       "    <tr>\n",
       "      <th>16951</th>\n",
       "      <td>ACTION</td>\n",
       "      <td>PS3</td>\n",
       "      <td>2016.0</td>\n",
       "      <td>action</td>\n",
       "      <td>0.00</td>\n",
       "      <td>0.00</td>\n",
       "      <td>0.00</td>\n",
       "      <td>0.00</td>\n",
       "      <td>71.0</td>\n",
       "      <td>7.5</td>\n",
       "      <td>НЕ УКАЗАНО</td>\n",
       "    </tr>\n",
       "    <tr>\n",
       "      <th>16952</th>\n",
       "      <td>SPORTS</td>\n",
       "      <td>X360</td>\n",
       "      <td>2006.0</td>\n",
       "      <td>sports</td>\n",
       "      <td>0.00</td>\n",
       "      <td>0.01</td>\n",
       "      <td>0.01</td>\n",
       "      <td>0.00</td>\n",
       "      <td>71.0</td>\n",
       "      <td>7.5</td>\n",
       "      <td>НЕ УКАЗАНО</td>\n",
       "    </tr>\n",
       "    <tr>\n",
       "      <th>16953</th>\n",
       "      <td>ADVENTURE</td>\n",
       "      <td>PSV</td>\n",
       "      <td>2016.0</td>\n",
       "      <td>adventure</td>\n",
       "      <td>0.00</td>\n",
       "      <td>0.00</td>\n",
       "      <td>0.00</td>\n",
       "      <td>0.00</td>\n",
       "      <td>71.0</td>\n",
       "      <td>7.5</td>\n",
       "      <td>НЕ УКАЗАНО</td>\n",
       "    </tr>\n",
       "    <tr>\n",
       "      <th>16954</th>\n",
       "      <td>PLATFORM</td>\n",
       "      <td>GBA</td>\n",
       "      <td>2003.0</td>\n",
       "      <td>platform</td>\n",
       "      <td>0.01</td>\n",
       "      <td>0.00</td>\n",
       "      <td>0.00</td>\n",
       "      <td>0.00</td>\n",
       "      <td>71.0</td>\n",
       "      <td>7.5</td>\n",
       "      <td>НЕ УКАЗАНО</td>\n",
       "    </tr>\n",
       "    <tr>\n",
       "      <th>16955</th>\n",
       "      <td>SIMULATION</td>\n",
       "      <td>PSV</td>\n",
       "      <td>2016.0</td>\n",
       "      <td>simulation</td>\n",
       "      <td>0.00</td>\n",
       "      <td>0.00</td>\n",
       "      <td>0.00</td>\n",
       "      <td>0.00</td>\n",
       "      <td>71.0</td>\n",
       "      <td>7.5</td>\n",
       "      <td>НЕ УКАЗАНО</td>\n",
       "    </tr>\n",
       "  </tbody>\n",
       "</table>\n",
       "<p>16679 rows × 11 columns</p>\n",
       "</div>"
      ],
      "text/plain": [
       "               name platform  year_of_release         genre  na_sales  \\\n",
       "0            SPORTS      Wii           2006.0        sports     41.36   \n",
       "1          PLATFORM      NES           1985.0      platform     29.08   \n",
       "2            RACING      Wii           2008.0        racing     15.68   \n",
       "3            SPORTS      Wii           2009.0        sports     15.61   \n",
       "4      ROLE-PLAYING       GB           1996.0  role-playing     11.27   \n",
       "...             ...      ...              ...           ...       ...   \n",
       "16951        ACTION      PS3           2016.0        action      0.00   \n",
       "16952        SPORTS     X360           2006.0        sports      0.00   \n",
       "16953     ADVENTURE      PSV           2016.0     adventure      0.00   \n",
       "16954      PLATFORM      GBA           2003.0      platform      0.01   \n",
       "16955    SIMULATION      PSV           2016.0    simulation      0.00   \n",
       "\n",
       "       eu_sales  jp_sales  other_sales  critic_score  user_score      rating  \n",
       "0         28.96     28.96         8.45          76.0         8.0           E  \n",
       "1          3.58      3.58         0.77          71.0         7.5  НЕ УКАЗАНО  \n",
       "2         12.76     12.76         3.29          82.0         8.3           E  \n",
       "3         10.93     10.93         2.95          80.0         8.0           E  \n",
       "4          8.89      8.89         1.00          71.0         7.5  НЕ УКАЗАНО  \n",
       "...         ...       ...          ...           ...         ...         ...  \n",
       "16951      0.00      0.00         0.00          71.0         7.5  НЕ УКАЗАНО  \n",
       "16952      0.01      0.01         0.00          71.0         7.5  НЕ УКАЗАНО  \n",
       "16953      0.00      0.00         0.00          71.0         7.5  НЕ УКАЗАНО  \n",
       "16954      0.00      0.00         0.00          71.0         7.5  НЕ УКАЗАНО  \n",
       "16955      0.00      0.00         0.00          71.0         7.5  НЕ УКАЗАНО  \n",
       "\n",
       "[16679 rows x 11 columns]"
      ]
     },
     "execution_count": 14,
     "metadata": {},
     "output_type": "execute_result"
    }
   ],
   "source": [
    "# Преобразование в нижний регистр для жанров и в верхний для наименований и рейтингов\n",
    "df['genre'] = df['genre'].str.lower().str.strip()\n",
    "df['name'] = df['genre'].str.upper().str.strip()\n",
    "df['rating'] = df['rating'].str.upper().str.strip()\n",
    "(df)"
   ]
  },
  {
   "cell_type": "code",
   "execution_count": 15,
   "metadata": {},
   "outputs": [
    {
     "name": "stdout",
     "output_type": "stream",
     "text": [
      "Количество явных дубликатов в данных: 2776\n"
     ]
    }
   ],
   "source": [
    "# Подсчет явных дубликатов по всем столбцам\n",
    "duplicates = df.duplicated().sum()\n",
    "print(f'Количество явных дубликатов в данных: {duplicates}')"
   ]
  },
  {
   "cell_type": "code",
   "execution_count": 16,
   "metadata": {},
   "outputs": [
    {
     "name": "stdout",
     "output_type": "stream",
     "text": [
      "Количество дублирующихся записей: 4063\n",
      "            name platform  year_of_release      genre  na_sales  eu_sales  \\\n",
      "268       ACTION      PS3           2009.0     action      2.24      1.31   \n",
      "368      SHOOTER      PS2           2001.0    shooter      1.90      1.13   \n",
      "717       ACTION      PS3           2013.0     action      1.23      0.63   \n",
      "823         MISC      Wii           2009.0       misc      1.94      0.00   \n",
      "848         MISC      Wii           2008.0       misc      0.72      1.08   \n",
      "...          ...      ...              ...        ...       ...       ...   \n",
      "16947    SHOOTER       GC           2003.0    shooter      0.01      0.00   \n",
      "16948       MISC      PSV           2014.0       misc      0.00      0.00   \n",
      "16951     ACTION      PS3           2016.0     action      0.00      0.00   \n",
      "16953  ADVENTURE      PSV           2016.0  adventure      0.00      0.00   \n",
      "16954   PLATFORM      GBA           2003.0   platform      0.01      0.00   \n",
      "\n",
      "       jp_sales  other_sales  critic_score  user_score      rating  \n",
      "268        1.31         0.61          91.0         8.9           T  \n",
      "368        1.13         0.41          72.0         7.9           T  \n",
      "717        0.63         0.35          80.0         7.5           M  \n",
      "823        0.00         0.12          71.0         7.5  НЕ УКАЗАНО  \n",
      "848        1.08         0.23          73.0         7.7        E10+  \n",
      "...         ...          ...           ...         ...         ...  \n",
      "16947      0.00         0.00          71.0         7.5           T  \n",
      "16948      0.00         0.00          71.0         7.5  НЕ УКАЗАНО  \n",
      "16951      0.00         0.00          71.0         7.5  НЕ УКАЗАНО  \n",
      "16953      0.00         0.00          71.0         7.5  НЕ УКАЗАНО  \n",
      "16954      0.00         0.00          71.0         7.5  НЕ УКАЗАНО  \n",
      "\n",
      "[4063 rows x 11 columns]\n"
     ]
    }
   ],
   "source": [
    "# Считаем количесвто неявных дубликатов\n",
    "\n",
    "# Выбор столбцов для анализа\n",
    "columns_to_check = ['name', 'platform', 'year_of_release', 'genre', 'na_sales', 'eu_sales', 'jp_sales', 'other_sales']\n",
    "\n",
    "# Определение дубликатов\n",
    "duplicates = df.duplicated(subset=columns_to_check)\n",
    "\n",
    "# Количество дублированных записей\n",
    "print(f'Количество дублирующихся записей: {sum(duplicates)}')\n",
    "\n",
    "# Вывод всех дублирующих записей\n",
    "if sum(duplicates) > 0:\n",
    "    print(df[duplicates])"
   ]
  },
  {
   "cell_type": "code",
   "execution_count": 17,
   "metadata": {},
   "outputs": [
    {
     "name": "stdout",
     "output_type": "stream",
     "text": [
      "Количество строк до удаления: 16679 (абсолютное значение)\n"
     ]
    }
   ],
   "source": [
    "# Считаем количество строк до удаления\n",
    "total_rows = df.shape[0]\n",
    "print(f'Количество строк до удаления: {total_rows} (абсолютное значение)')"
   ]
  },
  {
   "cell_type": "code",
   "execution_count": 18,
   "metadata": {},
   "outputs": [],
   "source": [
    "# Удаляем дубликаты\n",
    "df = df.drop_duplicates()"
   ]
  },
  {
   "cell_type": "code",
   "execution_count": 19,
   "metadata": {},
   "outputs": [],
   "source": [
    "# Удаляем строки с пропусками\n",
    "df_cleaned = df.dropna()"
   ]
  },
  {
   "cell_type": "code",
   "execution_count": 20,
   "metadata": {},
   "outputs": [],
   "source": [
    "\n",
    "# Считаем количество удалённых строк\n",
    "deleted_rows = total_rows - df_cleaned.shape[0]"
   ]
  },
  {
   "cell_type": "code",
   "execution_count": 21,
   "metadata": {},
   "outputs": [],
   "source": [
    "# Считаем относительное количество удалённых строк в процентах\n",
    "relative_deleted = (deleted_rows / total_rows) * 100"
   ]
  },
  {
   "cell_type": "code",
   "execution_count": 22,
   "metadata": {},
   "outputs": [
    {
     "data": {
      "text/html": [
       "<div>\n",
       "<style scoped>\n",
       "    .dataframe tbody tr th:only-of-type {\n",
       "        vertical-align: middle;\n",
       "    }\n",
       "\n",
       "    .dataframe tbody tr th {\n",
       "        vertical-align: top;\n",
       "    }\n",
       "\n",
       "    .dataframe thead th {\n",
       "        text-align: right;\n",
       "    }\n",
       "</style>\n",
       "<table border=\"1\" class=\"dataframe\">\n",
       "  <thead>\n",
       "    <tr style=\"text-align: right;\">\n",
       "      <th></th>\n",
       "      <th>name</th>\n",
       "      <th>platform</th>\n",
       "      <th>year_of_release</th>\n",
       "      <th>genre</th>\n",
       "      <th>na_sales</th>\n",
       "      <th>eu_sales</th>\n",
       "      <th>jp_sales</th>\n",
       "      <th>other_sales</th>\n",
       "      <th>critic_score</th>\n",
       "      <th>user_score</th>\n",
       "      <th>rating</th>\n",
       "    </tr>\n",
       "  </thead>\n",
       "  <tbody>\n",
       "    <tr>\n",
       "      <th>0</th>\n",
       "      <td>SPORTS</td>\n",
       "      <td>Wii</td>\n",
       "      <td>2006.0</td>\n",
       "      <td>sports</td>\n",
       "      <td>41.36</td>\n",
       "      <td>28.96</td>\n",
       "      <td>28.96</td>\n",
       "      <td>8.45</td>\n",
       "      <td>76.0</td>\n",
       "      <td>8.0</td>\n",
       "      <td>E</td>\n",
       "    </tr>\n",
       "    <tr>\n",
       "      <th>2</th>\n",
       "      <td>RACING</td>\n",
       "      <td>Wii</td>\n",
       "      <td>2008.0</td>\n",
       "      <td>racing</td>\n",
       "      <td>15.68</td>\n",
       "      <td>12.76</td>\n",
       "      <td>12.76</td>\n",
       "      <td>3.29</td>\n",
       "      <td>82.0</td>\n",
       "      <td>8.3</td>\n",
       "      <td>E</td>\n",
       "    </tr>\n",
       "    <tr>\n",
       "      <th>3</th>\n",
       "      <td>SPORTS</td>\n",
       "      <td>Wii</td>\n",
       "      <td>2009.0</td>\n",
       "      <td>sports</td>\n",
       "      <td>15.61</td>\n",
       "      <td>10.93</td>\n",
       "      <td>10.93</td>\n",
       "      <td>2.95</td>\n",
       "      <td>80.0</td>\n",
       "      <td>8.0</td>\n",
       "      <td>E</td>\n",
       "    </tr>\n",
       "    <tr>\n",
       "      <th>6</th>\n",
       "      <td>PLATFORM</td>\n",
       "      <td>DS</td>\n",
       "      <td>2006.0</td>\n",
       "      <td>platform</td>\n",
       "      <td>11.28</td>\n",
       "      <td>9.14</td>\n",
       "      <td>9.14</td>\n",
       "      <td>2.88</td>\n",
       "      <td>89.0</td>\n",
       "      <td>8.5</td>\n",
       "      <td>E</td>\n",
       "    </tr>\n",
       "    <tr>\n",
       "      <th>7</th>\n",
       "      <td>MISC</td>\n",
       "      <td>Wii</td>\n",
       "      <td>2006.0</td>\n",
       "      <td>misc</td>\n",
       "      <td>13.96</td>\n",
       "      <td>9.18</td>\n",
       "      <td>9.18</td>\n",
       "      <td>2.84</td>\n",
       "      <td>58.0</td>\n",
       "      <td>6.6</td>\n",
       "      <td>E</td>\n",
       "    </tr>\n",
       "    <tr>\n",
       "      <th>...</th>\n",
       "      <td>...</td>\n",
       "      <td>...</td>\n",
       "      <td>...</td>\n",
       "      <td>...</td>\n",
       "      <td>...</td>\n",
       "      <td>...</td>\n",
       "      <td>...</td>\n",
       "      <td>...</td>\n",
       "      <td>...</td>\n",
       "      <td>...</td>\n",
       "      <td>...</td>\n",
       "    </tr>\n",
       "    <tr>\n",
       "      <th>16946</th>\n",
       "      <td>ADVENTURE</td>\n",
       "      <td>PC</td>\n",
       "      <td>2009.0</td>\n",
       "      <td>adventure</td>\n",
       "      <td>0.00</td>\n",
       "      <td>0.01</td>\n",
       "      <td>0.01</td>\n",
       "      <td>0.00</td>\n",
       "      <td>63.0</td>\n",
       "      <td>5.8</td>\n",
       "      <td>НЕ УКАЗАНО</td>\n",
       "    </tr>\n",
       "    <tr>\n",
       "      <th>16947</th>\n",
       "      <td>SHOOTER</td>\n",
       "      <td>GC</td>\n",
       "      <td>2003.0</td>\n",
       "      <td>shooter</td>\n",
       "      <td>0.01</td>\n",
       "      <td>0.00</td>\n",
       "      <td>0.00</td>\n",
       "      <td>0.00</td>\n",
       "      <td>71.0</td>\n",
       "      <td>7.5</td>\n",
       "      <td>T</td>\n",
       "    </tr>\n",
       "    <tr>\n",
       "      <th>16949</th>\n",
       "      <td>PLATFORM</td>\n",
       "      <td>GBA</td>\n",
       "      <td>2002.0</td>\n",
       "      <td>platform</td>\n",
       "      <td>0.01</td>\n",
       "      <td>0.00</td>\n",
       "      <td>0.00</td>\n",
       "      <td>0.00</td>\n",
       "      <td>71.0</td>\n",
       "      <td>7.5</td>\n",
       "      <td>НЕ УКАЗАНО</td>\n",
       "    </tr>\n",
       "    <tr>\n",
       "      <th>16950</th>\n",
       "      <td>RACING</td>\n",
       "      <td>PS2</td>\n",
       "      <td>2008.0</td>\n",
       "      <td>racing</td>\n",
       "      <td>0.00</td>\n",
       "      <td>0.00</td>\n",
       "      <td>0.00</td>\n",
       "      <td>0.00</td>\n",
       "      <td>71.0</td>\n",
       "      <td>7.5</td>\n",
       "      <td>НЕ УКАЗАНО</td>\n",
       "    </tr>\n",
       "    <tr>\n",
       "      <th>16952</th>\n",
       "      <td>SPORTS</td>\n",
       "      <td>X360</td>\n",
       "      <td>2006.0</td>\n",
       "      <td>sports</td>\n",
       "      <td>0.00</td>\n",
       "      <td>0.01</td>\n",
       "      <td>0.01</td>\n",
       "      <td>0.00</td>\n",
       "      <td>71.0</td>\n",
       "      <td>7.5</td>\n",
       "      <td>НЕ УКАЗАНО</td>\n",
       "    </tr>\n",
       "  </tbody>\n",
       "</table>\n",
       "<p>11014 rows × 11 columns</p>\n",
       "</div>"
      ],
      "text/plain": [
       "            name platform  year_of_release      genre  na_sales  eu_sales  \\\n",
       "0         SPORTS      Wii           2006.0     sports     41.36     28.96   \n",
       "2         RACING      Wii           2008.0     racing     15.68     12.76   \n",
       "3         SPORTS      Wii           2009.0     sports     15.61     10.93   \n",
       "6       PLATFORM       DS           2006.0   platform     11.28      9.14   \n",
       "7           MISC      Wii           2006.0       misc     13.96      9.18   \n",
       "...          ...      ...              ...        ...       ...       ...   \n",
       "16946  ADVENTURE       PC           2009.0  adventure      0.00      0.01   \n",
       "16947    SHOOTER       GC           2003.0    shooter      0.01      0.00   \n",
       "16949   PLATFORM      GBA           2002.0   platform      0.01      0.00   \n",
       "16950     RACING      PS2           2008.0     racing      0.00      0.00   \n",
       "16952     SPORTS     X360           2006.0     sports      0.00      0.01   \n",
       "\n",
       "       jp_sales  other_sales  critic_score  user_score      rating  \n",
       "0         28.96         8.45          76.0         8.0           E  \n",
       "2         12.76         3.29          82.0         8.3           E  \n",
       "3         10.93         2.95          80.0         8.0           E  \n",
       "6          9.14         2.88          89.0         8.5           E  \n",
       "7          9.18         2.84          58.0         6.6           E  \n",
       "...         ...          ...           ...         ...         ...  \n",
       "16946      0.01         0.00          63.0         5.8  НЕ УКАЗАНО  \n",
       "16947      0.00         0.00          71.0         7.5           T  \n",
       "16949      0.00         0.00          71.0         7.5  НЕ УКАЗАНО  \n",
       "16950      0.00         0.00          71.0         7.5  НЕ УКАЗАНО  \n",
       "16952      0.01         0.00          71.0         7.5  НЕ УКАЗАНО  \n",
       "\n",
       "[11014 rows x 11 columns]"
      ]
     },
     "execution_count": 22,
     "metadata": {},
     "output_type": "execute_result"
    }
   ],
   "source": [
    "# Фильтрация данных по году\n",
    "df_actual = df_cleaned[(df_cleaned['year_of_release'] >=2000) & (df_cleaned['year_of_release'] <= 2013)]\n",
    "(df_actual)\n"
   ]
  },
  {
   "cell_type": "code",
   "execution_count": 23,
   "metadata": {},
   "outputs": [
    {
     "name": "stderr",
     "output_type": "stream",
     "text": [
      "/opt/conda/lib/python3.9/site-packages/pandas/core/indexing.py:1597: SettingWithCopyWarning: \n",
      "A value is trying to be set on a copy of a slice from a DataFrame.\n",
      "Try using .loc[row_indexer,col_indexer] = value instead\n",
      "\n",
      "See the caveats in the documentation: https://pandas.pydata.org/pandas-docs/stable/user_guide/indexing.html#returning-a-view-versus-a-copy\n",
      "  self.obj[key] = value\n",
      "/opt/conda/lib/python3.9/site-packages/pandas/core/indexing.py:1676: SettingWithCopyWarning: \n",
      "A value is trying to be set on a copy of a slice from a DataFrame.\n",
      "Try using .loc[row_indexer,col_indexer] = value instead\n",
      "\n",
      "See the caveats in the documentation: https://pandas.pydata.org/pandas-docs/stable/user_guide/indexing.html#returning-a-view-versus-a-copy\n",
      "  self._setitem_single_column(ilocs[0], value, pi)\n"
     ]
    },
    {
     "data": {
      "text/html": [
       "<div>\n",
       "<style scoped>\n",
       "    .dataframe tbody tr th:only-of-type {\n",
       "        vertical-align: middle;\n",
       "    }\n",
       "\n",
       "    .dataframe tbody tr th {\n",
       "        vertical-align: top;\n",
       "    }\n",
       "\n",
       "    .dataframe thead th {\n",
       "        text-align: right;\n",
       "    }\n",
       "</style>\n",
       "<table border=\"1\" class=\"dataframe\">\n",
       "  <thead>\n",
       "    <tr style=\"text-align: right;\">\n",
       "      <th></th>\n",
       "      <th>name</th>\n",
       "      <th>platform</th>\n",
       "      <th>year_of_release</th>\n",
       "      <th>genre</th>\n",
       "      <th>na_sales</th>\n",
       "      <th>eu_sales</th>\n",
       "      <th>jp_sales</th>\n",
       "      <th>other_sales</th>\n",
       "      <th>critic_score</th>\n",
       "      <th>user_score</th>\n",
       "      <th>rating</th>\n",
       "      <th>user_category</th>\n",
       "      <th>critic_category</th>\n",
       "    </tr>\n",
       "  </thead>\n",
       "  <tbody>\n",
       "    <tr>\n",
       "      <th>0</th>\n",
       "      <td>SPORTS</td>\n",
       "      <td>Wii</td>\n",
       "      <td>2006.0</td>\n",
       "      <td>sports</td>\n",
       "      <td>41.36</td>\n",
       "      <td>28.96</td>\n",
       "      <td>28.96</td>\n",
       "      <td>8.45</td>\n",
       "      <td>76.0</td>\n",
       "      <td>8.0</td>\n",
       "      <td>E</td>\n",
       "      <td>высокая оценка</td>\n",
       "      <td>средняя оценка</td>\n",
       "    </tr>\n",
       "    <tr>\n",
       "      <th>2</th>\n",
       "      <td>RACING</td>\n",
       "      <td>Wii</td>\n",
       "      <td>2008.0</td>\n",
       "      <td>racing</td>\n",
       "      <td>15.68</td>\n",
       "      <td>12.76</td>\n",
       "      <td>12.76</td>\n",
       "      <td>3.29</td>\n",
       "      <td>82.0</td>\n",
       "      <td>8.3</td>\n",
       "      <td>E</td>\n",
       "      <td>высокая оценка</td>\n",
       "      <td>высокая оценка</td>\n",
       "    </tr>\n",
       "    <tr>\n",
       "      <th>3</th>\n",
       "      <td>SPORTS</td>\n",
       "      <td>Wii</td>\n",
       "      <td>2009.0</td>\n",
       "      <td>sports</td>\n",
       "      <td>15.61</td>\n",
       "      <td>10.93</td>\n",
       "      <td>10.93</td>\n",
       "      <td>2.95</td>\n",
       "      <td>80.0</td>\n",
       "      <td>8.0</td>\n",
       "      <td>E</td>\n",
       "      <td>высокая оценка</td>\n",
       "      <td>высокая оценка</td>\n",
       "    </tr>\n",
       "    <tr>\n",
       "      <th>6</th>\n",
       "      <td>PLATFORM</td>\n",
       "      <td>DS</td>\n",
       "      <td>2006.0</td>\n",
       "      <td>platform</td>\n",
       "      <td>11.28</td>\n",
       "      <td>9.14</td>\n",
       "      <td>9.14</td>\n",
       "      <td>2.88</td>\n",
       "      <td>89.0</td>\n",
       "      <td>8.5</td>\n",
       "      <td>E</td>\n",
       "      <td>высокая оценка</td>\n",
       "      <td>высокая оценка</td>\n",
       "    </tr>\n",
       "    <tr>\n",
       "      <th>7</th>\n",
       "      <td>MISC</td>\n",
       "      <td>Wii</td>\n",
       "      <td>2006.0</td>\n",
       "      <td>misc</td>\n",
       "      <td>13.96</td>\n",
       "      <td>9.18</td>\n",
       "      <td>9.18</td>\n",
       "      <td>2.84</td>\n",
       "      <td>58.0</td>\n",
       "      <td>6.6</td>\n",
       "      <td>E</td>\n",
       "      <td>средняя оценка</td>\n",
       "      <td>средняя оценка</td>\n",
       "    </tr>\n",
       "    <tr>\n",
       "      <th>...</th>\n",
       "      <td>...</td>\n",
       "      <td>...</td>\n",
       "      <td>...</td>\n",
       "      <td>...</td>\n",
       "      <td>...</td>\n",
       "      <td>...</td>\n",
       "      <td>...</td>\n",
       "      <td>...</td>\n",
       "      <td>...</td>\n",
       "      <td>...</td>\n",
       "      <td>...</td>\n",
       "      <td>...</td>\n",
       "      <td>...</td>\n",
       "    </tr>\n",
       "    <tr>\n",
       "      <th>16946</th>\n",
       "      <td>ADVENTURE</td>\n",
       "      <td>PC</td>\n",
       "      <td>2009.0</td>\n",
       "      <td>adventure</td>\n",
       "      <td>0.00</td>\n",
       "      <td>0.01</td>\n",
       "      <td>0.01</td>\n",
       "      <td>0.00</td>\n",
       "      <td>63.0</td>\n",
       "      <td>5.8</td>\n",
       "      <td>НЕ УКАЗАНО</td>\n",
       "      <td>средняя оценка</td>\n",
       "      <td>средняя оценка</td>\n",
       "    </tr>\n",
       "    <tr>\n",
       "      <th>16947</th>\n",
       "      <td>SHOOTER</td>\n",
       "      <td>GC</td>\n",
       "      <td>2003.0</td>\n",
       "      <td>shooter</td>\n",
       "      <td>0.01</td>\n",
       "      <td>0.00</td>\n",
       "      <td>0.00</td>\n",
       "      <td>0.00</td>\n",
       "      <td>71.0</td>\n",
       "      <td>7.5</td>\n",
       "      <td>T</td>\n",
       "      <td>средняя оценка</td>\n",
       "      <td>средняя оценка</td>\n",
       "    </tr>\n",
       "    <tr>\n",
       "      <th>16949</th>\n",
       "      <td>PLATFORM</td>\n",
       "      <td>GBA</td>\n",
       "      <td>2002.0</td>\n",
       "      <td>platform</td>\n",
       "      <td>0.01</td>\n",
       "      <td>0.00</td>\n",
       "      <td>0.00</td>\n",
       "      <td>0.00</td>\n",
       "      <td>71.0</td>\n",
       "      <td>7.5</td>\n",
       "      <td>НЕ УКАЗАНО</td>\n",
       "      <td>средняя оценка</td>\n",
       "      <td>средняя оценка</td>\n",
       "    </tr>\n",
       "    <tr>\n",
       "      <th>16950</th>\n",
       "      <td>RACING</td>\n",
       "      <td>PS2</td>\n",
       "      <td>2008.0</td>\n",
       "      <td>racing</td>\n",
       "      <td>0.00</td>\n",
       "      <td>0.00</td>\n",
       "      <td>0.00</td>\n",
       "      <td>0.00</td>\n",
       "      <td>71.0</td>\n",
       "      <td>7.5</td>\n",
       "      <td>НЕ УКАЗАНО</td>\n",
       "      <td>средняя оценка</td>\n",
       "      <td>средняя оценка</td>\n",
       "    </tr>\n",
       "    <tr>\n",
       "      <th>16952</th>\n",
       "      <td>SPORTS</td>\n",
       "      <td>X360</td>\n",
       "      <td>2006.0</td>\n",
       "      <td>sports</td>\n",
       "      <td>0.00</td>\n",
       "      <td>0.01</td>\n",
       "      <td>0.01</td>\n",
       "      <td>0.00</td>\n",
       "      <td>71.0</td>\n",
       "      <td>7.5</td>\n",
       "      <td>НЕ УКАЗАНО</td>\n",
       "      <td>средняя оценка</td>\n",
       "      <td>средняя оценка</td>\n",
       "    </tr>\n",
       "  </tbody>\n",
       "</table>\n",
       "<p>11014 rows × 13 columns</p>\n",
       "</div>"
      ],
      "text/plain": [
       "            name platform  year_of_release      genre  na_sales  eu_sales  \\\n",
       "0         SPORTS      Wii           2006.0     sports     41.36     28.96   \n",
       "2         RACING      Wii           2008.0     racing     15.68     12.76   \n",
       "3         SPORTS      Wii           2009.0     sports     15.61     10.93   \n",
       "6       PLATFORM       DS           2006.0   platform     11.28      9.14   \n",
       "7           MISC      Wii           2006.0       misc     13.96      9.18   \n",
       "...          ...      ...              ...        ...       ...       ...   \n",
       "16946  ADVENTURE       PC           2009.0  adventure      0.00      0.01   \n",
       "16947    SHOOTER       GC           2003.0    shooter      0.01      0.00   \n",
       "16949   PLATFORM      GBA           2002.0   platform      0.01      0.00   \n",
       "16950     RACING      PS2           2008.0     racing      0.00      0.00   \n",
       "16952     SPORTS     X360           2006.0     sports      0.00      0.01   \n",
       "\n",
       "       jp_sales  other_sales  critic_score  user_score      rating  \\\n",
       "0         28.96         8.45          76.0         8.0           E   \n",
       "2         12.76         3.29          82.0         8.3           E   \n",
       "3         10.93         2.95          80.0         8.0           E   \n",
       "6          9.14         2.88          89.0         8.5           E   \n",
       "7          9.18         2.84          58.0         6.6           E   \n",
       "...         ...          ...           ...         ...         ...   \n",
       "16946      0.01         0.00          63.0         5.8  НЕ УКАЗАНО   \n",
       "16947      0.00         0.00          71.0         7.5           T   \n",
       "16949      0.00         0.00          71.0         7.5  НЕ УКАЗАНО   \n",
       "16950      0.00         0.00          71.0         7.5  НЕ УКАЗАНО   \n",
       "16952      0.01         0.00          71.0         7.5  НЕ УКАЗАНО   \n",
       "\n",
       "        user_category critic_category  \n",
       "0      высокая оценка  средняя оценка  \n",
       "2      высокая оценка  высокая оценка  \n",
       "3      высокая оценка  высокая оценка  \n",
       "6      высокая оценка  высокая оценка  \n",
       "7      средняя оценка  средняя оценка  \n",
       "...               ...             ...  \n",
       "16946  средняя оценка  средняя оценка  \n",
       "16947  средняя оценка  средняя оценка  \n",
       "16949  средняя оценка  средняя оценка  \n",
       "16950  средняя оценка  средняя оценка  \n",
       "16952  средняя оценка  средняя оценка  \n",
       "\n",
       "[11014 rows x 13 columns]"
      ]
     },
     "execution_count": 23,
     "metadata": {},
     "output_type": "execute_result"
    }
   ],
   "source": [
    "# Категоризация данных по оценкам пользователей\n",
    "df_actual.loc[:, 'user_category'] = pd.cut(df_actual['user_score'], bins=[-1, 3, 8, 10], labels=['низкая оценка', 'средняя оценка', 'высокая оценка'], right=False)\n",
    "\n",
    "# Категоризация данных по оценкам критиков\n",
    "df_actual.loc[:, 'critic_category'] = pd.cut(df_actual['critic_score'], bins=[-1, 30, 80, 100], labels=['низкая оценка', 'средняя оценка', 'высокая оценка'], right=False)\n",
    "\n",
    "(df_actual)"
   ]
  },
  {
   "cell_type": "code",
   "execution_count": 24,
   "metadata": {},
   "outputs": [
    {
     "data": {
      "text/plain": [
       "PS2     1747\n",
       "DS      1626\n",
       "Wii     1198\n",
       "X360    1088\n",
       "PS3     1001\n",
       "XB       797\n",
       "PC       759\n",
       "Name: platform, dtype: int64"
      ]
     },
     "execution_count": 24,
     "metadata": {},
     "output_type": "execute_result"
    }
   ],
   "source": [
    "\n",
    "# Выделение топ-7 платформ по количеству игр\n",
    "top_platforms = df_actual['platform'].value_counts().nlargest(7)\n",
    "(top_platforms)"
   ]
  },
  {
   "cell_type": "code",
   "execution_count": 25,
   "metadata": {},
   "outputs": [
    {
     "name": "stdout",
     "output_type": "stream",
     "text": [
      "Срез данных df_actual по продажам игр с 2000 по 2013 год:\n",
      "<class 'pandas.core.frame.DataFrame'>\n",
      "Int64Index: 11014 entries, 0 to 16952\n",
      "Data columns (total 13 columns):\n",
      " #   Column           Non-Null Count  Dtype   \n",
      "---  ------           --------------  -----   \n",
      " 0   name             11014 non-null  object  \n",
      " 1   platform         11014 non-null  object  \n",
      " 2   year_of_release  11014 non-null  float64 \n",
      " 3   genre            11014 non-null  object  \n",
      " 4   na_sales         11014 non-null  float64 \n",
      " 5   eu_sales         11014 non-null  float64 \n",
      " 6   jp_sales         11014 non-null  float64 \n",
      " 7   other_sales      11014 non-null  float64 \n",
      " 8   critic_score     11014 non-null  float64 \n",
      " 9   user_score       11014 non-null  float64 \n",
      " 10  rating           11014 non-null  object  \n",
      " 11  user_category    11014 non-null  category\n",
      " 12  critic_category  11014 non-null  category\n",
      "dtypes: category(2), float64(7), object(4)\n",
      "memory usage: 1.0+ MB\n",
      "None\n",
      "Топ-7 платформ по количеству игр:\n",
      "PS2     1747\n",
      "DS      1626\n",
      "Wii     1198\n",
      "X360    1088\n",
      "PS3     1001\n",
      "XB       797\n",
      "PC       759\n",
      "Name: platform, dtype: int64\n"
     ]
    }
   ],
   "source": [
    "# Основной вывод\n",
    "print(\"Срез данных df_actual по продажам игр с 2000 по 2013 год:\")\n",
    "print(df_actual.info())\n",
    "print(\"Топ-7 платформ по количеству игр:\")\n",
    "print(top_platforms)\n"
   ]
  },
  {
   "cell_type": "markdown",
   "metadata": {},
   "source": [
    "### Выводы:\n",
    "1. В процессе работы была проведена проверка и предобработка данных о продажах игр с 2000 по 2013 год. Названия столбцов привидены к единому стилю, а проверка типов данных обеспечила корректную интерпретацию. Пропуски в данных были обработаны, что минимизировало искажения в выводах. Также уделялось внимание выявлению дубликатов, которые могли негативно сказаться на качестве анализа. Их устранение позволило сосредоточиться на значимых данных о продажах игр за указанный период.\n",
    "\n",
    "2. Все игры были разделены на категории, основываясь на оценках как пользователей, так и критиков. Анализ был осуществлен с целью выявления общих тенденций в восприятии игр и уровня их качества, что может оказать влияние на выбор их дальнейших разработок.\n",
    "   По оценкам пользователей игры были классифицированы следующим образом: высокая оценка (от 8 до 10) включает в себя игры, которые получили положительные отзывы от большинства игроков. Средняя оценка (от 3 до 8) собрала игры с неоднозначной репутацией, низкая оценка (от 0 до 3) соответствует играм, которые в значительной степени разочаровали пользователей, возможно, из-за неудачного игрового дизайна, технических проблем или отсутствия интересного контента.\n",
    "   Представляя оценки критиков, также были выделены три категории: высокая оценка (от 80 до 100) подразумевает признание игры с высоким уровнем исполнения. Средняя оценка (от 30 до 80) включает игры, которые достигли определенного уровня качества, однако не смогли выделиться среди аналогов. Низкая оценка (от 0 до 30) отражает негативное восприятие критиков, указывая на серьезные недостатки, которые помешали игре достичь минимально приемлемого уровня качества.\n",
    "\n",
    "3. На основе анализа данных по количеству игр, выпущенных за весь актуальный период, мы выделили топ-7 платформ, демонстрирующих наибольшую активность в игровой индустрии. В первую очередь стоит отметить консоли, которые стали знаковыми в истории видеоигр, а именно:\n",
    "   PlayStation 2 (PS2) — данная платформа занимает первое место с впечатляющим количеством 2127 игр. Это подчеркивает её популяцию и влияние на рынок.\n",
    "\n",
    "   Nintendo DS (DS) — с результатом 2120 игр, ноутбук от Nintendo также завоевал значительную фан-базу и предложил пользователям множество уникальных игровых возможностей.\n",
    "\n",
    "   Wii — платформа, известная своими инновационными подходами к игровому процессу, имеет 1275 игр, что подтверждает её популярность среди широкой аудитории.\n",
    "\n",
    "   PlayStation Portable (PSP) — с 1180 играми эта портативная консоль была одной из первых, предлагающих качественный игровой опыт в дороге.\n",
    "\n",
    "   Xbox 360 (X360) — с 1121 играми, эта платформа укрепила позиции Xbox в линейке домашних игровых консолей.\n",
    "\n",
    "   PlayStation 3 (PS3) — выпустив 1087 игр, PS3 сыграла важную роль в развитии сетевых игровых возможностей и мультимедийных функций.\n",
    "\n",
    "   Game Boy Advance (GBA) — с 811 играми, эта портативная консоль остается символом ностальгии для многих игроков и продолжает оставаться популярной среди ретро-геймеров."
   ]
  }
 ],
 "metadata": {
  "ExecuteTimeLog": [
   {
    "duration": 538,
    "start_time": "2025-03-07T09:15:26.465Z"
   },
   {
    "duration": 29,
    "start_time": "2025-03-07T09:15:27.006Z"
   },
   {
    "duration": 9,
    "start_time": "2025-03-07T09:15:27.036Z"
   },
   {
    "duration": 11,
    "start_time": "2025-03-07T09:15:27.046Z"
   },
   {
    "duration": 8,
    "start_time": "2025-03-07T09:15:27.059Z"
   },
   {
    "duration": 14,
    "start_time": "2025-03-07T09:15:27.069Z"
   },
   {
    "duration": 35,
    "start_time": "2025-03-07T09:15:27.085Z"
   },
   {
    "duration": 13,
    "start_time": "2025-03-07T09:15:27.122Z"
   },
   {
    "duration": 7,
    "start_time": "2025-03-07T09:15:27.136Z"
   },
   {
    "duration": 7,
    "start_time": "2025-03-07T09:15:27.145Z"
   },
   {
    "duration": 11,
    "start_time": "2025-03-07T09:15:27.154Z"
   },
   {
    "duration": 9,
    "start_time": "2025-03-07T09:15:27.167Z"
   },
   {
    "duration": 38,
    "start_time": "2025-03-07T09:15:27.215Z"
   },
   {
    "duration": 11,
    "start_time": "2025-03-07T09:15:27.257Z"
   },
   {
    "duration": 4,
    "start_time": "2025-03-07T09:15:27.270Z"
   },
   {
    "duration": 41,
    "start_time": "2025-03-07T09:15:27.276Z"
   },
   {
    "duration": 18,
    "start_time": "2025-03-07T09:15:27.318Z"
   },
   {
    "duration": 12,
    "start_time": "2025-03-07T09:15:27.337Z"
   },
   {
    "duration": 3,
    "start_time": "2025-03-07T09:15:27.351Z"
   },
   {
    "duration": 4,
    "start_time": "2025-03-07T09:15:27.355Z"
   },
   {
    "duration": 19,
    "start_time": "2025-03-07T09:15:27.361Z"
   },
   {
    "duration": 33,
    "start_time": "2025-03-07T09:15:27.382Z"
   },
   {
    "duration": 24,
    "start_time": "2025-03-07T09:15:27.417Z"
   },
   {
    "duration": 34,
    "start_time": "2025-03-07T09:15:27.442Z"
   },
   {
    "duration": 7,
    "start_time": "2025-03-07T09:15:27.478Z"
   },
   {
    "duration": 44,
    "start_time": "2025-03-07T09:15:27.514Z"
   },
   {
    "duration": 414,
    "start_time": "2025-03-10T11:46:17.125Z"
   },
   {
    "duration": 209,
    "start_time": "2025-03-10T11:46:17.541Z"
   },
   {
    "duration": 27,
    "start_time": "2025-03-10T11:46:17.751Z"
   },
   {
    "duration": 8,
    "start_time": "2025-03-10T11:46:17.779Z"
   },
   {
    "duration": 16,
    "start_time": "2025-03-10T11:46:17.789Z"
   },
   {
    "duration": 14,
    "start_time": "2025-03-10T11:46:17.807Z"
   },
   {
    "duration": 14,
    "start_time": "2025-03-10T11:46:17.822Z"
   },
   {
    "duration": 10,
    "start_time": "2025-03-10T11:46:17.838Z"
   },
   {
    "duration": 35,
    "start_time": "2025-03-10T11:46:17.849Z"
   },
   {
    "duration": 7,
    "start_time": "2025-03-10T11:46:17.886Z"
   },
   {
    "duration": 7,
    "start_time": "2025-03-10T11:46:17.895Z"
   },
   {
    "duration": 30,
    "start_time": "2025-03-10T11:46:17.904Z"
   },
   {
    "duration": 11,
    "start_time": "2025-03-10T11:46:17.936Z"
   },
   {
    "duration": 69,
    "start_time": "2025-03-10T11:46:17.950Z"
   },
   {
    "duration": 16,
    "start_time": "2025-03-10T11:46:18.021Z"
   },
   {
    "duration": 11,
    "start_time": "2025-03-10T11:46:18.039Z"
   },
   {
    "duration": 3,
    "start_time": "2025-03-10T11:46:18.051Z"
   },
   {
    "duration": 14,
    "start_time": "2025-03-10T11:46:18.055Z"
   },
   {
    "duration": 8,
    "start_time": "2025-03-10T11:46:18.070Z"
   },
   {
    "duration": 9,
    "start_time": "2025-03-10T11:46:18.080Z"
   },
   {
    "duration": 9,
    "start_time": "2025-03-10T11:46:18.090Z"
   },
   {
    "duration": 40,
    "start_time": "2025-03-10T11:46:18.101Z"
   },
   {
    "duration": 30,
    "start_time": "2025-03-10T11:46:18.143Z"
   },
   {
    "duration": 9,
    "start_time": "2025-03-10T11:46:18.175Z"
   },
   {
    "duration": 69,
    "start_time": "2025-03-10T11:46:18.186Z"
   },
   {
    "duration": 393,
    "start_time": "2025-03-20T15:09:59.885Z"
   },
   {
    "duration": 130,
    "start_time": "2025-03-20T15:10:00.279Z"
   },
   {
    "duration": 27,
    "start_time": "2025-03-20T15:10:00.410Z"
   },
   {
    "duration": 15,
    "start_time": "2025-03-20T15:10:00.438Z"
   },
   {
    "duration": 53,
    "start_time": "2025-03-20T15:10:00.455Z"
   },
   {
    "duration": 9,
    "start_time": "2025-03-20T15:10:00.509Z"
   },
   {
    "duration": 27,
    "start_time": "2025-03-20T15:10:00.520Z"
   },
   {
    "duration": 25,
    "start_time": "2025-03-20T15:10:00.548Z"
   },
   {
    "duration": 24,
    "start_time": "2025-03-20T15:10:00.575Z"
   },
   {
    "duration": 10,
    "start_time": "2025-03-20T15:10:00.600Z"
   },
   {
    "duration": 7,
    "start_time": "2025-03-20T15:10:00.612Z"
   },
   {
    "duration": 17,
    "start_time": "2025-03-20T15:10:00.620Z"
   },
   {
    "duration": 8,
    "start_time": "2025-03-20T15:10:00.639Z"
   },
   {
    "duration": 118,
    "start_time": "2025-03-20T15:10:00.649Z"
   },
   {
    "duration": 14,
    "start_time": "2025-03-20T15:10:00.768Z"
   },
   {
    "duration": 33,
    "start_time": "2025-03-20T15:10:00.783Z"
   },
   {
    "duration": 3,
    "start_time": "2025-03-20T15:10:00.818Z"
   },
   {
    "duration": 32,
    "start_time": "2025-03-20T15:10:00.822Z"
   },
   {
    "duration": 13,
    "start_time": "2025-03-20T15:10:00.856Z"
   },
   {
    "duration": 63,
    "start_time": "2025-03-20T15:10:00.871Z"
   },
   {
    "duration": 19,
    "start_time": "2025-03-20T15:10:00.936Z"
   },
   {
    "duration": 33,
    "start_time": "2025-03-20T15:10:00.956Z"
   },
   {
    "duration": 41,
    "start_time": "2025-03-20T15:10:00.990Z"
   },
   {
    "duration": 6,
    "start_time": "2025-03-20T15:10:01.032Z"
   },
   {
    "duration": 17,
    "start_time": "2025-03-20T15:10:01.040Z"
   },
   {
    "duration": 63,
    "start_time": "2025-03-20T15:10:51.217Z"
   },
   {
    "duration": 11,
    "start_time": "2025-03-20T15:10:58.753Z"
   }
  ],
  "kernelspec": {
   "display_name": "Python 3 (ipykernel)",
   "language": "python",
   "name": "python3"
  },
  "language_info": {
   "codemirror_mode": {
    "name": "ipython",
    "version": 3
   },
   "file_extension": ".py",
   "mimetype": "text/x-python",
   "name": "python",
   "nbconvert_exporter": "python",
   "pygments_lexer": "ipython3",
   "version": "3.9.5"
  },
  "toc": {
   "base_numbering": 1,
   "nav_menu": {},
   "number_sections": true,
   "sideBar": true,
   "skip_h1_title": true,
   "title_cell": "Table of Contents",
   "title_sidebar": "Contents",
   "toc_cell": false,
   "toc_position": {},
   "toc_section_display": true,
   "toc_window_display": true
  }
 },
 "nbformat": 4,
 "nbformat_minor": 2
}
