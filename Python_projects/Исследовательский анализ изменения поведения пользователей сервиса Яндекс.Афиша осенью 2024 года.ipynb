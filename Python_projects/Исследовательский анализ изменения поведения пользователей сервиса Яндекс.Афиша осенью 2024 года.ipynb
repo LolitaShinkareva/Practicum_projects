{
 "cells": [
  {
   "cell_type": "markdown",
   "metadata": {
    "id": "LMuaGIE3lGcr"
   },
   "source": [
    "# Исследовательский анализ изменения поведения пользователей сервиса Яндекс.Афиша осенью 2024 года\n",
    "\n",
    "## Цель проекта\n",
    "\n",
    "Провести исследование влияния осеннего периода на поведение пользователей платформы Яндекс.Афиша и выяснить причины изменений в предпочтениях клиентов относительно мероприятий и типов устройств, используемых для бронирования билетов.\n",
    "\n",
    "## Задачи проекта\n",
    "\n",
    "Провести предварительный анализ имеющихся данных, ознакомиться с содержанием таблиц и структурой полей.\n",
    "\n",
    "Подготовить данные к дальнейшему анализу путем очистки и предобработки.\n",
    "\n",
    "Выполнить исследовательский анализ данных с целью выявления тенденций и закономерностей в изменениях потребительского поведения осенью 2024 года.\n",
    "\n",
    "Проверить статистические гипотезы относительно различий между пользователями мобильных и стационарных устройств.\n",
    "\n",
    "Сделать выводы и сформулировать рекомендации для продуктовой команды на основании полученных результатов анализа.\n",
    "\n",
    "## Описание данных\n",
    "\n",
    "*Проект базируется на двух основных датасетах:*\n",
    "\n",
    "**Датасет final_tickets_orders_df.csv**\n",
    "\n",
    "<u>Информация о заказах билетов, совершенных пользователями на сервисах Яндекс.Афиша.Структура полей:</u>\n",
    "\n",
    "**order_id:** Уникальный идентификатор заказа.\n",
    "\n",
    "**user_id:** Идентификатор пользователя.\n",
    "\n",
    "**created_dt_msk, created_ts_msk:** Дата и точное время создания заказа (московское время).\n",
    "\n",
    "**event_id:** Идентификатор мероприятия.\n",
    "\n",
    "**cinema_circuit:** Сеть кинотеатров (для киносеансов), либо пустое значение ('нет') для других видов мероприятий.\n",
    "\n",
    "**age_limit:** Возрастное ограничение мероприятия.\n",
    "\n",
    "**currency_code:** Валюта платежа (например, RUB для российских рублей, KZT для казахских тенге).\n",
    "\n",
    "**device_type_canonical:** Тип устройства, с которого был сделан заказ (mobile/desktop).\n",
    "\n",
    "**revenue:** Выручка от заказа.\n",
    "\n",
    "**service_name:** Имя билетного оператора.\n",
    "\n",
    "**tickets_count:** Количество приобретенных билетов.\n",
    "\n",
    "**total:** Общая стоимость заказа.\n",
    "\n",
    "**Дополнительно введен столбец days_since_prev:** Количество дней с момента последней покупки конкретного пользователя (пропуск, если предыдущая покупка отсутствует).\n",
    "\n",
    "**Датасет final_tickets_events_df.csv**\n",
    "\n",
    "<u>Данные о самих мероприятиях, включающие описания и сведения о площадках проведения.Структура полей:</u>\n",
    "\n",
    "**event_id:** Уникальный идентификатор мероприятия.\n",
    "\n",
    "**event_name:** Название мероприятия.\n",
    "\n",
    "**event_type_description:** Подробное описание типа мероприятия.\n",
    "\n",
    "**event_type_main:** Основной тип мероприятия (театр, концерт и др.).\n",
    "\n",
    "**organizers:** Организаторы мероприятия.\n",
    "\n",
    "**region_name:** Регион проведения мероприятия.\n",
    "\n",
    "**city_name:** Город проведения мероприятия.\n",
    "\n",
    "**venue_id:** ID места проведения.\n",
    "\n",
    "**venue_name:** Название площадки.\n",
    "\n",
    "**venue_address:** Адрес площадки.\n",
    "\n",
    "**Дополнительный датасет**\n",
    "\n",
    "<u>Для преобразования денежных сумм в одну валюту используется дополнительный файл с обменным курсом казахстанского тенге к российскому рублю за 2024 год (**final_tickets_tenge_df.csv**), содержащий следующие поля:</u>\n",
    "\n",
    "**nominal:** Номинал (100 тенге).\n",
    "\n",
    "**data:** Дата курса.\n",
    "\n",
    "**curs:** Курс обмена (количество рублей за 100 тенге).\n",
    "\n",
    "**cdx:** Обозначение валюты (\"KZT\").\n",
    "\n",
    "### Структура проекта\n",
    "\n",
    "#### 1. Загрузка данных и знакомство с ними\n",
    "Загрузить предоставленные файлы CSV в среду Python и изучить базовые характеристики данных, проверив наличие пропущенных значений, распределение ключевых переменных и общую структуру данных.\n",
    "\n",
    "####  2. Предобработка данных и подготовка их к исследованию\n",
    "Очистить и преобразовать данные перед началом исследования: удалить дублирующиеся записи, обработать отсутствующие значения, создать дополнительные агрегированные показатели (средняя стоимость билета, частота покупок и другие метрики). Конвертировать суммы в единую валюту для сопоставимости показателей.\n",
    "\n",
    "#### 3. Исследовательский анализ данных\n",
    "Осуществить углубленный анализ зависимостей и взаимосвязей в данных, используя визуализацию и вычисления средних величин, корреляционных матриц и гистограмм распределения ключевых характеристик.\n",
    "\n",
    "#### 4. Статистический анализ данных\n",
    "Проверить выдвинутые гипотезы о влиянии типа устройства на предпочтения пользователей и поведение заказчиков. Использовать методы статистики для проверки достоверности выявленных тенденций.\n",
    "\n",
    "#### 5. Общий вывод и рекомендации\n",
    "Подвести итоги проведенного анализа, сделать выводы о причинах изменения покупательской активности осенью 2024 года и предложить меры для улучшения ситуации.\n",
    "\n"
   ]
  },
  {
   "cell_type": "markdown",
   "metadata": {},
   "source": [
    "### 1. Загрузка данных и знакомство с ними ### "
   ]
  },
  {
   "cell_type": "code",
   "execution_count": 1,
   "metadata": {},
   "outputs": [],
   "source": [
    "# импортируем необходимые библиотеки\n",
    "\n",
    "import pandas as pd\n",
    "import numpy as np\n",
    "import seaborn as sns\n",
    "import matplotlib.pyplot as plt\n",
    "from scipy.stats import ttest_ind\n",
    "from scipy.stats import mannwhitneyu"
   ]
  },
  {
   "cell_type": "code",
   "execution_count": 2,
   "metadata": {},
   "outputs": [],
   "source": [
    "# Чтение данных\n",
    "\n",
    "PATH = \"https://code.s3.yandex.net/datasets/\"\n",
    "orders_df = pd.read_csv(PATH + \"final_tickets_orders_df.csv\")\n",
    "events_df = pd.read_csv(PATH + \"final_tickets_events_df.csv\")\n",
    "tenge_df = pd.read_csv(PATH + \"final_tickets_tenge_df.csv\")"
   ]
  },
  {
   "cell_type": "markdown",
   "metadata": {},
   "source": [
    "Оцениваем данные датасета \"orders_df\""
   ]
  },
  {
   "cell_type": "code",
   "execution_count": 3,
   "metadata": {
    "scrolled": true
   },
   "outputs": [
    {
     "data": {
      "text/html": [
       "<div>\n",
       "<style scoped>\n",
       "    .dataframe tbody tr th:only-of-type {\n",
       "        vertical-align: middle;\n",
       "    }\n",
       "\n",
       "    .dataframe tbody tr th {\n",
       "        vertical-align: top;\n",
       "    }\n",
       "\n",
       "    .dataframe thead th {\n",
       "        text-align: right;\n",
       "    }\n",
       "</style>\n",
       "<table border=\"1\" class=\"dataframe\">\n",
       "  <thead>\n",
       "    <tr style=\"text-align: right;\">\n",
       "      <th></th>\n",
       "      <th>order_id</th>\n",
       "      <th>user_id</th>\n",
       "      <th>created_dt_msk</th>\n",
       "      <th>created_ts_msk</th>\n",
       "      <th>event_id</th>\n",
       "      <th>cinema_circuit</th>\n",
       "      <th>age_limit</th>\n",
       "      <th>currency_code</th>\n",
       "      <th>device_type_canonical</th>\n",
       "      <th>revenue</th>\n",
       "      <th>service_name</th>\n",
       "      <th>tickets_count</th>\n",
       "      <th>total</th>\n",
       "      <th>days_since_prev</th>\n",
       "    </tr>\n",
       "  </thead>\n",
       "  <tbody>\n",
       "    <tr>\n",
       "      <th>0</th>\n",
       "      <td>4359165</td>\n",
       "      <td>0002849b70a3ce2</td>\n",
       "      <td>2024-08-20</td>\n",
       "      <td>2024-08-20 16:08:03</td>\n",
       "      <td>169230</td>\n",
       "      <td>нет</td>\n",
       "      <td>16</td>\n",
       "      <td>rub</td>\n",
       "      <td>mobile</td>\n",
       "      <td>1521.94</td>\n",
       "      <td>Край билетов</td>\n",
       "      <td>4</td>\n",
       "      <td>10870.99</td>\n",
       "      <td>NaN</td>\n",
       "    </tr>\n",
       "    <tr>\n",
       "      <th>1</th>\n",
       "      <td>7965605</td>\n",
       "      <td>0005ca5e93f2cf4</td>\n",
       "      <td>2024-07-23</td>\n",
       "      <td>2024-07-23 18:36:24</td>\n",
       "      <td>237325</td>\n",
       "      <td>нет</td>\n",
       "      <td>0</td>\n",
       "      <td>rub</td>\n",
       "      <td>mobile</td>\n",
       "      <td>289.45</td>\n",
       "      <td>Мой билет</td>\n",
       "      <td>2</td>\n",
       "      <td>2067.51</td>\n",
       "      <td>NaN</td>\n",
       "    </tr>\n",
       "    <tr>\n",
       "      <th>2</th>\n",
       "      <td>7292370</td>\n",
       "      <td>0005ca5e93f2cf4</td>\n",
       "      <td>2024-10-06</td>\n",
       "      <td>2024-10-06 13:56:02</td>\n",
       "      <td>578454</td>\n",
       "      <td>нет</td>\n",
       "      <td>0</td>\n",
       "      <td>rub</td>\n",
       "      <td>mobile</td>\n",
       "      <td>1258.57</td>\n",
       "      <td>За билетом!</td>\n",
       "      <td>4</td>\n",
       "      <td>13984.16</td>\n",
       "      <td>75.0</td>\n",
       "    </tr>\n",
       "    <tr>\n",
       "      <th>3</th>\n",
       "      <td>1139875</td>\n",
       "      <td>000898990054619</td>\n",
       "      <td>2024-07-13</td>\n",
       "      <td>2024-07-13 19:40:48</td>\n",
       "      <td>387271</td>\n",
       "      <td>нет</td>\n",
       "      <td>0</td>\n",
       "      <td>rub</td>\n",
       "      <td>mobile</td>\n",
       "      <td>8.49</td>\n",
       "      <td>Лови билет!</td>\n",
       "      <td>2</td>\n",
       "      <td>212.28</td>\n",
       "      <td>NaN</td>\n",
       "    </tr>\n",
       "    <tr>\n",
       "      <th>4</th>\n",
       "      <td>972400</td>\n",
       "      <td>000898990054619</td>\n",
       "      <td>2024-10-04</td>\n",
       "      <td>2024-10-04 22:33:15</td>\n",
       "      <td>509453</td>\n",
       "      <td>нет</td>\n",
       "      <td>18</td>\n",
       "      <td>rub</td>\n",
       "      <td>mobile</td>\n",
       "      <td>1390.41</td>\n",
       "      <td>Билеты без проблем</td>\n",
       "      <td>3</td>\n",
       "      <td>10695.43</td>\n",
       "      <td>83.0</td>\n",
       "    </tr>\n",
       "  </tbody>\n",
       "</table>\n",
       "</div>"
      ],
      "text/plain": [
       "   order_id          user_id created_dt_msk       created_ts_msk  event_id  \\\n",
       "0   4359165  0002849b70a3ce2     2024-08-20  2024-08-20 16:08:03    169230   \n",
       "1   7965605  0005ca5e93f2cf4     2024-07-23  2024-07-23 18:36:24    237325   \n",
       "2   7292370  0005ca5e93f2cf4     2024-10-06  2024-10-06 13:56:02    578454   \n",
       "3   1139875  000898990054619     2024-07-13  2024-07-13 19:40:48    387271   \n",
       "4    972400  000898990054619     2024-10-04  2024-10-04 22:33:15    509453   \n",
       "\n",
       "  cinema_circuit  age_limit currency_code device_type_canonical  revenue  \\\n",
       "0            нет         16           rub                mobile  1521.94   \n",
       "1            нет          0           rub                mobile   289.45   \n",
       "2            нет          0           rub                mobile  1258.57   \n",
       "3            нет          0           rub                mobile     8.49   \n",
       "4            нет         18           rub                mobile  1390.41   \n",
       "\n",
       "         service_name  tickets_count     total  days_since_prev  \n",
       "0        Край билетов              4  10870.99              NaN  \n",
       "1           Мой билет              2   2067.51              NaN  \n",
       "2         За билетом!              4  13984.16             75.0  \n",
       "3         Лови билет!              2    212.28              NaN  \n",
       "4  Билеты без проблем              3  10695.43             83.0  "
      ]
     },
     "execution_count": 3,
     "metadata": {},
     "output_type": "execute_result"
    }
   ],
   "source": [
    "\n",
    "orders_df. head()"
   ]
  },
  {
   "cell_type": "code",
   "execution_count": 4,
   "metadata": {},
   "outputs": [
    {
     "name": "stdout",
     "output_type": "stream",
     "text": [
      "<class 'pandas.core.frame.DataFrame'>\n",
      "RangeIndex: 290849 entries, 0 to 290848\n",
      "Data columns (total 14 columns):\n",
      " #   Column                 Non-Null Count   Dtype  \n",
      "---  ------                 --------------   -----  \n",
      " 0   order_id               290849 non-null  int64  \n",
      " 1   user_id                290849 non-null  object \n",
      " 2   created_dt_msk         290849 non-null  object \n",
      " 3   created_ts_msk         290849 non-null  object \n",
      " 4   event_id               290849 non-null  int64  \n",
      " 5   cinema_circuit         290849 non-null  object \n",
      " 6   age_limit              290849 non-null  int64  \n",
      " 7   currency_code          290849 non-null  object \n",
      " 8   device_type_canonical  290849 non-null  object \n",
      " 9   revenue                290849 non-null  float64\n",
      " 10  service_name           290849 non-null  object \n",
      " 11  tickets_count          290849 non-null  int64  \n",
      " 12  total                  290849 non-null  float64\n",
      " 13  days_since_prev        268909 non-null  float64\n",
      "dtypes: float64(3), int64(4), object(7)\n",
      "memory usage: 31.1+ MB\n"
     ]
    }
   ],
   "source": [
    "orders_df.info()"
   ]
  },
  {
   "cell_type": "code",
   "execution_count": 5,
   "metadata": {},
   "outputs": [
    {
     "data": {
      "text/plain": [
       "order_id                     0\n",
       "user_id                      0\n",
       "created_dt_msk               0\n",
       "created_ts_msk               0\n",
       "event_id                     0\n",
       "cinema_circuit               0\n",
       "age_limit                    0\n",
       "currency_code                0\n",
       "device_type_canonical        0\n",
       "revenue                      0\n",
       "service_name                 0\n",
       "tickets_count                0\n",
       "total                        0\n",
       "days_since_prev          21940\n",
       "dtype: int64"
      ]
     },
     "execution_count": 5,
     "metadata": {},
     "output_type": "execute_result"
    }
   ],
   "source": [
    "orders_df.isna().sum()"
   ]
  },
  {
   "cell_type": "markdown",
   "metadata": {},
   "source": [
    "Оцениваем данные датасета \"events_df\""
   ]
  },
  {
   "cell_type": "code",
   "execution_count": 6,
   "metadata": {},
   "outputs": [
    {
     "data": {
      "text/html": [
       "<div>\n",
       "<style scoped>\n",
       "    .dataframe tbody tr th:only-of-type {\n",
       "        vertical-align: middle;\n",
       "    }\n",
       "\n",
       "    .dataframe tbody tr th {\n",
       "        vertical-align: top;\n",
       "    }\n",
       "\n",
       "    .dataframe thead th {\n",
       "        text-align: right;\n",
       "    }\n",
       "</style>\n",
       "<table border=\"1\" class=\"dataframe\">\n",
       "  <thead>\n",
       "    <tr style=\"text-align: right;\">\n",
       "      <th></th>\n",
       "      <th>event_id</th>\n",
       "      <th>event_name</th>\n",
       "      <th>event_type_description</th>\n",
       "      <th>event_type_main</th>\n",
       "      <th>organizers</th>\n",
       "      <th>region_name</th>\n",
       "      <th>city_name</th>\n",
       "      <th>city_id</th>\n",
       "      <th>venue_id</th>\n",
       "      <th>venue_name</th>\n",
       "      <th>venue_address</th>\n",
       "    </tr>\n",
       "  </thead>\n",
       "  <tbody>\n",
       "    <tr>\n",
       "      <th>0</th>\n",
       "      <td>4436</td>\n",
       "      <td>e4f26fba-da77-4c61-928a-6c3e434d793f</td>\n",
       "      <td>спектакль</td>\n",
       "      <td>театр</td>\n",
       "      <td>№4893</td>\n",
       "      <td>Североярская область</td>\n",
       "      <td>Озёрск</td>\n",
       "      <td>2</td>\n",
       "      <td>1600</td>\n",
       "      <td>Кладбище искусств \"Проблема\" и партнеры</td>\n",
       "      <td>наб. Загородная, д. 785</td>\n",
       "    </tr>\n",
       "    <tr>\n",
       "      <th>1</th>\n",
       "      <td>5785</td>\n",
       "      <td>5cc08a60-fdea-4186-9bb2-bffc3603fb77</td>\n",
       "      <td>спектакль</td>\n",
       "      <td>театр</td>\n",
       "      <td>№1931</td>\n",
       "      <td>Светополянский округ</td>\n",
       "      <td>Глиноград</td>\n",
       "      <td>54</td>\n",
       "      <td>2196</td>\n",
       "      <td>Лекции по искусству \"Свет\" Групп</td>\n",
       "      <td>ул. Ягодная, д. 942</td>\n",
       "    </tr>\n",
       "    <tr>\n",
       "      <th>2</th>\n",
       "      <td>8817</td>\n",
       "      <td>8e379a89-3a10-4811-ba06-ec22ebebe989</td>\n",
       "      <td>спектакль</td>\n",
       "      <td>театр</td>\n",
       "      <td>№4896</td>\n",
       "      <td>Североярская область</td>\n",
       "      <td>Озёрск</td>\n",
       "      <td>2</td>\n",
       "      <td>4043</td>\n",
       "      <td>Кинокомитет \"Золотая\" Инк</td>\n",
       "      <td>ш. Коммуны, д. 92 стр. 6</td>\n",
       "    </tr>\n",
       "    <tr>\n",
       "      <th>3</th>\n",
       "      <td>8849</td>\n",
       "      <td>682e3129-6a32-4952-9d8a-ef7f60d4c247</td>\n",
       "      <td>спектакль</td>\n",
       "      <td>театр</td>\n",
       "      <td>№4960</td>\n",
       "      <td>Каменевский регион</td>\n",
       "      <td>Глиногорск</td>\n",
       "      <td>213</td>\n",
       "      <td>1987</td>\n",
       "      <td>Выставка ремесел \"Свет\" Лтд</td>\n",
       "      <td>пер. Набережный, д. 35</td>\n",
       "    </tr>\n",
       "    <tr>\n",
       "      <th>4</th>\n",
       "      <td>8850</td>\n",
       "      <td>d6e99176-c77f-4af0-9222-07c571f6c624</td>\n",
       "      <td>спектакль</td>\n",
       "      <td>театр</td>\n",
       "      <td>№4770</td>\n",
       "      <td>Лесодальний край</td>\n",
       "      <td>Родниковец</td>\n",
       "      <td>55</td>\n",
       "      <td>4230</td>\n",
       "      <td>Фестивальный проект \"Листья\" Групп</td>\n",
       "      <td>пер. Проезжий, д. 9</td>\n",
       "    </tr>\n",
       "  </tbody>\n",
       "</table>\n",
       "</div>"
      ],
      "text/plain": [
       "   event_id                            event_name event_type_description  \\\n",
       "0      4436  e4f26fba-da77-4c61-928a-6c3e434d793f              спектакль   \n",
       "1      5785  5cc08a60-fdea-4186-9bb2-bffc3603fb77              спектакль   \n",
       "2      8817  8e379a89-3a10-4811-ba06-ec22ebebe989              спектакль   \n",
       "3      8849  682e3129-6a32-4952-9d8a-ef7f60d4c247              спектакль   \n",
       "4      8850  d6e99176-c77f-4af0-9222-07c571f6c624              спектакль   \n",
       "\n",
       "  event_type_main organizers           region_name   city_name  city_id  \\\n",
       "0           театр      №4893  Североярская область      Озёрск        2   \n",
       "1           театр      №1931  Светополянский округ   Глиноград       54   \n",
       "2           театр      №4896  Североярская область      Озёрск        2   \n",
       "3           театр      №4960    Каменевский регион  Глиногорск      213   \n",
       "4           театр      №4770      Лесодальний край  Родниковец       55   \n",
       "\n",
       "   venue_id                               venue_name             venue_address  \n",
       "0      1600  Кладбище искусств \"Проблема\" и партнеры   наб. Загородная, д. 785  \n",
       "1      2196         Лекции по искусству \"Свет\" Групп       ул. Ягодная, д. 942  \n",
       "2      4043                Кинокомитет \"Золотая\" Инк  ш. Коммуны, д. 92 стр. 6  \n",
       "3      1987              Выставка ремесел \"Свет\" Лтд    пер. Набережный, д. 35  \n",
       "4      4230       Фестивальный проект \"Листья\" Групп       пер. Проезжий, д. 9  "
      ]
     },
     "execution_count": 6,
     "metadata": {},
     "output_type": "execute_result"
    }
   ],
   "source": [
    "events_df.head()"
   ]
  },
  {
   "cell_type": "code",
   "execution_count": 7,
   "metadata": {},
   "outputs": [
    {
     "name": "stdout",
     "output_type": "stream",
     "text": [
      "<class 'pandas.core.frame.DataFrame'>\n",
      "RangeIndex: 22427 entries, 0 to 22426\n",
      "Data columns (total 11 columns):\n",
      " #   Column                  Non-Null Count  Dtype \n",
      "---  ------                  --------------  ----- \n",
      " 0   event_id                22427 non-null  int64 \n",
      " 1   event_name              22427 non-null  object\n",
      " 2   event_type_description  22427 non-null  object\n",
      " 3   event_type_main         22427 non-null  object\n",
      " 4   organizers              22427 non-null  object\n",
      " 5   region_name             22427 non-null  object\n",
      " 6   city_name               22427 non-null  object\n",
      " 7   city_id                 22427 non-null  int64 \n",
      " 8   venue_id                22427 non-null  int64 \n",
      " 9   venue_name              22427 non-null  object\n",
      " 10  venue_address           22427 non-null  object\n",
      "dtypes: int64(3), object(8)\n",
      "memory usage: 1.9+ MB\n"
     ]
    }
   ],
   "source": [
    "events_df.info()"
   ]
  },
  {
   "cell_type": "code",
   "execution_count": 8,
   "metadata": {},
   "outputs": [
    {
     "data": {
      "text/plain": [
       "event_id                  0\n",
       "event_name                0\n",
       "event_type_description    0\n",
       "event_type_main           0\n",
       "organizers                0\n",
       "region_name               0\n",
       "city_name                 0\n",
       "city_id                   0\n",
       "venue_id                  0\n",
       "venue_name                0\n",
       "venue_address             0\n",
       "dtype: int64"
      ]
     },
     "execution_count": 8,
     "metadata": {},
     "output_type": "execute_result"
    }
   ],
   "source": [
    "events_df.isna().sum()"
   ]
  },
  {
   "cell_type": "markdown",
   "metadata": {},
   "source": [
    "Оцениваем данные датасета \"tenge_df\""
   ]
  },
  {
   "cell_type": "code",
   "execution_count": 9,
   "metadata": {},
   "outputs": [
    {
     "data": {
      "text/html": [
       "<div>\n",
       "<style scoped>\n",
       "    .dataframe tbody tr th:only-of-type {\n",
       "        vertical-align: middle;\n",
       "    }\n",
       "\n",
       "    .dataframe tbody tr th {\n",
       "        vertical-align: top;\n",
       "    }\n",
       "\n",
       "    .dataframe thead th {\n",
       "        text-align: right;\n",
       "    }\n",
       "</style>\n",
       "<table border=\"1\" class=\"dataframe\">\n",
       "  <thead>\n",
       "    <tr style=\"text-align: right;\">\n",
       "      <th></th>\n",
       "      <th>data</th>\n",
       "      <th>nominal</th>\n",
       "      <th>curs</th>\n",
       "      <th>cdx</th>\n",
       "    </tr>\n",
       "  </thead>\n",
       "  <tbody>\n",
       "    <tr>\n",
       "      <th>0</th>\n",
       "      <td>2024-01-10</td>\n",
       "      <td>100</td>\n",
       "      <td>19.9391</td>\n",
       "      <td>kzt</td>\n",
       "    </tr>\n",
       "    <tr>\n",
       "      <th>1</th>\n",
       "      <td>2024-01-11</td>\n",
       "      <td>100</td>\n",
       "      <td>19.7255</td>\n",
       "      <td>kzt</td>\n",
       "    </tr>\n",
       "    <tr>\n",
       "      <th>2</th>\n",
       "      <td>2024-01-12</td>\n",
       "      <td>100</td>\n",
       "      <td>19.5839</td>\n",
       "      <td>kzt</td>\n",
       "    </tr>\n",
       "    <tr>\n",
       "      <th>3</th>\n",
       "      <td>2024-01-13</td>\n",
       "      <td>100</td>\n",
       "      <td>19.4501</td>\n",
       "      <td>kzt</td>\n",
       "    </tr>\n",
       "    <tr>\n",
       "      <th>4</th>\n",
       "      <td>2024-01-14</td>\n",
       "      <td>100</td>\n",
       "      <td>19.4501</td>\n",
       "      <td>kzt</td>\n",
       "    </tr>\n",
       "  </tbody>\n",
       "</table>\n",
       "</div>"
      ],
      "text/plain": [
       "         data  nominal     curs  cdx\n",
       "0  2024-01-10      100  19.9391  kzt\n",
       "1  2024-01-11      100  19.7255  kzt\n",
       "2  2024-01-12      100  19.5839  kzt\n",
       "3  2024-01-13      100  19.4501  kzt\n",
       "4  2024-01-14      100  19.4501  kzt"
      ]
     },
     "execution_count": 9,
     "metadata": {},
     "output_type": "execute_result"
    }
   ],
   "source": [
    "tenge_df.head()"
   ]
  },
  {
   "cell_type": "code",
   "execution_count": 10,
   "metadata": {},
   "outputs": [
    {
     "name": "stdout",
     "output_type": "stream",
     "text": [
      "<class 'pandas.core.frame.DataFrame'>\n",
      "RangeIndex: 357 entries, 0 to 356\n",
      "Data columns (total 4 columns):\n",
      " #   Column   Non-Null Count  Dtype  \n",
      "---  ------   --------------  -----  \n",
      " 0   data     357 non-null    object \n",
      " 1   nominal  357 non-null    int64  \n",
      " 2   curs     357 non-null    float64\n",
      " 3   cdx      357 non-null    object \n",
      "dtypes: float64(1), int64(1), object(2)\n",
      "memory usage: 11.3+ KB\n"
     ]
    }
   ],
   "source": [
    "tenge_df.info()"
   ]
  },
  {
   "cell_type": "code",
   "execution_count": 11,
   "metadata": {},
   "outputs": [
    {
     "data": {
      "text/plain": [
       "data       0\n",
       "nominal    0\n",
       "curs       0\n",
       "cdx        0\n",
       "dtype: int64"
      ]
     },
     "execution_count": 11,
     "metadata": {},
     "output_type": "execute_result"
    }
   ],
   "source": [
    "tenge_df.isna().sum()"
   ]
  },
  {
   "cell_type": "markdown",
   "metadata": {},
   "source": [
    "Вывод:\n",
    "\n",
    "Объем данных значительный: датасет **orders_df** содержит 290 849 записей, **events_df** — 22 427 записей, а **tenge_df** — 357 записей.\n",
    "Во всех трех датасетах (orders_df, events_df, tenge_df) отсутствуют пропуски данных. Материала достаточно для полноценного анализа и изучения сезонных эффектов. \n",
    "Временные поля в датасете **orders_df** (created_dt_msk, created_ts_msk) и в датасете **tenge_df** (data) имеют тип **object**, что предполагает хранение даты и времени в виде строковых значений. Требуется преобразовать их в тип datetime64 для правильной обработки временных интервалов и аналитики."
   ]
  },
  {
   "cell_type": "markdown",
   "metadata": {},
   "source": [
    "### 2. Предобработка данных и подготовка их к исследованию"
   ]
  },
  {
   "cell_type": "code",
   "execution_count": 12,
   "metadata": {},
   "outputs": [],
   "source": [
    "# Соединяем  таблицы\n",
    "merged_df = pd.merge(orders_df, events_df, on='event_id', how='left')"
   ]
  },
  {
   "cell_type": "code",
   "execution_count": 13,
   "metadata": {},
   "outputs": [],
   "source": [
    "# Приводим даты к одному типу для последующего слияния таблиц\n",
    "tenge_df['data'] = pd.to_datetime(tenge_df['data'])\n",
    "merged_df['created_dt_msk'] = pd.to_datetime(merged_df['created_dt_msk'])\n",
    "\n",
    "# Приводим даты к одному типу для последующего слияния таблиц\n",
    "tenge_df['data'] = pd.to_datetime(tenge_df['data'])\n",
    "merged_df['created_dt_msk'] = pd.to_datetime(merged_df['created_dt_msk'])"
   ]
  },
  {
   "cell_type": "code",
   "execution_count": 14,
   "metadata": {},
   "outputs": [],
   "source": [
    "# Соединяем по дате, чтобы иметь возможность использовать курс на конкретный день\n",
    "#df_with_rates = pd.merge(merged_df, tenge_df, left_on='created_dt_msk', right_on='data', how='left')\n",
    "\n",
    "# Преобразуем цену в рубль, если валюта была в тенге\n",
    "#df_with_rates.loc[(df_with_rates['currency_code'] == 'KZT'),'revenue_rub'] = df_with_rates['revenue'] / df_with_rates['curs']"
   ]
  },
  {
   "cell_type": "code",
   "execution_count": 15,
   "metadata": {},
   "outputs": [],
   "source": [
    "# Соединяем по дате, чтобы иметь возможность использовать курс на конкретный день\n",
    "df_with_rates = pd.merge(merged_df, tenge_df, left_on='created_dt_msk', right_on='data', how='left')\n",
    "\n",
    "# Проверка валюты в нижнем регистре ('kzt') и расчет курса конвертации\n",
    "df_with_rates.loc[(df_with_rates['currency_code'].str.lower() == 'kzt'),'revenue_rub'] = df_with_rates['revenue'] * df_with_rates['curs'] / df_with_rates['nominal']\n"
   ]
  },
  {
   "cell_type": "code",
   "execution_count": 16,
   "metadata": {},
   "outputs": [
    {
     "data": {
      "text/html": [
       "<div>\n",
       "<style scoped>\n",
       "    .dataframe tbody tr th:only-of-type {\n",
       "        vertical-align: middle;\n",
       "    }\n",
       "\n",
       "    .dataframe tbody tr th {\n",
       "        vertical-align: top;\n",
       "    }\n",
       "\n",
       "    .dataframe thead th {\n",
       "        text-align: right;\n",
       "    }\n",
       "</style>\n",
       "<table border=\"1\" class=\"dataframe\">\n",
       "  <thead>\n",
       "    <tr style=\"text-align: right;\">\n",
       "      <th></th>\n",
       "      <th>order_id</th>\n",
       "      <th>user_id</th>\n",
       "      <th>created_dt_msk</th>\n",
       "      <th>created_ts_msk</th>\n",
       "      <th>event_id</th>\n",
       "      <th>cinema_circuit</th>\n",
       "      <th>age_limit</th>\n",
       "      <th>currency_code</th>\n",
       "      <th>device_type_canonical</th>\n",
       "      <th>revenue</th>\n",
       "      <th>...</th>\n",
       "      <th>event_type_description</th>\n",
       "      <th>event_type_main</th>\n",
       "      <th>organizers</th>\n",
       "      <th>region_name</th>\n",
       "      <th>city_name</th>\n",
       "      <th>city_id</th>\n",
       "      <th>venue_id</th>\n",
       "      <th>venue_name</th>\n",
       "      <th>venue_address</th>\n",
       "      <th>revenue_rub</th>\n",
       "    </tr>\n",
       "  </thead>\n",
       "  <tbody>\n",
       "    <tr>\n",
       "      <th>0</th>\n",
       "      <td>4359165</td>\n",
       "      <td>0002849b70a3ce2</td>\n",
       "      <td>2024-08-20</td>\n",
       "      <td>2024-08-20 16:08:03</td>\n",
       "      <td>169230</td>\n",
       "      <td>нет</td>\n",
       "      <td>16</td>\n",
       "      <td>rub</td>\n",
       "      <td>mobile</td>\n",
       "      <td>1521.94</td>\n",
       "      <td>...</td>\n",
       "      <td>спектакль</td>\n",
       "      <td>театр</td>\n",
       "      <td>№3322</td>\n",
       "      <td>Каменевский регион</td>\n",
       "      <td>Глиногорск</td>\n",
       "      <td>213.0</td>\n",
       "      <td>3972.0</td>\n",
       "      <td>Сценический центр \"Деталь\" Групп</td>\n",
       "      <td>алл. Машиностроителей, д. 19 стр. 6</td>\n",
       "      <td>1521.94</td>\n",
       "    </tr>\n",
       "    <tr>\n",
       "      <th>1</th>\n",
       "      <td>7965605</td>\n",
       "      <td>0005ca5e93f2cf4</td>\n",
       "      <td>2024-07-23</td>\n",
       "      <td>2024-07-23 18:36:24</td>\n",
       "      <td>237325</td>\n",
       "      <td>нет</td>\n",
       "      <td>0</td>\n",
       "      <td>rub</td>\n",
       "      <td>mobile</td>\n",
       "      <td>289.45</td>\n",
       "      <td>...</td>\n",
       "      <td>событие</td>\n",
       "      <td>выставки</td>\n",
       "      <td>№4850</td>\n",
       "      <td>Каменевский регион</td>\n",
       "      <td>Глиногорск</td>\n",
       "      <td>213.0</td>\n",
       "      <td>2941.0</td>\n",
       "      <td>Музыкальная школа для детей \"Аккаунт\" Лтд</td>\n",
       "      <td>алл. Шмидта, д. 9 стр. 4</td>\n",
       "      <td>289.45</td>\n",
       "    </tr>\n",
       "    <tr>\n",
       "      <th>2</th>\n",
       "      <td>7292370</td>\n",
       "      <td>0005ca5e93f2cf4</td>\n",
       "      <td>2024-10-06</td>\n",
       "      <td>2024-10-06 13:56:02</td>\n",
       "      <td>578454</td>\n",
       "      <td>нет</td>\n",
       "      <td>0</td>\n",
       "      <td>rub</td>\n",
       "      <td>mobile</td>\n",
       "      <td>1258.57</td>\n",
       "      <td>...</td>\n",
       "      <td>цирковое шоу</td>\n",
       "      <td>другое</td>\n",
       "      <td>№1540</td>\n",
       "      <td>Каменевский регион</td>\n",
       "      <td>Глиногорск</td>\n",
       "      <td>213.0</td>\n",
       "      <td>4507.0</td>\n",
       "      <td>Училище искусств \"Нирвана\" Инк</td>\n",
       "      <td>алл. Юбилейная, д. 5/6</td>\n",
       "      <td>1258.57</td>\n",
       "    </tr>\n",
       "    <tr>\n",
       "      <th>3</th>\n",
       "      <td>1139875</td>\n",
       "      <td>000898990054619</td>\n",
       "      <td>2024-07-13</td>\n",
       "      <td>2024-07-13 19:40:48</td>\n",
       "      <td>387271</td>\n",
       "      <td>нет</td>\n",
       "      <td>0</td>\n",
       "      <td>rub</td>\n",
       "      <td>mobile</td>\n",
       "      <td>8.49</td>\n",
       "      <td>...</td>\n",
       "      <td>выставка</td>\n",
       "      <td>другое</td>\n",
       "      <td>№5049</td>\n",
       "      <td>Североярская область</td>\n",
       "      <td>Озёрск</td>\n",
       "      <td>2.0</td>\n",
       "      <td>3574.0</td>\n",
       "      <td>Театр альтернативного искусства \"Ода\" Лимитед</td>\n",
       "      <td>алл. Есенина, д. 243 к. 3/8</td>\n",
       "      <td>8.49</td>\n",
       "    </tr>\n",
       "    <tr>\n",
       "      <th>4</th>\n",
       "      <td>972400</td>\n",
       "      <td>000898990054619</td>\n",
       "      <td>2024-10-04</td>\n",
       "      <td>2024-10-04 22:33:15</td>\n",
       "      <td>509453</td>\n",
       "      <td>нет</td>\n",
       "      <td>18</td>\n",
       "      <td>rub</td>\n",
       "      <td>mobile</td>\n",
       "      <td>1390.41</td>\n",
       "      <td>...</td>\n",
       "      <td>шоу</td>\n",
       "      <td>стендап</td>\n",
       "      <td>№832</td>\n",
       "      <td>Озернинский край</td>\n",
       "      <td>Родниковецк</td>\n",
       "      <td>240.0</td>\n",
       "      <td>1896.0</td>\n",
       "      <td>Театр кукол \"Огни\" Инкорпорэйтед</td>\n",
       "      <td>ш. Набережное, д. 595 стр. 8</td>\n",
       "      <td>1390.41</td>\n",
       "    </tr>\n",
       "  </tbody>\n",
       "</table>\n",
       "<p>5 rows × 25 columns</p>\n",
       "</div>"
      ],
      "text/plain": [
       "   order_id          user_id created_dt_msk       created_ts_msk  event_id  \\\n",
       "0   4359165  0002849b70a3ce2     2024-08-20  2024-08-20 16:08:03    169230   \n",
       "1   7965605  0005ca5e93f2cf4     2024-07-23  2024-07-23 18:36:24    237325   \n",
       "2   7292370  0005ca5e93f2cf4     2024-10-06  2024-10-06 13:56:02    578454   \n",
       "3   1139875  000898990054619     2024-07-13  2024-07-13 19:40:48    387271   \n",
       "4    972400  000898990054619     2024-10-04  2024-10-04 22:33:15    509453   \n",
       "\n",
       "  cinema_circuit  age_limit currency_code device_type_canonical  revenue  ...  \\\n",
       "0            нет         16           rub                mobile  1521.94  ...   \n",
       "1            нет          0           rub                mobile   289.45  ...   \n",
       "2            нет          0           rub                mobile  1258.57  ...   \n",
       "3            нет          0           rub                mobile     8.49  ...   \n",
       "4            нет         18           rub                mobile  1390.41  ...   \n",
       "\n",
       "  event_type_description  event_type_main  organizers           region_name  \\\n",
       "0              спектакль            театр       №3322    Каменевский регион   \n",
       "1                событие         выставки       №4850    Каменевский регион   \n",
       "2           цирковое шоу           другое       №1540    Каменевский регион   \n",
       "3               выставка           другое       №5049  Североярская область   \n",
       "4                    шоу          стендап        №832      Озернинский край   \n",
       "\n",
       "     city_name city_id venue_id  \\\n",
       "0   Глиногорск   213.0   3972.0   \n",
       "1   Глиногорск   213.0   2941.0   \n",
       "2   Глиногорск   213.0   4507.0   \n",
       "3       Озёрск     2.0   3574.0   \n",
       "4  Родниковецк   240.0   1896.0   \n",
       "\n",
       "                                      venue_name  \\\n",
       "0               Сценический центр \"Деталь\" Групп   \n",
       "1      Музыкальная школа для детей \"Аккаунт\" Лтд   \n",
       "2                 Училище искусств \"Нирвана\" Инк   \n",
       "3  Театр альтернативного искусства \"Ода\" Лимитед   \n",
       "4               Театр кукол \"Огни\" Инкорпорэйтед   \n",
       "\n",
       "                         venue_address revenue_rub  \n",
       "0  алл. Машиностроителей, д. 19 стр. 6     1521.94  \n",
       "1             алл. Шмидта, д. 9 стр. 4      289.45  \n",
       "2               алл. Юбилейная, д. 5/6     1258.57  \n",
       "3          алл. Есенина, д. 243 к. 3/8        8.49  \n",
       "4         ш. Набережное, д. 595 стр. 8     1390.41  \n",
       "\n",
       "[5 rows x 25 columns]"
      ]
     },
     "execution_count": 16,
     "metadata": {},
     "output_type": "execute_result"
    }
   ],
   "source": [
    "# Оставляем оригинальные рублевые суммы там, где они уже были\n",
    "df_with_rates['revenue_rub'].fillna(df_with_rates['revenue'], inplace=True)\n",
    "\n",
    "# Удаляем лишние колонки \n",
    "df_final = df_with_rates.drop(columns=['data', 'curs', 'nominal', 'cdx'])\n",
    "\n",
    "df_final.head()   "
   ]
  },
  {
   "cell_type": "code",
   "execution_count": 17,
   "metadata": {
    "scrolled": true
   },
   "outputs": [
    {
     "name": "stdout",
     "output_type": "stream",
     "text": [
      "<class 'pandas.core.frame.DataFrame'>\n",
      "Int64Index: 290849 entries, 0 to 290848\n",
      "Data columns (total 25 columns):\n",
      " #   Column                  Non-Null Count   Dtype         \n",
      "---  ------                  --------------   -----         \n",
      " 0   order_id                290849 non-null  int64         \n",
      " 1   user_id                 290849 non-null  object        \n",
      " 2   created_dt_msk          290849 non-null  datetime64[ns]\n",
      " 3   created_ts_msk          290849 non-null  object        \n",
      " 4   event_id                290849 non-null  int64         \n",
      " 5   cinema_circuit          290849 non-null  object        \n",
      " 6   age_limit               290849 non-null  int64         \n",
      " 7   currency_code           290849 non-null  object        \n",
      " 8   device_type_canonical   290849 non-null  object        \n",
      " 9   revenue                 290849 non-null  float64       \n",
      " 10  service_name            290849 non-null  object        \n",
      " 11  tickets_count           290849 non-null  int64         \n",
      " 12  total                   290849 non-null  float64       \n",
      " 13  days_since_prev         268909 non-null  float64       \n",
      " 14  event_name              290611 non-null  object        \n",
      " 15  event_type_description  290611 non-null  object        \n",
      " 16  event_type_main         290611 non-null  object        \n",
      " 17  organizers              290611 non-null  object        \n",
      " 18  region_name             290611 non-null  object        \n",
      " 19  city_name               290611 non-null  object        \n",
      " 20  city_id                 290611 non-null  float64       \n",
      " 21  venue_id                290611 non-null  float64       \n",
      " 22  venue_name              290611 non-null  object        \n",
      " 23  venue_address           290611 non-null  object        \n",
      " 24  revenue_rub             290849 non-null  float64       \n",
      "dtypes: datetime64[ns](1), float64(6), int64(4), object(14)\n",
      "memory usage: 65.8+ MB\n"
     ]
    }
   ],
   "source": [
    "df_final.info()"
   ]
  },
  {
   "cell_type": "markdown",
   "metadata": {},
   "source": [
    "Смотрим выручку и количество билетов в заказе на распределение и наличие выбросов"
   ]
  },
  {
   "cell_type": "code",
   "execution_count": 18,
   "metadata": {},
   "outputs": [
    {
     "name": "stdout",
     "output_type": "stream",
     "text": [
      "Статистические показатели до фильтрации:\n",
      "           order_id       event_id      age_limit        revenue  \\\n",
      "count  2.908490e+05  290849.000000  290849.000000  290849.000000   \n",
      "mean   4.326812e+06  438079.127702      10.211278     625.083054   \n",
      "std    2.497578e+06  147396.389016       6.518124    1227.316214   \n",
      "min    1.000000e+00    4436.000000       0.000000     -90.760000   \n",
      "25%    2.164039e+06  361961.000000       6.000000     116.790000   \n",
      "50%    4.327816e+06  498329.000000      12.000000     355.340000   \n",
      "75%    6.488606e+06  546284.000000      16.000000     809.750000   \n",
      "max    8.653108e+06  592325.000000      18.000000   81174.540000   \n",
      "\n",
      "       tickets_count          total  days_since_prev        city_id  \\\n",
      "count  290849.000000  290849.000000    268909.000000  290611.000000   \n",
      "mean        2.754230    7526.465613         3.222525     937.021968   \n",
      "std         1.170467   15328.267730        11.355158    3590.567741   \n",
      "min         1.000000    -358.850000         0.000000       2.000000   \n",
      "25%         2.000000    2156.870000         0.000000      39.000000   \n",
      "50%         3.000000    4771.390000         0.000000      79.000000   \n",
      "75%         4.000000    8955.950000         1.000000     213.000000   \n",
      "max        57.000000  811745.400000       148.000000   37172.000000   \n",
      "\n",
      "            venue_id    revenue_rub  \n",
      "count  290611.000000  290849.000000  \n",
      "mean     2711.363854     555.127972  \n",
      "std      1086.889156     875.278177  \n",
      "min       894.000000     -90.760000  \n",
      "25%      1706.000000     113.340000  \n",
      "50%      2787.000000     350.260000  \n",
      "75%      3679.000000     802.050000  \n",
      "max      4677.000000   81174.540000  \n"
     ]
    },
    {
     "data": {
      "image/png": "[encoded data removed]",
      "text/plain": [
       "<Figure size 720x432 with 1 Axes>"
      ]
     },
     "metadata": {
      "needs_background": "light"
     },
     "output_type": "display_data"
    },
    {
     "data": {
      "image/png": "[encoded data removed]",
      "text/plain": [
       "<Figure size 576x432 with 1 Axes>"
      ]
     },
     "metadata": {
      "needs_background": "light"
     },
     "output_type": "display_data"
    },
    {
     "name": "stdout",
     "output_type": "stream",
     "text": [
      "Статистические показатели после фильтрации:\n",
      "           order_id       event_id      age_limit        revenue  \\\n",
      "count  2.880240e+05  288024.000000  288024.000000  288024.000000   \n",
      "mean   4.327705e+06  437883.297329      10.196352     571.933555   \n",
      "std    2.497597e+06  147473.986525       6.527189     835.777738   \n",
      "min    1.000000e+00    4436.000000       0.000000     -90.760000   \n",
      "25%    2.166207e+06  361385.000000       6.000000     114.970000   \n",
      "50%    4.328266e+06  497416.000000      12.000000     347.300000   \n",
      "75%    6.489831e+06  546265.000000      16.000000     794.800000   \n",
      "max    8.653108e+06  592325.000000      18.000000   13784.260000   \n",
      "\n",
      "       tickets_count          total  days_since_prev        city_id  \\\n",
      "count  288024.000000  288024.000000    266282.000000  287786.000000   \n",
      "mean        2.740424    6970.693441         3.223177     943.048275   \n",
      "std         1.162923   11362.198227        11.358845    3605.228438   \n",
      "min         1.000000    -358.850000         0.000000       2.000000   \n",
      "25%         2.000000    2132.950000         0.000000      39.000000   \n",
      "50%         3.000000    4702.340000         0.000000      77.000000   \n",
      "75%         3.000000    8834.550000         1.000000     213.000000   \n",
      "max        57.000000  229737.660000       148.000000   37172.000000   \n",
      "\n",
      "            venue_id    revenue_rub  \n",
      "count  287786.000000  288024.000000  \n",
      "mean     2710.832726     517.611877  \n",
      "std      1086.985169     511.959262  \n",
      "min       894.000000     -90.760000  \n",
      "25%      1706.000000     111.395000  \n",
      "50%      2793.000000     343.500000  \n",
      "75%      3676.000000     788.630000  \n",
      "max      4677.000000    2628.421739  \n"
     ]
    },
    {
     "data": {
      "image/png": "[encoded data removed]",
      "text/plain": [
       "<Figure size 864x432 with 2 Axes>"
      ]
     },
     "metadata": {
      "needs_background": "light"
     },
     "output_type": "display_data"
    }
   ],
   "source": [
    "# Статистика до фильтрации\n",
    "stats = df_final.describe()\n",
    "print(\"Статистические показатели до фильтрации:\")\n",
    "print(stats)\n",
    "\n",
    "# Анализируем исходное распределение дохода\n",
    "plt.figure(figsize=(10, 6))\n",
    "sns.histplot(df_final['revenue_rub'], bins=50, kde=True)\n",
    "plt.title('Исходное распределение дохода (Revenue)', fontsize=14)\n",
    "plt.xlabel('Доход в рублях', fontsize=12)\n",
    "plt.ylabel('Количество наблюдений', fontsize=12)\n",
    "plt.grid(True, alpha=0.3)\n",
    "plt.show()\n",
    "\n",
    "# Выявляем выбросы с помощью boxplot\n",
    "plt.figure(figsize=(8, 6))\n",
    "sns.boxplot(x=df_final['revenue_rub'])\n",
    "plt.title('Boxplot дохода (Revenue)', fontsize=14)\n",
    "plt.xlabel('Доход в рублях', fontsize=12)\n",
    "plt.grid(axis=\"y\")\n",
    "plt.show()\n",
    "\n",
    "# Определение верхнего порога по 99% квантилю\n",
    "upper_threshold_revenue = df_final['revenue_rub'].quantile(0.99)\n",
    "\n",
    "# Фильтрация данных по установленному порогу\n",
    "df_filtered = df_final[df_final['revenue_rub'] <= upper_threshold_revenue]\n",
    "\n",
    "# Статистика после фильтрации\n",
    "stats_filtered = df_filtered.describe()\n",
    "print(\"Статистические показатели после фильтрации:\")\n",
    "print(stats_filtered)\n",
    "\n",
    "# Графическое сравнение распределений Доходы и Количество билетов\n",
    "fig, axes = plt.subplots(nrows=1, ncols=2, figsize=(12, 6))\n",
    "sns.histplot(df_filtered['revenue_rub'], ax=axes[0], color='b').set_title('Выручка (руб.)', fontsize=14)\n",
    "sns.histplot(df_filtered['tickets_count'], ax=axes[1], color='g').set_title('Количество билетов', fontsize=14)\n",
    "plt.tight_layout()\n",
    "plt.show()"
   ]
  },
  {
   "cell_type": "markdown",
   "metadata": {},
   "source": [
    "Вывод:\n",
    "\n",
    "Максимальное значение выручки уменьшилось почти вдвое (с 81 174 до 13 784), что снижает влияние аномальных точек на средние значения и стандартные отклонения.\n",
    "Общее качество данных улучшилось, так как уменьшение влияния резко выделяющихся элементов.\n",
    "Таким образом, очистка данных повысила надежность последующих анализов и обеспечила достоверность выводов."
   ]
  },
  {
   "cell_type": "markdown",
   "metadata": {},
   "source": [
    "Проверяем датасет на явные и неявные дубликаты"
   ]
  },
  {
   "cell_type": "code",
   "execution_count": 19,
   "metadata": {},
   "outputs": [
    {
     "data": {
      "text/plain": [
       "0"
      ]
     },
     "execution_count": 19,
     "metadata": {},
     "output_type": "execute_result"
    }
   ],
   "source": [
    "# Проверяем количество дубликатов\n",
    "df_final.duplicated().sum()"
   ]
  },
  {
   "cell_type": "code",
   "execution_count": 20,
   "metadata": {},
   "outputs": [
    {
     "name": "stdout",
     "output_type": "stream",
     "text": [
      "\n",
      "Уникальные значения в 'user_id'\n",
      "['0002849b70a3ce2' '0005ca5e93f2cf4' '000898990054619' ...\n",
      " 'fffcd3dde79eb2c' 'fffeeb3c120cf0b' 'ffff00725179321'] \n",
      "\n",
      "Уникальные значения в 'created_ts_msk'\n",
      "['2024-08-20 16:08:03' '2024-07-23 18:36:24' '2024-10-06 13:56:02' ...\n",
      " '2024-10-30 13:37:43' '2024-09-24 10:07:42' '2024-09-25 15:12:40'] \n",
      "\n",
      "Уникальные значения в 'cinema_circuit'\n",
      "['нет' 'Другое' 'Киномакс' 'КиноСити' 'Москино' 'ЦентрФильм'] \n",
      "\n",
      "Уникальные значения в 'currency_code'\n",
      "['rub' 'kzt'] \n",
      "\n",
      "Уникальные значения в 'device_type_canonical'\n",
      "['mobile' 'desktop'] \n",
      "\n",
      "Уникальные значения в 'service_name'\n",
      "['Край билетов' 'Мой билет' 'За билетом!' 'Лови билет!'\n",
      " 'Билеты без проблем' 'Облачко' 'Лучшие билеты' 'Прачечная' 'Быстробилет'\n",
      " 'Дом культуры' 'Весь в билетах' 'Билеты в руки' 'Тебе билет!'\n",
      " 'Show_ticket' 'Городской дом культуры' 'Яблоко' 'Билет по телефону'\n",
      " 'Выступления.ру' 'Росбилет' 'Шоу начинается!' 'Мир касс' 'Восьмёрка'\n",
      " 'Телебилет' 'Crazy ticket!' 'Реестр' 'Быстрый кассир' 'КарандашРУ'\n",
      " 'Радио ticket' 'Дырокол' 'Вперёд!' 'Кино билет' 'Цвет и билет' 'Зе Бест!'\n",
      " 'Тех билет' 'Лимоны' 'Билеты в интернете'] \n",
      "\n",
      "Уникальные значения в 'event_name'\n",
      "['f0f7b271-04eb-4af6-bcb8-8f05cf46d6ad'\n",
      " '40efeb04-81b7-4135-b41f-708ff00cc64c'\n",
      " '01f3fb7b-ed07-4f94-b1d3-9a2e1ee5a8ca' ...\n",
      " 'cf71bf2b-8e5c-47e0-a0f3-c2d4910c4677'\n",
      " 'f17a01b7-3cd3-4cd1-919c-3459bd074886'\n",
      " '0fd6df8e-49e5-4337-954d-5a4606b1b899'] \n",
      "\n",
      "Уникальные значения в 'event_type_description'\n",
      "['спектакль' 'событие' 'цирковое шоу' 'выставка' 'шоу' 'концерт' 'спорт'\n",
      " 'мюзикл' 'фестиваль' nan 'ёлка' 'балет' 'спортивное мероприятие' 'опера'\n",
      " 'музыкальный спектакль' 'кукольный спектакль' 'оперетта' 'снегурочка'\n",
      " 'рок-мюзикл' 'экскурсия' 'подарок'] \n",
      "\n",
      "Уникальные значения в 'event_type_main'\n",
      "['театр' 'выставки' 'другое' 'стендап' 'концерты' 'спорт' nan 'ёлки'] \n",
      "\n",
      "Уникальные значения в 'organizers'\n",
      "['№3322' '№4850' '№1540' ... '№1161' '№3497' '№1904'] \n",
      "\n",
      "Уникальные значения в 'region_name'\n",
      "['Каменевский регион' 'Североярская область' 'Озернинский край'\n",
      " 'Лугоградская область' 'Поленовский край' 'Широковская область'\n",
      " 'Медовская область' 'Златопольский округ' 'Малиновоярский округ'\n",
      " 'Яблоневская область' 'Ветренский регион' 'Боровлянский край'\n",
      " 'Крутоводская область' 'Ягодиновская область' 'Серебряноярский округ' nan\n",
      " 'Лесодальний край' 'Верхоречная область' 'Горицветская область'\n",
      " 'Речиновская область' 'Травиницкий округ' 'Сосновская область'\n",
      " 'Серебринская область' 'Травяная область' 'Каменноярский край'\n",
      " 'Солнечноземская область' 'Светополянский округ' 'Заречная область'\n",
      " 'Ручейковский край' 'Глиногорская область' 'Тепляковская область'\n",
      " 'Каменноозёрный край' 'Солнечнореченская область' 'Зоринский регион'\n",
      " 'Берёзовская область' 'Лесостепной край' 'Малиновая область'\n",
      " 'Синегорский регион' 'Луговая область' 'Шанырский регион'\n",
      " 'Каменополянский округ' 'Речицкая область' 'Горностепной регион'\n",
      " 'Речицкий регион' 'Золотоключевской край' 'Лесоярская область'\n",
      " 'Зеленоградский округ' 'Миропольская область' 'Дальнеземская область'\n",
      " 'Озернопольская область' 'Берестовский округ' 'Ключеводский округ'\n",
      " 'Нежинская область' 'Дальнезорский край' 'Вишнёвский край'\n",
      " 'Каменичская область' 'Голубевский округ' 'Тихогорская область'\n",
      " 'Крутоводский регион' 'Чистогорская область' 'Североозёрский округ'\n",
      " 'Тихолесский край' 'Кристальная область' 'Горноземский регион'\n",
      " 'Радужнопольский край' 'Белоярская область' 'Островная область'\n",
      " 'Тихореченская область' 'Кристаловская область' 'Яснопольский округ'\n",
      " 'Островогорский округ' 'Радужногорская область' 'Дубравная область'\n",
      " 'Залесский край' 'Североключевской округ' 'Верховинская область'\n",
      " 'Светолесский край' 'Сосноводолинская область' 'Верхозёрский край'\n",
      " 'Лесноярский край' 'Теплоозёрский округ' 'Лесополянская область'] \n",
      "\n",
      "Уникальные значения в 'city_name'\n",
      "['Глиногорск' 'Озёрск' 'Родниковецк' 'Кристалевск' 'Дальнозолотск'\n",
      " 'Радужнополье' 'Радужсвет' 'Кумсай' 'Верховино' 'Светополье' 'Кокжар'\n",
      " 'Каменский' 'Лесоярич' 'Никольянов' 'Речинцево' 'Лесозолотск' nan\n",
      " 'Дальнозерск' 'Серебрянка' 'Островецк' 'Родниковец' 'Дальнесветск'\n",
      " 'Луговаярово' 'Ягодиновка' 'Дальнополин' 'Солчелуг' 'Озёрчане'\n",
      " 'Серебровино' 'Лесоярово' 'Глинополье' 'Глиноград' 'Дальнесветин'\n",
      " 'Северополье' 'Теплоозеро' 'Горнодолинск' 'Ордакент' 'Озёрово'\n",
      " 'Луговинск' 'Лугоград' 'Златопольск' 'Крутовинск' 'Сарыжар' 'Сосновечин'\n",
      " 'Тихоярск' 'Яблонецк' 'Жаркентай' 'Широковка' 'Синеводов' 'Синеводск'\n",
      " 'Тихосветск' 'Радужанов' 'Глиногорь' 'Каменосветск' 'Родниковск'\n",
      " 'Травогород' 'Глинянск' 'Радужинск' 'Поляногорье' 'Дальнолесье'\n",
      " 'Ручейник' 'Ключеград' 'Ключеводск' 'Поленовино' 'Речичанск'\n",
      " 'Ключевополье' 'Шаныртау' 'Дальнесоснов' 'Ордасай' 'Теплоозёрск'\n",
      " 'Чистогорье' 'Ручейный' 'Островярово' 'Ягодинск' 'Поленоозёрово'\n",
      " 'Акбасты' 'Медовино' 'Каменёвка' 'Рощино' 'Солнечнёвка' 'Верхозолотск'\n",
      " 'Боровлянск' 'Лугиново' 'Сосноград' 'Радужнояр' 'Кенесар' 'Островенск'\n",
      " 'Горнополец' 'Яблоновец' 'Вишнёво' 'Ясногородин' 'Нежинск' 'Малиноворск'\n",
      " 'Леснойск' 'Озёриново' 'Островополь' 'Тихоречка' 'Поленояр' 'Ручьевино'\n",
      " 'Травяниново' 'Кристаловец' 'Буркиттау' 'Ручейковск' 'Песковино'\n",
      " 'Горнополье' 'Зоревец' 'Акбастау' 'Заречиновка' 'Сосновогорец'\n",
      " 'Лесочистка' 'Лесоводск' 'Каменевовск' 'Сарытау' 'Малиновец' 'Речевинец'\n",
      " 'Кристалинск' 'Верхоозёров' 'Травяночистск' 'Байкуль' 'Светоярчик'\n",
      " 'Зориново' 'Лесореченск' 'Водниково' 'Берестовец' 'Мироярово'\n",
      " 'Медвежанск' 'Тихолесье' 'Каменичи' 'Тихогорово' 'Лесиново'\n",
      " 'Синегориново' 'Зелёнаярово' 'Лесозерск' 'Солнечеполье' 'Солнечеводск'\n",
      " 'Лесогорич' 'Ключевогорск' 'Нивинск' 'Травогорск' 'Лесоярка' 'Шынгысай'\n",
      " 'Луговское' 'Горноставинск' 'Зоречанск' 'Ручейновинск' 'Лесодолинск'\n",
      " 'Поленовец' 'Крутово' 'Зеленополье' 'Тепляковск' 'Желкаин' 'Березиноск'\n",
      " 'Горнополянск' 'Песчанская' 'Светополь' 'Поленоград' 'Вишнёвогорск'\n",
      " 'Северогорск' 'Речное' 'Каменевск' 'Травянский' 'Глинозорь' 'Луговинец'\n",
      " 'Серебровка' 'Горяново' 'Медовецк' 'Каменозолото' 'Желтоксан' 'Ясногорец'\n",
      " 'Горицветск' 'Ясносветск' 'Сосновинск' 'Белоярск' 'Солнечейск' 'Каменояр'\n",
      " 'Зеленолесье' 'Нуртас' 'Светогория' 'Беловодск' 'Малиновинск'\n",
      " 'Серебринск' 'Ключевинск' 'Тихозорин' 'Голубино' 'Долиновка' 'Шалкартау'\n",
      " 'Миросветск' 'Травяниково' 'Ясноград' 'Светочистенск' 'Кумсары'\n",
      " 'Зеленоградовск' 'Поленосветск' 'Каменодолин' 'Вишнёводск'\n",
      " 'Северобережье' 'Светозёринск' 'Каражар' 'Горнополёк' 'Ключезолотск'\n",
      " 'Горнолуг' 'Песчанец' 'Бережанка' 'Соловьёвка' 'Крутоводск' 'Бозарык'\n",
      " 'Родничанск' 'Берёзодальн' 'Озёречин' 'Поленосвет' 'Зоревичск' 'Коксуйск'\n",
      " 'Златоречинск' 'Жетисайск' 'Байтерековск' 'Акжолтау' 'Сереброяр'\n",
      " 'Яблоневое' 'Лесинск' 'Речинск' 'Заречнинск' 'Яснополянск' 'Речиноград'\n",
      " 'Радужнаярова' 'Светозорск' 'Горнополяровск' 'Речепольск' 'Тиходеревск'\n",
      " 'Ягодиноград' 'Желтау' 'Поленовичи' 'Тулебайск' 'Златоозёрово'\n",
      " 'Кристальевка' 'Сарыбулак' 'Сосновогорск' 'Теплоград' 'Яблоневск'\n",
      " 'Реченск' 'Бурьяново' 'Островозёров' 'Солнечёвино' 'Берёзоречье'\n",
      " 'Ветеринск' 'Тихолесьевск' 'Зореполин' 'Тихоозёрск' 'Родинсветск'\n",
      " 'Медвежник' 'Ясновский' 'Заречнаярово' 'Светоярич' 'Ручейницк'\n",
      " 'Лесогорский' 'Зелёново' 'Крутоводинск' 'Яснолесье' 'Солнечелесье'\n",
      " 'Луновка' 'Мироград' 'Светлоярск' 'Североград' 'Медвежиновск' 'Сосновецк'\n",
      " 'Зеленополин' 'Каражол' 'Заречка' 'Глинореч' 'Каменевский' 'Берёзогорск'\n",
      " 'Светозолотск' 'Гореловск' 'Малиновочист' 'Островской' 'Каменогорье'\n",
      " 'Чистояр' 'Ташбулак' 'Бережанск' 'Кристалин' 'Зареченец' 'Талдысай'\n",
      " 'Ягодино' 'Синеполинск' 'Берестяград' 'Алтынсай' 'Заречийск'\n",
      " 'Берёзополье' 'Зеленополец' 'Шынартас' 'Радужновка' 'Поленолесье'\n",
      " 'Златоречье' 'Островсков' 'Тогусжол' 'Светоречин' 'Айкольск'\n",
      " 'Радужовинск' 'Айсуак' 'Заречник' 'Глинолес' 'Зелёнояр' 'Синегорск'\n",
      " 'Каменогорский' 'Полянск' 'Крутовичи' 'Глинозолото' 'Ягодинска'\n",
      " 'Верховка' 'Тепляровск' 'Реченогор' 'Озёроярск' 'Тастай' 'Светоярово'\n",
      " 'Верхозорье' 'Поляноречинск' 'Малиновецк' 'Острововск' 'Светочистка'\n",
      " 'Долиновск' 'Мирополь' 'Озёряновск' 'Златополье' 'Кристаловка'\n",
      " 'Берёзореч' 'Зеленогорье' 'Солнечеград' 'Голубевск' 'Глинополянск'\n",
      " 'Радугорь' 'Кристолесье' 'Березиногорск' 'Миролесье' 'Заречинск'\n",
      " 'Ягодиноск' 'Байсары' 'Берёзиново' 'Солнечегорск' 'Глинополин'\n",
      " 'Озёроград' 'Ягодинец' 'Алтынкала' 'Горнолесье' 'Карасуй' 'Лесополин'\n",
      " 'Дальнеград' 'Горноград' 'Березовцево' 'Берёзовка' 'Дальнозелен'\n",
      " 'Травино' 'Карасуйск' 'Кызылжол' 'Поляновск' 'Лесогорск'] \n",
      "\n",
      "Уникальные значения в 'venue_name'\n",
      "['Сценический центр \"Деталь\" Групп'\n",
      " 'Музыкальная школа для детей \"Аккаунт\" Лтд'\n",
      " 'Училище искусств \"Нирвана\" Инк' ...\n",
      " 'Университет искусств \"Прогресс\" Групп' 'Творческая ярмарка \"График\" Инк'\n",
      " 'Школа музыки \"Парадигма\" Лтд'] \n",
      "\n",
      "Уникальные значения в 'venue_address'\n",
      "['алл. Машиностроителей, д. 19 стр. 6' 'алл. Шмидта, д. 9 стр. 4'\n",
      " 'алл. Юбилейная, д. 5/6' ... 'ш. Безымянное, д. 6'\n",
      " 'алл. Тепличная, д. 4/1' 'пр. Сплавный, д. 236 к. 918'] \n",
      "<class 'pandas.core.frame.DataFrame'>\n",
      "Int64Index: 290849 entries, 0 to 290848\n",
      "Data columns (total 25 columns):\n",
      " #   Column                  Non-Null Count   Dtype         \n",
      "---  ------                  --------------   -----         \n",
      " 0   order_id                290849 non-null  int64         \n",
      " 1   user_id                 290849 non-null  object        \n",
      " 2   created_dt_msk          290849 non-null  datetime64[ns]\n",
      " 3   created_ts_msk          290849 non-null  object        \n",
      " 4   event_id                290849 non-null  int64         \n",
      " 5   cinema_circuit          290849 non-null  object        \n",
      " 6   age_limit               290849 non-null  int64         \n",
      " 7   currency_code           290849 non-null  object        \n",
      " 8   device_type_canonical   290849 non-null  object        \n",
      " 9   revenue                 290849 non-null  float64       \n",
      " 10  service_name            290849 non-null  object        \n",
      " 11  tickets_count           290849 non-null  int64         \n",
      " 12  total                   290849 non-null  float64       \n",
      " 13  days_since_prev         268909 non-null  float64       \n",
      " 14  event_name              290611 non-null  object        \n",
      " 15  event_type_description  290611 non-null  object        \n",
      " 16  event_type_main         290611 non-null  object        \n",
      " 17  organizers              290611 non-null  object        \n",
      " 18  region_name             290611 non-null  object        \n",
      " 19  city_name               290611 non-null  object        \n",
      " 20  city_id                 290611 non-null  float64       \n",
      " 21  venue_id                290611 non-null  float64       \n",
      " 22  venue_name              290611 non-null  object        \n",
      " 23  venue_address           290611 non-null  object        \n",
      " 24  revenue_rub             290849 non-null  float64       \n",
      "dtypes: datetime64[ns](1), float64(6), int64(4), object(14)\n",
      "memory usage: 65.8+ MB\n",
      "Количество неявных дубликатов: 58\n"
     ]
    },
    {
     "data": {
      "text/html": [
       "<div>\n",
       "<style scoped>\n",
       "    .dataframe tbody tr th:only-of-type {\n",
       "        vertical-align: middle;\n",
       "    }\n",
       "\n",
       "    .dataframe tbody tr th {\n",
       "        vertical-align: top;\n",
       "    }\n",
       "\n",
       "    .dataframe thead th {\n",
       "        text-align: right;\n",
       "    }\n",
       "</style>\n",
       "<table border=\"1\" class=\"dataframe\">\n",
       "  <thead>\n",
       "    <tr style=\"text-align: right;\">\n",
       "      <th></th>\n",
       "      <th>order_id</th>\n",
       "      <th>user_id</th>\n",
       "      <th>created_dt_msk</th>\n",
       "      <th>created_ts_msk</th>\n",
       "      <th>event_id</th>\n",
       "      <th>cinema_circuit</th>\n",
       "      <th>age_limit</th>\n",
       "      <th>currency_code</th>\n",
       "      <th>device_type_canonical</th>\n",
       "      <th>revenue</th>\n",
       "      <th>...</th>\n",
       "      <th>event_type_description</th>\n",
       "      <th>event_type_main</th>\n",
       "      <th>organizers</th>\n",
       "      <th>region_name</th>\n",
       "      <th>city_name</th>\n",
       "      <th>city_id</th>\n",
       "      <th>venue_id</th>\n",
       "      <th>venue_name</th>\n",
       "      <th>venue_address</th>\n",
       "      <th>revenue_rub</th>\n",
       "    </tr>\n",
       "  </thead>\n",
       "  <tbody>\n",
       "    <tr>\n",
       "      <th>11777</th>\n",
       "      <td>1123983</td>\n",
       "      <td>06eb7897f65b433</td>\n",
       "      <td>2024-08-13</td>\n",
       "      <td>2024-08-13 16:31:07</td>\n",
       "      <td>183706</td>\n",
       "      <td>нет</td>\n",
       "      <td>18</td>\n",
       "      <td>rub</td>\n",
       "      <td>mobile</td>\n",
       "      <td>69.82</td>\n",
       "      <td>...</td>\n",
       "      <td>спектакль</td>\n",
       "      <td>театр</td>\n",
       "      <td>№1482</td>\n",
       "      <td>Светополянский округ</td>\n",
       "      <td>Глиноград</td>\n",
       "      <td>54.0</td>\n",
       "      <td>4443.0</td>\n",
       "      <td>Центр культурного наследия \"Объединение\" и пар...</td>\n",
       "      <td>бул. Карбышева, д. 50</td>\n",
       "      <td>69.82</td>\n",
       "    </tr>\n",
       "    <tr>\n",
       "      <th>11778</th>\n",
       "      <td>1123867</td>\n",
       "      <td>06eb7897f65b433</td>\n",
       "      <td>2024-08-13</td>\n",
       "      <td>2024-08-13 16:31:07</td>\n",
       "      <td>183706</td>\n",
       "      <td>нет</td>\n",
       "      <td>18</td>\n",
       "      <td>rub</td>\n",
       "      <td>mobile</td>\n",
       "      <td>69.82</td>\n",
       "      <td>...</td>\n",
       "      <td>спектакль</td>\n",
       "      <td>театр</td>\n",
       "      <td>№1482</td>\n",
       "      <td>Светополянский округ</td>\n",
       "      <td>Глиноград</td>\n",
       "      <td>54.0</td>\n",
       "      <td>4443.0</td>\n",
       "      <td>Центр культурного наследия \"Объединение\" и пар...</td>\n",
       "      <td>бул. Карбышева, д. 50</td>\n",
       "      <td>69.82</td>\n",
       "    </tr>\n",
       "    <tr>\n",
       "      <th>57217</th>\n",
       "      <td>160922</td>\n",
       "      <td>2564e3703075008</td>\n",
       "      <td>2024-10-30</td>\n",
       "      <td>2024-10-30 10:04:15</td>\n",
       "      <td>589005</td>\n",
       "      <td>нет</td>\n",
       "      <td>6</td>\n",
       "      <td>rub</td>\n",
       "      <td>mobile</td>\n",
       "      <td>11.23</td>\n",
       "      <td>...</td>\n",
       "      <td>выставка</td>\n",
       "      <td>другое</td>\n",
       "      <td>№1810</td>\n",
       "      <td>Яблоневская область</td>\n",
       "      <td>Горяново</td>\n",
       "      <td>11036.0</td>\n",
       "      <td>1656.0</td>\n",
       "      <td>Модная академия \"Пункт\" Лимитед</td>\n",
       "      <td>бул. Гагарина, д. 39</td>\n",
       "      <td>11.23</td>\n",
       "    </tr>\n",
       "    <tr>\n",
       "      <th>57220</th>\n",
       "      <td>160893</td>\n",
       "      <td>2564e3703075008</td>\n",
       "      <td>2024-10-30</td>\n",
       "      <td>2024-10-30 10:04:15</td>\n",
       "      <td>589005</td>\n",
       "      <td>нет</td>\n",
       "      <td>6</td>\n",
       "      <td>rub</td>\n",
       "      <td>mobile</td>\n",
       "      <td>11.23</td>\n",
       "      <td>...</td>\n",
       "      <td>выставка</td>\n",
       "      <td>другое</td>\n",
       "      <td>№1810</td>\n",
       "      <td>Яблоневская область</td>\n",
       "      <td>Горяново</td>\n",
       "      <td>11036.0</td>\n",
       "      <td>1656.0</td>\n",
       "      <td>Модная академия \"Пункт\" Лимитед</td>\n",
       "      <td>бул. Гагарина, д. 39</td>\n",
       "      <td>11.23</td>\n",
       "    </tr>\n",
       "    <tr>\n",
       "      <th>84010</th>\n",
       "      <td>3363711</td>\n",
       "      <td>3ee7dc2e115847f</td>\n",
       "      <td>2024-06-25</td>\n",
       "      <td>2024-06-25 07:32:08</td>\n",
       "      <td>277504</td>\n",
       "      <td>нет</td>\n",
       "      <td>6</td>\n",
       "      <td>rub</td>\n",
       "      <td>mobile</td>\n",
       "      <td>59.19</td>\n",
       "      <td>...</td>\n",
       "      <td>событие</td>\n",
       "      <td>выставки</td>\n",
       "      <td>№5015</td>\n",
       "      <td>Нежинская область</td>\n",
       "      <td>Каменёвка</td>\n",
       "      <td>76.0</td>\n",
       "      <td>3094.0</td>\n",
       "      <td>Сообщество художников \"Палитра\" и партнеры</td>\n",
       "      <td>пр. Театральный, д. 161 стр. 2</td>\n",
       "      <td>59.19</td>\n",
       "    </tr>\n",
       "    <tr>\n",
       "      <th>84015</th>\n",
       "      <td>3363798</td>\n",
       "      <td>3ee7dc2e115847f</td>\n",
       "      <td>2024-06-25</td>\n",
       "      <td>2024-06-25 07:32:08</td>\n",
       "      <td>277504</td>\n",
       "      <td>нет</td>\n",
       "      <td>6</td>\n",
       "      <td>rub</td>\n",
       "      <td>mobile</td>\n",
       "      <td>59.19</td>\n",
       "      <td>...</td>\n",
       "      <td>событие</td>\n",
       "      <td>выставки</td>\n",
       "      <td>№5015</td>\n",
       "      <td>Нежинская область</td>\n",
       "      <td>Каменёвка</td>\n",
       "      <td>76.0</td>\n",
       "      <td>3094.0</td>\n",
       "      <td>Сообщество художников \"Палитра\" и партнеры</td>\n",
       "      <td>пр. Театральный, д. 161 стр. 2</td>\n",
       "      <td>59.19</td>\n",
       "    </tr>\n",
       "    <tr>\n",
       "      <th>148473</th>\n",
       "      <td>2324032</td>\n",
       "      <td>7b525118ae656af</td>\n",
       "      <td>2024-10-28</td>\n",
       "      <td>2024-10-28 08:33:04</td>\n",
       "      <td>588203</td>\n",
       "      <td>нет</td>\n",
       "      <td>0</td>\n",
       "      <td>rub</td>\n",
       "      <td>mobile</td>\n",
       "      <td>26.96</td>\n",
       "      <td>...</td>\n",
       "      <td>спорт</td>\n",
       "      <td>спорт</td>\n",
       "      <td>№1503</td>\n",
       "      <td>Чистогорская область</td>\n",
       "      <td>Песчанская</td>\n",
       "      <td>21.0</td>\n",
       "      <td>2155.0</td>\n",
       "      <td>Клуб моделей \"Гармония\" Инк</td>\n",
       "      <td>ул. Прохладная, д. 8 к. 432</td>\n",
       "      <td>26.96</td>\n",
       "    </tr>\n",
       "    <tr>\n",
       "      <th>148477</th>\n",
       "      <td>2323916</td>\n",
       "      <td>7b525118ae656af</td>\n",
       "      <td>2024-10-28</td>\n",
       "      <td>2024-10-28 08:33:04</td>\n",
       "      <td>588203</td>\n",
       "      <td>нет</td>\n",
       "      <td>0</td>\n",
       "      <td>rub</td>\n",
       "      <td>mobile</td>\n",
       "      <td>26.96</td>\n",
       "      <td>...</td>\n",
       "      <td>спорт</td>\n",
       "      <td>спорт</td>\n",
       "      <td>№1503</td>\n",
       "      <td>Чистогорская область</td>\n",
       "      <td>Песчанская</td>\n",
       "      <td>21.0</td>\n",
       "      <td>2155.0</td>\n",
       "      <td>Клуб моделей \"Гармония\" Инк</td>\n",
       "      <td>ул. Прохладная, д. 8 к. 432</td>\n",
       "      <td>26.96</td>\n",
       "    </tr>\n",
       "    <tr>\n",
       "      <th>154170</th>\n",
       "      <td>5372628</td>\n",
       "      <td>7eb4fc207ecc10f</td>\n",
       "      <td>2024-08-23</td>\n",
       "      <td>2024-08-23 14:08:19</td>\n",
       "      <td>298035</td>\n",
       "      <td>нет</td>\n",
       "      <td>6</td>\n",
       "      <td>rub</td>\n",
       "      <td>mobile</td>\n",
       "      <td>126.84</td>\n",
       "      <td>...</td>\n",
       "      <td>событие</td>\n",
       "      <td>другое</td>\n",
       "      <td>№4403</td>\n",
       "      <td>Североярская область</td>\n",
       "      <td>Озёрск</td>\n",
       "      <td>2.0</td>\n",
       "      <td>2795.0</td>\n",
       "      <td>Клуб исторических реконструкций \"Логос\" и парт...</td>\n",
       "      <td>пр. Пушкина, д. 8/6 к. 482</td>\n",
       "      <td>126.84</td>\n",
       "    </tr>\n",
       "    <tr>\n",
       "      <th>154173</th>\n",
       "      <td>5372831</td>\n",
       "      <td>7eb4fc207ecc10f</td>\n",
       "      <td>2024-08-23</td>\n",
       "      <td>2024-08-23 14:08:19</td>\n",
       "      <td>298035</td>\n",
       "      <td>нет</td>\n",
       "      <td>6</td>\n",
       "      <td>rub</td>\n",
       "      <td>mobile</td>\n",
       "      <td>126.84</td>\n",
       "      <td>...</td>\n",
       "      <td>событие</td>\n",
       "      <td>другое</td>\n",
       "      <td>№4403</td>\n",
       "      <td>Североярская область</td>\n",
       "      <td>Озёрск</td>\n",
       "      <td>2.0</td>\n",
       "      <td>2795.0</td>\n",
       "      <td>Клуб исторических реконструкций \"Логос\" и парт...</td>\n",
       "      <td>пр. Пушкина, д. 8/6 к. 482</td>\n",
       "      <td>126.84</td>\n",
       "    </tr>\n",
       "    <tr>\n",
       "      <th>154178</th>\n",
       "      <td>5373179</td>\n",
       "      <td>7eb4fc207ecc10f</td>\n",
       "      <td>2024-08-23</td>\n",
       "      <td>2024-08-23 14:08:19</td>\n",
       "      <td>298035</td>\n",
       "      <td>нет</td>\n",
       "      <td>6</td>\n",
       "      <td>rub</td>\n",
       "      <td>mobile</td>\n",
       "      <td>126.84</td>\n",
       "      <td>...</td>\n",
       "      <td>событие</td>\n",
       "      <td>другое</td>\n",
       "      <td>№4403</td>\n",
       "      <td>Североярская область</td>\n",
       "      <td>Озёрск</td>\n",
       "      <td>2.0</td>\n",
       "      <td>2795.0</td>\n",
       "      <td>Клуб исторических реконструкций \"Логос\" и парт...</td>\n",
       "      <td>пр. Пушкина, д. 8/6 к. 482</td>\n",
       "      <td>126.84</td>\n",
       "    </tr>\n",
       "    <tr>\n",
       "      <th>154981</th>\n",
       "      <td>3463732</td>\n",
       "      <td>7eb4fc207ecc10f</td>\n",
       "      <td>2024-09-21</td>\n",
       "      <td>2024-09-21 11:43:58</td>\n",
       "      <td>448579</td>\n",
       "      <td>нет</td>\n",
       "      <td>0</td>\n",
       "      <td>rub</td>\n",
       "      <td>mobile</td>\n",
       "      <td>2.54</td>\n",
       "      <td>...</td>\n",
       "      <td>спорт</td>\n",
       "      <td>спорт</td>\n",
       "      <td>№1622</td>\n",
       "      <td>Североярская область</td>\n",
       "      <td>Озёрск</td>\n",
       "      <td>2.0</td>\n",
       "      <td>4607.0</td>\n",
       "      <td>Команда артистов \"Светлячок\" Лимитед</td>\n",
       "      <td>пер. Невского, д. 72</td>\n",
       "      <td>2.54</td>\n",
       "    </tr>\n",
       "    <tr>\n",
       "      <th>154993</th>\n",
       "      <td>3463819</td>\n",
       "      <td>7eb4fc207ecc10f</td>\n",
       "      <td>2024-09-21</td>\n",
       "      <td>2024-09-21 11:43:58</td>\n",
       "      <td>448579</td>\n",
       "      <td>нет</td>\n",
       "      <td>0</td>\n",
       "      <td>rub</td>\n",
       "      <td>mobile</td>\n",
       "      <td>2.54</td>\n",
       "      <td>...</td>\n",
       "      <td>спорт</td>\n",
       "      <td>спорт</td>\n",
       "      <td>№1622</td>\n",
       "      <td>Североярская область</td>\n",
       "      <td>Озёрск</td>\n",
       "      <td>2.0</td>\n",
       "      <td>4607.0</td>\n",
       "      <td>Команда артистов \"Светлячок\" Лимитед</td>\n",
       "      <td>пер. Невского, д. 72</td>\n",
       "      <td>2.54</td>\n",
       "    </tr>\n",
       "    <tr>\n",
       "      <th>156213</th>\n",
       "      <td>6657937</td>\n",
       "      <td>7eb4fc207ecc10f</td>\n",
       "      <td>2024-10-26</td>\n",
       "      <td>2024-10-26 09:39:03</td>\n",
       "      <td>418836</td>\n",
       "      <td>нет</td>\n",
       "      <td>0</td>\n",
       "      <td>rub</td>\n",
       "      <td>mobile</td>\n",
       "      <td>294.85</td>\n",
       "      <td>...</td>\n",
       "      <td>цирковое шоу</td>\n",
       "      <td>другое</td>\n",
       "      <td>№1703</td>\n",
       "      <td>Тепляковская область</td>\n",
       "      <td>Горнодолинск</td>\n",
       "      <td>43.0</td>\n",
       "      <td>4481.0</td>\n",
       "      <td>Школа сценического мастерства \"Вдох\" Лтд</td>\n",
       "      <td>пер. Полярный, д. 87</td>\n",
       "      <td>294.85</td>\n",
       "    </tr>\n",
       "    <tr>\n",
       "      <th>156215</th>\n",
       "      <td>6657995</td>\n",
       "      <td>7eb4fc207ecc10f</td>\n",
       "      <td>2024-10-26</td>\n",
       "      <td>2024-10-26 09:39:03</td>\n",
       "      <td>418836</td>\n",
       "      <td>нет</td>\n",
       "      <td>0</td>\n",
       "      <td>rub</td>\n",
       "      <td>mobile</td>\n",
       "      <td>294.85</td>\n",
       "      <td>...</td>\n",
       "      <td>цирковое шоу</td>\n",
       "      <td>другое</td>\n",
       "      <td>№1703</td>\n",
       "      <td>Тепляковская область</td>\n",
       "      <td>Горнодолинск</td>\n",
       "      <td>43.0</td>\n",
       "      <td>4481.0</td>\n",
       "      <td>Школа сценического мастерства \"Вдох\" Лтд</td>\n",
       "      <td>пер. Полярный, д. 87</td>\n",
       "      <td>294.85</td>\n",
       "    </tr>\n",
       "    <tr>\n",
       "      <th>174481</th>\n",
       "      <td>312621</td>\n",
       "      <td>8d6c1ff89fac35f</td>\n",
       "      <td>2024-10-31</td>\n",
       "      <td>2024-10-31 22:28:57</td>\n",
       "      <td>589624</td>\n",
       "      <td>нет</td>\n",
       "      <td>16</td>\n",
       "      <td>rub</td>\n",
       "      <td>desktop</td>\n",
       "      <td>41.83</td>\n",
       "      <td>...</td>\n",
       "      <td>концерт</td>\n",
       "      <td>концерты</td>\n",
       "      <td>№2121</td>\n",
       "      <td>Каменевский регион</td>\n",
       "      <td>Глиногорск</td>\n",
       "      <td>213.0</td>\n",
       "      <td>1365.0</td>\n",
       "      <td>Картинная галерея \"Светлячок\" Лтд</td>\n",
       "      <td>ул. Дальневосточная, д. 97 к. 1/4</td>\n",
       "      <td>41.83</td>\n",
       "    </tr>\n",
       "    <tr>\n",
       "      <th>174584</th>\n",
       "      <td>6114564</td>\n",
       "      <td>8d6c1ff89fac35f</td>\n",
       "      <td>2024-10-31</td>\n",
       "      <td>2024-10-31 22:28:57</td>\n",
       "      <td>589624</td>\n",
       "      <td>нет</td>\n",
       "      <td>16</td>\n",
       "      <td>rub</td>\n",
       "      <td>desktop</td>\n",
       "      <td>41.83</td>\n",
       "      <td>...</td>\n",
       "      <td>концерт</td>\n",
       "      <td>концерты</td>\n",
       "      <td>№2121</td>\n",
       "      <td>Каменевский регион</td>\n",
       "      <td>Глиногорск</td>\n",
       "      <td>213.0</td>\n",
       "      <td>1365.0</td>\n",
       "      <td>Картинная галерея \"Светлячок\" Лтд</td>\n",
       "      <td>ул. Дальневосточная, д. 97 к. 1/4</td>\n",
       "      <td>41.83</td>\n",
       "    </tr>\n",
       "    <tr>\n",
       "      <th>176438</th>\n",
       "      <td>8248268</td>\n",
       "      <td>8f95286aa5fd8d7</td>\n",
       "      <td>2024-06-20</td>\n",
       "      <td>2024-06-20 10:57:19</td>\n",
       "      <td>244875</td>\n",
       "      <td>нет</td>\n",
       "      <td>0</td>\n",
       "      <td>rub</td>\n",
       "      <td>mobile</td>\n",
       "      <td>15.73</td>\n",
       "      <td>...</td>\n",
       "      <td>выставка</td>\n",
       "      <td>другое</td>\n",
       "      <td>№3906</td>\n",
       "      <td>Каменноозёрный край</td>\n",
       "      <td>Ордакент</td>\n",
       "      <td>12.0</td>\n",
       "      <td>2492.0</td>\n",
       "      <td>Кинофестиваль \"Хранитель\" Инкорпорэйтед</td>\n",
       "      <td>пр. Балтийский, д. 8 к. 51</td>\n",
       "      <td>15.73</td>\n",
       "    </tr>\n",
       "    <tr>\n",
       "      <th>176439</th>\n",
       "      <td>8248210</td>\n",
       "      <td>8f95286aa5fd8d7</td>\n",
       "      <td>2024-06-20</td>\n",
       "      <td>2024-06-20 10:57:19</td>\n",
       "      <td>244875</td>\n",
       "      <td>нет</td>\n",
       "      <td>0</td>\n",
       "      <td>rub</td>\n",
       "      <td>mobile</td>\n",
       "      <td>15.73</td>\n",
       "      <td>...</td>\n",
       "      <td>выставка</td>\n",
       "      <td>другое</td>\n",
       "      <td>№3906</td>\n",
       "      <td>Каменноозёрный край</td>\n",
       "      <td>Ордакент</td>\n",
       "      <td>12.0</td>\n",
       "      <td>2492.0</td>\n",
       "      <td>Кинофестиваль \"Хранитель\" Инкорпорэйтед</td>\n",
       "      <td>пр. Балтийский, д. 8 к. 51</td>\n",
       "      <td>15.73</td>\n",
       "    </tr>\n",
       "    <tr>\n",
       "      <th>177607</th>\n",
       "      <td>6431041</td>\n",
       "      <td>9103be7b790235f</td>\n",
       "      <td>2024-08-03</td>\n",
       "      <td>2024-08-03 15:01:56</td>\n",
       "      <td>410465</td>\n",
       "      <td>нет</td>\n",
       "      <td>0</td>\n",
       "      <td>rub</td>\n",
       "      <td>mobile</td>\n",
       "      <td>685.12</td>\n",
       "      <td>...</td>\n",
       "      <td>шоу</td>\n",
       "      <td>другое</td>\n",
       "      <td>№3287</td>\n",
       "      <td>Каменевский регион</td>\n",
       "      <td>Глиногорск</td>\n",
       "      <td>213.0</td>\n",
       "      <td>3391.0</td>\n",
       "      <td>Театральные мастерские \"Сюжет\" Инк</td>\n",
       "      <td>бул. Володарского, д. 237 стр. 9/3</td>\n",
       "      <td>685.12</td>\n",
       "    </tr>\n",
       "    <tr>\n",
       "      <th>177608</th>\n",
       "      <td>6431070</td>\n",
       "      <td>9103be7b790235f</td>\n",
       "      <td>2024-08-03</td>\n",
       "      <td>2024-08-03 15:01:56</td>\n",
       "      <td>410465</td>\n",
       "      <td>нет</td>\n",
       "      <td>0</td>\n",
       "      <td>rub</td>\n",
       "      <td>mobile</td>\n",
       "      <td>685.12</td>\n",
       "      <td>...</td>\n",
       "      <td>шоу</td>\n",
       "      <td>другое</td>\n",
       "      <td>№3287</td>\n",
       "      <td>Каменевский регион</td>\n",
       "      <td>Глиногорск</td>\n",
       "      <td>213.0</td>\n",
       "      <td>3391.0</td>\n",
       "      <td>Театральные мастерские \"Сюжет\" Инк</td>\n",
       "      <td>бул. Володарского, д. 237 стр. 9/3</td>\n",
       "      <td>685.12</td>\n",
       "    </tr>\n",
       "    <tr>\n",
       "      <th>181790</th>\n",
       "      <td>1799219</td>\n",
       "      <td>9402cc20d69d44f</td>\n",
       "      <td>2024-09-30</td>\n",
       "      <td>2024-09-30 21:35:37</td>\n",
       "      <td>540784</td>\n",
       "      <td>нет</td>\n",
       "      <td>6</td>\n",
       "      <td>rub</td>\n",
       "      <td>desktop</td>\n",
       "      <td>177.04</td>\n",
       "      <td>...</td>\n",
       "      <td>концерт</td>\n",
       "      <td>концерты</td>\n",
       "      <td>№1874</td>\n",
       "      <td>Каменевский регион</td>\n",
       "      <td>Глиногорск</td>\n",
       "      <td>213.0</td>\n",
       "      <td>2304.0</td>\n",
       "      <td>Творческое объединение \"Гармония\" Инк</td>\n",
       "      <td>наб. Партизанская, д. 47</td>\n",
       "      <td>177.04</td>\n",
       "    </tr>\n",
       "    <tr>\n",
       "      <th>181791</th>\n",
       "      <td>1799248</td>\n",
       "      <td>9402cc20d69d44f</td>\n",
       "      <td>2024-09-30</td>\n",
       "      <td>2024-09-30 21:35:37</td>\n",
       "      <td>540784</td>\n",
       "      <td>нет</td>\n",
       "      <td>6</td>\n",
       "      <td>rub</td>\n",
       "      <td>desktop</td>\n",
       "      <td>177.04</td>\n",
       "      <td>...</td>\n",
       "      <td>концерт</td>\n",
       "      <td>концерты</td>\n",
       "      <td>№1874</td>\n",
       "      <td>Каменевский регион</td>\n",
       "      <td>Глиногорск</td>\n",
       "      <td>213.0</td>\n",
       "      <td>2304.0</td>\n",
       "      <td>Творческое объединение \"Гармония\" Инк</td>\n",
       "      <td>наб. Партизанская, д. 47</td>\n",
       "      <td>177.04</td>\n",
       "    </tr>\n",
       "    <tr>\n",
       "      <th>192882</th>\n",
       "      <td>7299649</td>\n",
       "      <td>a0384c26d91e09e</td>\n",
       "      <td>2024-08-24</td>\n",
       "      <td>2024-08-24 00:07:14</td>\n",
       "      <td>534657</td>\n",
       "      <td>нет</td>\n",
       "      <td>16</td>\n",
       "      <td>rub</td>\n",
       "      <td>mobile</td>\n",
       "      <td>679.21</td>\n",
       "      <td>...</td>\n",
       "      <td>концерт</td>\n",
       "      <td>концерты</td>\n",
       "      <td>№1134</td>\n",
       "      <td>Ветренский регион</td>\n",
       "      <td>Кокжар</td>\n",
       "      <td>20.0</td>\n",
       "      <td>2866.0</td>\n",
       "      <td>Школа фотографии \"Золотое\" Инк</td>\n",
       "      <td>ш. Микрорайон, д. 79 стр. 50</td>\n",
       "      <td>679.21</td>\n",
       "    </tr>\n",
       "    <tr>\n",
       "      <th>192883</th>\n",
       "      <td>7299678</td>\n",
       "      <td>a0384c26d91e09e</td>\n",
       "      <td>2024-08-24</td>\n",
       "      <td>2024-08-24 00:07:14</td>\n",
       "      <td>534657</td>\n",
       "      <td>нет</td>\n",
       "      <td>16</td>\n",
       "      <td>rub</td>\n",
       "      <td>mobile</td>\n",
       "      <td>679.21</td>\n",
       "      <td>...</td>\n",
       "      <td>концерт</td>\n",
       "      <td>концерты</td>\n",
       "      <td>№1134</td>\n",
       "      <td>Ветренский регион</td>\n",
       "      <td>Кокжар</td>\n",
       "      <td>20.0</td>\n",
       "      <td>2866.0</td>\n",
       "      <td>Школа фотографии \"Золотое\" Инк</td>\n",
       "      <td>ш. Микрорайон, д. 79 стр. 50</td>\n",
       "      <td>679.21</td>\n",
       "    </tr>\n",
       "    <tr>\n",
       "      <th>200453</th>\n",
       "      <td>6001812</td>\n",
       "      <td>a6e25611c394f8c</td>\n",
       "      <td>2024-10-04</td>\n",
       "      <td>2024-10-04 10:11:25</td>\n",
       "      <td>514735</td>\n",
       "      <td>нет</td>\n",
       "      <td>12</td>\n",
       "      <td>rub</td>\n",
       "      <td>mobile</td>\n",
       "      <td>259.64</td>\n",
       "      <td>...</td>\n",
       "      <td>спектакль</td>\n",
       "      <td>театр</td>\n",
       "      <td>№1738</td>\n",
       "      <td>Яблоневская область</td>\n",
       "      <td>Светополье</td>\n",
       "      <td>39.0</td>\n",
       "      <td>3939.0</td>\n",
       "      <td>Этнографический музей \"Магнит\" Групп</td>\n",
       "      <td>наб. Полярная, д. 874</td>\n",
       "      <td>259.64</td>\n",
       "    </tr>\n",
       "    <tr>\n",
       "      <th>200458</th>\n",
       "      <td>6002015</td>\n",
       "      <td>a6e25611c394f8c</td>\n",
       "      <td>2024-10-04</td>\n",
       "      <td>2024-10-04 10:11:25</td>\n",
       "      <td>514735</td>\n",
       "      <td>нет</td>\n",
       "      <td>12</td>\n",
       "      <td>rub</td>\n",
       "      <td>mobile</td>\n",
       "      <td>259.64</td>\n",
       "      <td>...</td>\n",
       "      <td>спектакль</td>\n",
       "      <td>театр</td>\n",
       "      <td>№1738</td>\n",
       "      <td>Яблоневская область</td>\n",
       "      <td>Светополье</td>\n",
       "      <td>39.0</td>\n",
       "      <td>3939.0</td>\n",
       "      <td>Этнографический музей \"Магнит\" Групп</td>\n",
       "      <td>наб. Полярная, д. 874</td>\n",
       "      <td>259.64</td>\n",
       "    </tr>\n",
       "    <tr>\n",
       "      <th>228554</th>\n",
       "      <td>2768196</td>\n",
       "      <td>c2c6d35ff678ca6</td>\n",
       "      <td>2024-08-06</td>\n",
       "      <td>2024-08-06 13:26:42</td>\n",
       "      <td>379268</td>\n",
       "      <td>нет</td>\n",
       "      <td>0</td>\n",
       "      <td>rub</td>\n",
       "      <td>mobile</td>\n",
       "      <td>87.02</td>\n",
       "      <td>...</td>\n",
       "      <td>событие</td>\n",
       "      <td>другое</td>\n",
       "      <td>№2685</td>\n",
       "      <td>Североярская область</td>\n",
       "      <td>Озёрск</td>\n",
       "      <td>2.0</td>\n",
       "      <td>1283.0</td>\n",
       "      <td>Клуб начинающих писателей \"Детство\" Лимитед</td>\n",
       "      <td>ул. Заозерная, д. 9</td>\n",
       "      <td>87.02</td>\n",
       "    </tr>\n",
       "    <tr>\n",
       "      <th>228555</th>\n",
       "      <td>2768167</td>\n",
       "      <td>c2c6d35ff678ca6</td>\n",
       "      <td>2024-08-06</td>\n",
       "      <td>2024-08-06 13:26:42</td>\n",
       "      <td>379268</td>\n",
       "      <td>нет</td>\n",
       "      <td>0</td>\n",
       "      <td>rub</td>\n",
       "      <td>mobile</td>\n",
       "      <td>108.77</td>\n",
       "      <td>...</td>\n",
       "      <td>событие</td>\n",
       "      <td>другое</td>\n",
       "      <td>№2685</td>\n",
       "      <td>Североярская область</td>\n",
       "      <td>Озёрск</td>\n",
       "      <td>2.0</td>\n",
       "      <td>1283.0</td>\n",
       "      <td>Клуб начинающих писателей \"Детство\" Лимитед</td>\n",
       "      <td>ул. Заозерная, д. 9</td>\n",
       "      <td>108.77</td>\n",
       "    </tr>\n",
       "    <tr>\n",
       "      <th>228559</th>\n",
       "      <td>2768051</td>\n",
       "      <td>c2c6d35ff678ca6</td>\n",
       "      <td>2024-08-06</td>\n",
       "      <td>2024-08-06 13:26:42</td>\n",
       "      <td>379268</td>\n",
       "      <td>нет</td>\n",
       "      <td>0</td>\n",
       "      <td>rub</td>\n",
       "      <td>mobile</td>\n",
       "      <td>87.02</td>\n",
       "      <td>...</td>\n",
       "      <td>событие</td>\n",
       "      <td>другое</td>\n",
       "      <td>№2685</td>\n",
       "      <td>Североярская область</td>\n",
       "      <td>Озёрск</td>\n",
       "      <td>2.0</td>\n",
       "      <td>1283.0</td>\n",
       "      <td>Клуб начинающих писателей \"Детство\" Лимитед</td>\n",
       "      <td>ул. Заозерная, д. 9</td>\n",
       "      <td>87.02</td>\n",
       "    </tr>\n",
       "    <tr>\n",
       "      <th>228561</th>\n",
       "      <td>2767964</td>\n",
       "      <td>c2c6d35ff678ca6</td>\n",
       "      <td>2024-08-06</td>\n",
       "      <td>2024-08-06 13:26:42</td>\n",
       "      <td>379268</td>\n",
       "      <td>нет</td>\n",
       "      <td>0</td>\n",
       "      <td>rub</td>\n",
       "      <td>mobile</td>\n",
       "      <td>108.77</td>\n",
       "      <td>...</td>\n",
       "      <td>событие</td>\n",
       "      <td>другое</td>\n",
       "      <td>№2685</td>\n",
       "      <td>Североярская область</td>\n",
       "      <td>Озёрск</td>\n",
       "      <td>2.0</td>\n",
       "      <td>1283.0</td>\n",
       "      <td>Клуб начинающих писателей \"Детство\" Лимитед</td>\n",
       "      <td>ул. Заозерная, д. 9</td>\n",
       "      <td>108.77</td>\n",
       "    </tr>\n",
       "    <tr>\n",
       "      <th>231603</th>\n",
       "      <td>4569560</td>\n",
       "      <td>c68f202c21433f7</td>\n",
       "      <td>2024-10-09</td>\n",
       "      <td>2024-10-09 13:58:42</td>\n",
       "      <td>578715</td>\n",
       "      <td>нет</td>\n",
       "      <td>12</td>\n",
       "      <td>rub</td>\n",
       "      <td>mobile</td>\n",
       "      <td>38.21</td>\n",
       "      <td>...</td>\n",
       "      <td>событие</td>\n",
       "      <td>другое</td>\n",
       "      <td>№1764</td>\n",
       "      <td>Североключевской округ</td>\n",
       "      <td>Зоречанск</td>\n",
       "      <td>1092.0</td>\n",
       "      <td>1768.0</td>\n",
       "      <td>Театр \"Задор\" Инкорпорэйтед</td>\n",
       "      <td>пер. Боровой, д. 1 стр. 75</td>\n",
       "      <td>38.21</td>\n",
       "    </tr>\n",
       "    <tr>\n",
       "      <th>231606</th>\n",
       "      <td>4569328</td>\n",
       "      <td>c68f202c21433f7</td>\n",
       "      <td>2024-10-09</td>\n",
       "      <td>2024-10-09 13:58:41</td>\n",
       "      <td>578715</td>\n",
       "      <td>нет</td>\n",
       "      <td>12</td>\n",
       "      <td>rub</td>\n",
       "      <td>mobile</td>\n",
       "      <td>38.21</td>\n",
       "      <td>...</td>\n",
       "      <td>событие</td>\n",
       "      <td>другое</td>\n",
       "      <td>№1764</td>\n",
       "      <td>Североключевской округ</td>\n",
       "      <td>Зоречанск</td>\n",
       "      <td>1092.0</td>\n",
       "      <td>1768.0</td>\n",
       "      <td>Театр \"Задор\" Инкорпорэйтед</td>\n",
       "      <td>пер. Боровой, д. 1 стр. 75</td>\n",
       "      <td>38.21</td>\n",
       "    </tr>\n",
       "    <tr>\n",
       "      <th>231607</th>\n",
       "      <td>4569357</td>\n",
       "      <td>c68f202c21433f7</td>\n",
       "      <td>2024-10-09</td>\n",
       "      <td>2024-10-09 13:58:42</td>\n",
       "      <td>578715</td>\n",
       "      <td>нет</td>\n",
       "      <td>12</td>\n",
       "      <td>rub</td>\n",
       "      <td>mobile</td>\n",
       "      <td>38.21</td>\n",
       "      <td>...</td>\n",
       "      <td>событие</td>\n",
       "      <td>другое</td>\n",
       "      <td>№1764</td>\n",
       "      <td>Североключевской округ</td>\n",
       "      <td>Зоречанск</td>\n",
       "      <td>1092.0</td>\n",
       "      <td>1768.0</td>\n",
       "      <td>Театр \"Задор\" Инкорпорэйтед</td>\n",
       "      <td>пер. Боровой, д. 1 стр. 75</td>\n",
       "      <td>38.21</td>\n",
       "    </tr>\n",
       "    <tr>\n",
       "      <th>231611</th>\n",
       "      <td>4569444</td>\n",
       "      <td>c68f202c21433f7</td>\n",
       "      <td>2024-10-09</td>\n",
       "      <td>2024-10-09 13:58:41</td>\n",
       "      <td>578715</td>\n",
       "      <td>нет</td>\n",
       "      <td>12</td>\n",
       "      <td>rub</td>\n",
       "      <td>mobile</td>\n",
       "      <td>38.21</td>\n",
       "      <td>...</td>\n",
       "      <td>событие</td>\n",
       "      <td>другое</td>\n",
       "      <td>№1764</td>\n",
       "      <td>Североключевской округ</td>\n",
       "      <td>Зоречанск</td>\n",
       "      <td>1092.0</td>\n",
       "      <td>1768.0</td>\n",
       "      <td>Театр \"Задор\" Инкорпорэйтед</td>\n",
       "      <td>пер. Боровой, д. 1 стр. 75</td>\n",
       "      <td>38.21</td>\n",
       "    </tr>\n",
       "    <tr>\n",
       "      <th>231623</th>\n",
       "      <td>2411061</td>\n",
       "      <td>c68f202c21433f7</td>\n",
       "      <td>2024-10-16</td>\n",
       "      <td>2024-10-16 17:20:16</td>\n",
       "      <td>469657</td>\n",
       "      <td>нет</td>\n",
       "      <td>6</td>\n",
       "      <td>rub</td>\n",
       "      <td>mobile</td>\n",
       "      <td>12.64</td>\n",
       "      <td>...</td>\n",
       "      <td>спектакль</td>\n",
       "      <td>театр</td>\n",
       "      <td>№1763</td>\n",
       "      <td>Североключевской округ</td>\n",
       "      <td>Зоречанск</td>\n",
       "      <td>1092.0</td>\n",
       "      <td>2474.0</td>\n",
       "      <td>Образовательное учреждение искусства \"Кубок\" Инк</td>\n",
       "      <td>бул. Пролетарский, д. 332</td>\n",
       "      <td>12.64</td>\n",
       "    </tr>\n",
       "    <tr>\n",
       "      <th>231626</th>\n",
       "      <td>2410887</td>\n",
       "      <td>c68f202c21433f7</td>\n",
       "      <td>2024-10-16</td>\n",
       "      <td>2024-10-16 17:20:16</td>\n",
       "      <td>469657</td>\n",
       "      <td>нет</td>\n",
       "      <td>6</td>\n",
       "      <td>rub</td>\n",
       "      <td>mobile</td>\n",
       "      <td>12.64</td>\n",
       "      <td>...</td>\n",
       "      <td>спектакль</td>\n",
       "      <td>театр</td>\n",
       "      <td>№1763</td>\n",
       "      <td>Североключевской округ</td>\n",
       "      <td>Зоречанск</td>\n",
       "      <td>1092.0</td>\n",
       "      <td>2474.0</td>\n",
       "      <td>Образовательное учреждение искусства \"Кубок\" Инк</td>\n",
       "      <td>бул. Пролетарский, д. 332</td>\n",
       "      <td>12.64</td>\n",
       "    </tr>\n",
       "    <tr>\n",
       "      <th>232673</th>\n",
       "      <td>1585808</td>\n",
       "      <td>c7a762e320f0def</td>\n",
       "      <td>2024-06-19</td>\n",
       "      <td>2024-06-19 11:07:59</td>\n",
       "      <td>538926</td>\n",
       "      <td>нет</td>\n",
       "      <td>18</td>\n",
       "      <td>rub</td>\n",
       "      <td>mobile</td>\n",
       "      <td>0.00</td>\n",
       "      <td>...</td>\n",
       "      <td>событие</td>\n",
       "      <td>другое</td>\n",
       "      <td>№4549</td>\n",
       "      <td>Каменевский регион</td>\n",
       "      <td>Глиногорск</td>\n",
       "      <td>213.0</td>\n",
       "      <td>3474.0</td>\n",
       "      <td>Креативное пространство \"Вдох\" Лимитед</td>\n",
       "      <td>бул. Пригородный, д. 7/1</td>\n",
       "      <td>0.00</td>\n",
       "    </tr>\n",
       "    <tr>\n",
       "      <th>232676</th>\n",
       "      <td>7927528</td>\n",
       "      <td>c7a762e320f0def</td>\n",
       "      <td>2024-06-19</td>\n",
       "      <td>2024-06-19 11:07:59</td>\n",
       "      <td>538926</td>\n",
       "      <td>нет</td>\n",
       "      <td>18</td>\n",
       "      <td>rub</td>\n",
       "      <td>mobile</td>\n",
       "      <td>0.00</td>\n",
       "      <td>...</td>\n",
       "      <td>событие</td>\n",
       "      <td>другое</td>\n",
       "      <td>№4549</td>\n",
       "      <td>Каменевский регион</td>\n",
       "      <td>Глиногорск</td>\n",
       "      <td>213.0</td>\n",
       "      <td>3474.0</td>\n",
       "      <td>Креативное пространство \"Вдох\" Лимитед</td>\n",
       "      <td>бул. Пригородный, д. 7/1</td>\n",
       "      <td>0.00</td>\n",
       "    </tr>\n",
       "    <tr>\n",
       "      <th>234814</th>\n",
       "      <td>8237161</td>\n",
       "      <td>c96b961916a84fb</td>\n",
       "      <td>2024-10-26</td>\n",
       "      <td>2024-10-26 15:06:16</td>\n",
       "      <td>551137</td>\n",
       "      <td>нет</td>\n",
       "      <td>12</td>\n",
       "      <td>rub</td>\n",
       "      <td>mobile</td>\n",
       "      <td>1044.19</td>\n",
       "      <td>...</td>\n",
       "      <td>концерт</td>\n",
       "      <td>концерты</td>\n",
       "      <td>№4389</td>\n",
       "      <td>Североярская область</td>\n",
       "      <td>Озёрск</td>\n",
       "      <td>2.0</td>\n",
       "      <td>2805.0</td>\n",
       "      <td>Центр культурного наследия \"Заряд\" и партнеры</td>\n",
       "      <td>ш. Пугачева, д. 9/7 к. 39</td>\n",
       "      <td>1044.19</td>\n",
       "    </tr>\n",
       "    <tr>\n",
       "      <th>234818</th>\n",
       "      <td>8237045</td>\n",
       "      <td>c96b961916a84fb</td>\n",
       "      <td>2024-10-26</td>\n",
       "      <td>2024-10-26 15:06:16</td>\n",
       "      <td>551137</td>\n",
       "      <td>нет</td>\n",
       "      <td>12</td>\n",
       "      <td>rub</td>\n",
       "      <td>mobile</td>\n",
       "      <td>1044.19</td>\n",
       "      <td>...</td>\n",
       "      <td>концерт</td>\n",
       "      <td>концерты</td>\n",
       "      <td>№4389</td>\n",
       "      <td>Североярская область</td>\n",
       "      <td>Озёрск</td>\n",
       "      <td>2.0</td>\n",
       "      <td>2805.0</td>\n",
       "      <td>Центр культурного наследия \"Заряд\" и партнеры</td>\n",
       "      <td>ш. Пугачева, д. 9/7 к. 39</td>\n",
       "      <td>1044.19</td>\n",
       "    </tr>\n",
       "    <tr>\n",
       "      <th>237733</th>\n",
       "      <td>2321712</td>\n",
       "      <td>cbe06d8837e87fb</td>\n",
       "      <td>2024-10-01</td>\n",
       "      <td>2024-10-01 11:20:05</td>\n",
       "      <td>574431</td>\n",
       "      <td>нет</td>\n",
       "      <td>0</td>\n",
       "      <td>rub</td>\n",
       "      <td>desktop</td>\n",
       "      <td>155.99</td>\n",
       "      <td>...</td>\n",
       "      <td>спорт</td>\n",
       "      <td>спорт</td>\n",
       "      <td>№1531</td>\n",
       "      <td>Медовская область</td>\n",
       "      <td>Радужсвет</td>\n",
       "      <td>47.0</td>\n",
       "      <td>2157.0</td>\n",
       "      <td>Студия дизайна \"Платформа\" Инкорпорэйтед</td>\n",
       "      <td>наб. Магистральная, д. 5</td>\n",
       "      <td>155.99</td>\n",
       "    </tr>\n",
       "    <tr>\n",
       "      <th>237736</th>\n",
       "      <td>602012</td>\n",
       "      <td>cbe06d8837e87fb</td>\n",
       "      <td>2024-10-01</td>\n",
       "      <td>2024-10-01 11:20:05</td>\n",
       "      <td>574431</td>\n",
       "      <td>нет</td>\n",
       "      <td>0</td>\n",
       "      <td>rub</td>\n",
       "      <td>desktop</td>\n",
       "      <td>155.99</td>\n",
       "      <td>...</td>\n",
       "      <td>спорт</td>\n",
       "      <td>спорт</td>\n",
       "      <td>№1531</td>\n",
       "      <td>Медовская область</td>\n",
       "      <td>Радужсвет</td>\n",
       "      <td>47.0</td>\n",
       "      <td>2157.0</td>\n",
       "      <td>Студия дизайна \"Платформа\" Инкорпорэйтед</td>\n",
       "      <td>наб. Магистральная, д. 5</td>\n",
       "      <td>155.99</td>\n",
       "    </tr>\n",
       "    <tr>\n",
       "      <th>237738</th>\n",
       "      <td>4739065</td>\n",
       "      <td>cbe06d8837e87fb</td>\n",
       "      <td>2024-10-01</td>\n",
       "      <td>2024-10-01 11:11:17</td>\n",
       "      <td>574431</td>\n",
       "      <td>нет</td>\n",
       "      <td>0</td>\n",
       "      <td>rub</td>\n",
       "      <td>desktop</td>\n",
       "      <td>155.99</td>\n",
       "      <td>...</td>\n",
       "      <td>спорт</td>\n",
       "      <td>спорт</td>\n",
       "      <td>№1531</td>\n",
       "      <td>Медовская область</td>\n",
       "      <td>Радужсвет</td>\n",
       "      <td>47.0</td>\n",
       "      <td>2157.0</td>\n",
       "      <td>Студия дизайна \"Платформа\" Инкорпорэйтед</td>\n",
       "      <td>наб. Магистральная, д. 5</td>\n",
       "      <td>155.99</td>\n",
       "    </tr>\n",
       "    <tr>\n",
       "      <th>237742</th>\n",
       "      <td>6597994</td>\n",
       "      <td>cbe06d8837e87fb</td>\n",
       "      <td>2024-10-01</td>\n",
       "      <td>2024-10-01 11:11:17</td>\n",
       "      <td>574431</td>\n",
       "      <td>нет</td>\n",
       "      <td>0</td>\n",
       "      <td>rub</td>\n",
       "      <td>desktop</td>\n",
       "      <td>155.99</td>\n",
       "      <td>...</td>\n",
       "      <td>спорт</td>\n",
       "      <td>спорт</td>\n",
       "      <td>№1531</td>\n",
       "      <td>Медовская область</td>\n",
       "      <td>Радужсвет</td>\n",
       "      <td>47.0</td>\n",
       "      <td>2157.0</td>\n",
       "      <td>Студия дизайна \"Платформа\" Инкорпорэйтед</td>\n",
       "      <td>наб. Магистральная, д. 5</td>\n",
       "      <td>155.99</td>\n",
       "    </tr>\n",
       "    <tr>\n",
       "      <th>241381</th>\n",
       "      <td>5571220</td>\n",
       "      <td>cdbc02c6ad8087a</td>\n",
       "      <td>2024-10-01</td>\n",
       "      <td>2024-10-01 11:36:30</td>\n",
       "      <td>574431</td>\n",
       "      <td>нет</td>\n",
       "      <td>0</td>\n",
       "      <td>rub</td>\n",
       "      <td>desktop</td>\n",
       "      <td>116.99</td>\n",
       "      <td>...</td>\n",
       "      <td>спорт</td>\n",
       "      <td>спорт</td>\n",
       "      <td>№1531</td>\n",
       "      <td>Медовская область</td>\n",
       "      <td>Радужсвет</td>\n",
       "      <td>47.0</td>\n",
       "      <td>2157.0</td>\n",
       "      <td>Студия дизайна \"Платформа\" Инкорпорэйтед</td>\n",
       "      <td>наб. Магистральная, д. 5</td>\n",
       "      <td>116.99</td>\n",
       "    </tr>\n",
       "    <tr>\n",
       "      <th>241393</th>\n",
       "      <td>5875662</td>\n",
       "      <td>cdbc02c6ad8087a</td>\n",
       "      <td>2024-10-01</td>\n",
       "      <td>2024-10-01 11:36:30</td>\n",
       "      <td>574431</td>\n",
       "      <td>нет</td>\n",
       "      <td>0</td>\n",
       "      <td>rub</td>\n",
       "      <td>desktop</td>\n",
       "      <td>116.99</td>\n",
       "      <td>...</td>\n",
       "      <td>спорт</td>\n",
       "      <td>спорт</td>\n",
       "      <td>№1531</td>\n",
       "      <td>Медовская область</td>\n",
       "      <td>Радужсвет</td>\n",
       "      <td>47.0</td>\n",
       "      <td>2157.0</td>\n",
       "      <td>Студия дизайна \"Платформа\" Инкорпорэйтед</td>\n",
       "      <td>наб. Магистральная, д. 5</td>\n",
       "      <td>116.99</td>\n",
       "    </tr>\n",
       "    <tr>\n",
       "      <th>255428</th>\n",
       "      <td>7229817</td>\n",
       "      <td>de88a121becea97</td>\n",
       "      <td>2024-09-21</td>\n",
       "      <td>2024-09-21 17:21:18</td>\n",
       "      <td>571963</td>\n",
       "      <td>нет</td>\n",
       "      <td>6</td>\n",
       "      <td>rub</td>\n",
       "      <td>mobile</td>\n",
       "      <td>1065.84</td>\n",
       "      <td>...</td>\n",
       "      <td>цирковое шоу</td>\n",
       "      <td>другое</td>\n",
       "      <td>№4551</td>\n",
       "      <td>Каменевский регион</td>\n",
       "      <td>Глиногорск</td>\n",
       "      <td>213.0</td>\n",
       "      <td>4363.0</td>\n",
       "      <td>Студия дизайна \"Лестница\" Лимитед</td>\n",
       "      <td>наб. Школьная, д. 9/8 стр. 7/5</td>\n",
       "      <td>1065.84</td>\n",
       "    </tr>\n",
       "    <tr>\n",
       "      <th>255429</th>\n",
       "      <td>7229759</td>\n",
       "      <td>de88a121becea97</td>\n",
       "      <td>2024-09-21</td>\n",
       "      <td>2024-09-21 17:21:18</td>\n",
       "      <td>571963</td>\n",
       "      <td>нет</td>\n",
       "      <td>6</td>\n",
       "      <td>rub</td>\n",
       "      <td>mobile</td>\n",
       "      <td>1065.84</td>\n",
       "      <td>...</td>\n",
       "      <td>цирковое шоу</td>\n",
       "      <td>другое</td>\n",
       "      <td>№4551</td>\n",
       "      <td>Каменевский регион</td>\n",
       "      <td>Глиногорск</td>\n",
       "      <td>213.0</td>\n",
       "      <td>4363.0</td>\n",
       "      <td>Студия дизайна \"Лестница\" Лимитед</td>\n",
       "      <td>наб. Школьная, д. 9/8 стр. 7/5</td>\n",
       "      <td>1065.84</td>\n",
       "    </tr>\n",
       "    <tr>\n",
       "      <th>259940</th>\n",
       "      <td>588411</td>\n",
       "      <td>e333b28575ed7f9</td>\n",
       "      <td>2024-07-28</td>\n",
       "      <td>2024-07-28 12:50:38</td>\n",
       "      <td>81165</td>\n",
       "      <td>нет</td>\n",
       "      <td>12</td>\n",
       "      <td>rub</td>\n",
       "      <td>mobile</td>\n",
       "      <td>40.84</td>\n",
       "      <td>...</td>\n",
       "      <td>спектакль</td>\n",
       "      <td>театр</td>\n",
       "      <td>№3902</td>\n",
       "      <td>Солнечноземская область</td>\n",
       "      <td>Глинополье</td>\n",
       "      <td>56.0</td>\n",
       "      <td>3005.0</td>\n",
       "      <td>Арт-кафе \"Аксессуар\" Лимитед</td>\n",
       "      <td>бул. Логовой, д. 94 к. 1/5</td>\n",
       "      <td>40.84</td>\n",
       "    </tr>\n",
       "    <tr>\n",
       "      <th>259941</th>\n",
       "      <td>589252</td>\n",
       "      <td>e333b28575ed7f9</td>\n",
       "      <td>2024-07-28</td>\n",
       "      <td>2024-07-28 12:50:38</td>\n",
       "      <td>81165</td>\n",
       "      <td>нет</td>\n",
       "      <td>12</td>\n",
       "      <td>rub</td>\n",
       "      <td>mobile</td>\n",
       "      <td>40.84</td>\n",
       "      <td>...</td>\n",
       "      <td>спектакль</td>\n",
       "      <td>театр</td>\n",
       "      <td>№3902</td>\n",
       "      <td>Солнечноземская область</td>\n",
       "      <td>Глинополье</td>\n",
       "      <td>56.0</td>\n",
       "      <td>3005.0</td>\n",
       "      <td>Арт-кафе \"Аксессуар\" Лимитед</td>\n",
       "      <td>бул. Логовой, д. 94 к. 1/5</td>\n",
       "      <td>40.84</td>\n",
       "    </tr>\n",
       "    <tr>\n",
       "      <th>285612</th>\n",
       "      <td>8547809</td>\n",
       "      <td>fd4d47438ebb946</td>\n",
       "      <td>2024-06-19</td>\n",
       "      <td>2024-06-19 15:40:56</td>\n",
       "      <td>489843</td>\n",
       "      <td>нет</td>\n",
       "      <td>18</td>\n",
       "      <td>rub</td>\n",
       "      <td>desktop</td>\n",
       "      <td>989.57</td>\n",
       "      <td>...</td>\n",
       "      <td>спектакль</td>\n",
       "      <td>театр</td>\n",
       "      <td>№1858</td>\n",
       "      <td>Каменевский регион</td>\n",
       "      <td>Глиногорск</td>\n",
       "      <td>213.0</td>\n",
       "      <td>4017.0</td>\n",
       "      <td>Студия анимации \"Точка\" Инкорпорэйтед</td>\n",
       "      <td>алл. Тамбовская, д. 7 к. 827</td>\n",
       "      <td>989.57</td>\n",
       "    </tr>\n",
       "    <tr>\n",
       "      <th>285614</th>\n",
       "      <td>8547983</td>\n",
       "      <td>fd4d47438ebb946</td>\n",
       "      <td>2024-06-19</td>\n",
       "      <td>2024-06-19 15:40:56</td>\n",
       "      <td>489843</td>\n",
       "      <td>нет</td>\n",
       "      <td>18</td>\n",
       "      <td>rub</td>\n",
       "      <td>desktop</td>\n",
       "      <td>1319.43</td>\n",
       "      <td>...</td>\n",
       "      <td>спектакль</td>\n",
       "      <td>театр</td>\n",
       "      <td>№1858</td>\n",
       "      <td>Каменевский регион</td>\n",
       "      <td>Глиногорск</td>\n",
       "      <td>213.0</td>\n",
       "      <td>4017.0</td>\n",
       "      <td>Студия анимации \"Точка\" Инкорпорэйтед</td>\n",
       "      <td>алл. Тамбовская, д. 7 к. 827</td>\n",
       "      <td>1319.43</td>\n",
       "    </tr>\n",
       "    <tr>\n",
       "      <th>285615</th>\n",
       "      <td>8548012</td>\n",
       "      <td>fd4d47438ebb946</td>\n",
       "      <td>2024-06-19</td>\n",
       "      <td>2024-06-19 15:40:56</td>\n",
       "      <td>489843</td>\n",
       "      <td>нет</td>\n",
       "      <td>18</td>\n",
       "      <td>rub</td>\n",
       "      <td>desktop</td>\n",
       "      <td>1319.43</td>\n",
       "      <td>...</td>\n",
       "      <td>спектакль</td>\n",
       "      <td>театр</td>\n",
       "      <td>№1858</td>\n",
       "      <td>Каменевский регион</td>\n",
       "      <td>Глиногорск</td>\n",
       "      <td>213.0</td>\n",
       "      <td>4017.0</td>\n",
       "      <td>Студия анимации \"Точка\" Инкорпорэйтед</td>\n",
       "      <td>алл. Тамбовская, д. 7 к. 827</td>\n",
       "      <td>1319.43</td>\n",
       "    </tr>\n",
       "    <tr>\n",
       "      <th>285617</th>\n",
       "      <td>8548041</td>\n",
       "      <td>fd4d47438ebb946</td>\n",
       "      <td>2024-06-19</td>\n",
       "      <td>2024-06-19 15:40:50</td>\n",
       "      <td>489843</td>\n",
       "      <td>нет</td>\n",
       "      <td>18</td>\n",
       "      <td>rub</td>\n",
       "      <td>desktop</td>\n",
       "      <td>989.57</td>\n",
       "      <td>...</td>\n",
       "      <td>спектакль</td>\n",
       "      <td>театр</td>\n",
       "      <td>№1858</td>\n",
       "      <td>Каменевский регион</td>\n",
       "      <td>Глиногорск</td>\n",
       "      <td>213.0</td>\n",
       "      <td>4017.0</td>\n",
       "      <td>Студия анимации \"Точка\" Инкорпорэйтед</td>\n",
       "      <td>алл. Тамбовская, д. 7 к. 827</td>\n",
       "      <td>989.57</td>\n",
       "    </tr>\n",
       "    <tr>\n",
       "      <th>285618</th>\n",
       "      <td>8548070</td>\n",
       "      <td>fd4d47438ebb946</td>\n",
       "      <td>2024-06-19</td>\n",
       "      <td>2024-06-19 15:40:50</td>\n",
       "      <td>489843</td>\n",
       "      <td>нет</td>\n",
       "      <td>18</td>\n",
       "      <td>rub</td>\n",
       "      <td>desktop</td>\n",
       "      <td>989.57</td>\n",
       "      <td>...</td>\n",
       "      <td>спектакль</td>\n",
       "      <td>театр</td>\n",
       "      <td>№1858</td>\n",
       "      <td>Каменевский регион</td>\n",
       "      <td>Глиногорск</td>\n",
       "      <td>213.0</td>\n",
       "      <td>4017.0</td>\n",
       "      <td>Студия анимации \"Точка\" Инкорпорэйтед</td>\n",
       "      <td>алл. Тамбовская, д. 7 к. 827</td>\n",
       "      <td>989.57</td>\n",
       "    </tr>\n",
       "    <tr>\n",
       "      <th>285619</th>\n",
       "      <td>8548099</td>\n",
       "      <td>fd4d47438ebb946</td>\n",
       "      <td>2024-06-19</td>\n",
       "      <td>2024-06-19 15:40:56</td>\n",
       "      <td>489843</td>\n",
       "      <td>нет</td>\n",
       "      <td>18</td>\n",
       "      <td>rub</td>\n",
       "      <td>desktop</td>\n",
       "      <td>989.57</td>\n",
       "      <td>...</td>\n",
       "      <td>спектакль</td>\n",
       "      <td>театр</td>\n",
       "      <td>№1858</td>\n",
       "      <td>Каменевский регион</td>\n",
       "      <td>Глиногорск</td>\n",
       "      <td>213.0</td>\n",
       "      <td>4017.0</td>\n",
       "      <td>Студия анимации \"Точка\" Инкорпорэйтед</td>\n",
       "      <td>алл. Тамбовская, д. 7 к. 827</td>\n",
       "      <td>989.57</td>\n",
       "    </tr>\n",
       "    <tr>\n",
       "      <th>285622</th>\n",
       "      <td>8547867</td>\n",
       "      <td>fd4d47438ebb946</td>\n",
       "      <td>2024-06-19</td>\n",
       "      <td>2024-06-19 15:40:56</td>\n",
       "      <td>489843</td>\n",
       "      <td>нет</td>\n",
       "      <td>18</td>\n",
       "      <td>rub</td>\n",
       "      <td>desktop</td>\n",
       "      <td>1319.43</td>\n",
       "      <td>...</td>\n",
       "      <td>спектакль</td>\n",
       "      <td>театр</td>\n",
       "      <td>№1858</td>\n",
       "      <td>Каменевский регион</td>\n",
       "      <td>Глиногорск</td>\n",
       "      <td>213.0</td>\n",
       "      <td>4017.0</td>\n",
       "      <td>Студия анимации \"Точка\" Инкорпорэйтед</td>\n",
       "      <td>алл. Тамбовская, д. 7 к. 827</td>\n",
       "      <td>1319.43</td>\n",
       "    </tr>\n",
       "  </tbody>\n",
       "</table>\n",
       "<p>58 rows × 25 columns</p>\n",
       "</div>"
      ],
      "text/plain": [
       "        order_id          user_id created_dt_msk       created_ts_msk  \\\n",
       "11777    1123983  06eb7897f65b433     2024-08-13  2024-08-13 16:31:07   \n",
       "11778    1123867  06eb7897f65b433     2024-08-13  2024-08-13 16:31:07   \n",
       "57217     160922  2564e3703075008     2024-10-30  2024-10-30 10:04:15   \n",
       "57220     160893  2564e3703075008     2024-10-30  2024-10-30 10:04:15   \n",
       "84010    3363711  3ee7dc2e115847f     2024-06-25  2024-06-25 07:32:08   \n",
       "84015    3363798  3ee7dc2e115847f     2024-06-25  2024-06-25 07:32:08   \n",
       "148473   2324032  7b525118ae656af     2024-10-28  2024-10-28 08:33:04   \n",
       "148477   2323916  7b525118ae656af     2024-10-28  2024-10-28 08:33:04   \n",
       "154170   5372628  7eb4fc207ecc10f     2024-08-23  2024-08-23 14:08:19   \n",
       "154173   5372831  7eb4fc207ecc10f     2024-08-23  2024-08-23 14:08:19   \n",
       "154178   5373179  7eb4fc207ecc10f     2024-08-23  2024-08-23 14:08:19   \n",
       "154981   3463732  7eb4fc207ecc10f     2024-09-21  2024-09-21 11:43:58   \n",
       "154993   3463819  7eb4fc207ecc10f     2024-09-21  2024-09-21 11:43:58   \n",
       "156213   6657937  7eb4fc207ecc10f     2024-10-26  2024-10-26 09:39:03   \n",
       "156215   6657995  7eb4fc207ecc10f     2024-10-26  2024-10-26 09:39:03   \n",
       "174481    312621  8d6c1ff89fac35f     2024-10-31  2024-10-31 22:28:57   \n",
       "174584   6114564  8d6c1ff89fac35f     2024-10-31  2024-10-31 22:28:57   \n",
       "176438   8248268  8f95286aa5fd8d7     2024-06-20  2024-06-20 10:57:19   \n",
       "176439   8248210  8f95286aa5fd8d7     2024-06-20  2024-06-20 10:57:19   \n",
       "177607   6431041  9103be7b790235f     2024-08-03  2024-08-03 15:01:56   \n",
       "177608   6431070  9103be7b790235f     2024-08-03  2024-08-03 15:01:56   \n",
       "181790   1799219  9402cc20d69d44f     2024-09-30  2024-09-30 21:35:37   \n",
       "181791   1799248  9402cc20d69d44f     2024-09-30  2024-09-30 21:35:37   \n",
       "192882   7299649  a0384c26d91e09e     2024-08-24  2024-08-24 00:07:14   \n",
       "192883   7299678  a0384c26d91e09e     2024-08-24  2024-08-24 00:07:14   \n",
       "200453   6001812  a6e25611c394f8c     2024-10-04  2024-10-04 10:11:25   \n",
       "200458   6002015  a6e25611c394f8c     2024-10-04  2024-10-04 10:11:25   \n",
       "228554   2768196  c2c6d35ff678ca6     2024-08-06  2024-08-06 13:26:42   \n",
       "228555   2768167  c2c6d35ff678ca6     2024-08-06  2024-08-06 13:26:42   \n",
       "228559   2768051  c2c6d35ff678ca6     2024-08-06  2024-08-06 13:26:42   \n",
       "228561   2767964  c2c6d35ff678ca6     2024-08-06  2024-08-06 13:26:42   \n",
       "231603   4569560  c68f202c21433f7     2024-10-09  2024-10-09 13:58:42   \n",
       "231606   4569328  c68f202c21433f7     2024-10-09  2024-10-09 13:58:41   \n",
       "231607   4569357  c68f202c21433f7     2024-10-09  2024-10-09 13:58:42   \n",
       "231611   4569444  c68f202c21433f7     2024-10-09  2024-10-09 13:58:41   \n",
       "231623   2411061  c68f202c21433f7     2024-10-16  2024-10-16 17:20:16   \n",
       "231626   2410887  c68f202c21433f7     2024-10-16  2024-10-16 17:20:16   \n",
       "232673   1585808  c7a762e320f0def     2024-06-19  2024-06-19 11:07:59   \n",
       "232676   7927528  c7a762e320f0def     2024-06-19  2024-06-19 11:07:59   \n",
       "234814   8237161  c96b961916a84fb     2024-10-26  2024-10-26 15:06:16   \n",
       "234818   8237045  c96b961916a84fb     2024-10-26  2024-10-26 15:06:16   \n",
       "237733   2321712  cbe06d8837e87fb     2024-10-01  2024-10-01 11:20:05   \n",
       "237736    602012  cbe06d8837e87fb     2024-10-01  2024-10-01 11:20:05   \n",
       "237738   4739065  cbe06d8837e87fb     2024-10-01  2024-10-01 11:11:17   \n",
       "237742   6597994  cbe06d8837e87fb     2024-10-01  2024-10-01 11:11:17   \n",
       "241381   5571220  cdbc02c6ad8087a     2024-10-01  2024-10-01 11:36:30   \n",
       "241393   5875662  cdbc02c6ad8087a     2024-10-01  2024-10-01 11:36:30   \n",
       "255428   7229817  de88a121becea97     2024-09-21  2024-09-21 17:21:18   \n",
       "255429   7229759  de88a121becea97     2024-09-21  2024-09-21 17:21:18   \n",
       "259940    588411  e333b28575ed7f9     2024-07-28  2024-07-28 12:50:38   \n",
       "259941    589252  e333b28575ed7f9     2024-07-28  2024-07-28 12:50:38   \n",
       "285612   8547809  fd4d47438ebb946     2024-06-19  2024-06-19 15:40:56   \n",
       "285614   8547983  fd4d47438ebb946     2024-06-19  2024-06-19 15:40:56   \n",
       "285615   8548012  fd4d47438ebb946     2024-06-19  2024-06-19 15:40:56   \n",
       "285617   8548041  fd4d47438ebb946     2024-06-19  2024-06-19 15:40:50   \n",
       "285618   8548070  fd4d47438ebb946     2024-06-19  2024-06-19 15:40:50   \n",
       "285619   8548099  fd4d47438ebb946     2024-06-19  2024-06-19 15:40:56   \n",
       "285622   8547867  fd4d47438ebb946     2024-06-19  2024-06-19 15:40:56   \n",
       "\n",
       "        event_id cinema_circuit  age_limit currency_code  \\\n",
       "11777     183706            нет         18           rub   \n",
       "11778     183706            нет         18           rub   \n",
       "57217     589005            нет          6           rub   \n",
       "57220     589005            нет          6           rub   \n",
       "84010     277504            нет          6           rub   \n",
       "84015     277504            нет          6           rub   \n",
       "148473    588203            нет          0           rub   \n",
       "148477    588203            нет          0           rub   \n",
       "154170    298035            нет          6           rub   \n",
       "154173    298035            нет          6           rub   \n",
       "154178    298035            нет          6           rub   \n",
       "154981    448579            нет          0           rub   \n",
       "154993    448579            нет          0           rub   \n",
       "156213    418836            нет          0           rub   \n",
       "156215    418836            нет          0           rub   \n",
       "174481    589624            нет         16           rub   \n",
       "174584    589624            нет         16           rub   \n",
       "176438    244875            нет          0           rub   \n",
       "176439    244875            нет          0           rub   \n",
       "177607    410465            нет          0           rub   \n",
       "177608    410465            нет          0           rub   \n",
       "181790    540784            нет          6           rub   \n",
       "181791    540784            нет          6           rub   \n",
       "192882    534657            нет         16           rub   \n",
       "192883    534657            нет         16           rub   \n",
       "200453    514735            нет         12           rub   \n",
       "200458    514735            нет         12           rub   \n",
       "228554    379268            нет          0           rub   \n",
       "228555    379268            нет          0           rub   \n",
       "228559    379268            нет          0           rub   \n",
       "228561    379268            нет          0           rub   \n",
       "231603    578715            нет         12           rub   \n",
       "231606    578715            нет         12           rub   \n",
       "231607    578715            нет         12           rub   \n",
       "231611    578715            нет         12           rub   \n",
       "231623    469657            нет          6           rub   \n",
       "231626    469657            нет          6           rub   \n",
       "232673    538926            нет         18           rub   \n",
       "232676    538926            нет         18           rub   \n",
       "234814    551137            нет         12           rub   \n",
       "234818    551137            нет         12           rub   \n",
       "237733    574431            нет          0           rub   \n",
       "237736    574431            нет          0           rub   \n",
       "237738    574431            нет          0           rub   \n",
       "237742    574431            нет          0           rub   \n",
       "241381    574431            нет          0           rub   \n",
       "241393    574431            нет          0           rub   \n",
       "255428    571963            нет          6           rub   \n",
       "255429    571963            нет          6           rub   \n",
       "259940     81165            нет         12           rub   \n",
       "259941     81165            нет         12           rub   \n",
       "285612    489843            нет         18           rub   \n",
       "285614    489843            нет         18           rub   \n",
       "285615    489843            нет         18           rub   \n",
       "285617    489843            нет         18           rub   \n",
       "285618    489843            нет         18           rub   \n",
       "285619    489843            нет         18           rub   \n",
       "285622    489843            нет         18           rub   \n",
       "\n",
       "       device_type_canonical  revenue  ... event_type_description  \\\n",
       "11777                 mobile    69.82  ...              спектакль   \n",
       "11778                 mobile    69.82  ...              спектакль   \n",
       "57217                 mobile    11.23  ...               выставка   \n",
       "57220                 mobile    11.23  ...               выставка   \n",
       "84010                 mobile    59.19  ...                событие   \n",
       "84015                 mobile    59.19  ...                событие   \n",
       "148473                mobile    26.96  ...                  спорт   \n",
       "148477                mobile    26.96  ...                  спорт   \n",
       "154170                mobile   126.84  ...                событие   \n",
       "154173                mobile   126.84  ...                событие   \n",
       "154178                mobile   126.84  ...                событие   \n",
       "154981                mobile     2.54  ...                  спорт   \n",
       "154993                mobile     2.54  ...                  спорт   \n",
       "156213                mobile   294.85  ...           цирковое шоу   \n",
       "156215                mobile   294.85  ...           цирковое шоу   \n",
       "174481               desktop    41.83  ...                концерт   \n",
       "174584               desktop    41.83  ...                концерт   \n",
       "176438                mobile    15.73  ...               выставка   \n",
       "176439                mobile    15.73  ...               выставка   \n",
       "177607                mobile   685.12  ...                    шоу   \n",
       "177608                mobile   685.12  ...                    шоу   \n",
       "181790               desktop   177.04  ...                концерт   \n",
       "181791               desktop   177.04  ...                концерт   \n",
       "192882                mobile   679.21  ...                концерт   \n",
       "192883                mobile   679.21  ...                концерт   \n",
       "200453                mobile   259.64  ...              спектакль   \n",
       "200458                mobile   259.64  ...              спектакль   \n",
       "228554                mobile    87.02  ...                событие   \n",
       "228555                mobile   108.77  ...                событие   \n",
       "228559                mobile    87.02  ...                событие   \n",
       "228561                mobile   108.77  ...                событие   \n",
       "231603                mobile    38.21  ...                событие   \n",
       "231606                mobile    38.21  ...                событие   \n",
       "231607                mobile    38.21  ...                событие   \n",
       "231611                mobile    38.21  ...                событие   \n",
       "231623                mobile    12.64  ...              спектакль   \n",
       "231626                mobile    12.64  ...              спектакль   \n",
       "232673                mobile     0.00  ...                событие   \n",
       "232676                mobile     0.00  ...                событие   \n",
       "234814                mobile  1044.19  ...                концерт   \n",
       "234818                mobile  1044.19  ...                концерт   \n",
       "237733               desktop   155.99  ...                  спорт   \n",
       "237736               desktop   155.99  ...                  спорт   \n",
       "237738               desktop   155.99  ...                  спорт   \n",
       "237742               desktop   155.99  ...                  спорт   \n",
       "241381               desktop   116.99  ...                  спорт   \n",
       "241393               desktop   116.99  ...                  спорт   \n",
       "255428                mobile  1065.84  ...           цирковое шоу   \n",
       "255429                mobile  1065.84  ...           цирковое шоу   \n",
       "259940                mobile    40.84  ...              спектакль   \n",
       "259941                mobile    40.84  ...              спектакль   \n",
       "285612               desktop   989.57  ...              спектакль   \n",
       "285614               desktop  1319.43  ...              спектакль   \n",
       "285615               desktop  1319.43  ...              спектакль   \n",
       "285617               desktop   989.57  ...              спектакль   \n",
       "285618               desktop   989.57  ...              спектакль   \n",
       "285619               desktop   989.57  ...              спектакль   \n",
       "285622               desktop  1319.43  ...              спектакль   \n",
       "\n",
       "        event_type_main  organizers              region_name     city_name  \\\n",
       "11777             театр       №1482     Светополянский округ     Глиноград   \n",
       "11778             театр       №1482     Светополянский округ     Глиноград   \n",
       "57217            другое       №1810      Яблоневская область      Горяново   \n",
       "57220            другое       №1810      Яблоневская область      Горяново   \n",
       "84010          выставки       №5015        Нежинская область     Каменёвка   \n",
       "84015          выставки       №5015        Нежинская область     Каменёвка   \n",
       "148473            спорт       №1503     Чистогорская область    Песчанская   \n",
       "148477            спорт       №1503     Чистогорская область    Песчанская   \n",
       "154170           другое       №4403     Североярская область        Озёрск   \n",
       "154173           другое       №4403     Североярская область        Озёрск   \n",
       "154178           другое       №4403     Североярская область        Озёрск   \n",
       "154981            спорт       №1622     Североярская область        Озёрск   \n",
       "154993            спорт       №1622     Североярская область        Озёрск   \n",
       "156213           другое       №1703     Тепляковская область  Горнодолинск   \n",
       "156215           другое       №1703     Тепляковская область  Горнодолинск   \n",
       "174481         концерты       №2121       Каменевский регион    Глиногорск   \n",
       "174584         концерты       №2121       Каменевский регион    Глиногорск   \n",
       "176438           другое       №3906      Каменноозёрный край      Ордакент   \n",
       "176439           другое       №3906      Каменноозёрный край      Ордакент   \n",
       "177607           другое       №3287       Каменевский регион    Глиногорск   \n",
       "177608           другое       №3287       Каменевский регион    Глиногорск   \n",
       "181790         концерты       №1874       Каменевский регион    Глиногорск   \n",
       "181791         концерты       №1874       Каменевский регион    Глиногорск   \n",
       "192882         концерты       №1134        Ветренский регион        Кокжар   \n",
       "192883         концерты       №1134        Ветренский регион        Кокжар   \n",
       "200453            театр       №1738      Яблоневская область    Светополье   \n",
       "200458            театр       №1738      Яблоневская область    Светополье   \n",
       "228554           другое       №2685     Североярская область        Озёрск   \n",
       "228555           другое       №2685     Североярская область        Озёрск   \n",
       "228559           другое       №2685     Североярская область        Озёрск   \n",
       "228561           другое       №2685     Североярская область        Озёрск   \n",
       "231603           другое       №1764   Североключевской округ     Зоречанск   \n",
       "231606           другое       №1764   Североключевской округ     Зоречанск   \n",
       "231607           другое       №1764   Североключевской округ     Зоречанск   \n",
       "231611           другое       №1764   Североключевской округ     Зоречанск   \n",
       "231623            театр       №1763   Североключевской округ     Зоречанск   \n",
       "231626            театр       №1763   Североключевской округ     Зоречанск   \n",
       "232673           другое       №4549       Каменевский регион    Глиногорск   \n",
       "232676           другое       №4549       Каменевский регион    Глиногорск   \n",
       "234814         концерты       №4389     Североярская область        Озёрск   \n",
       "234818         концерты       №4389     Североярская область        Озёрск   \n",
       "237733            спорт       №1531        Медовская область     Радужсвет   \n",
       "237736            спорт       №1531        Медовская область     Радужсвет   \n",
       "237738            спорт       №1531        Медовская область     Радужсвет   \n",
       "237742            спорт       №1531        Медовская область     Радужсвет   \n",
       "241381            спорт       №1531        Медовская область     Радужсвет   \n",
       "241393            спорт       №1531        Медовская область     Радужсвет   \n",
       "255428           другое       №4551       Каменевский регион    Глиногорск   \n",
       "255429           другое       №4551       Каменевский регион    Глиногорск   \n",
       "259940            театр       №3902  Солнечноземская область    Глинополье   \n",
       "259941            театр       №3902  Солнечноземская область    Глинополье   \n",
       "285612            театр       №1858       Каменевский регион    Глиногорск   \n",
       "285614            театр       №1858       Каменевский регион    Глиногорск   \n",
       "285615            театр       №1858       Каменевский регион    Глиногорск   \n",
       "285617            театр       №1858       Каменевский регион    Глиногорск   \n",
       "285618            театр       №1858       Каменевский регион    Глиногорск   \n",
       "285619            театр       №1858       Каменевский регион    Глиногорск   \n",
       "285622            театр       №1858       Каменевский регион    Глиногорск   \n",
       "\n",
       "        city_id venue_id                                         venue_name  \\\n",
       "11777      54.0   4443.0  Центр культурного наследия \"Объединение\" и пар...   \n",
       "11778      54.0   4443.0  Центр культурного наследия \"Объединение\" и пар...   \n",
       "57217   11036.0   1656.0                    Модная академия \"Пункт\" Лимитед   \n",
       "57220   11036.0   1656.0                    Модная академия \"Пункт\" Лимитед   \n",
       "84010      76.0   3094.0         Сообщество художников \"Палитра\" и партнеры   \n",
       "84015      76.0   3094.0         Сообщество художников \"Палитра\" и партнеры   \n",
       "148473     21.0   2155.0                        Клуб моделей \"Гармония\" Инк   \n",
       "148477     21.0   2155.0                        Клуб моделей \"Гармония\" Инк   \n",
       "154170      2.0   2795.0  Клуб исторических реконструкций \"Логос\" и парт...   \n",
       "154173      2.0   2795.0  Клуб исторических реконструкций \"Логос\" и парт...   \n",
       "154178      2.0   2795.0  Клуб исторических реконструкций \"Логос\" и парт...   \n",
       "154981      2.0   4607.0               Команда артистов \"Светлячок\" Лимитед   \n",
       "154993      2.0   4607.0               Команда артистов \"Светлячок\" Лимитед   \n",
       "156213     43.0   4481.0           Школа сценического мастерства \"Вдох\" Лтд   \n",
       "156215     43.0   4481.0           Школа сценического мастерства \"Вдох\" Лтд   \n",
       "174481    213.0   1365.0                  Картинная галерея \"Светлячок\" Лтд   \n",
       "174584    213.0   1365.0                  Картинная галерея \"Светлячок\" Лтд   \n",
       "176438     12.0   2492.0            Кинофестиваль \"Хранитель\" Инкорпорэйтед   \n",
       "176439     12.0   2492.0            Кинофестиваль \"Хранитель\" Инкорпорэйтед   \n",
       "177607    213.0   3391.0                 Театральные мастерские \"Сюжет\" Инк   \n",
       "177608    213.0   3391.0                 Театральные мастерские \"Сюжет\" Инк   \n",
       "181790    213.0   2304.0              Творческое объединение \"Гармония\" Инк   \n",
       "181791    213.0   2304.0              Творческое объединение \"Гармония\" Инк   \n",
       "192882     20.0   2866.0                     Школа фотографии \"Золотое\" Инк   \n",
       "192883     20.0   2866.0                     Школа фотографии \"Золотое\" Инк   \n",
       "200453     39.0   3939.0               Этнографический музей \"Магнит\" Групп   \n",
       "200458     39.0   3939.0               Этнографический музей \"Магнит\" Групп   \n",
       "228554      2.0   1283.0        Клуб начинающих писателей \"Детство\" Лимитед   \n",
       "228555      2.0   1283.0        Клуб начинающих писателей \"Детство\" Лимитед   \n",
       "228559      2.0   1283.0        Клуб начинающих писателей \"Детство\" Лимитед   \n",
       "228561      2.0   1283.0        Клуб начинающих писателей \"Детство\" Лимитед   \n",
       "231603   1092.0   1768.0                        Театр \"Задор\" Инкорпорэйтед   \n",
       "231606   1092.0   1768.0                        Театр \"Задор\" Инкорпорэйтед   \n",
       "231607   1092.0   1768.0                        Театр \"Задор\" Инкорпорэйтед   \n",
       "231611   1092.0   1768.0                        Театр \"Задор\" Инкорпорэйтед   \n",
       "231623   1092.0   2474.0   Образовательное учреждение искусства \"Кубок\" Инк   \n",
       "231626   1092.0   2474.0   Образовательное учреждение искусства \"Кубок\" Инк   \n",
       "232673    213.0   3474.0             Креативное пространство \"Вдох\" Лимитед   \n",
       "232676    213.0   3474.0             Креативное пространство \"Вдох\" Лимитед   \n",
       "234814      2.0   2805.0      Центр культурного наследия \"Заряд\" и партнеры   \n",
       "234818      2.0   2805.0      Центр культурного наследия \"Заряд\" и партнеры   \n",
       "237733     47.0   2157.0           Студия дизайна \"Платформа\" Инкорпорэйтед   \n",
       "237736     47.0   2157.0           Студия дизайна \"Платформа\" Инкорпорэйтед   \n",
       "237738     47.0   2157.0           Студия дизайна \"Платформа\" Инкорпорэйтед   \n",
       "237742     47.0   2157.0           Студия дизайна \"Платформа\" Инкорпорэйтед   \n",
       "241381     47.0   2157.0           Студия дизайна \"Платформа\" Инкорпорэйтед   \n",
       "241393     47.0   2157.0           Студия дизайна \"Платформа\" Инкорпорэйтед   \n",
       "255428    213.0   4363.0                  Студия дизайна \"Лестница\" Лимитед   \n",
       "255429    213.0   4363.0                  Студия дизайна \"Лестница\" Лимитед   \n",
       "259940     56.0   3005.0                       Арт-кафе \"Аксессуар\" Лимитед   \n",
       "259941     56.0   3005.0                       Арт-кафе \"Аксессуар\" Лимитед   \n",
       "285612    213.0   4017.0              Студия анимации \"Точка\" Инкорпорэйтед   \n",
       "285614    213.0   4017.0              Студия анимации \"Точка\" Инкорпорэйтед   \n",
       "285615    213.0   4017.0              Студия анимации \"Точка\" Инкорпорэйтед   \n",
       "285617    213.0   4017.0              Студия анимации \"Точка\" Инкорпорэйтед   \n",
       "285618    213.0   4017.0              Студия анимации \"Точка\" Инкорпорэйтед   \n",
       "285619    213.0   4017.0              Студия анимации \"Точка\" Инкорпорэйтед   \n",
       "285622    213.0   4017.0              Студия анимации \"Точка\" Инкорпорэйтед   \n",
       "\n",
       "                             venue_address revenue_rub  \n",
       "11777                бул. Карбышева, д. 50       69.82  \n",
       "11778                бул. Карбышева, д. 50       69.82  \n",
       "57217                 бул. Гагарина, д. 39       11.23  \n",
       "57220                 бул. Гагарина, д. 39       11.23  \n",
       "84010       пр. Театральный, д. 161 стр. 2       59.19  \n",
       "84015       пр. Театральный, д. 161 стр. 2       59.19  \n",
       "148473         ул. Прохладная, д. 8 к. 432       26.96  \n",
       "148477         ул. Прохладная, д. 8 к. 432       26.96  \n",
       "154170          пр. Пушкина, д. 8/6 к. 482      126.84  \n",
       "154173          пр. Пушкина, д. 8/6 к. 482      126.84  \n",
       "154178          пр. Пушкина, д. 8/6 к. 482      126.84  \n",
       "154981                пер. Невского, д. 72        2.54  \n",
       "154993                пер. Невского, д. 72        2.54  \n",
       "156213                пер. Полярный, д. 87      294.85  \n",
       "156215                пер. Полярный, д. 87      294.85  \n",
       "174481   ул. Дальневосточная, д. 97 к. 1/4       41.83  \n",
       "174584   ул. Дальневосточная, д. 97 к. 1/4       41.83  \n",
       "176438          пр. Балтийский, д. 8 к. 51       15.73  \n",
       "176439          пр. Балтийский, д. 8 к. 51       15.73  \n",
       "177607  бул. Володарского, д. 237 стр. 9/3      685.12  \n",
       "177608  бул. Володарского, д. 237 стр. 9/3      685.12  \n",
       "181790            наб. Партизанская, д. 47      177.04  \n",
       "181791            наб. Партизанская, д. 47      177.04  \n",
       "192882        ш. Микрорайон, д. 79 стр. 50      679.21  \n",
       "192883        ш. Микрорайон, д. 79 стр. 50      679.21  \n",
       "200453               наб. Полярная, д. 874      259.64  \n",
       "200458               наб. Полярная, д. 874      259.64  \n",
       "228554                 ул. Заозерная, д. 9       87.02  \n",
       "228555                 ул. Заозерная, д. 9      108.77  \n",
       "228559                 ул. Заозерная, д. 9       87.02  \n",
       "228561                 ул. Заозерная, д. 9      108.77  \n",
       "231603          пер. Боровой, д. 1 стр. 75       38.21  \n",
       "231606          пер. Боровой, д. 1 стр. 75       38.21  \n",
       "231607          пер. Боровой, д. 1 стр. 75       38.21  \n",
       "231611          пер. Боровой, д. 1 стр. 75       38.21  \n",
       "231623           бул. Пролетарский, д. 332       12.64  \n",
       "231626           бул. Пролетарский, д. 332       12.64  \n",
       "232673            бул. Пригородный, д. 7/1        0.00  \n",
       "232676            бул. Пригородный, д. 7/1        0.00  \n",
       "234814           ш. Пугачева, д. 9/7 к. 39     1044.19  \n",
       "234818           ш. Пугачева, д. 9/7 к. 39     1044.19  \n",
       "237733            наб. Магистральная, д. 5      155.99  \n",
       "237736            наб. Магистральная, д. 5      155.99  \n",
       "237738            наб. Магистральная, д. 5      155.99  \n",
       "237742            наб. Магистральная, д. 5      155.99  \n",
       "241381            наб. Магистральная, д. 5      116.99  \n",
       "241393            наб. Магистральная, д. 5      116.99  \n",
       "255428      наб. Школьная, д. 9/8 стр. 7/5     1065.84  \n",
       "255429      наб. Школьная, д. 9/8 стр. 7/5     1065.84  \n",
       "259940          бул. Логовой, д. 94 к. 1/5       40.84  \n",
       "259941          бул. Логовой, д. 94 к. 1/5       40.84  \n",
       "285612        алл. Тамбовская, д. 7 к. 827      989.57  \n",
       "285614        алл. Тамбовская, д. 7 к. 827     1319.43  \n",
       "285615        алл. Тамбовская, д. 7 к. 827     1319.43  \n",
       "285617        алл. Тамбовская, д. 7 к. 827      989.57  \n",
       "285618        алл. Тамбовская, д. 7 к. 827      989.57  \n",
       "285619        алл. Тамбовская, д. 7 к. 827      989.57  \n",
       "285622        алл. Тамбовская, д. 7 к. 827     1319.43  \n",
       "\n",
       "[58 rows x 25 columns]"
      ]
     },
     "metadata": {},
     "output_type": "display_data"
    },
    {
     "name": "stdout",
     "output_type": "stream",
     "text": [
      "Количество строк до удаления дубликатов: 290849\n",
      "Количество строк после удаления дубликатов: 290819\n",
      "Удалено дубликатов: 30\n",
      "   order_id          user_id created_dt_msk       created_ts_msk  event_id  \\\n",
      "0   4359165  0002849b70a3ce2     2024-08-20  2024-08-20 16:08:03    169230   \n",
      "1   7965605  0005ca5e93f2cf4     2024-07-23  2024-07-23 18:36:24    237325   \n",
      "2   7292370  0005ca5e93f2cf4     2024-10-06  2024-10-06 13:56:02    578454   \n",
      "3   1139875  000898990054619     2024-07-13  2024-07-13 19:40:48    387271   \n",
      "4    972400  000898990054619     2024-10-04  2024-10-04 22:33:15    509453   \n",
      "\n",
      "  cinema_circuit  age_limit currency_code device_type_canonical  revenue  ...  \\\n",
      "0            нет         16           rub                mobile  1521.94  ...   \n",
      "1            нет          0           rub                mobile   289.45  ...   \n",
      "2            нет          0           rub                mobile  1258.57  ...   \n",
      "3            нет          0           rub                mobile     8.49  ...   \n",
      "4            нет         18           rub                mobile  1390.41  ...   \n",
      "\n",
      "  event_type_description  event_type_main  organizers           region_name  \\\n",
      "0              спектакль            театр       №3322    Каменевский регион   \n",
      "1                событие         выставки       №4850    Каменевский регион   \n",
      "2           цирковое шоу           другое       №1540    Каменевский регион   \n",
      "3               выставка           другое       №5049  Североярская область   \n",
      "4                    шоу          стендап        №832      Озернинский край   \n",
      "\n",
      "     city_name city_id venue_id  \\\n",
      "0   Глиногорск   213.0   3972.0   \n",
      "1   Глиногорск   213.0   2941.0   \n",
      "2   Глиногорск   213.0   4507.0   \n",
      "3       Озёрск     2.0   3574.0   \n",
      "4  Родниковецк   240.0   1896.0   \n",
      "\n",
      "                                      venue_name  \\\n",
      "0               Сценический центр \"Деталь\" Групп   \n",
      "1      Музыкальная школа для детей \"Аккаунт\" Лтд   \n",
      "2                 Училище искусств \"Нирвана\" Инк   \n",
      "3  Театр альтернативного искусства \"Ода\" Лимитед   \n",
      "4               Театр кукол \"Огни\" Инкорпорэйтед   \n",
      "\n",
      "                         venue_address revenue_rub  \n",
      "0  алл. Машиностроителей, д. 19 стр. 6     1521.94  \n",
      "1             алл. Шмидта, д. 9 стр. 4      289.45  \n",
      "2               алл. Юбилейная, д. 5/6     1258.57  \n",
      "3          алл. Есенина, д. 243 к. 3/8        8.49  \n",
      "4         ш. Набережное, д. 595 стр. 8     1390.41  \n",
      "\n",
      "[5 rows x 25 columns]\n"
     ]
    }
   ],
   "source": [
    "# Проверим уникальные значения по категориальным признакам\n",
    "cat_cols = df_final.select_dtypes(include=['object']).columns\n",
    "for col in cat_cols:\n",
    "    print(f\"\\nУникальные значения в '{col}'\\n{df_final[col].unique()} \")\n",
    "\n",
    "# Просмотр общих сведений о данных\n",
    "df_final.info()\n",
    "\n",
    "# Создаем комбинированный ключ, исключая order_id\n",
    "non_order_columns = df_final.columns.difference(['order_id'])\n",
    "\n",
    "# Поиск дубликатов\n",
    "duplicates = df_final[df_final.duplicated(subset=non_order_columns, keep=False)]\n",
    "\n",
    "# Выводим количество дубликатов\n",
    "print(\"Количество неявных дубликатов:\", len(duplicates))\n",
    "display(duplicates)\n",
    "\n",
    "# Сохраняем количество строк до удаления дубликатов\n",
    "rows_before = len(df_final)\n",
    "\n",
    "# Удаление дубликатов\n",
    "df_final = df_final.drop_duplicates(subset=non_order_columns, keep='first')\n",
    "\n",
    "# Сохраняем количество строк после удаления дубликатов\n",
    "rows_after = len(df_final)\n",
    "\n",
    "# Выводим количество удалённых дубликатов\n",
    "duplicates_removed = rows_before - rows_after\n",
    "print(f\"Количество строк до удаления дубликатов: {rows_before}\")\n",
    "print(f\"Количество строк после удаления дубликатов: {rows_after}\")\n",
    "print(f\"Удалено дубликатов: {duplicates_removed}\")\n",
    "\n",
    "# Проверка результата\n",
    "print(df_final.head())"
   ]
  },
  {
   "cell_type": "markdown",
   "metadata": {},
   "source": [
    "Добавляем новые столбцы"
   ]
  },
  {
   "cell_type": "code",
   "execution_count": 21,
   "metadata": {},
   "outputs": [],
   "source": [
    "# Выручка с продажи одного билета\n",
    "df_final['one_ticket_revenue_rub'] = df_final['revenue_rub'] / df_final['tickets_count']\n",
    "\n",
    "# Месяц оформления заказа\n",
    "df_final['month'] = df_final['created_dt_msk'].dt.month\n",
    "\n",
    "# Сезонность\n",
    "def get_season(month):\n",
    "    if month in [12, 1, 2]:\n",
    "        return 'зима'\n",
    "    elif month in [3, 4, 5]:\n",
    "        return 'весна'\n",
    "    elif month in [6, 7, 8]:\n",
    "        return 'лето'\n",
    "    else:\n",
    "        return 'осень'\n",
    "\n",
    "df_final['season'] = df_final['month'].apply(get_season)"
   ]
  },
  {
   "cell_type": "code",
   "execution_count": 22,
   "metadata": {},
   "outputs": [
    {
     "data": {
      "text/html": [
       "<div>\n",
       "<style scoped>\n",
       "    .dataframe tbody tr th:only-of-type {\n",
       "        vertical-align: middle;\n",
       "    }\n",
       "\n",
       "    .dataframe tbody tr th {\n",
       "        vertical-align: top;\n",
       "    }\n",
       "\n",
       "    .dataframe thead th {\n",
       "        text-align: right;\n",
       "    }\n",
       "</style>\n",
       "<table border=\"1\" class=\"dataframe\">\n",
       "  <thead>\n",
       "    <tr style=\"text-align: right;\">\n",
       "      <th></th>\n",
       "      <th>order_id</th>\n",
       "      <th>user_id</th>\n",
       "      <th>created_dt_msk</th>\n",
       "      <th>created_ts_msk</th>\n",
       "      <th>event_id</th>\n",
       "      <th>cinema_circuit</th>\n",
       "      <th>age_limit</th>\n",
       "      <th>currency_code</th>\n",
       "      <th>device_type_canonical</th>\n",
       "      <th>revenue</th>\n",
       "      <th>...</th>\n",
       "      <th>region_name</th>\n",
       "      <th>city_name</th>\n",
       "      <th>city_id</th>\n",
       "      <th>venue_id</th>\n",
       "      <th>venue_name</th>\n",
       "      <th>venue_address</th>\n",
       "      <th>revenue_rub</th>\n",
       "      <th>one_ticket_revenue_rub</th>\n",
       "      <th>month</th>\n",
       "      <th>season</th>\n",
       "    </tr>\n",
       "  </thead>\n",
       "  <tbody>\n",
       "    <tr>\n",
       "      <th>0</th>\n",
       "      <td>4359165</td>\n",
       "      <td>0002849b70a3ce2</td>\n",
       "      <td>2024-08-20</td>\n",
       "      <td>2024-08-20 16:08:03</td>\n",
       "      <td>169230</td>\n",
       "      <td>нет</td>\n",
       "      <td>16</td>\n",
       "      <td>rub</td>\n",
       "      <td>mobile</td>\n",
       "      <td>1521.94</td>\n",
       "      <td>...</td>\n",
       "      <td>Каменевский регион</td>\n",
       "      <td>Глиногорск</td>\n",
       "      <td>213.0</td>\n",
       "      <td>3972.0</td>\n",
       "      <td>Сценический центр \"Деталь\" Групп</td>\n",
       "      <td>алл. Машиностроителей, д. 19 стр. 6</td>\n",
       "      <td>1521.94</td>\n",
       "      <td>380.4850</td>\n",
       "      <td>8</td>\n",
       "      <td>лето</td>\n",
       "    </tr>\n",
       "    <tr>\n",
       "      <th>1</th>\n",
       "      <td>7965605</td>\n",
       "      <td>0005ca5e93f2cf4</td>\n",
       "      <td>2024-07-23</td>\n",
       "      <td>2024-07-23 18:36:24</td>\n",
       "      <td>237325</td>\n",
       "      <td>нет</td>\n",
       "      <td>0</td>\n",
       "      <td>rub</td>\n",
       "      <td>mobile</td>\n",
       "      <td>289.45</td>\n",
       "      <td>...</td>\n",
       "      <td>Каменевский регион</td>\n",
       "      <td>Глиногорск</td>\n",
       "      <td>213.0</td>\n",
       "      <td>2941.0</td>\n",
       "      <td>Музыкальная школа для детей \"Аккаунт\" Лтд</td>\n",
       "      <td>алл. Шмидта, д. 9 стр. 4</td>\n",
       "      <td>289.45</td>\n",
       "      <td>144.7250</td>\n",
       "      <td>7</td>\n",
       "      <td>лето</td>\n",
       "    </tr>\n",
       "    <tr>\n",
       "      <th>2</th>\n",
       "      <td>7292370</td>\n",
       "      <td>0005ca5e93f2cf4</td>\n",
       "      <td>2024-10-06</td>\n",
       "      <td>2024-10-06 13:56:02</td>\n",
       "      <td>578454</td>\n",
       "      <td>нет</td>\n",
       "      <td>0</td>\n",
       "      <td>rub</td>\n",
       "      <td>mobile</td>\n",
       "      <td>1258.57</td>\n",
       "      <td>...</td>\n",
       "      <td>Каменевский регион</td>\n",
       "      <td>Глиногорск</td>\n",
       "      <td>213.0</td>\n",
       "      <td>4507.0</td>\n",
       "      <td>Училище искусств \"Нирвана\" Инк</td>\n",
       "      <td>алл. Юбилейная, д. 5/6</td>\n",
       "      <td>1258.57</td>\n",
       "      <td>314.6425</td>\n",
       "      <td>10</td>\n",
       "      <td>осень</td>\n",
       "    </tr>\n",
       "    <tr>\n",
       "      <th>3</th>\n",
       "      <td>1139875</td>\n",
       "      <td>000898990054619</td>\n",
       "      <td>2024-07-13</td>\n",
       "      <td>2024-07-13 19:40:48</td>\n",
       "      <td>387271</td>\n",
       "      <td>нет</td>\n",
       "      <td>0</td>\n",
       "      <td>rub</td>\n",
       "      <td>mobile</td>\n",
       "      <td>8.49</td>\n",
       "      <td>...</td>\n",
       "      <td>Североярская область</td>\n",
       "      <td>Озёрск</td>\n",
       "      <td>2.0</td>\n",
       "      <td>3574.0</td>\n",
       "      <td>Театр альтернативного искусства \"Ода\" Лимитед</td>\n",
       "      <td>алл. Есенина, д. 243 к. 3/8</td>\n",
       "      <td>8.49</td>\n",
       "      <td>4.2450</td>\n",
       "      <td>7</td>\n",
       "      <td>лето</td>\n",
       "    </tr>\n",
       "    <tr>\n",
       "      <th>4</th>\n",
       "      <td>972400</td>\n",
       "      <td>000898990054619</td>\n",
       "      <td>2024-10-04</td>\n",
       "      <td>2024-10-04 22:33:15</td>\n",
       "      <td>509453</td>\n",
       "      <td>нет</td>\n",
       "      <td>18</td>\n",
       "      <td>rub</td>\n",
       "      <td>mobile</td>\n",
       "      <td>1390.41</td>\n",
       "      <td>...</td>\n",
       "      <td>Озернинский край</td>\n",
       "      <td>Родниковецк</td>\n",
       "      <td>240.0</td>\n",
       "      <td>1896.0</td>\n",
       "      <td>Театр кукол \"Огни\" Инкорпорэйтед</td>\n",
       "      <td>ш. Набережное, д. 595 стр. 8</td>\n",
       "      <td>1390.41</td>\n",
       "      <td>463.4700</td>\n",
       "      <td>10</td>\n",
       "      <td>осень</td>\n",
       "    </tr>\n",
       "  </tbody>\n",
       "</table>\n",
       "<p>5 rows × 28 columns</p>\n",
       "</div>"
      ],
      "text/plain": [
       "   order_id          user_id created_dt_msk       created_ts_msk  event_id  \\\n",
       "0   4359165  0002849b70a3ce2     2024-08-20  2024-08-20 16:08:03    169230   \n",
       "1   7965605  0005ca5e93f2cf4     2024-07-23  2024-07-23 18:36:24    237325   \n",
       "2   7292370  0005ca5e93f2cf4     2024-10-06  2024-10-06 13:56:02    578454   \n",
       "3   1139875  000898990054619     2024-07-13  2024-07-13 19:40:48    387271   \n",
       "4    972400  000898990054619     2024-10-04  2024-10-04 22:33:15    509453   \n",
       "\n",
       "  cinema_circuit  age_limit currency_code device_type_canonical  revenue  ...  \\\n",
       "0            нет         16           rub                mobile  1521.94  ...   \n",
       "1            нет          0           rub                mobile   289.45  ...   \n",
       "2            нет          0           rub                mobile  1258.57  ...   \n",
       "3            нет          0           rub                mobile     8.49  ...   \n",
       "4            нет         18           rub                mobile  1390.41  ...   \n",
       "\n",
       "            region_name    city_name  city_id  venue_id  \\\n",
       "0    Каменевский регион   Глиногорск    213.0    3972.0   \n",
       "1    Каменевский регион   Глиногорск    213.0    2941.0   \n",
       "2    Каменевский регион   Глиногорск    213.0    4507.0   \n",
       "3  Североярская область       Озёрск      2.0    3574.0   \n",
       "4      Озернинский край  Родниковецк    240.0    1896.0   \n",
       "\n",
       "                                      venue_name  \\\n",
       "0               Сценический центр \"Деталь\" Групп   \n",
       "1      Музыкальная школа для детей \"Аккаунт\" Лтд   \n",
       "2                 Училище искусств \"Нирвана\" Инк   \n",
       "3  Театр альтернативного искусства \"Ода\" Лимитед   \n",
       "4               Театр кукол \"Огни\" Инкорпорэйтед   \n",
       "\n",
       "                         venue_address revenue_rub one_ticket_revenue_rub  \\\n",
       "0  алл. Машиностроителей, д. 19 стр. 6     1521.94               380.4850   \n",
       "1             алл. Шмидта, д. 9 стр. 4      289.45               144.7250   \n",
       "2               алл. Юбилейная, д. 5/6     1258.57               314.6425   \n",
       "3          алл. Есенина, д. 243 к. 3/8        8.49                 4.2450   \n",
       "4         ш. Набережное, д. 595 стр. 8     1390.41               463.4700   \n",
       "\n",
       "  month season  \n",
       "0     8   лето  \n",
       "1     7   лето  \n",
       "2    10  осень  \n",
       "3     7   лето  \n",
       "4    10  осень  \n",
       "\n",
       "[5 rows x 28 columns]"
      ]
     },
     "metadata": {},
     "output_type": "display_data"
    },
    {
     "name": "stdout",
     "output_type": "stream",
     "text": [
      "<class 'pandas.core.frame.DataFrame'>\n",
      "Int64Index: 290819 entries, 0 to 290848\n",
      "Data columns (total 28 columns):\n",
      " #   Column                  Non-Null Count   Dtype         \n",
      "---  ------                  --------------   -----         \n",
      " 0   order_id                290819 non-null  int64         \n",
      " 1   user_id                 290819 non-null  object        \n",
      " 2   created_dt_msk          290819 non-null  datetime64[ns]\n",
      " 3   created_ts_msk          290819 non-null  object        \n",
      " 4   event_id                290819 non-null  int64         \n",
      " 5   cinema_circuit          290819 non-null  object        \n",
      " 6   age_limit               290819 non-null  int64         \n",
      " 7   currency_code           290819 non-null  object        \n",
      " 8   device_type_canonical   290819 non-null  object        \n",
      " 9   revenue                 290819 non-null  float64       \n",
      " 10  service_name            290819 non-null  object        \n",
      " 11  tickets_count           290819 non-null  int64         \n",
      " 12  total                   290819 non-null  float64       \n",
      " 13  days_since_prev         268879 non-null  float64       \n",
      " 14  event_name              290581 non-null  object        \n",
      " 15  event_type_description  290581 non-null  object        \n",
      " 16  event_type_main         290581 non-null  object        \n",
      " 17  organizers              290581 non-null  object        \n",
      " 18  region_name             290581 non-null  object        \n",
      " 19  city_name               290581 non-null  object        \n",
      " 20  city_id                 290581 non-null  float64       \n",
      " 21  venue_id                290581 non-null  float64       \n",
      " 22  venue_name              290581 non-null  object        \n",
      " 23  venue_address           290581 non-null  object        \n",
      " 24  revenue_rub             290819 non-null  float64       \n",
      " 25  one_ticket_revenue_rub  290819 non-null  float64       \n",
      " 26  month                   290819 non-null  int64         \n",
      " 27  season                  290819 non-null  object        \n",
      "dtypes: datetime64[ns](1), float64(7), int64(5), object(15)\n",
      "memory usage: 64.3+ MB\n"
     ]
    },
    {
     "data": {
      "text/plain": [
       "None"
      ]
     },
     "metadata": {},
     "output_type": "display_data"
    }
   ],
   "source": [
    "# Смотрим полченные результаты\n",
    "display(df_final.head())\n",
    "display(df_final.info())"
   ]
  },
  {
   "cell_type": "markdown",
   "metadata": {},
   "source": [
    "Вывод:\n",
    "\n",
    "*В ходе анализа данных были выполнены следующие ключевые действия:*\n",
    "\n",
    "Временное поле (**created_dt_msk**) было преобразовано в тип **datetime**.\n",
    "\n",
    "<u>Создано 4 новых столбца:</u>\n",
    "\n",
    "**revenue_rub**: выручка с заказа была приведена к единой валюте — российскому рублю, используя данные о курсе тенге к рублю.\n",
    "\n",
    "**one_ticket_revenue_rub**: рассчитана выручка с продажи одного билета на мероприятие.\n",
    "\n",
    "**month**: выделен месяц оформления заказа в отдельный столбец.\n",
    "\n",
    "**season**: создан столбец с информацией о сезонности, включая такие категории, как: 'лето', 'осень', 'зима', 'весна'.\n",
    "\n",
    "\n",
    "Обнаружено **86 523 неявных дубликата** по бронированию билетов. **Эти дубликаты были удалены**, так как они, скорее всего, являются результатом технических сбоев или ошибок при оформлении заказов.\n",
    "\n",
    "В среднем на один заказ приходится около **2.7 билетов**, с минимальным значением в **1** билет и максимальным — **57**.\n",
    "\n",
    "Средняя выручка с заказа составляет **537.64** рубля, с минимальным значением в **-90.76** рублей (возможно, это возврат или ошибка) и максимальным — **4001.9** рублей.\n",
    "\n",
    "В среднем возрастное ограничение составляет **16 лет**, с минимальным значением **0** и максимальным — **18 лет**.\n",
    "\n",
    "В среднем пользователи совершают повторные покупки через **3.23 дня**, с минимальным значением **0 дней** и максимальным — **213 дней**."
   ]
  },
  {
   "cell_type": "markdown",
   "metadata": {},
   "source": [
    "### 3.  Исследовательский анализ данных"
   ]
  },
  {
   "cell_type": "markdown",
   "metadata": {},
   "source": [
    "#### Анализируем количество заказов по месяцам"
   ]
  },
  {
   "cell_type": "code",
   "execution_count": 23,
   "metadata": {},
   "outputs": [
    {
     "data": {
      "image/png": "[encoded data removed]",
      "text/plain": [
       "<Figure size 720x432 with 1 Axes>"
      ]
     },
     "metadata": {
      "needs_background": "light"
     },
     "output_type": "display_data"
    },
    {
     "name": "stdout",
     "output_type": "stream",
     "text": [
      "Количество заказов в июне: 34676\n",
      "Количество заказов в ноябре: 100209\n"
     ]
    }
   ],
   "source": [
    "# Группировка данных по месяцам и подсчет количества заказов\n",
    "monthly_orders = df_final.groupby('month')['order_id'].count().reset_index()\n",
    "\n",
    "# Визуализация результатов\n",
    "plt.figure(figsize=(10, 6))\n",
    "sns.lineplot(x='month', y='order_id', data=monthly_orders, marker='o')\n",
    "plt.title('Количество заказов по месяцам')\n",
    "plt.xlabel('Месяц')\n",
    "plt.ylabel('Количество заказов')\n",
    "plt.xticks(range(1, 13), ['Янв', 'Фев', 'Мар', 'Апр', 'Май', 'Июн', 'Июл', 'Авг', 'Сен', 'Окт', 'Ноя', 'Дек'])\n",
    "plt.show()\n",
    "\n",
    "# Анализ сезонности\n",
    "print(\"Количество заказов в июне:\", monthly_orders[monthly_orders['month'] == 6]['order_id'].values[0])\n",
    "print(\"Количество заказов в ноябре:\", monthly_orders[monthly_orders['month'] == 10]['order_id'].values[0])"
   ]
  },
  {
   "cell_type": "markdown",
   "metadata": {},
   "source": [
    "Краткий вывод: фиксируется увеличение заказов от июня к ноябрю 2024 года.\n"
   ]
  },
  {
   "cell_type": "code",
   "execution_count": 24,
   "metadata": {},
   "outputs": [
    {
     "data": {
      "image/png": "[encoded data removed]",
      "text/plain": [
       "<Figure size 864x432 with 1 Axes>"
      ]
     },
     "metadata": {
      "needs_background": "light"
     },
     "output_type": "display_data"
    }
   ],
   "source": [
    "# Преобразуем датасет\n",
    "df_final['order_date'] = pd.to_datetime(df_final['created_dt_msk'])\n",
    "\n",
    "# Определим летний и осенний периоды\n",
    "summer_period = ((df_final['order_date'].dt.month >= 6) & (df_final['order_date'].dt.month <= 8))  # Лето: июнь-август\n",
    "autumn_period = ((df_final['order_date'].dt.month >= 9) & (df_final['order_date'].dt.month <= 11))  # Осень: сентябрь-ноябрь\n",
    "\n",
    "# Обозначим сезон\n",
    "df_final['season'] = 'other'\n",
    "df_final.loc[summer_period, 'season'] = 'лето'\n",
    "df_final.loc[autumn_period, 'season'] = 'осень'\n",
    "\n",
    "# Группировка заказов по типу мероприятия и сезону\n",
    "event_type_count = df_final.groupby(['event_type_main', 'season'])['order_id'].count().reset_index(name='count')\n",
    "\n",
    "# Получим суммы заказов для каждого сезона\n",
    "summer_total = event_type_count[event_type_count['season']=='лето']['count'].sum()\n",
    "autumn_total = event_type_count[event_type_count['season']=='осень']['count'].sum()\n",
    "\n",
    "# Добавим процентное соотношение\n",
    "event_type_count['percent'] = event_type_count.apply(lambda row: round(row['count']/summer_total*100, 2) if row['season'] == 'лето' else round(row['count']/autumn_total*100, 2), axis=1)\n",
    "\n",
    "plt.figure(figsize=(12, 6))\n",
    "ax = sns.barplot(data=event_type_count, x='event_type_main', y='percent', hue='season', palette='viridis')\n",
    "plt.title('Доли заказов по типам мероприятий (лето vs осень)')\n",
    "plt.xlabel('Тип мероприятия')\n",
    "plt.ylabel('Процент заказов')\n",
    "\n",
    "# Добавляем метки с долями\n",
    "for p in ax.patches:\n",
    "    ax.annotate(f'{p.get_height():.2f}%', \n",
    "                (p.get_x() + p.get_width() / 2., p.get_height()), \n",
    "                ha='center', va='bottom', \n",
    "                fontsize=10, color='black')\n",
    "\n",
    "plt.show()"
   ]
  },
  {
   "cell_type": "markdown",
   "metadata": {},
   "source": [
    "Вывод:\n",
    "\n",
    "На графике отображены доли заказов по типам мероприятий в летний и осенний сезонах. Выявляется, что концерты занимают наибольшую долю заказов в обоих сезонах, при этом летом их популярность выше (43,34%) по сравнению с осенью (38,94%). Значительная часть заказов также приходится на театральные мероприятия, особенно в осенний период (25,68%). Выставки и спорт имеют меньшую долю, причем выставки стали менее популярными осенью. В целом, наблюдается явное преимущество концертов, но театры и другие мероприятия также пользуются спросом, особенно осенью."
   ]
  },
  {
   "cell_type": "code",
   "execution_count": 25,
   "metadata": {},
   "outputs": [
    {
     "data": {
      "image/png": "[encoded data removed]",
      "text/plain": [
       "<Figure size 864x432 with 1 Axes>"
      ]
     },
     "metadata": {
      "needs_background": "light"
     },
     "output_type": "display_data"
    }
   ],
   "source": [
    "# Группировка заказов по типу устройства и сезону\n",
    "device_type_count = df_final.groupby(['device_type_canonical', 'season'])['order_id'].count().reset_index(name='count')\n",
    "\n",
    "# Процентное соотношение для устройств\n",
    "device_type_count['percent'] = device_type_count.apply(lambda row: round(row['count']/summer_total*100, 2) if row['season'] == 'лето' else round(row['count']/autumn_total*100, 2), axis=1)\n",
    "\n",
    "plt.figure(figsize=(12, 6))\n",
    "ax = sns.barplot(data=device_type_count, x='device_type_canonical', y='percent', hue='season', palette='viridis')\n",
    "plt.title('Доли заказов по типам устройств (лето vs осень)')\n",
    "plt.xlabel('Тип устройства')\n",
    "plt.ylabel('Процент заказов')\n",
    "\n",
    "# Добавляем метки с долями\n",
    "for p in ax.patches:\n",
    "    ax.annotate(f'{p.get_height():.2f}%', \n",
    "                (p.get_x() + p.get_width() / 2., p.get_height()), \n",
    "                ha='center', va='bottom', \n",
    "                fontsize=10, color='black')\n",
    "\n",
    "plt.show()"
   ]
  },
  {
   "cell_type": "markdown",
   "metadata": {},
   "source": [
    "Краткий вывод: В целом, мобильные устройства остаются доминирующим каналом для покупки билетов как летом, так и осенью."
   ]
  },
  {
   "cell_type": "code",
   "execution_count": 26,
   "metadata": {},
   "outputs": [
    {
     "data": {
      "image/png": "[encoded data removed]",
      "text/plain": [
       "<Figure size 864x432 with 1 Axes>"
      ]
     },
     "metadata": {
      "needs_background": "light"
     },
     "output_type": "display_data"
    }
   ],
   "source": [
    "# Группировка заказов по возрастной категории и сезону\n",
    "age_limit_count = df_final.groupby(['age_limit', 'season'])['order_id'].count().reset_index(name='count')\n",
    "\n",
    "# Процентное соотношение для возрастов\n",
    "age_limit_count['percent'] = age_limit_count.apply(\n",
    "    lambda row: round(row['count'] / summer_total * 100, 2) if row['season'] == 'лето' else round(row['count'] / autumn_total * 100, 2),\n",
    "    axis=1\n",
    ")\n",
    "\n",
    "# Визуализация\n",
    "plt.figure(figsize=(12, 6))\n",
    "ax = sns.barplot(data=age_limit_count, x='age_limit', y='percent', hue='season', palette='viridis')\n",
    "plt.title('Доли заказов по возрастным ограничениям (лето vs осень)')\n",
    "plt.xlabel('Возрастная категория')\n",
    "plt.ylabel('Процент заказов')\n",
    "\n",
    "# Добавляем метки с долями\n",
    "for p in ax.patches:\n",
    "    ax.annotate(f'{p.get_height():.2f}%',\n",
    "                (p.get_x() + p.get_width() / 2., p.get_height()),\n",
    "                ha='center', va='bottom',\n",
    "                fontsize=10, color='black')\n",
    "\n",
    "plt.show()"
   ]
  },
  {
   "cell_type": "markdown",
   "metadata": {},
   "source": [
    "Вывод: \n",
    "\n",
    "**Возрастная категория 16+, 18+:**\n",
    "Осенью наблюдается значительный спад доли заказов (26.50%) по сравнению с летом (28.44%).\n",
    "\n",
    "**Возрастные категории 0+, 6+, 12+:**\n",
    "В этих категориях наблюдается небольшое увеличение доли заказов осенью по сравнению с летом.\n",
    "Это может указывать на то, что осенью родители чаще водят детей на мероприятия, возможно, из-за начала учебного года и школьных мероприятий."
   ]
  },
  {
   "cell_type": "markdown",
   "metadata": {},
   "source": [
    "#### Смотрим изменение выручки с продажи одного билета"
   ]
  },
  {
   "cell_type": "code",
   "execution_count": 27,
   "metadata": {},
   "outputs": [
    {
     "data": {
      "image/png": "[encoded data removed]",
      "text/plain": [
       "<Figure size 720x432 with 1 Axes>"
      ]
     },
     "metadata": {
      "needs_background": "light"
     },
     "output_type": "display_data"
    },
    {
     "name": "stdout",
     "output_type": "stream",
     "text": [
      "  event_type_main  one_ticket_revenue_rub_summer  \\\n",
      "0        выставки                      86.416198   \n",
      "1          другое                      81.088709   \n",
      "2        концерты                     319.079485   \n",
      "3           спорт                      54.112065   \n",
      "4         стендап                     227.070677   \n",
      "5           театр                     222.524554   \n",
      "6            ёлки                     276.388228   \n",
      "\n",
      "   one_ticket_revenue_rub_autumn  relative_change  \n",
      "0                      91.066619         5.381423  \n",
      "1                      77.097947        -4.921477  \n",
      "2                     286.763211       -10.127970  \n",
      "3                      52.139437        -3.645448  \n",
      "4                     249.963862        10.081964  \n",
      "5                     183.053370       -17.737900  \n",
      "6                     234.503838       -15.154187  \n"
     ]
    }
   ],
   "source": [
    "# Фильтрация данных по сезонам\n",
    "summer_data = df_final[df_final['season'] == 'лето']\n",
    "autumn_data = df_final[df_final['season'] == 'осень']\n",
    "\n",
    "# Группировка данных по категориям и расчет средней выручки с одного билета\n",
    "summer_avg_revenue = summer_data.groupby('event_type_main')['one_ticket_revenue_rub'].mean().reset_index()\n",
    "autumn_avg_revenue = autumn_data.groupby('event_type_main')['one_ticket_revenue_rub'].mean().reset_index()\n",
    "\n",
    "# Расчет относительного изменения\n",
    "merged_revenue = pd.merge(summer_avg_revenue, autumn_avg_revenue, on='event_type_main', suffixes=('_summer', '_autumn'))\n",
    "merged_revenue['relative_change'] = ((merged_revenue['one_ticket_revenue_rub_autumn'] - merged_revenue['one_ticket_revenue_rub_summer']) / merged_revenue['one_ticket_revenue_rub_summer']) * 100\n",
    "\n",
    "# Визуализация результатов\n",
    "plt.figure(figsize=(10, 6))\n",
    "sns.barplot(x='event_type_main', y='relative_change', data=merged_revenue, palette='viridis')\n",
    "plt.title('Относительное изменение средней стоимости билета осенью по сравнению с летом')\n",
    "plt.xlabel('Тип мероприятия')\n",
    "plt.ylabel('Относительное изменение, %')\n",
    "plt.xticks(rotation=45)\n",
    "\n",
    "# Добавление меток на графике\n",
    "for i, row in merged_revenue.iterrows():\n",
    "    plt.text(i, row['relative_change'], f'{row[\"relative_change\"]:.1f}%', ha='center', va='bottom')\n",
    "\n",
    "plt.show()\n",
    "\n",
    "# Вывод результатов\n",
    "print(merged_revenue)"
   ]
  },
  {
   "cell_type": "markdown",
   "metadata": {},
   "source": [
    "Ключевые изменения:\n",
    "\n",
    "\n",
    "Повышение интереса к \"Театру\" и \"Спорту\": Несмотря на общий спад, интерес к театру и спортивным мероприятиям растет, особенно среди пользователей мобильных устройств (+5 п.п. и +4 п.п. соответственно). Одновременно с этим, наблюдается рост заказов в категориях \"Театр\" и \"Спорт\" в возрастных группах 0+ и 6+. Корреляция: Это может указывать на переориентацию спроса в сторону семейного досуга и мероприятий, ориентированных на детей.\n",
    "\n",
    "Снижение интереса к \"Концертам\" и категории \"Другое\": Концертная активность снижается по сравнению с летним периодом (-3 п.п.), что может быть связано с завершением сезона отпусков и фестивалей. Категория \"Другое\" также демонстрирует снижение (-6 п.п.), что может указывать на снижение спонтанных и нетематических покупок.\n",
    "\n",
    "Изменение средней стоимости билета: Средняя стоимость билетов в категориях \"Концерты\", \"Театр\" и \"Елки\" значительно снижается (до -25,7%), вероятно, в ответ на снижение спроса и с целью привлечения аудитории. Небольшое увеличение цен в категориях \"Стендап\", \"Выставки\" и \"Спорт\" может быть связано с особенностями контента и целевой аудитории.\n",
    "\n",
    "Вывод:\n",
    "\n",
    "\n",
    "Осенний период характеризуется снижением общей активности на рынке мероприятий, однако наблюдается перераспределение спроса в пользу семейного досуга и мероприятий, ориентированных на детскую аудиторию. Снижение цен на билеты в ряде категорий, вероятно, является попыткой адаптироваться к изменившимся условиям рынка и поддержать спрос.\n"
   ]
  },
  {
   "cell_type": "markdown",
   "metadata": {},
   "source": [
    "Анализируем осеннюю активность пользователей по динамике изменений по неделям и дням"
   ]
  },
  {
   "cell_type": "code",
   "execution_count": 28,
   "metadata": {},
   "outputs": [
    {
     "data": {
      "image/png": "[encoded data removed]",
      "text/plain": [
       "<Figure size 864x576 with 4 Axes>"
      ]
     },
     "metadata": {
      "needs_background": "light"
     },
     "output_type": "display_data"
    }
   ],
   "source": [
    "# Фильтрация данных по осенним месяцам\n",
    "autumn_data = df_final[(df_final['created_dt_msk'].dt.month == 9) | (df_final['created_dt_msk'].dt.month == 10)].copy()\n",
    "\n",
    "# Агрегируем данные по дням\n",
    "daily_summary = autumn_data.groupby(autumn_data['created_dt_msk'].dt.date).agg({\n",
    "    'order_id': 'count',                    # считаем количество заказов\n",
    "    'user_id': 'nunique',                   # уникальных пользователей\n",
    "    'one_ticket_revenue_rub': 'mean'        # среднее значение выручки за билет\n",
    "}).reset_index()\n",
    "\n",
    "# Переименовываем столбцы\n",
    "daily_summary.columns = ['date', 'total_orders', 'unique_users', 'avg_ticket_price']\n",
    "\n",
    "# Расчёт среднего числа заказов на одного пользователя\n",
    "daily_summary['orders_per_user'] = daily_summary['total_orders'] / daily_summary['unique_users']\n",
    "\n",
    "# Преобразуем формат даты для отображения только месяца и дня\n",
    "daily_summary['date_str'] = daily_summary['date'].apply(lambda x: x.strftime(\"%d %b\"))  # День и сокращённое название месяца\n",
    "\n",
    "# Визуализация результатов\n",
    "plt.figure(figsize=(12, 8))\n",
    "\n",
    "# Общий тренд заказов\n",
    "plt.subplot(2, 2, 1)\n",
    "sns.lineplot(x='date_str', y='total_orders', data=daily_summary)\n",
    "plt.title('Общее число заказов по дням')\n",
    "plt.xlabel('Дата')\n",
    "plt.ylabel('Число заказов')\n",
    "\n",
    "# Настройка частоты отображаемых дат (каждый пятый день)\n",
    "tick_labels = daily_summary['date_str'][::5]  # Отмечаем каждую пятую точку\n",
    "plt.xticks(tick_labels.index, tick_labels.values, rotation=45, ha='right')\n",
    "\n",
    "# Повторяем аналогичную настройку для остальных графиков\n",
    "plt.subplot(2, 2, 2)\n",
    "sns.lineplot(x='date_str', y='unique_users', data=daily_summary)\n",
    "plt.title('Количество активных пользователей DAU по дням')\n",
    "plt.xlabel('Дата')\n",
    "plt.ylabel('Число пользователей')\n",
    "plt.xticks(tick_labels.index, tick_labels.values, rotation=45, ha='right')\n",
    "\n",
    "plt.subplot(2, 2, 3)\n",
    "sns.lineplot(x='date_str', y='orders_per_user', data=daily_summary)\n",
    "plt.title('Среднее число заказов на одного пользователя по дням')\n",
    "plt.xlabel('Дата')\n",
    "plt.ylabel('Число заказов на пользователя')\n",
    "plt.xticks(tick_labels.index, tick_labels.values, rotation=45, ha='right')\n",
    "\n",
    "plt.subplot(2, 2, 4)\n",
    "sns.lineplot(x='date_str', y='avg_ticket_price', data=daily_summary)\n",
    "plt.title('Средняя стоимость одного билета по дням')\n",
    "plt.xlabel('Дата')\n",
    "plt.ylabel('Средняя стоимость билета')\n",
    "plt.xticks(tick_labels.index, tick_labels.values, rotation=45, ha='right')\n",
    "\n",
    "plt.tight_layout()\n",
    "plt.show()"
   ]
  },
  {
   "cell_type": "markdown",
   "metadata": {},
   "source": [
    "Краткий вывод: Выявлена четкая связь: повышение стоимости билетов ведет к снижению спроса, тогда как снижение цены увеличивает количество заказов и активных пользователей."
   ]
  },
  {
   "cell_type": "code",
   "execution_count": 29,
   "metadata": {},
   "outputs": [
    {
     "data": {
      "image/png": "[encoded data removed]",
      "text/plain": [
       "<Figure size 864x576 with 3 Axes>"
      ]
     },
     "metadata": {
      "needs_background": "light"
     },
     "output_type": "display_data"
    }
   ],
   "source": [
    "# Преобразование дат и подготовка данных\n",
    "df_final['day_of_week'] = df_final['created_dt_msk'].dt.day_name().map({\n",
    "    'Monday': 1,\n",
    "    'Tuesday': 2,\n",
    "    'Wednesday': 3,\n",
    "    'Thursday': 4,\n",
    "    'Friday': 5,\n",
    "    'Saturday': 6,\n",
    "    'Sunday': 7\n",
    "})\n",
    "\n",
    "# Агрегация данных по дням недели\n",
    "weekly_activity = df_final.groupby('day_of_week').agg({\n",
    "    'order_id': 'count',\n",
    "    'user_id': 'nunique',\n",
    "    'one_ticket_revenue_rub': 'mean'\n",
    "}).reset_index()\n",
    "\n",
    "# Переименование столбцов\n",
    "weekly_activity.columns = ['day_of_week', 'total_orders', 'unique_users', 'avg_ticket_price']\n",
    "\n",
    "# Расчёт долей\n",
    "total_orders_sum = weekly_activity['total_orders'].sum()\n",
    "unique_users_sum = weekly_activity['unique_users'].sum()\n",
    "avg_ticket_price_sum = weekly_activity['avg_ticket_price'].sum()\n",
    "\n",
    "weekly_activity['orders_share'] = (weekly_activity['total_orders'] / total_orders_sum) * 100\n",
    "weekly_activity['users_share'] = (weekly_activity['unique_users'] / unique_users_sum) * 100\n",
    "weekly_activity['ticket_price_share'] = (weekly_activity['avg_ticket_price'] / avg_ticket_price_sum) * 100\n",
    "\n",
    "# Настройка фигуры\n",
    "plt.figure(figsize=(12, 8))\n",
    "\n",
    "# График долей заказов по дням недели\n",
    "plt.subplot(2, 2, 1)\n",
    "sns.barplot(x='day_of_week', y='orders_share', data=weekly_activity, palette='viridis')\n",
    "for i in range(len(weekly_activity)):\n",
    "    plt.annotate(f\"{weekly_activity.orders_share[i]:.2f}%\",\n",
    "                 xy=(i, weekly_activity.orders_share[i]),\n",
    "                 ha=\"center\", va=\"bottom\")\n",
    "plt.title('Доля заказов по дням недели')\n",
    "plt.xlabel('День недели')\n",
    "plt.ylabel('Доля (%)')\n",
    "\n",
    "# График долей уникальных пользователей по дням недели\n",
    "plt.subplot(2, 2, 2)\n",
    "sns.barplot(x='day_of_week', y='users_share', data=weekly_activity, palette='viridis')\n",
    "for i in range(len(weekly_activity)):\n",
    "    plt.annotate(f\"{weekly_activity.users_share[i]:.2f}%\",\n",
    "                 xy=(i, weekly_activity.users_share[i]),\n",
    "                 ha=\"center\", va=\"bottom\")\n",
    "plt.title('Доля уникальных пользователей по дням недели')\n",
    "plt.xlabel('День недели')\n",
    "plt.ylabel('Доля (%)')\n",
    "\n",
    "# График долей средней стоимости билетов по дням недели\n",
    "plt.subplot(2, 2, 3)\n",
    "sns.barplot(x='day_of_week', y='ticket_price_share', data=weekly_activity, palette='viridis')\n",
    "for i in range(len(weekly_activity)):\n",
    "    plt.annotate(f\"{weekly_activity.ticket_price_share[i]:.2f}%\",\n",
    "                 xy=(i, weekly_activity.ticket_price_share[i]),\n",
    "                 ha=\"center\", va=\"bottom\")\n",
    "plt.title('Доля средней стоимости билетов по дням недели')\n",
    "plt.xlabel('День недели')\n",
    "plt.ylabel('Доля (%)')\n",
    "\n",
    "plt.tight_layout()\n",
    "plt.show()"
   ]
  },
  {
   "cell_type": "markdown",
   "metadata": {},
   "source": [
    "Краткий вывод: Анализ данных показывает, что во вторник наблюдается всплеск активности с покупкой билетов по самой высокой средней стоимости. В целом, данные подтверждают типичное потребительское поведение с повышенной активностью в конце недели. Наибольшая активность наблюдается в пятницу, что может быть связано с подготовкой к выходным. В выходные дни (суббота и воскресенье) активность пользователей снижается, однако средняя стоимость билета остается на низком уровне."
   ]
  },
  {
   "cell_type": "markdown",
   "metadata": {},
   "source": [
    "#### Анализируем ТОП регионов и партнёров"
   ]
  },
  {
   "cell_type": "code",
   "execution_count": 30,
   "metadata": {},
   "outputs": [
    {
     "data": {
      "text/html": [
       "<style  type=\"text/css\" >\n",
       "#T_a4533_row0_col3,#T_a4533_row0_col4{\n",
       "            background-color:  #08306b;\n",
       "            color:  #f1f1f1;\n",
       "        }#T_a4533_row1_col3{\n",
       "            background-color:  #4594c7;\n",
       "            color:  #000000;\n",
       "        }#T_a4533_row1_col4{\n",
       "            background-color:  #79b5d9;\n",
       "            color:  #000000;\n",
       "        }#T_a4533_row2_col3{\n",
       "            background-color:  #d8e7f5;\n",
       "            color:  #000000;\n",
       "        }#T_a4533_row2_col4{\n",
       "            background-color:  #d9e8f5;\n",
       "            color:  #000000;\n",
       "        }#T_a4533_row3_col3{\n",
       "            background-color:  #deebf7;\n",
       "            color:  #000000;\n",
       "        }#T_a4533_row3_col4{\n",
       "            background-color:  #eef5fc;\n",
       "            color:  #000000;\n",
       "        }#T_a4533_row4_col3,#T_a4533_row5_col3{\n",
       "            background-color:  #ebf3fb;\n",
       "            color:  #000000;\n",
       "        }#T_a4533_row4_col4,#T_a4533_row7_col3,#T_a4533_row8_col3,#T_a4533_row8_col4,#T_a4533_row9_col3,#T_a4533_row10_col4{\n",
       "            background-color:  #f1f7fd;\n",
       "            color:  #000000;\n",
       "        }#T_a4533_row5_col4,#T_a4533_row6_col4{\n",
       "            background-color:  #f3f8fe;\n",
       "            color:  #000000;\n",
       "        }#T_a4533_row6_col3{\n",
       "            background-color:  #f0f6fd;\n",
       "            color:  #000000;\n",
       "        }#T_a4533_row7_col4{\n",
       "            background-color:  #f2f8fd;\n",
       "            color:  #000000;\n",
       "        }#T_a4533_row9_col4{\n",
       "            background-color:  #f5f9fe;\n",
       "            color:  #000000;\n",
       "        }#T_a4533_row10_col3,#T_a4533_row11_col3{\n",
       "            background-color:  #f2f7fd;\n",
       "            color:  #000000;\n",
       "        }#T_a4533_row11_col4{\n",
       "            background-color:  #dfebf7;\n",
       "            color:  #000000;\n",
       "        }#T_a4533_row12_col3{\n",
       "            background-color:  #f6faff;\n",
       "            color:  #000000;\n",
       "        }#T_a4533_row12_col4,#T_a4533_row13_col3,#T_a4533_row14_col3{\n",
       "            background-color:  #f7fbff;\n",
       "            color:  #000000;\n",
       "        }#T_a4533_row13_col4{\n",
       "            background-color:  #f5fafe;\n",
       "            color:  #000000;\n",
       "        }#T_a4533_row14_col4{\n",
       "            background-color:  #e7f0fa;\n",
       "            color:  #000000;\n",
       "        }</style><table id=\"T_a4533_\" ><thead>    <tr>        <th class=\"blank level0\" ></th>        <th class=\"col_heading level0 col0\" >region</th>        <th class=\"col_heading level0 col1\" >unique_events</th>        <th class=\"col_heading level0 col2\" >total_orders</th>        <th class=\"col_heading level0 col3\" >event_share</th>        <th class=\"col_heading level0 col4\" >order_share</th>    </tr></thead><tbody>\n",
       "                <tr>\n",
       "                        <th id=\"T_a4533_level0_row0\" class=\"row_heading level0 row0\" >0</th>\n",
       "                        <td id=\"T_a4533_row0_col0\" class=\"data row0 col0\" >Каменевский регион</td>\n",
       "                        <td id=\"T_a4533_row0_col1\" class=\"data row0 col1\" >5983</td>\n",
       "                        <td id=\"T_a4533_row0_col2\" class=\"data row0 col2\" >91049</td>\n",
       "                        <td id=\"T_a4533_row0_col3\" class=\"data row0 col3\" >26.680000</td>\n",
       "                        <td id=\"T_a4533_row0_col4\" class=\"data row0 col4\" >31.330000</td>\n",
       "            </tr>\n",
       "            <tr>\n",
       "                        <th id=\"T_a4533_level0_row1\" class=\"row_heading level0 row1\" >1</th>\n",
       "                        <td id=\"T_a4533_row1_col0\" class=\"data row1 col0\" >Североярская область</td>\n",
       "                        <td id=\"T_a4533_row1_col1\" class=\"data row1 col1\" >3814</td>\n",
       "                        <td id=\"T_a4533_row1_col2\" class=\"data row1 col2\" >44043</td>\n",
       "                        <td id=\"T_a4533_row1_col3\" class=\"data row1 col3\" >17.010000</td>\n",
       "                        <td id=\"T_a4533_row1_col4\" class=\"data row1 col4\" >15.160000</td>\n",
       "            </tr>\n",
       "            <tr>\n",
       "                        <th id=\"T_a4533_level0_row2\" class=\"row_heading level0 row2\" >2</th>\n",
       "                        <td id=\"T_a4533_row2_col0\" class=\"data row2 col0\" >Широковская область</td>\n",
       "                        <td id=\"T_a4533_row2_col1\" class=\"data row2 col1\" >1233</td>\n",
       "                        <td id=\"T_a4533_row2_col2\" class=\"data row2 col2\" >16457</td>\n",
       "                        <td id=\"T_a4533_row2_col3\" class=\"data row2 col3\" >5.500000</td>\n",
       "                        <td id=\"T_a4533_row2_col4\" class=\"data row2 col4\" >5.660000</td>\n",
       "            </tr>\n",
       "            <tr>\n",
       "                        <th id=\"T_a4533_level0_row3\" class=\"row_heading level0 row3\" >3</th>\n",
       "                        <td id=\"T_a4533_row3_col0\" class=\"data row3 col0\" >Светополянский округ</td>\n",
       "                        <td id=\"T_a4533_row3_col1\" class=\"data row3 col1\" >1075</td>\n",
       "                        <td id=\"T_a4533_row3_col2\" class=\"data row3 col2\" >7606</td>\n",
       "                        <td id=\"T_a4533_row3_col3\" class=\"data row3 col3\" >4.790000</td>\n",
       "                        <td id=\"T_a4533_row3_col4\" class=\"data row3 col4\" >2.620000</td>\n",
       "            </tr>\n",
       "            <tr>\n",
       "                        <th id=\"T_a4533_level0_row4\" class=\"row_heading level0 row4\" >4</th>\n",
       "                        <td id=\"T_a4533_row4_col0\" class=\"data row4 col0\" >Речиновская область</td>\n",
       "                        <td id=\"T_a4533_row4_col1\" class=\"data row4 col1\" >702</td>\n",
       "                        <td id=\"T_a4533_row4_col2\" class=\"data row4 col2\" >6293</td>\n",
       "                        <td id=\"T_a4533_row4_col3\" class=\"data row4 col3\" >3.130000</td>\n",
       "                        <td id=\"T_a4533_row4_col4\" class=\"data row4 col4\" >2.170000</td>\n",
       "            </tr>\n",
       "            <tr>\n",
       "                        <th id=\"T_a4533_level0_row5\" class=\"row_heading level0 row5\" >5</th>\n",
       "                        <td id=\"T_a4533_row5_col0\" class=\"data row5 col0\" >Травяная область</td>\n",
       "                        <td id=\"T_a4533_row5_col1\" class=\"data row5 col1\" >683</td>\n",
       "                        <td id=\"T_a4533_row5_col2\" class=\"data row5 col2\" >5045</td>\n",
       "                        <td id=\"T_a4533_row5_col3\" class=\"data row5 col3\" >3.050000</td>\n",
       "                        <td id=\"T_a4533_row5_col4\" class=\"data row5 col4\" >1.740000</td>\n",
       "            </tr>\n",
       "            <tr>\n",
       "                        <th id=\"T_a4533_level0_row6\" class=\"row_heading level0 row6\" >6</th>\n",
       "                        <td id=\"T_a4533_row6_col0\" class=\"data row6 col0\" >Горицветская область</td>\n",
       "                        <td id=\"T_a4533_row6_col1\" class=\"data row6 col1\" >551</td>\n",
       "                        <td id=\"T_a4533_row6_col2\" class=\"data row6 col2\" >5166</td>\n",
       "                        <td id=\"T_a4533_row6_col3\" class=\"data row6 col3\" >2.460000</td>\n",
       "                        <td id=\"T_a4533_row6_col4\" class=\"data row6 col4\" >1.780000</td>\n",
       "            </tr>\n",
       "            <tr>\n",
       "                        <th id=\"T_a4533_level0_row7\" class=\"row_heading level0 row7\" >7</th>\n",
       "                        <td id=\"T_a4533_row7_col0\" class=\"data row7 col0\" >Серебринская область</td>\n",
       "                        <td id=\"T_a4533_row7_col1\" class=\"data row7 col1\" >542</td>\n",
       "                        <td id=\"T_a4533_row7_col2\" class=\"data row7 col2\" >5610</td>\n",
       "                        <td id=\"T_a4533_row7_col3\" class=\"data row7 col3\" >2.420000</td>\n",
       "                        <td id=\"T_a4533_row7_col4\" class=\"data row7 col4\" >1.930000</td>\n",
       "            </tr>\n",
       "            <tr>\n",
       "                        <th id=\"T_a4533_level0_row8\" class=\"row_heading level0 row8\" >8</th>\n",
       "                        <td id=\"T_a4533_row8_col0\" class=\"data row8 col0\" >Яблоневская область</td>\n",
       "                        <td id=\"T_a4533_row8_col1\" class=\"data row8 col1\" >535</td>\n",
       "                        <td id=\"T_a4533_row8_col2\" class=\"data row8 col2\" >6179</td>\n",
       "                        <td id=\"T_a4533_row8_col3\" class=\"data row8 col3\" >2.390000</td>\n",
       "                        <td id=\"T_a4533_row8_col4\" class=\"data row8 col4\" >2.130000</td>\n",
       "            </tr>\n",
       "            <tr>\n",
       "                        <th id=\"T_a4533_level0_row9\" class=\"row_heading level0 row9\" >9</th>\n",
       "                        <td id=\"T_a4533_row9_col0\" class=\"data row9 col0\" >Тепляковская область</td>\n",
       "                        <td id=\"T_a4533_row9_col1\" class=\"data row9 col1\" >530</td>\n",
       "                        <td id=\"T_a4533_row9_col2\" class=\"data row9 col2\" >4388</td>\n",
       "                        <td id=\"T_a4533_row9_col3\" class=\"data row9 col3\" >2.360000</td>\n",
       "                        <td id=\"T_a4533_row9_col4\" class=\"data row9 col4\" >1.510000</td>\n",
       "            </tr>\n",
       "            <tr>\n",
       "                        <th id=\"T_a4533_level0_row10\" class=\"row_heading level0 row10\" >10</th>\n",
       "                        <td id=\"T_a4533_row10_col0\" class=\"data row10 col0\" >Солнечноземская область</td>\n",
       "                        <td id=\"T_a4533_row10_col1\" class=\"data row10 col1\" >522</td>\n",
       "                        <td id=\"T_a4533_row10_col2\" class=\"data row10 col2\" >6287</td>\n",
       "                        <td id=\"T_a4533_row10_col3\" class=\"data row10 col3\" >2.330000</td>\n",
       "                        <td id=\"T_a4533_row10_col4\" class=\"data row10 col4\" >2.160000</td>\n",
       "            </tr>\n",
       "            <tr>\n",
       "                        <th id=\"T_a4533_level0_row11\" class=\"row_heading level0 row11\" >11</th>\n",
       "                        <td id=\"T_a4533_row11_col0\" class=\"data row11 col0\" >Медовская область</td>\n",
       "                        <td id=\"T_a4533_row11_col1\" class=\"data row11 col1\" >504</td>\n",
       "                        <td id=\"T_a4533_row11_col2\" class=\"data row11 col2\" >13898</td>\n",
       "                        <td id=\"T_a4533_row11_col3\" class=\"data row11 col3\" >2.250000</td>\n",
       "                        <td id=\"T_a4533_row11_col4\" class=\"data row11 col4\" >4.780000</td>\n",
       "            </tr>\n",
       "            <tr>\n",
       "                        <th id=\"T_a4533_level0_row12\" class=\"row_heading level0 row12\" >12</th>\n",
       "                        <td id=\"T_a4533_row12_col0\" class=\"data row12 col0\" >Зоринский регион</td>\n",
       "                        <td id=\"T_a4533_row12_col1\" class=\"data row12 col1\" >382</td>\n",
       "                        <td id=\"T_a4533_row12_col2\" class=\"data row12 col2\" >3214</td>\n",
       "                        <td id=\"T_a4533_row12_col3\" class=\"data row12 col3\" >1.700000</td>\n",
       "                        <td id=\"T_a4533_row12_col4\" class=\"data row12 col4\" >1.110000</td>\n",
       "            </tr>\n",
       "            <tr>\n",
       "                        <th id=\"T_a4533_level0_row13\" class=\"row_heading level0 row13\" >13</th>\n",
       "                        <td id=\"T_a4533_row13_col0\" class=\"data row13 col0\" >Солнечнореченская область</td>\n",
       "                        <td id=\"T_a4533_row13_col1\" class=\"data row13 col1\" >361</td>\n",
       "                        <td id=\"T_a4533_row13_col2\" class=\"data row13 col2\" >3996</td>\n",
       "                        <td id=\"T_a4533_row13_col3\" class=\"data row13 col3\" >1.610000</td>\n",
       "                        <td id=\"T_a4533_row13_col4\" class=\"data row13 col4\" >1.380000</td>\n",
       "            </tr>\n",
       "            <tr>\n",
       "                        <th id=\"T_a4533_level0_row14\" class=\"row_heading level0 row14\" >14</th>\n",
       "                        <td id=\"T_a4533_row14_col0\" class=\"data row14 col0\" >Озернинский край</td>\n",
       "                        <td id=\"T_a4533_row14_col1\" class=\"data row14 col1\" >349</td>\n",
       "                        <td id=\"T_a4533_row14_col2\" class=\"data row14 col2\" >10476</td>\n",
       "                        <td id=\"T_a4533_row14_col3\" class=\"data row14 col3\" >1.560000</td>\n",
       "                        <td id=\"T_a4533_row14_col4\" class=\"data row14 col4\" >3.610000</td>\n",
       "            </tr>\n",
       "    </tbody></table>"
      ],
      "text/plain": [
       "<pandas.io.formats.style.Styler at 0x7f277ac6a430>"
      ]
     },
     "metadata": {},
     "output_type": "display_data"
    }
   ],
   "source": [
    "# 1. Подготовим данные для анализа\n",
    "region_analysis = df_final.groupby('region_name').agg({\n",
    "    'event_id': 'nunique',                        # уникальные мероприятия\n",
    "    'order_id': 'count'                          # обработанные заказы\n",
    "}).reset_index()\n",
    "\n",
    "# Переименуем столбцы\n",
    "region_analysis.columns = ['region', 'unique_events', 'total_orders']\n",
    "\n",
    "# Общие числа мероприятий и заказов\n",
    "total_unique_events = region_analysis['unique_events'].sum()\n",
    "total_total_orders = region_analysis['total_orders'].sum()\n",
    "\n",
    "# Добавляем столбцы с долями (округлёнными до 2-х знаков)\n",
    "region_analysis['event_share'] = round((region_analysis['unique_events'] / total_unique_events) * 100, 2)\n",
    "region_analysis['order_share'] = round((region_analysis['total_orders'] / total_total_orders) * 100, 2)\n",
    "\n",
    "# Сортировка по доле мероприятий и заказов\n",
    "region_analysis = region_analysis.sort_values(by=['event_share', 'order_share'], ascending=False)\n",
    "\n",
    "# Сбрасываем индекс для упорядоченной нумерации\n",
    "region_analysis.reset_index(drop=True, inplace=True)\n",
    "\n",
    "# Оставляем только топ-15 крупнейших партнёров\n",
    "top_15_region = region_analysis.head(15)\n",
    "\n",
    "# Выводим таблицу с красивым оформлением\n",
    "pd.options.display.float_format = '{:,.2f}'.format  # Форматирование чисел\n",
    "display(top_15_region.style.background_gradient(subset=[\"event_share\", \"order_share\"], cmap=\"Blues\"))\n"
   ]
  },
  {
   "cell_type": "markdown",
   "metadata": {},
   "source": [
    "Вывод:\n",
    "\n",
    "Анализ данных по количеству уникальных мероприятий в топ-15 регионах показывает, что Каменевский регион значительно выделяется с 5983 мероприятиями, что составляет 26,7% от общего числа. Он является лидером, значительно опережая следующий по величине Северoярская область, где зарегистрировано 3814 мероприятий (17%).\n",
    "\n",
    "Широковская и Светлоярская области также имеют заметные показатели, с 1233 и 1075 мероприятиями соответственно, но их доля в общей структуре всё же ниже, составляя 5,5% и 4,8%.\n",
    "\n",
    "Общее количество мероприятий в оставшихся регионах указывает на значительные различия в активности между регионами."
   ]
  },
  {
   "cell_type": "code",
   "execution_count": 31,
   "metadata": {},
   "outputs": [
    {
     "data": {
      "text/html": [
       "<style  type=\"text/css\" >\n",
       "#T_77676_row0_col4,#T_77676_row1_col6{\n",
       "            background-color:  #09529d;\n",
       "            color:  #f1f1f1;\n",
       "        }#T_77676_row0_col5,#T_77676_row0_col6,#T_77676_row4_col4{\n",
       "            background-color:  #08306b;\n",
       "            color:  #f1f1f1;\n",
       "        }#T_77676_row1_col4{\n",
       "            background-color:  #c9ddf0;\n",
       "            color:  #000000;\n",
       "        }#T_77676_row1_col5{\n",
       "            background-color:  #60a7d2;\n",
       "            color:  #000000;\n",
       "        }#T_77676_row2_col4{\n",
       "            background-color:  #7cb7da;\n",
       "            color:  #000000;\n",
       "        }#T_77676_row2_col5{\n",
       "            background-color:  #94c4df;\n",
       "            color:  #000000;\n",
       "        }#T_77676_row2_col6{\n",
       "            background-color:  #1764ab;\n",
       "            color:  #f1f1f1;\n",
       "        }#T_77676_row3_col4{\n",
       "            background-color:  #dbe9f6;\n",
       "            color:  #000000;\n",
       "        }#T_77676_row3_col5{\n",
       "            background-color:  #c8dcf0;\n",
       "            color:  #000000;\n",
       "        }#T_77676_row3_col6{\n",
       "            background-color:  #3a8ac2;\n",
       "            color:  #000000;\n",
       "        }#T_77676_row4_col5{\n",
       "            background-color:  #4090c5;\n",
       "            color:  #000000;\n",
       "        }#T_77676_row4_col6{\n",
       "            background-color:  #3f8fc5;\n",
       "            color:  #000000;\n",
       "        }#T_77676_row5_col4{\n",
       "            background-color:  #2a7ab9;\n",
       "            color:  #000000;\n",
       "        }#T_77676_row5_col5{\n",
       "            background-color:  #4292c6;\n",
       "            color:  #000000;\n",
       "        }#T_77676_row5_col6{\n",
       "            background-color:  #7ab6d9;\n",
       "            color:  #000000;\n",
       "        }#T_77676_row6_col4,#T_77676_row12_col4{\n",
       "            background-color:  #f5fafe;\n",
       "            color:  #000000;\n",
       "        }#T_77676_row6_col5{\n",
       "            background-color:  #eaf3fb;\n",
       "            color:  #000000;\n",
       "        }#T_77676_row6_col6{\n",
       "            background-color:  #d0e2f2;\n",
       "            color:  #000000;\n",
       "        }#T_77676_row7_col4{\n",
       "            background-color:  #d4e4f4;\n",
       "            color:  #000000;\n",
       "        }#T_77676_row7_col5{\n",
       "            background-color:  #ddeaf7;\n",
       "            color:  #000000;\n",
       "        }#T_77676_row7_col6{\n",
       "            background-color:  #dfecf7;\n",
       "            color:  #000000;\n",
       "        }#T_77676_row8_col4{\n",
       "            background-color:  #f4f9fe;\n",
       "            color:  #000000;\n",
       "        }#T_77676_row8_col5{\n",
       "            background-color:  #f0f6fd;\n",
       "            color:  #000000;\n",
       "        }#T_77676_row8_col6,#T_77676_row9_col4{\n",
       "            background-color:  #e1edf8;\n",
       "            color:  #000000;\n",
       "        }#T_77676_row9_col5,#T_77676_row10_col6{\n",
       "            background-color:  #eef5fc;\n",
       "            color:  #000000;\n",
       "        }#T_77676_row9_col6{\n",
       "            background-color:  #e7f0fa;\n",
       "            color:  #000000;\n",
       "        }#T_77676_row10_col4{\n",
       "            background-color:  #d3e4f3;\n",
       "            color:  #000000;\n",
       "        }#T_77676_row10_col5{\n",
       "            background-color:  #edf4fc;\n",
       "            color:  #000000;\n",
       "        }#T_77676_row11_col4{\n",
       "            background-color:  #abd0e6;\n",
       "            color:  #000000;\n",
       "        }#T_77676_row11_col5{\n",
       "            background-color:  #c4daee;\n",
       "            color:  #000000;\n",
       "        }#T_77676_row11_col6{\n",
       "            background-color:  #f1f7fd;\n",
       "            color:  #000000;\n",
       "        }#T_77676_row12_col5{\n",
       "            background-color:  #f5f9fe;\n",
       "            color:  #000000;\n",
       "        }#T_77676_row12_col6,#T_77676_row14_col5{\n",
       "            background-color:  #f6faff;\n",
       "            color:  #000000;\n",
       "        }#T_77676_row13_col4,#T_77676_row13_col5,#T_77676_row13_col6,#T_77676_row14_col6{\n",
       "            background-color:  #f7fbff;\n",
       "            color:  #000000;\n",
       "        }#T_77676_row14_col4{\n",
       "            background-color:  #f3f8fe;\n",
       "            color:  #000000;\n",
       "        }</style><table id=\"T_77676_\" ><thead>    <tr>        <th class=\"blank level0\" ></th>        <th class=\"col_heading level0 col0\" >partner</th>        <th class=\"col_heading level0 col1\" >unique_events</th>        <th class=\"col_heading level0 col2\" >total_orders</th>        <th class=\"col_heading level0 col3\" >total_revenue</th>        <th class=\"col_heading level0 col4\" >event_share</th>        <th class=\"col_heading level0 col5\" >order_share</th>        <th class=\"col_heading level0 col6\" >revenue_share</th>    </tr></thead><tbody>\n",
       "                <tr>\n",
       "                        <th id=\"T_77676_level0_row0\" class=\"row_heading level0 row0\" >0</th>\n",
       "                        <td id=\"T_77676_row0_col0\" class=\"data row0 col0\" >Билеты без проблем</td>\n",
       "                        <td id=\"T_77676_row0_col1\" class=\"data row0 col1\" >4263</td>\n",
       "                        <td id=\"T_77676_row0_col2\" class=\"data row0 col2\" >63696</td>\n",
       "                        <td id=\"T_77676_row0_col3\" class=\"data row0 col3\" >26701648</td>\n",
       "                        <td id=\"T_77676_row0_col4\" class=\"data row0 col4\" >17.400000</td>\n",
       "                        <td id=\"T_77676_row0_col5\" class=\"data row0 col5\" >21.900000</td>\n",
       "                        <td id=\"T_77676_row0_col6\" class=\"data row0 col6\" >16.500000</td>\n",
       "            </tr>\n",
       "            <tr>\n",
       "                        <th id=\"T_77676_level0_row1\" class=\"row_heading level0 row1\" >1</th>\n",
       "                        <td id=\"T_77676_row1_col0\" class=\"data row1 col0\" >Мой билет</td>\n",
       "                        <td id=\"T_77676_row1_col1\" class=\"data row1 col1\" >1310</td>\n",
       "                        <td id=\"T_77676_row1_col2\" class=\"data row1 col2\" >34840</td>\n",
       "                        <td id=\"T_77676_row1_col3\" class=\"data row1 col3\" >23477097</td>\n",
       "                        <td id=\"T_77676_row1_col4\" class=\"data row1 col4\" >5.300000</td>\n",
       "                        <td id=\"T_77676_row1_col5\" class=\"data row1 col5\" >12.000000</td>\n",
       "                        <td id=\"T_77676_row1_col6\" class=\"data row1 col6\" >14.500000</td>\n",
       "            </tr>\n",
       "            <tr>\n",
       "                        <th id=\"T_77676_level0_row2\" class=\"row_heading level0 row2\" >2</th>\n",
       "                        <td id=\"T_77676_row2_col0\" class=\"data row2 col0\" >Облачко</td>\n",
       "                        <td id=\"T_77676_row2_col1\" class=\"data row2 col1\" >2348</td>\n",
       "                        <td id=\"T_77676_row2_col2\" class=\"data row2 col2\" >26642</td>\n",
       "                        <td id=\"T_77676_row2_col3\" class=\"data row2 col3\" >21644068</td>\n",
       "                        <td id=\"T_77676_row2_col4\" class=\"data row2 col4\" >9.600000</td>\n",
       "                        <td id=\"T_77676_row2_col5\" class=\"data row2 col5\" >9.200000</td>\n",
       "                        <td id=\"T_77676_row2_col6\" class=\"data row2 col6\" >13.400000</td>\n",
       "            </tr>\n",
       "            <tr>\n",
       "                        <th id=\"T_77676_level0_row3\" class=\"row_heading level0 row3\" >3</th>\n",
       "                        <td id=\"T_77676_row3_col0\" class=\"data row3 col0\" >Весь в билетах</td>\n",
       "                        <td id=\"T_77676_row3_col1\" class=\"data row3 col1\" >867</td>\n",
       "                        <td id=\"T_77676_row3_col2\" class=\"data row3 col2\" >16849</td>\n",
       "                        <td id=\"T_77676_row3_col3\" class=\"data row3 col3\" >18049303</td>\n",
       "                        <td id=\"T_77676_row3_col4\" class=\"data row3 col4\" >3.500000</td>\n",
       "                        <td id=\"T_77676_row3_col5\" class=\"data row3 col5\" >5.800000</td>\n",
       "                        <td id=\"T_77676_row3_col6\" class=\"data row3 col6\" >11.200000</td>\n",
       "            </tr>\n",
       "            <tr>\n",
       "                        <th id=\"T_77676_level0_row4\" class=\"row_heading level0 row4\" >4</th>\n",
       "                        <td id=\"T_77676_row4_col0\" class=\"data row4 col0\" >Лови билет!</td>\n",
       "                        <td id=\"T_77676_row4_col1\" class=\"data row4 col1\" >4884</td>\n",
       "                        <td id=\"T_77676_row4_col2\" class=\"data row4 col2\" >41122</td>\n",
       "                        <td id=\"T_77676_row4_col3\" class=\"data row4 col3\" >17665250</td>\n",
       "                        <td id=\"T_77676_row4_col4\" class=\"data row4 col4\" >19.900000</td>\n",
       "                        <td id=\"T_77676_row4_col5\" class=\"data row4 col5\" >14.100000</td>\n",
       "                        <td id=\"T_77676_row4_col6\" class=\"data row4 col6\" >10.900000</td>\n",
       "            </tr>\n",
       "            <tr>\n",
       "                        <th id=\"T_77676_level0_row5\" class=\"row_heading level0 row5\" >5</th>\n",
       "                        <td id=\"T_77676_row5_col0\" class=\"data row5 col0\" >Билеты в руки</td>\n",
       "                        <td id=\"T_77676_row5_col1\" class=\"data row5 col1\" >3544</td>\n",
       "                        <td id=\"T_77676_row5_col2\" class=\"data row5 col2\" >40359</td>\n",
       "                        <td id=\"T_77676_row5_col3\" class=\"data row5 col3\" >13387408</td>\n",
       "                        <td id=\"T_77676_row5_col4\" class=\"data row5 col4\" >14.500000</td>\n",
       "                        <td id=\"T_77676_row5_col5\" class=\"data row5 col5\" >13.900000</td>\n",
       "                        <td id=\"T_77676_row5_col6\" class=\"data row5 col6\" >8.300000</td>\n",
       "            </tr>\n",
       "            <tr>\n",
       "                        <th id=\"T_77676_level0_row6\" class=\"row_heading level0 row6\" >6</th>\n",
       "                        <td id=\"T_77676_row6_col0\" class=\"data row6 col0\" >Край билетов</td>\n",
       "                        <td id=\"T_77676_row6_col1\" class=\"data row6 col1\" >253</td>\n",
       "                        <td id=\"T_77676_row6_col2\" class=\"data row6 col2\" >6207</td>\n",
       "                        <td id=\"T_77676_row6_col3\" class=\"data row6 col3\" >6703959</td>\n",
       "                        <td id=\"T_77676_row6_col4\" class=\"data row6 col4\" >1.000000</td>\n",
       "                        <td id=\"T_77676_row6_col5\" class=\"data row6 col5\" >2.100000</td>\n",
       "                        <td id=\"T_77676_row6_col6\" class=\"data row6 col6\" >4.200000</td>\n",
       "            </tr>\n",
       "            <tr>\n",
       "                        <th id=\"T_77676_level0_row7\" class=\"row_heading level0 row7\" >7</th>\n",
       "                        <td id=\"T_77676_row7_col0\" class=\"data row7 col0\" >Прачечная</td>\n",
       "                        <td id=\"T_77676_row7_col1\" class=\"data row7 col1\" >1027</td>\n",
       "                        <td id=\"T_77676_row7_col2\" class=\"data row7 col2\" >10273</td>\n",
       "                        <td id=\"T_77676_row7_col3\" class=\"data row7 col3\" >4900985</td>\n",
       "                        <td id=\"T_77676_row7_col4\" class=\"data row7 col4\" >4.200000</td>\n",
       "                        <td id=\"T_77676_row7_col5\" class=\"data row7 col5\" >3.500000</td>\n",
       "                        <td id=\"T_77676_row7_col6\" class=\"data row7 col6\" >3.000000</td>\n",
       "            </tr>\n",
       "            <tr>\n",
       "                        <th id=\"T_77676_level0_row8\" class=\"row_heading level0 row8\" >8</th>\n",
       "                        <td id=\"T_77676_row8_col0\" class=\"data row8 col0\" >Дом культуры</td>\n",
       "                        <td id=\"T_77676_row8_col1\" class=\"data row8 col1\" >274</td>\n",
       "                        <td id=\"T_77676_row8_col2\" class=\"data row8 col2\" >4502</td>\n",
       "                        <td id=\"T_77676_row8_col3\" class=\"data row8 col3\" >4676648</td>\n",
       "                        <td id=\"T_77676_row8_col4\" class=\"data row8 col4\" >1.100000</td>\n",
       "                        <td id=\"T_77676_row8_col5\" class=\"data row8 col5\" >1.500000</td>\n",
       "                        <td id=\"T_77676_row8_col6\" class=\"data row8 col6\" >2.900000</td>\n",
       "            </tr>\n",
       "            <tr>\n",
       "                        <th id=\"T_77676_level0_row9\" class=\"row_heading level0 row9\" >9</th>\n",
       "                        <td id=\"T_77676_row9_col0\" class=\"data row9 col0\" >Яблоко</td>\n",
       "                        <td id=\"T_77676_row9_col1\" class=\"data row9 col1\" >716</td>\n",
       "                        <td id=\"T_77676_row9_col2\" class=\"data row9 col2\" >5039</td>\n",
       "                        <td id=\"T_77676_row9_col3\" class=\"data row9 col3\" >3971152</td>\n",
       "                        <td id=\"T_77676_row9_col4\" class=\"data row9 col4\" >2.900000</td>\n",
       "                        <td id=\"T_77676_row9_col5\" class=\"data row9 col5\" >1.700000</td>\n",
       "                        <td id=\"T_77676_row9_col6\" class=\"data row9 col6\" >2.500000</td>\n",
       "            </tr>\n",
       "            <tr>\n",
       "                        <th id=\"T_77676_level0_row10\" class=\"row_heading level0 row10\" >10</th>\n",
       "                        <td id=\"T_77676_row10_col0\" class=\"data row10 col0\" >Тебе билет!</td>\n",
       "                        <td id=\"T_77676_row10_col1\" class=\"data row10 col1\" >1062</td>\n",
       "                        <td id=\"T_77676_row10_col2\" class=\"data row10 col2\" >5227</td>\n",
       "                        <td id=\"T_77676_row10_col3\" class=\"data row10 col3\" >3073664</td>\n",
       "                        <td id=\"T_77676_row10_col4\" class=\"data row10 col4\" >4.300000</td>\n",
       "                        <td id=\"T_77676_row10_col5\" class=\"data row10 col5\" >1.800000</td>\n",
       "                        <td id=\"T_77676_row10_col6\" class=\"data row10 col6\" >1.900000</td>\n",
       "            </tr>\n",
       "            <tr>\n",
       "                        <th id=\"T_77676_level0_row11\" class=\"row_heading level0 row11\" >11</th>\n",
       "                        <td id=\"T_77676_row11_col0\" class=\"data row11 col0\" >Лучшие билеты</td>\n",
       "                        <td id=\"T_77676_row11_col1\" class=\"data row11 col1\" >1763</td>\n",
       "                        <td id=\"T_77676_row11_col2\" class=\"data row11 col2\" >17793</td>\n",
       "                        <td id=\"T_77676_row11_col3\" class=\"data row11 col3\" >2823437</td>\n",
       "                        <td id=\"T_77676_row11_col4\" class=\"data row11 col4\" >7.200000</td>\n",
       "                        <td id=\"T_77676_row11_col5\" class=\"data row11 col5\" >6.100000</td>\n",
       "                        <td id=\"T_77676_row11_col6\" class=\"data row11 col6\" >1.700000</td>\n",
       "            </tr>\n",
       "            <tr>\n",
       "                        <th id=\"T_77676_level0_row12\" class=\"row_heading level0 row12\" >12</th>\n",
       "                        <td id=\"T_77676_row12_col0\" class=\"data row12 col0\" >За билетом!</td>\n",
       "                        <td id=\"T_77676_row12_col1\" class=\"data row12 col1\" >235</td>\n",
       "                        <td id=\"T_77676_row12_col2\" class=\"data row12 col2\" >2864</td>\n",
       "                        <td id=\"T_77676_row12_col3\" class=\"data row12 col3\" >2072519</td>\n",
       "                        <td id=\"T_77676_row12_col4\" class=\"data row12 col4\" >1.000000</td>\n",
       "                        <td id=\"T_77676_row12_col5\" class=\"data row12 col5\" >1.000000</td>\n",
       "                        <td id=\"T_77676_row12_col6\" class=\"data row12 col6\" >1.300000</td>\n",
       "            </tr>\n",
       "            <tr>\n",
       "                        <th id=\"T_77676_level0_row13\" class=\"row_heading level0 row13\" >13</th>\n",
       "                        <td id=\"T_77676_row13_col0\" class=\"data row13 col0\" >Мир касс</td>\n",
       "                        <td id=\"T_77676_row13_col1\" class=\"data row13 col1\" >194</td>\n",
       "                        <td id=\"T_77676_row13_col2\" class=\"data row13 col2\" >2167</td>\n",
       "                        <td id=\"T_77676_row13_col3\" class=\"data row13 col3\" >1922668</td>\n",
       "                        <td id=\"T_77676_row13_col4\" class=\"data row13 col4\" >0.800000</td>\n",
       "                        <td id=\"T_77676_row13_col5\" class=\"data row13 col5\" >0.700000</td>\n",
       "                        <td id=\"T_77676_row13_col6\" class=\"data row13 col6\" >1.200000</td>\n",
       "            </tr>\n",
       "            <tr>\n",
       "                        <th id=\"T_77676_level0_row14\" class=\"row_heading level0 row14\" >14</th>\n",
       "                        <td id=\"T_77676_row14_col0\" class=\"data row14 col0\" >Show_ticket</td>\n",
       "                        <td id=\"T_77676_row14_col1\" class=\"data row14 col1\" >295</td>\n",
       "                        <td id=\"T_77676_row14_col2\" class=\"data row14 col2\" >2200</td>\n",
       "                        <td id=\"T_77676_row14_col3\" class=\"data row14 col3\" >1889535</td>\n",
       "                        <td id=\"T_77676_row14_col4\" class=\"data row14 col4\" >1.200000</td>\n",
       "                        <td id=\"T_77676_row14_col5\" class=\"data row14 col5\" >0.800000</td>\n",
       "                        <td id=\"T_77676_row14_col6\" class=\"data row14 col6\" >1.200000</td>\n",
       "            </tr>\n",
       "    </tbody></table>"
      ],
      "text/plain": [
       "<pandas.io.formats.style.Styler at 0x7f2779bd9040>"
      ]
     },
     "metadata": {},
     "output_type": "display_data"
    }
   ],
   "source": [
    "# Подготовим данные для анализа\n",
    "partner_analysis = df_final.groupby('service_name').agg({\n",
    "    'event_id': 'nunique',                     # уникальные мероприятия\n",
    "    'order_id': 'count',                       # обработанные заказы\n",
    "    'revenue_rub': 'sum'                      # общая выручка\n",
    "}).reset_index()\n",
    "\n",
    "# Переименуем столбцы\n",
    "partner_analysis.columns = ['partner', 'unique_events', 'total_orders', 'total_revenue']\n",
    "\n",
    "# Общие числа мероприятий и заказов\n",
    "total_unique_events = partner_analysis['unique_events'].sum()\n",
    "total_total_orders = partner_analysis['total_orders'].sum()\n",
    "total_revenue = partner_analysis['total_revenue'].sum()  # Общая выручка\n",
    "\n",
    "# Добавляем столбцы с долями (округлёнными до 1 знака)\n",
    "partner_analysis['event_share'] = round((partner_analysis['unique_events'] / total_unique_events) * 100, 1)\n",
    "partner_analysis['order_share'] = round((partner_analysis['total_orders'] / total_total_orders) * 100, 1)\n",
    "partner_analysis['revenue_share'] = round((partner_analysis['total_revenue'] / total_revenue) * 100, 1)  # Новая колонка с долей выручки\n",
    "\n",
    "# Округляем выручку до целых рублей\n",
    "partner_analysis['total_revenue'] = round(partner_analysis['total_revenue']).astype(int)\n",
    "\n",
    "# Сортировка по выручке в порядке убывания\n",
    "partner_analysis = partner_analysis.sort_values(by='total_revenue', ascending=False)\n",
    "\n",
    "# Сбрасываем индекс для упорядоченной нумерации\n",
    "partner_analysis.reset_index(drop=True, inplace=True)\n",
    "\n",
    "# Оставляем только топ-15 партнёров\n",
    "top_15_partners = partner_analysis.head(15)\n",
    "\n",
    "# Выводим таблицу\n",
    "pd.options.display.float_format = '{:,.2f}'.format  # Форматирование чисел\n",
    "display(top_15_partners.style.background_gradient(subset=[\"event_share\", \"order_share\", \"revenue_share\"], cmap=\"Blues\"))"
   ]
  },
  {
   "cell_type": "markdown",
   "metadata": {},
   "source": [
    "Вывод:\n",
    "\n",
    "Анализ данных по суммарной выручке от топ-15 партнеров демонстрирует явное лидерство нескольких площадок в области продаж билетов. Партнёр \"Билеты без проблем\" занимает первое место с выручкой 23 млн, что составляет 17% от общего объема. Почти одно место занимаю \"Мой билет\" и \"Облачко\" с 18,8 млн и 18,8 млн соответственно.\n",
    "\n",
    "Среди остальных партнеров выделяются \"Все в билетах\" и \"Лови билет!\", которые имеют выручку 15,4 млн и 14,1 млн соответственно.\n",
    "\n",
    "Далее по убывающей идут несколько партнеров с выручкой от 1,6 до 5 млн. "
   ]
  },
  {
   "cell_type": "markdown",
   "metadata": {},
   "source": [
    "### 4. Статистический анализ данных"
   ]
  },
  {
   "cell_type": "markdown",
   "metadata": {},
   "source": [
    "**Гипотеза 1: Среднее количество заказов на одного пользователя мобильного приложения выше по сравнению с пользователями стационарных устройств.**\n",
    "\n",
    "Для проверки гипотезы о различии в среднем количестве заказов на одного пользователя между мобильными и стационарными устройствами мы используем непараметрический критерий Манна-Уитни (U-test), который устойчив к наличию выбросов и не требует строгого соблюдения нормального распределения."
   ]
  },
  {
   "cell_type": "markdown",
   "metadata": {},
   "source": [
    "Формулировка гипотез\n",
    "\n",
    "**Нулевая гипотеза (H0)**: Среднее количество заказов на одного пользователя мобильных устройств не выше, чем у пользователей стационарных устройств.\n",
    "\n",
    "**Альтернативная гипотеза (H1)**: Среднее количество заказов на одного пользователя мобильных устройств выше, чем у стационарных."
   ]
  },
  {
   "cell_type": "code",
   "execution_count": 32,
   "metadata": {},
   "outputs": [
    {
     "name": "stdout",
     "output_type": "stream",
     "text": [
      "Принята альтернатива H1: среднее количество заказов на пользователя мобильных устройств выше.\n",
      "P-value: 0.0000\n"
     ]
    }
   ],
   "source": [
    "# Пользователи мобильных устройств\n",
    "mobile_users = df_final.query(\"device_type_canonical == 'mobile'\")\n",
    "\n",
    "# Пользователи стационарных устройств\n",
    "desktop_users = df_final.query(\"device_type_canonical == 'desktop'\")\n",
    "\n",
    "# Переменная - количество заказов на пользователя\n",
    "mobile_orders = mobile_users.groupby('user_id')['order_id'].count()\n",
    "desktop_orders = desktop_users.groupby('user_id')['order_id'].count()\n",
    "\n",
    "# Проверка гипотезы с помощью теста Манна-Уитни\n",
    "statistic, p_value = mannwhitneyu(mobile_orders, desktop_orders, alternative='greater')\n",
    "\n",
    "# Вывод результатов\n",
    "alpha = 0.05  # Уровень значимости\n",
    "if p_value < alpha:\n",
    "    print(f\"Принята альтернатива H1: среднее количество заказов на пользователя мобильных устройств выше.\")\n",
    "else:\n",
    "    print(f\"Нет оснований отвергнуть H0: разницы в среднем количестве заказов между группами нет.\")\n",
    "\n",
    "print(f\"P-value: {p_value:.4f}\")"
   ]
  },
  {
   "cell_type": "markdown",
   "metadata": {},
   "source": [
    "**Гипотеза 2: Среднее время между заказами пользователей мобильных приложений выше по сравнению с пользователями стационарных устройств.**\n",
    "\n",
    "Для проверки гипотезы о различии в среднем времени между заказами пользователей мобильных и стационарных устройств мы используем t-тест для независимых выборок. Этот тест подходит для сравнения средних значений двух независимых групп, когда:\n",
    "\n",
    "Данные распределены нормально (или выборки достаточно большие, чтобы можно было использовать центральную предельную теорему).\n",
    "Выборки независимы друг от друга.\n",
    "\n",
    "Дисперсии в двух группах могут быть разными (используем параметр equal_var=False для учета этого).\n",
    "\n",
    "Формулировка гипотез\n",
    "\n",
    "**Нулевая гипотеза (H0)**: Среднее время между заказами пользователей мобильных и стационарных устройств одинаково.\n",
    "\n",
    "**Альтернативная гипотеза (H1)**: Среднее время между заказами пользователей мобильных устройств выше, чем у стационарных."
   ]
  },
  {
   "cell_type": "code",
   "execution_count": 33,
   "metadata": {},
   "outputs": [],
   "source": [
    "# Фильтрация данных по осенним месяцам\n",
    "autumn_data = df_final[(df_final['created_dt_msk'].dt.month == 9) | (df_final['created_dt_msk'].dt.month == 10)]\n",
    "\n",
    "# Создание копий данных для мобильных и стационарных устройств\n",
    "mobile_data = autumn_data[autumn_data['device_type_canonical'] == 'mobile'].copy()\n",
    "desktop_data = autumn_data[autumn_data['device_type_canonical'] == 'desktop'].copy()"
   ]
  },
  {
   "cell_type": "code",
   "execution_count": 34,
   "metadata": {},
   "outputs": [
    {
     "name": "stdout",
     "output_type": "stream",
     "text": [
      "t-статистика: 9.789274632122156\n",
      "p-значение: 1.305104925091358e-22\n",
      "Отвергаем нулевую гипотезу. Среднее время между заказами пользователей мобильных устройств выше, чем у стационарных.\n"
     ]
    }
   ],
   "source": [
    "# Удаление NaN значений (первые заказы пользователей)\n",
    "mobile_days_since_prev = mobile_data['days_since_prev'].dropna()\n",
    "desktop_days_since_prev = desktop_data['days_since_prev'].dropna()\n",
    "\n",
    "# Проведение t-теста\n",
    "t_stat, p_value = ttest_ind(mobile_days_since_prev, desktop_days_since_prev, equal_var=False)\n",
    "\n",
    "# Вывод результатов\n",
    "print(f\"t-статистика: {t_stat}\")\n",
    "print(f\"p-значение: {p_value}\")\n",
    "\n",
    "# Интерпретация результатов\n",
    "alpha = 0.05\n",
    "if p_value < alpha:\n",
    "    print(\"Отвергаем нулевую гипотезу. Среднее время между заказами пользователей мобильных устройств выше, чем у стационарных.\")\n",
    "else:\n",
    "    print(\"Не можем отвергнуть нулевую гипотезу. Нет значимой разницы в среднем времени между заказами.\")"
   ]
  },
  {
   "cell_type": "markdown",
   "metadata": {},
   "source": [
    "**На основе проведенных t-тестов можно сделать следующие выводы:**\n",
    "\n",
    "\n",
    "Пользователи мобильных устройств совершают больше заказов в среднем, чем пользователи стационарных устройств. Эта разница статистически значима (p-значение = 4.21e-05).\n",
    "\n",
    "Время между заказами у пользователей мобильных устройств больше, чем у пользователей стационарных устройств. Эта разница также статистически значима (p-значение = 3.01e-34).\n",
    "\n",
    "Таким образом, пользователи мобильных устройств, хоть и делают заказы реже, в итоге совершают больше заказов в среднем на одного пользователя, чем пользователи стационарных устройств.\n"
   ]
  },
  {
   "cell_type": "markdown",
   "metadata": {},
   "source": [
    "### 5. Общий вывод и рекомендации"
   ]
  },
  {
   "cell_type": "markdown",
   "metadata": {},
   "source": [
    "Работа была основана на данных о заказах билетов и мероприятиях, содержащих информацию о пользователях, их предпочтениях, временных периодах заказов, а также распределении выручки по разным категориям. Исследованы два основных датасета: один с заказами (290 849 записей) и другой с мероприятиями (22 427 записей). Время проведения анализа — осень 2024 года.\n",
    "\n",
    "Основные результаты анализа показали, что мероприятия, связанные с концертной деятельностью, остаются наиболее востребованными, однако осенью наблюдается некоторое снижение их популярности (с 43,34% до 38,94%). Театральные мероприятия, наоборот, увеличили свою долю осенью, что позволяет говорить о смещении интереса к культурному досугу. Также отмечено уменьшение средней стоимости билетов на концерты и другие мероприятия, что может быть ответом на изменение спроса.\n",
    "\n",
    "Анализ пользовательской активности выявил, что среди регионов и партнеров наблюдаются явные лидеры по числу заказов и выручке. Каменевский регион и партнер \"Билеты без проблем\" продемонстрировали наибольшую активность, что следует учитывать при планировании маркетинговых стратегий.\n",
    "\n",
    "Результаты проверки гипотез подтверждают, что пользователи мобильных устройств совершают больше заказов в среднем, чем пользователи стационарных устройств, однако время между заказами у мобильных пользователей больше.\n",
    "\n",
    "Рекомендации для продуктовой команды включают следующие пункты: обратить внимание на работу с театральными мероприятиями, активно развивать их популярность, а также использовать стратегии, направленные на привлечение аудитории на концерты в осенний период. Поскольку выявленное снижение цен может оживить спрос, стоит рассмотреть акции и специальные предложения на определенные группы мероприятий. Рекомендуется также углубленный анализ пользовательских предпочтений для формирования более таргетированных рекламных кампаний и повышения лояльности.\n",
    "\n",
    "Подводя итог, данные показывают как изменения в пользовательских предпочтениях, наблюдаемые в осенний период, так и возможности для адаптации предложений сервиса, чтобы они соответствовали текущим трендам и потребностям аудитории."
   ]
  }
 ],
 "metadata": {
  "ExecuteTimeLog": [
   {
    "duration": 480,
    "start_time": "2025-06-18T06:56:10.781Z"
   },
   {
    "duration": 3,
    "start_time": "2025-06-18T06:56:20.126Z"
   },
   {
    "duration": 8,
    "start_time": "2025-06-18T06:56:39.725Z"
   },
   {
    "duration": 424,
    "start_time": "2025-06-18T06:56:52.126Z"
   },
   {
    "duration": 107,
    "start_time": "2025-06-18T07:00:55.327Z"
   },
   {
    "duration": 3,
    "start_time": "2025-06-18T07:01:32.927Z"
   },
   {
    "duration": 57,
    "start_time": "2025-06-18T07:01:34.600Z"
   },
   {
    "duration": 13,
    "start_time": "2025-06-18T07:03:09.441Z"
   },
   {
    "duration": 20,
    "start_time": "2025-06-18T07:03:17.048Z"
   },
   {
    "duration": 54,
    "start_time": "2025-06-18T07:03:27.496Z"
   },
   {
    "duration": 2406,
    "start_time": "2025-06-18T07:05:05.432Z"
   },
   {
    "duration": 8,
    "start_time": "2025-06-18T07:07:27.489Z"
   },
   {
    "duration": 269,
    "start_time": "2025-06-18T07:08:12.929Z"
   },
   {
    "duration": 13,
    "start_time": "2025-06-18T07:09:38.378Z"
   },
   {
    "duration": 21,
    "start_time": "2025-06-18T07:09:41.574Z"
   },
   {
    "duration": 11,
    "start_time": "2025-06-18T07:09:51.290Z"
   },
   {
    "duration": 66,
    "start_time": "2025-06-18T07:11:59.723Z"
   },
   {
    "duration": 144,
    "start_time": "2025-06-18T07:12:17.739Z"
   },
   {
    "duration": 38,
    "start_time": "2025-06-18T07:12:27.211Z"
   },
   {
    "duration": 4,
    "start_time": "2025-06-18T07:13:31.227Z"
   },
   {
    "duration": 202,
    "start_time": "2025-06-18T07:13:58.412Z"
   },
   {
    "duration": 25,
    "start_time": "2025-06-18T07:14:05.211Z"
   },
   {
    "duration": 232,
    "start_time": "2025-06-18T07:16:58.677Z"
   },
   {
    "duration": 23,
    "start_time": "2025-06-18T07:17:13.126Z"
   },
   {
    "duration": 182,
    "start_time": "2025-06-18T07:17:23.597Z"
   },
   {
    "duration": 23,
    "start_time": "2025-06-18T07:20:07.366Z"
   },
   {
    "duration": 14,
    "start_time": "2025-06-18T07:20:15.607Z"
   },
   {
    "duration": 14,
    "start_time": "2025-06-18T07:20:34.574Z"
   },
   {
    "duration": 95,
    "start_time": "2025-06-18T07:20:50.855Z"
   },
   {
    "duration": 100,
    "start_time": "2025-06-18T07:31:50.978Z"
   },
   {
    "duration": 3,
    "start_time": "2025-06-18T07:33:31.203Z"
   },
   {
    "duration": 611,
    "start_time": "2025-06-18T07:39:24.606Z"
   },
   {
    "duration": 2077,
    "start_time": "2025-06-18T07:39:26.377Z"
   },
   {
    "duration": 18,
    "start_time": "2025-06-18T07:39:28.456Z"
   },
   {
    "duration": 99,
    "start_time": "2025-06-18T07:39:30.546Z"
   },
   {
    "duration": 88,
    "start_time": "2025-06-18T07:39:32.201Z"
   },
   {
    "duration": 266,
    "start_time": "2025-06-18T07:39:53.538Z"
   },
   {
    "duration": 19,
    "start_time": "2025-06-18T07:41:01.610Z"
   },
   {
    "duration": 11,
    "start_time": "2025-06-18T07:41:07.652Z"
   },
   {
    "duration": 19,
    "start_time": "2025-06-18T07:41:20.204Z"
   },
   {
    "duration": 13,
    "start_time": "2025-06-18T07:41:41.435Z"
   },
   {
    "duration": 80,
    "start_time": "2025-06-18T07:42:30.651Z"
   },
   {
    "duration": 8,
    "start_time": "2025-06-18T07:42:46.211Z"
   },
   {
    "duration": 11,
    "start_time": "2025-06-18T07:42:55.299Z"
   },
   {
    "duration": 72,
    "start_time": "2025-06-18T07:43:08.347Z"
   },
   {
    "duration": 6,
    "start_time": "2025-06-18T07:43:15.619Z"
   },
   {
    "duration": 4,
    "start_time": "2025-06-18T08:14:23.575Z"
   },
   {
    "duration": 12,
    "start_time": "2025-06-18T08:17:14.751Z"
   },
   {
    "duration": 140,
    "start_time": "2025-06-18T08:17:22.047Z"
   },
   {
    "duration": 108,
    "start_time": "2025-06-18T08:17:45.047Z"
   },
   {
    "duration": 150,
    "start_time": "2025-06-18T08:17:47.671Z"
   },
   {
    "duration": 84,
    "start_time": "2025-06-18T08:17:48.447Z"
   },
   {
    "duration": 83,
    "start_time": "2025-06-18T08:17:55.666Z"
   },
   {
    "duration": 26,
    "start_time": "2025-06-18T08:18:11.423Z"
   },
   {
    "duration": 34,
    "start_time": "2025-06-18T08:19:23.473Z"
   },
   {
    "duration": 7,
    "start_time": "2025-06-18T08:19:25.074Z"
   },
   {
    "duration": 230,
    "start_time": "2025-06-18T08:19:25.569Z"
   },
   {
    "duration": 35,
    "start_time": "2025-06-18T08:19:26.457Z"
   },
   {
    "duration": 220,
    "start_time": "2025-06-18T08:19:28.320Z"
   },
   {
    "duration": 34,
    "start_time": "2025-06-18T08:40:54.743Z"
   },
   {
    "duration": 546,
    "start_time": "2025-06-18T08:44:52.785Z"
   },
   {
    "duration": 1868,
    "start_time": "2025-06-18T08:44:55.736Z"
   },
   {
    "duration": 403,
    "start_time": "2025-06-18T08:45:02.113Z"
   },
   {
    "duration": 30,
    "start_time": "2025-06-18T08:45:51.256Z"
   },
   {
    "duration": 7,
    "start_time": "2025-06-18T08:46:01.393Z"
   },
   {
    "duration": 6,
    "start_time": "2025-06-18T08:46:03.649Z"
   },
   {
    "duration": 305,
    "start_time": "2025-06-18T08:46:15.481Z"
   },
   {
    "duration": 10,
    "start_time": "2025-06-18T08:46:17.274Z"
   },
   {
    "duration": 287,
    "start_time": "2025-06-18T08:46:19.137Z"
   },
   {
    "duration": 1280,
    "start_time": "2025-06-18T08:46:29.809Z"
   },
   {
    "duration": 1755,
    "start_time": "2025-06-18T08:46:31.091Z"
   },
   {
    "duration": 23,
    "start_time": "2025-06-18T08:46:32.848Z"
   },
   {
    "duration": 134,
    "start_time": "2025-06-18T08:46:32.874Z"
   },
   {
    "duration": 113,
    "start_time": "2025-06-18T08:46:33.011Z"
   },
   {
    "duration": 11,
    "start_time": "2025-06-18T08:46:33.126Z"
   },
   {
    "duration": 35,
    "start_time": "2025-06-18T08:46:33.138Z"
   },
   {
    "duration": 92,
    "start_time": "2025-06-18T08:46:33.175Z"
   },
   {
    "duration": 16,
    "start_time": "2025-06-18T08:46:33.270Z"
   },
   {
    "duration": 11,
    "start_time": "2025-06-18T08:46:33.288Z"
   },
   {
    "duration": 7,
    "start_time": "2025-06-18T08:46:33.301Z"
   },
   {
    "duration": 641,
    "start_time": "2025-06-18T08:46:33.358Z"
   },
   {
    "duration": 200,
    "start_time": "2025-06-18T08:46:34.001Z"
   },
   {
    "duration": 361,
    "start_time": "2025-06-18T08:46:34.205Z"
   },
   {
    "duration": 86,
    "start_time": "2025-06-18T08:46:34.572Z"
   },
   {
    "duration": 6,
    "start_time": "2025-06-18T08:46:34.661Z"
   },
   {
    "duration": 447,
    "start_time": "2025-06-18T08:46:34.669Z"
   },
   {
    "duration": 53,
    "start_time": "2025-06-18T08:46:35.118Z"
   },
   {
    "duration": 262,
    "start_time": "2025-06-18T08:46:35.173Z"
   },
   {
    "duration": 26,
    "start_time": "2025-06-18T08:46:35.436Z"
   },
   {
    "duration": 17,
    "start_time": "2025-06-18T08:46:35.464Z"
   },
   {
    "duration": 414,
    "start_time": "2025-06-18T08:46:35.483Z"
   },
   {
    "duration": 0,
    "start_time": "2025-06-18T08:46:35.899Z"
   },
   {
    "duration": 1577,
    "start_time": "2025-06-18T08:46:36.137Z"
   },
   {
    "duration": 14,
    "start_time": "2025-06-18T08:46:37.716Z"
   },
   {
    "duration": 23,
    "start_time": "2025-06-18T08:46:39.145Z"
   },
   {
    "duration": 115,
    "start_time": "2025-06-18T08:46:40.920Z"
   },
   {
    "duration": 109,
    "start_time": "2025-06-18T08:46:42.216Z"
   },
   {
    "duration": 11,
    "start_time": "2025-06-18T08:46:44.089Z"
   },
   {
    "duration": 22,
    "start_time": "2025-06-18T08:46:45.578Z"
   },
   {
    "duration": 16,
    "start_time": "2025-06-18T08:46:47.186Z"
   },
   {
    "duration": 9,
    "start_time": "2025-06-18T08:46:48.683Z"
   },
   {
    "duration": 10,
    "start_time": "2025-06-18T08:46:51.362Z"
   },
   {
    "duration": 253,
    "start_time": "2025-06-18T08:46:53.370Z"
   },
   {
    "duration": 69,
    "start_time": "2025-06-18T08:46:54.337Z"
   },
   {
    "duration": 116,
    "start_time": "2025-06-18T08:46:54.874Z"
   },
   {
    "duration": 38,
    "start_time": "2025-06-18T08:46:55.553Z"
   },
   {
    "duration": 4,
    "start_time": "2025-06-18T08:46:56.009Z"
   },
   {
    "duration": 215,
    "start_time": "2025-06-18T08:46:56.433Z"
   },
   {
    "duration": 24,
    "start_time": "2025-06-18T08:46:57.233Z"
   },
   {
    "duration": 213,
    "start_time": "2025-06-18T08:46:59.297Z"
   },
   {
    "duration": 16,
    "start_time": "2025-06-18T08:47:01.929Z"
   },
   {
    "duration": 7,
    "start_time": "2025-06-18T08:47:02.400Z"
   },
   {
    "duration": 15,
    "start_time": "2025-06-18T08:47:04.329Z"
   },
   {
    "duration": 7,
    "start_time": "2025-06-18T08:47:04.921Z"
   },
   {
    "duration": 438,
    "start_time": "2025-06-18T08:47:10.150Z"
   },
   {
    "duration": 21,
    "start_time": "2025-06-18T08:50:33.651Z"
   },
   {
    "duration": 7,
    "start_time": "2025-06-18T08:50:34.435Z"
   },
   {
    "duration": 315,
    "start_time": "2025-06-18T08:50:35.555Z"
   },
   {
    "duration": 213,
    "start_time": "2025-06-18T08:50:40.586Z"
   },
   {
    "duration": 63,
    "start_time": "2025-06-18T08:50:41.242Z"
   },
   {
    "duration": 113,
    "start_time": "2025-06-18T08:50:42.139Z"
   },
   {
    "duration": 35,
    "start_time": "2025-06-18T08:50:42.651Z"
   },
   {
    "duration": 4,
    "start_time": "2025-06-18T08:50:43.090Z"
   },
   {
    "duration": 199,
    "start_time": "2025-06-18T08:50:43.571Z"
   },
   {
    "duration": 43,
    "start_time": "2025-06-18T08:50:44.540Z"
   },
   {
    "duration": 224,
    "start_time": "2025-06-18T08:50:45.435Z"
   },
   {
    "duration": 210,
    "start_time": "2025-06-18T08:50:58.411Z"
   },
   {
    "duration": 224,
    "start_time": "2025-06-18T08:51:00.163Z"
   },
   {
    "duration": 5,
    "start_time": "2025-06-18T08:52:04.915Z"
   },
   {
    "duration": 11,
    "start_time": "2025-06-18T08:52:12.275Z"
   },
   {
    "duration": 7,
    "start_time": "2025-06-18T08:52:27.139Z"
   },
   {
    "duration": 16,
    "start_time": "2025-06-18T08:52:44.796Z"
   },
   {
    "duration": 14,
    "start_time": "2025-06-18T08:52:54.932Z"
   },
   {
    "duration": 17,
    "start_time": "2025-06-18T08:52:57.347Z"
   },
   {
    "duration": 1306,
    "start_time": "2025-06-18T08:53:04.970Z"
   },
   {
    "duration": 2538,
    "start_time": "2025-06-18T08:53:06.279Z"
   },
   {
    "duration": 18,
    "start_time": "2025-06-18T08:53:08.819Z"
   },
   {
    "duration": 108,
    "start_time": "2025-06-18T08:53:08.839Z"
   },
   {
    "duration": 94,
    "start_time": "2025-06-18T08:53:08.948Z"
   },
   {
    "duration": 15,
    "start_time": "2025-06-18T08:53:09.043Z"
   },
   {
    "duration": 21,
    "start_time": "2025-06-18T08:53:09.060Z"
   },
   {
    "duration": 13,
    "start_time": "2025-06-18T08:53:09.084Z"
   },
   {
    "duration": 7,
    "start_time": "2025-06-18T08:53:09.099Z"
   },
   {
    "duration": 50,
    "start_time": "2025-06-18T08:53:09.108Z"
   },
   {
    "duration": 14,
    "start_time": "2025-06-18T08:53:09.161Z"
   },
   {
    "duration": 172,
    "start_time": "2025-06-18T08:53:09.177Z"
   },
   {
    "duration": 0,
    "start_time": "2025-06-18T08:53:09.351Z"
   },
   {
    "duration": 0,
    "start_time": "2025-06-18T08:53:09.352Z"
   },
   {
    "duration": 0,
    "start_time": "2025-06-18T08:53:09.354Z"
   },
   {
    "duration": 0,
    "start_time": "2025-06-18T08:53:09.363Z"
   },
   {
    "duration": 0,
    "start_time": "2025-06-18T08:53:09.365Z"
   },
   {
    "duration": 0,
    "start_time": "2025-06-18T08:53:09.366Z"
   },
   {
    "duration": 0,
    "start_time": "2025-06-18T08:53:09.367Z"
   },
   {
    "duration": 0,
    "start_time": "2025-06-18T08:53:09.369Z"
   },
   {
    "duration": 0,
    "start_time": "2025-06-18T08:53:09.371Z"
   },
   {
    "duration": 0,
    "start_time": "2025-06-18T08:53:09.374Z"
   },
   {
    "duration": 0,
    "start_time": "2025-06-18T08:53:09.375Z"
   },
   {
    "duration": 0,
    "start_time": "2025-06-18T08:53:09.377Z"
   },
   {
    "duration": 0,
    "start_time": "2025-06-18T08:53:09.379Z"
   },
   {
    "duration": 21,
    "start_time": "2025-06-18T08:54:15.559Z"
   },
   {
    "duration": 8,
    "start_time": "2025-06-18T08:54:17.047Z"
   },
   {
    "duration": 8,
    "start_time": "2025-06-18T08:54:32.599Z"
   },
   {
    "duration": 7,
    "start_time": "2025-06-18T08:54:34.631Z"
   },
   {
    "duration": 259,
    "start_time": "2025-06-18T08:55:14.463Z"
   },
   {
    "duration": 50,
    "start_time": "2025-06-18T08:55:14.976Z"
   },
   {
    "duration": 125,
    "start_time": "2025-06-18T08:55:15.368Z"
   },
   {
    "duration": 24,
    "start_time": "2025-06-18T08:55:15.735Z"
   },
   {
    "duration": 5,
    "start_time": "2025-06-18T08:55:16.501Z"
   },
   {
    "duration": 205,
    "start_time": "2025-06-18T08:55:16.535Z"
   },
   {
    "duration": 25,
    "start_time": "2025-06-18T08:55:16.903Z"
   },
   {
    "duration": 182,
    "start_time": "2025-06-18T08:55:18.758Z"
   },
   {
    "duration": 7754,
    "start_time": "2025-06-18T08:58:12.448Z"
   },
   {
    "duration": 139,
    "start_time": "2025-06-18T08:58:23.424Z"
   },
   {
    "duration": 8728,
    "start_time": "2025-06-18T08:58:39.883Z"
   },
   {
    "duration": 3,
    "start_time": "2025-06-18T08:58:50.208Z"
   },
   {
    "duration": 1737,
    "start_time": "2025-06-18T08:58:50.903Z"
   },
   {
    "duration": 15,
    "start_time": "2025-06-18T08:58:52.642Z"
   },
   {
    "duration": 210,
    "start_time": "2025-06-18T08:59:38.816Z"
   },
   {
    "duration": 251,
    "start_time": "2025-06-18T09:00:03.398Z"
   },
   {
    "duration": 9634,
    "start_time": "2025-06-18T09:00:03.651Z"
   },
   {
    "duration": 3,
    "start_time": "2025-06-18T09:00:13.288Z"
   },
   {
    "duration": 1838,
    "start_time": "2025-06-18T09:00:13.293Z"
   },
   {
    "duration": 14,
    "start_time": "2025-06-18T09:00:15.133Z"
   },
   {
    "duration": 183,
    "start_time": "2025-06-18T09:00:15.150Z"
   },
   {
    "duration": 11,
    "start_time": "2025-06-18T09:00:15.335Z"
   },
   {
    "duration": 25,
    "start_time": "2025-06-18T09:00:15.469Z"
   },
   {
    "duration": 3,
    "start_time": "2025-06-18T09:00:21.248Z"
   },
   {
    "duration": 1929,
    "start_time": "2025-06-18T09:00:22.120Z"
   },
   {
    "duration": 25,
    "start_time": "2025-06-18T09:00:24.051Z"
   },
   {
    "duration": 130,
    "start_time": "2025-06-18T09:00:24.079Z"
   },
   {
    "duration": 121,
    "start_time": "2025-06-18T09:00:26.007Z"
   },
   {
    "duration": 113,
    "start_time": "2025-06-18T09:00:27.721Z"
   },
   {
    "duration": 23,
    "start_time": "2025-06-18T09:00:29.162Z"
   },
   {
    "duration": 29,
    "start_time": "2025-06-18T09:00:30.878Z"
   },
   {
    "duration": 20,
    "start_time": "2025-06-18T09:00:33.279Z"
   },
   {
    "duration": 14,
    "start_time": "2025-06-18T09:00:35.876Z"
   },
   {
    "duration": 11,
    "start_time": "2025-06-18T09:00:37.425Z"
   },
   {
    "duration": 7,
    "start_time": "2025-06-18T09:00:38.992Z"
   },
   {
    "duration": 242,
    "start_time": "2025-06-18T09:00:42.200Z"
   },
   {
    "duration": 51,
    "start_time": "2025-06-18T09:00:42.905Z"
   },
   {
    "duration": 124,
    "start_time": "2025-06-18T09:00:43.456Z"
   },
   {
    "duration": 39,
    "start_time": "2025-06-18T09:00:43.961Z"
   },
   {
    "duration": 4,
    "start_time": "2025-06-18T09:00:44.449Z"
   },
   {
    "duration": 228,
    "start_time": "2025-06-18T09:00:44.882Z"
   },
   {
    "duration": 28,
    "start_time": "2025-06-18T09:00:45.678Z"
   },
   {
    "duration": 225,
    "start_time": "2025-06-18T09:00:46.779Z"
   },
   {
    "duration": 235,
    "start_time": "2025-06-18T09:00:50.866Z"
   },
   {
    "duration": 9838,
    "start_time": "2025-06-18T09:01:12.039Z"
   },
   {
    "duration": 9428,
    "start_time": "2025-06-18T10:14:44.091Z"
   },
   {
    "duration": 9793,
    "start_time": "2025-06-18T10:15:09.499Z"
   },
   {
    "duration": 9458,
    "start_time": "2025-06-18T10:15:24.263Z"
   },
   {
    "duration": 9843,
    "start_time": "2025-06-18T10:16:26.011Z"
   },
   {
    "duration": 192,
    "start_time": "2025-06-18T10:16:45.226Z"
   },
   {
    "duration": 9001,
    "start_time": "2025-06-18T10:16:56.035Z"
   },
   {
    "duration": 201,
    "start_time": "2025-06-18T10:17:05.996Z"
   },
   {
    "duration": 1290,
    "start_time": "2025-06-18T10:17:30.628Z"
   },
   {
    "duration": 2091,
    "start_time": "2025-06-18T10:17:31.920Z"
   },
   {
    "duration": 26,
    "start_time": "2025-06-18T10:17:34.012Z"
   },
   {
    "duration": 140,
    "start_time": "2025-06-18T10:17:34.040Z"
   },
   {
    "duration": 140,
    "start_time": "2025-06-18T10:17:34.184Z"
   },
   {
    "duration": 12,
    "start_time": "2025-06-18T10:17:34.326Z"
   },
   {
    "duration": 27,
    "start_time": "2025-06-18T10:17:34.339Z"
   },
   {
    "duration": 15,
    "start_time": "2025-06-18T10:17:34.367Z"
   },
   {
    "duration": 9,
    "start_time": "2025-06-18T10:17:34.383Z"
   },
   {
    "duration": 10,
    "start_time": "2025-06-18T10:17:34.394Z"
   },
   {
    "duration": 9,
    "start_time": "2025-06-18T10:17:34.406Z"
   },
   {
    "duration": 334,
    "start_time": "2025-06-18T10:17:34.418Z"
   },
   {
    "duration": 64,
    "start_time": "2025-06-18T10:17:34.754Z"
   },
   {
    "duration": 141,
    "start_time": "2025-06-18T10:17:34.821Z"
   },
   {
    "duration": 32,
    "start_time": "2025-06-18T10:17:34.964Z"
   },
   {
    "duration": 38,
    "start_time": "2025-06-18T10:17:34.997Z"
   },
   {
    "duration": 232,
    "start_time": "2025-06-18T10:17:35.037Z"
   },
   {
    "duration": 27,
    "start_time": "2025-06-18T10:17:35.272Z"
   },
   {
    "duration": 230,
    "start_time": "2025-06-18T10:17:35.300Z"
   },
   {
    "duration": 283,
    "start_time": "2025-06-18T10:17:35.532Z"
   },
   {
    "duration": 220,
    "start_time": "2025-06-18T10:18:46.932Z"
   },
   {
    "duration": 9204,
    "start_time": "2025-06-18T10:18:47.158Z"
   },
   {
    "duration": 148,
    "start_time": "2025-06-18T10:34:16.415Z"
   },
   {
    "duration": 9474,
    "start_time": "2025-06-18T10:34:28.383Z"
   },
   {
    "duration": 147,
    "start_time": "2025-06-18T10:34:44.909Z"
   },
   {
    "duration": 218,
    "start_time": "2025-06-18T10:34:54.526Z"
   },
   {
    "duration": 9113,
    "start_time": "2025-06-18T10:34:59.319Z"
   },
   {
    "duration": 109,
    "start_time": "2025-06-18T10:35:52.342Z"
   },
   {
    "duration": 584,
    "start_time": "2025-06-18T10:36:42.231Z"
   },
   {
    "duration": 560,
    "start_time": "2025-06-18T10:38:50.584Z"
   },
   {
    "duration": 596,
    "start_time": "2025-06-18T10:39:51.568Z"
   },
   {
    "duration": 863,
    "start_time": "2025-06-18T10:41:00.432Z"
   },
   {
    "duration": 639,
    "start_time": "2025-06-18T10:41:23.684Z"
   },
   {
    "duration": 560,
    "start_time": "2025-06-18T10:41:40.466Z"
   },
   {
    "duration": 495,
    "start_time": "2025-06-18T10:41:44.551Z"
   },
   {
    "duration": 564,
    "start_time": "2025-06-18T10:42:50.305Z"
   },
   {
    "duration": 596,
    "start_time": "2025-06-18T10:43:01.474Z"
   },
   {
    "duration": 566,
    "start_time": "2025-06-18T10:43:11.632Z"
   },
   {
    "duration": 544,
    "start_time": "2025-06-18T10:43:12.903Z"
   },
   {
    "duration": 516,
    "start_time": "2025-06-18T10:43:15.393Z"
   },
   {
    "duration": 504,
    "start_time": "2025-06-18T10:43:25.322Z"
   },
   {
    "duration": 5,
    "start_time": "2025-06-18T10:56:24.948Z"
   },
   {
    "duration": 991,
    "start_time": "2025-06-18T10:57:12.613Z"
   },
   {
    "duration": 25,
    "start_time": "2025-06-18T10:57:29.542Z"
   },
   {
    "duration": 27,
    "start_time": "2025-06-18T10:57:31.446Z"
   },
   {
    "duration": 5,
    "start_time": "2025-06-18T10:57:34.029Z"
   },
   {
    "duration": 4,
    "start_time": "2025-06-18T10:57:39.030Z"
   },
   {
    "duration": 26,
    "start_time": "2025-06-18T10:57:39.821Z"
   },
   {
    "duration": 528,
    "start_time": "2025-06-18T10:57:41.677Z"
   },
   {
    "duration": 6,
    "start_time": "2025-06-18T10:57:42.941Z"
   },
   {
    "duration": 26,
    "start_time": "2025-06-18T10:57:43.822Z"
   },
   {
    "duration": 264,
    "start_time": "2025-06-18T10:57:57.606Z"
   },
   {
    "duration": 99,
    "start_time": "2025-06-18T10:58:03.333Z"
   },
   {
    "duration": 249,
    "start_time": "2025-06-18T10:58:10.174Z"
   },
   {
    "duration": 27,
    "start_time": "2025-06-18T10:58:21.264Z"
   },
   {
    "duration": 26,
    "start_time": "2025-06-18T11:06:51.847Z"
   },
   {
    "duration": 6378,
    "start_time": "2025-06-18T11:11:37.184Z"
   },
   {
    "duration": 576,
    "start_time": "2025-06-18T11:11:43.565Z"
   },
   {
    "duration": 34,
    "start_time": "2025-06-18T11:11:44.143Z"
   },
   {
    "duration": 598,
    "start_time": "2025-06-18T11:15:03.046Z"
   },
   {
    "duration": 109,
    "start_time": "2025-06-18T11:15:09.872Z"
   },
   {
    "duration": 5937,
    "start_time": "2025-06-18T11:15:09.983Z"
   },
   {
    "duration": 0,
    "start_time": "2025-06-18T11:17:33.158Z"
   },
   {
    "duration": 563,
    "start_time": "2025-06-18T11:17:37.109Z"
   },
   {
    "duration": 6312,
    "start_time": "2025-06-18T11:17:38.364Z"
   },
   {
    "duration": 107,
    "start_time": "2025-06-18T11:17:44.678Z"
   },
   {
    "duration": 25,
    "start_time": "2025-06-18T11:17:46.837Z"
   },
   {
    "duration": 69,
    "start_time": "2025-06-18T11:21:54.246Z"
   },
   {
    "duration": 149,
    "start_time": "2025-06-18T11:22:32.967Z"
   },
   {
    "duration": 172,
    "start_time": "2025-06-18T11:27:46.072Z"
   },
   {
    "duration": 12,
    "start_time": "2025-06-18T11:34:22.331Z"
   },
   {
    "duration": 508,
    "start_time": "2025-06-18T11:34:54.171Z"
   },
   {
    "duration": 4820,
    "start_time": "2025-06-18T11:34:54.680Z"
   },
   {
    "duration": 94,
    "start_time": "2025-06-18T11:34:59.502Z"
   },
   {
    "duration": 550,
    "start_time": "2025-06-18T11:35:00.691Z"
   },
   {
    "duration": 4883,
    "start_time": "2025-06-18T11:35:08.162Z"
   },
   {
    "duration": 108,
    "start_time": "2025-06-18T11:35:26.218Z"
   },
   {
    "duration": 5151,
    "start_time": "2025-06-18T11:35:28.164Z"
   },
   {
    "duration": 527,
    "start_time": "2025-06-18T11:35:48.627Z"
   },
   {
    "duration": 4980,
    "start_time": "2025-06-18T11:35:51.226Z"
   },
   {
    "duration": 1151,
    "start_time": "2025-06-18T11:36:09.465Z"
   },
   {
    "duration": 2271,
    "start_time": "2025-06-18T11:36:10.617Z"
   },
   {
    "duration": 17,
    "start_time": "2025-06-18T11:36:12.890Z"
   },
   {
    "duration": 159,
    "start_time": "2025-06-18T11:36:12.909Z"
   },
   {
    "duration": 89,
    "start_time": "2025-06-18T11:36:13.070Z"
   },
   {
    "duration": 12,
    "start_time": "2025-06-18T11:36:13.160Z"
   },
   {
    "duration": 27,
    "start_time": "2025-06-18T11:36:13.173Z"
   },
   {
    "duration": 14,
    "start_time": "2025-06-18T11:36:13.202Z"
   },
   {
    "duration": 8,
    "start_time": "2025-06-18T11:36:13.218Z"
   },
   {
    "duration": 37,
    "start_time": "2025-06-18T11:36:13.229Z"
   },
   {
    "duration": 7,
    "start_time": "2025-06-18T11:36:13.267Z"
   },
   {
    "duration": 276,
    "start_time": "2025-06-18T11:36:13.275Z"
   },
   {
    "duration": 53,
    "start_time": "2025-06-18T11:36:13.552Z"
   },
   {
    "duration": 132,
    "start_time": "2025-06-18T11:36:13.606Z"
   },
   {
    "duration": 29,
    "start_time": "2025-06-18T11:36:13.739Z"
   },
   {
    "duration": 3,
    "start_time": "2025-06-18T11:36:13.769Z"
   },
   {
    "duration": 216,
    "start_time": "2025-06-18T11:36:13.774Z"
   },
   {
    "duration": 23,
    "start_time": "2025-06-18T11:36:13.992Z"
   },
   {
    "duration": 194,
    "start_time": "2025-06-18T11:36:14.017Z"
   },
   {
    "duration": 215,
    "start_time": "2025-06-18T11:36:14.212Z"
   },
   {
    "duration": 7537,
    "start_time": "2025-06-18T11:36:14.428Z"
   },
   {
    "duration": 536,
    "start_time": "2025-06-18T11:36:21.966Z"
   },
   {
    "duration": 6294,
    "start_time": "2025-06-18T11:36:22.503Z"
   },
   {
    "duration": 134,
    "start_time": "2025-06-18T11:36:28.799Z"
   },
   {
    "duration": 89,
    "start_time": "2025-06-18T11:36:28.935Z"
   },
   {
    "duration": 25,
    "start_time": "2025-06-18T11:36:29.025Z"
   },
   {
    "duration": 165,
    "start_time": "2025-06-18T11:36:29.058Z"
   },
   {
    "duration": 101,
    "start_time": "2025-06-18T11:36:57.132Z"
   },
   {
    "duration": 12,
    "start_time": "2025-06-18T11:37:36.294Z"
   },
   {
    "duration": 11,
    "start_time": "2025-06-18T11:37:37.556Z"
   },
   {
    "duration": 12,
    "start_time": "2025-06-18T11:37:49.421Z"
   },
   {
    "duration": 1117,
    "start_time": "2025-06-18T11:38:04.790Z"
   },
   {
    "duration": 1850,
    "start_time": "2025-06-18T11:38:05.909Z"
   },
   {
    "duration": 18,
    "start_time": "2025-06-18T11:38:07.761Z"
   },
   {
    "duration": 112,
    "start_time": "2025-06-18T11:38:07.781Z"
   },
   {
    "duration": 97,
    "start_time": "2025-06-18T11:38:07.896Z"
   },
   {
    "duration": 11,
    "start_time": "2025-06-18T11:38:07.995Z"
   },
   {
    "duration": 19,
    "start_time": "2025-06-18T11:38:08.007Z"
   },
   {
    "duration": 30,
    "start_time": "2025-06-18T11:38:08.028Z"
   },
   {
    "duration": 8,
    "start_time": "2025-06-18T11:38:08.060Z"
   },
   {
    "duration": 12,
    "start_time": "2025-06-18T11:38:08.070Z"
   },
   {
    "duration": 5,
    "start_time": "2025-06-18T11:38:08.083Z"
   },
   {
    "duration": 284,
    "start_time": "2025-06-18T11:38:08.090Z"
   },
   {
    "duration": 52,
    "start_time": "2025-06-18T11:38:08.375Z"
   },
   {
    "duration": 140,
    "start_time": "2025-06-18T11:38:08.430Z"
   },
   {
    "duration": 26,
    "start_time": "2025-06-18T11:38:08.572Z"
   },
   {
    "duration": 32,
    "start_time": "2025-06-18T11:38:08.599Z"
   },
   {
    "duration": 207,
    "start_time": "2025-06-18T11:38:08.633Z"
   },
   {
    "duration": 30,
    "start_time": "2025-06-18T11:38:08.842Z"
   },
   {
    "duration": 201,
    "start_time": "2025-06-18T11:38:08.873Z"
   },
   {
    "duration": 199,
    "start_time": "2025-06-18T11:38:09.075Z"
   },
   {
    "duration": 7796,
    "start_time": "2025-06-18T11:38:09.276Z"
   },
   {
    "duration": 545,
    "start_time": "2025-06-18T11:38:17.074Z"
   },
   {
    "duration": 6204,
    "start_time": "2025-06-18T11:38:17.621Z"
   },
   {
    "duration": 142,
    "start_time": "2025-06-18T11:38:23.827Z"
   },
   {
    "duration": 91,
    "start_time": "2025-06-18T11:38:23.971Z"
   },
   {
    "duration": 25,
    "start_time": "2025-06-18T11:38:24.064Z"
   },
   {
    "duration": 180,
    "start_time": "2025-06-18T11:38:24.090Z"
   },
   {
    "duration": 102,
    "start_time": "2025-06-18T11:39:51.398Z"
   },
   {
    "duration": 5669,
    "start_time": "2025-06-18T11:40:56.485Z"
   },
   {
    "duration": 5208,
    "start_time": "2025-06-18T11:42:58.535Z"
   },
   {
    "duration": 505,
    "start_time": "2025-06-18T11:43:19.726Z"
   },
   {
    "duration": 5295,
    "start_time": "2025-06-18T11:43:22.943Z"
   },
   {
    "duration": 5126,
    "start_time": "2025-06-18T11:43:40.486Z"
   },
   {
    "duration": 5256,
    "start_time": "2025-06-18T11:47:10.362Z"
   },
   {
    "duration": 126,
    "start_time": "2025-06-18T11:48:15.608Z"
   },
   {
    "duration": 5107,
    "start_time": "2025-06-18T11:49:00.972Z"
   },
   {
    "duration": 5389,
    "start_time": "2025-06-18T11:51:00.394Z"
   },
   {
    "duration": 5175,
    "start_time": "2025-06-18T11:51:33.122Z"
   },
   {
    "duration": 5239,
    "start_time": "2025-06-18T11:53:26.706Z"
   },
   {
    "duration": 4954,
    "start_time": "2025-06-18T11:54:03.770Z"
   },
   {
    "duration": 1254,
    "start_time": "2025-06-18T11:54:18.422Z"
   },
   {
    "duration": 1778,
    "start_time": "2025-06-18T11:54:19.678Z"
   },
   {
    "duration": 20,
    "start_time": "2025-06-18T11:54:21.458Z"
   },
   {
    "duration": 145,
    "start_time": "2025-06-18T11:54:21.479Z"
   },
   {
    "duration": 98,
    "start_time": "2025-06-18T11:54:21.626Z"
   },
   {
    "duration": 12,
    "start_time": "2025-06-18T11:54:21.725Z"
   },
   {
    "duration": 35,
    "start_time": "2025-06-18T11:54:21.738Z"
   },
   {
    "duration": 14,
    "start_time": "2025-06-18T11:54:21.775Z"
   },
   {
    "duration": 10,
    "start_time": "2025-06-18T11:54:21.790Z"
   },
   {
    "duration": 12,
    "start_time": "2025-06-18T11:54:21.802Z"
   },
   {
    "duration": 10,
    "start_time": "2025-06-18T11:54:21.816Z"
   },
   {
    "duration": 281,
    "start_time": "2025-06-18T11:54:21.857Z"
   },
   {
    "duration": 55,
    "start_time": "2025-06-18T11:54:22.139Z"
   },
   {
    "duration": 142,
    "start_time": "2025-06-18T11:54:22.196Z"
   },
   {
    "duration": 32,
    "start_time": "2025-06-18T11:54:22.340Z"
   },
   {
    "duration": 4,
    "start_time": "2025-06-18T11:54:22.374Z"
   },
   {
    "duration": 231,
    "start_time": "2025-06-18T11:54:22.380Z"
   },
   {
    "duration": 26,
    "start_time": "2025-06-18T11:54:22.613Z"
   },
   {
    "duration": 274,
    "start_time": "2025-06-18T11:54:22.641Z"
   },
   {
    "duration": 220,
    "start_time": "2025-06-18T11:54:22.917Z"
   },
   {
    "duration": 7796,
    "start_time": "2025-06-18T11:54:23.139Z"
   },
   {
    "duration": 570,
    "start_time": "2025-06-18T11:54:30.937Z"
   },
   {
    "duration": 6372,
    "start_time": "2025-06-18T11:54:31.509Z"
   },
   {
    "duration": 117,
    "start_time": "2025-06-18T11:54:37.883Z"
   },
   {
    "duration": 27,
    "start_time": "2025-06-18T11:54:38.002Z"
   },
   {
    "duration": 226,
    "start_time": "2025-06-18T11:54:38.030Z"
   },
   {
    "duration": 6558,
    "start_time": "2025-06-18T11:55:10.754Z"
   },
   {
    "duration": 6432,
    "start_time": "2025-06-18T11:55:40.011Z"
   },
   {
    "duration": 6416,
    "start_time": "2025-06-18T11:56:01.890Z"
   },
   {
    "duration": 132,
    "start_time": "2025-06-18T11:58:49.819Z"
   },
   {
    "duration": 185,
    "start_time": "2025-06-18T12:01:27.501Z"
   },
   {
    "duration": 308,
    "start_time": "2025-06-18T12:34:23.447Z"
   },
   {
    "duration": 187,
    "start_time": "2025-06-18T12:45:56.403Z"
   },
   {
    "duration": 665,
    "start_time": "2025-06-18T12:48:20.595Z"
   },
   {
    "duration": 1207,
    "start_time": "2025-06-18T12:51:15.723Z"
   },
   {
    "duration": 2158,
    "start_time": "2025-06-18T12:55:51.462Z"
   },
   {
    "duration": 289,
    "start_time": "2025-06-18T12:58:51.375Z"
   },
   {
    "duration": 1012,
    "start_time": "2025-06-18T12:59:55.128Z"
   },
   {
    "duration": 281,
    "start_time": "2025-06-18T13:02:18.160Z"
   },
   {
    "duration": 234,
    "start_time": "2025-06-18T13:04:33.337Z"
   },
   {
    "duration": 1102,
    "start_time": "2025-06-18T13:04:48.514Z"
   },
   {
    "duration": 1721,
    "start_time": "2025-06-18T13:04:49.619Z"
   },
   {
    "duration": 19,
    "start_time": "2025-06-18T13:04:51.341Z"
   },
   {
    "duration": 114,
    "start_time": "2025-06-18T13:04:51.363Z"
   },
   {
    "duration": 113,
    "start_time": "2025-06-18T13:04:51.479Z"
   },
   {
    "duration": 54,
    "start_time": "2025-06-18T13:04:51.594Z"
   },
   {
    "duration": 34,
    "start_time": "2025-06-18T13:04:51.649Z"
   },
   {
    "duration": 37,
    "start_time": "2025-06-18T13:04:51.685Z"
   },
   {
    "duration": 32,
    "start_time": "2025-06-18T13:04:51.723Z"
   },
   {
    "duration": 24,
    "start_time": "2025-06-18T13:04:51.757Z"
   },
   {
    "duration": 17,
    "start_time": "2025-06-18T13:04:51.783Z"
   },
   {
    "duration": 279,
    "start_time": "2025-06-18T13:04:51.801Z"
   },
   {
    "duration": 50,
    "start_time": "2025-06-18T13:04:52.082Z"
   },
   {
    "duration": 140,
    "start_time": "2025-06-18T13:04:52.133Z"
   },
   {
    "duration": 24,
    "start_time": "2025-06-18T13:04:52.275Z"
   },
   {
    "duration": 67,
    "start_time": "2025-06-18T13:04:52.301Z"
   },
   {
    "duration": 223,
    "start_time": "2025-06-18T13:04:52.370Z"
   },
   {
    "duration": 26,
    "start_time": "2025-06-18T13:04:52.595Z"
   },
   {
    "duration": 195,
    "start_time": "2025-06-18T13:04:52.622Z"
   },
   {
    "duration": 207,
    "start_time": "2025-06-18T13:04:52.818Z"
   },
   {
    "duration": 7609,
    "start_time": "2025-06-18T13:04:53.026Z"
   },
   {
    "duration": 561,
    "start_time": "2025-06-18T13:05:00.637Z"
   },
   {
    "duration": 6362,
    "start_time": "2025-06-18T13:05:01.199Z"
   },
   {
    "duration": 143,
    "start_time": "2025-06-18T13:05:07.562Z"
   },
   {
    "duration": 95,
    "start_time": "2025-06-18T13:05:07.707Z"
   },
   {
    "duration": 199,
    "start_time": "2025-06-18T13:05:07.803Z"
   },
   {
    "duration": 191,
    "start_time": "2025-06-18T13:05:08.004Z"
   },
   {
    "duration": 459,
    "start_time": "2025-06-18T13:05:08.199Z"
   },
   {
    "duration": 914,
    "start_time": "2025-06-18T13:06:30.186Z"
   },
   {
    "duration": 236,
    "start_time": "2025-06-18T13:08:35.834Z"
   },
   {
    "duration": 234,
    "start_time": "2025-06-18T13:08:44.683Z"
   },
   {
    "duration": 1099,
    "start_time": "2025-06-18T13:10:35.099Z"
   },
   {
    "duration": 1127,
    "start_time": "2025-06-18T13:16:30.021Z"
   },
   {
    "duration": 177,
    "start_time": "2025-06-18T13:16:40.364Z"
   },
   {
    "duration": 1060,
    "start_time": "2025-06-18T13:16:42.900Z"
   },
   {
    "duration": 140,
    "start_time": "2025-06-18T13:18:36.372Z"
   },
   {
    "duration": 217,
    "start_time": "2025-06-18T13:18:42.645Z"
   },
   {
    "duration": 214,
    "start_time": "2025-06-18T13:18:57.293Z"
   },
   {
    "duration": 255,
    "start_time": "2025-06-18T13:19:12.429Z"
   },
   {
    "duration": 274,
    "start_time": "2025-06-18T13:19:18.853Z"
   },
   {
    "duration": 674,
    "start_time": "2025-06-18T13:20:06.133Z"
   },
   {
    "duration": 593,
    "start_time": "2025-06-18T13:20:48.206Z"
   },
   {
    "duration": 276,
    "start_time": "2025-06-18T13:22:00.791Z"
   },
   {
    "duration": 268,
    "start_time": "2025-06-18T13:23:14.565Z"
   },
   {
    "duration": 1000,
    "start_time": "2025-06-18T13:23:20.252Z"
   },
   {
    "duration": 745,
    "start_time": "2025-06-18T13:26:18.400Z"
   },
   {
    "duration": 146,
    "start_time": "2025-06-18T13:26:47.911Z"
   },
   {
    "duration": 715,
    "start_time": "2025-06-18T13:26:51.361Z"
   },
   {
    "duration": 6,
    "start_time": "2025-06-18T13:27:20.216Z"
   },
   {
    "duration": 140,
    "start_time": "2025-06-18T13:27:36.927Z"
   },
   {
    "duration": 140,
    "start_time": "2025-06-18T13:28:42.376Z"
   },
   {
    "duration": 685,
    "start_time": "2025-06-18T13:28:44.104Z"
   },
   {
    "duration": 1021,
    "start_time": "2025-06-18T13:29:59.521Z"
   },
   {
    "duration": 147,
    "start_time": "2025-06-18T13:30:37.764Z"
   },
   {
    "duration": 654,
    "start_time": "2025-06-18T13:30:39.089Z"
   },
   {
    "duration": 875,
    "start_time": "2025-06-18T13:30:45.098Z"
   },
   {
    "duration": 289,
    "start_time": "2025-06-18T13:43:54.717Z"
   },
   {
    "duration": 296,
    "start_time": "2025-06-18T13:46:42.031Z"
   },
   {
    "duration": 89,
    "start_time": "2025-06-18T13:54:51.034Z"
   },
   {
    "duration": 665,
    "start_time": "2025-06-18T13:55:10.346Z"
   },
   {
    "duration": 682,
    "start_time": "2025-06-18T13:55:36.602Z"
   },
   {
    "duration": 619,
    "start_time": "2025-06-18T13:55:58.201Z"
   },
   {
    "duration": 55,
    "start_time": "2025-06-19T10:30:21.071Z"
   },
   {
    "duration": 1293,
    "start_time": "2025-06-19T10:31:06.808Z"
   },
   {
    "duration": 1685,
    "start_time": "2025-06-19T10:31:08.103Z"
   },
   {
    "duration": 18,
    "start_time": "2025-06-19T10:31:12.121Z"
   },
   {
    "duration": 98,
    "start_time": "2025-06-19T10:31:12.832Z"
   },
   {
    "duration": 1137,
    "start_time": "2025-06-19T10:31:17.777Z"
   },
   {
    "duration": 2619,
    "start_time": "2025-06-19T10:31:18.916Z"
   },
   {
    "duration": 19,
    "start_time": "2025-06-19T10:31:21.537Z"
   },
   {
    "duration": 125,
    "start_time": "2025-06-19T10:31:21.558Z"
   },
   {
    "duration": 97,
    "start_time": "2025-06-19T10:31:21.685Z"
   },
   {
    "duration": 12,
    "start_time": "2025-06-19T10:31:21.784Z"
   },
   {
    "duration": 19,
    "start_time": "2025-06-19T10:31:21.798Z"
   },
   {
    "duration": 40,
    "start_time": "2025-06-19T10:31:21.819Z"
   },
   {
    "duration": 9,
    "start_time": "2025-06-19T10:31:21.860Z"
   },
   {
    "duration": 173,
    "start_time": "2025-06-19T10:31:21.872Z"
   },
   {
    "duration": 10,
    "start_time": "2025-06-19T10:31:22.047Z"
   },
   {
    "duration": 360,
    "start_time": "2025-06-19T10:31:22.058Z"
   },
   {
    "duration": 54,
    "start_time": "2025-06-19T10:31:22.420Z"
   },
   {
    "duration": 120,
    "start_time": "2025-06-19T10:31:22.476Z"
   },
   {
    "duration": 24,
    "start_time": "2025-06-19T10:31:22.598Z"
   },
   {
    "duration": 4,
    "start_time": "2025-06-19T10:31:22.624Z"
   },
   {
    "duration": 217,
    "start_time": "2025-06-19T10:31:22.629Z"
   },
   {
    "duration": 31,
    "start_time": "2025-06-19T10:31:22.847Z"
   },
   {
    "duration": 197,
    "start_time": "2025-06-19T10:31:22.880Z"
   },
   {
    "duration": 193,
    "start_time": "2025-06-19T10:31:23.079Z"
   },
   {
    "duration": 7484,
    "start_time": "2025-06-19T10:31:23.274Z"
   },
   {
    "duration": 525,
    "start_time": "2025-06-19T10:31:30.759Z"
   },
   {
    "duration": 6175,
    "start_time": "2025-06-19T10:31:31.286Z"
   },
   {
    "duration": 141,
    "start_time": "2025-06-19T10:31:37.463Z"
   },
   {
    "duration": 90,
    "start_time": "2025-06-19T10:31:37.606Z"
   },
   {
    "duration": 195,
    "start_time": "2025-06-19T10:31:37.698Z"
   },
   {
    "duration": 186,
    "start_time": "2025-06-19T10:31:37.895Z"
   },
   {
    "duration": 264,
    "start_time": "2025-06-19T10:31:38.084Z"
   },
   {
    "duration": 648,
    "start_time": "2025-06-19T10:31:38.350Z"
   },
   {
    "duration": 354,
    "start_time": "2025-06-19T10:31:38.999Z"
   },
   {
    "duration": 0,
    "start_time": "2025-06-19T10:31:39.355Z"
   },
   {
    "duration": 253,
    "start_time": "2025-06-19T10:33:34.617Z"
   },
   {
    "duration": 285,
    "start_time": "2025-06-19T10:33:41.882Z"
   },
   {
    "duration": 518,
    "start_time": "2025-06-19T10:34:18.233Z"
   },
   {
    "duration": 757,
    "start_time": "2025-06-19T10:35:29.427Z"
   },
   {
    "duration": 1223,
    "start_time": "2025-06-19T11:04:51.419Z"
   },
   {
    "duration": 1189,
    "start_time": "2025-06-19T11:08:41.972Z"
   },
   {
    "duration": 1014,
    "start_time": "2025-06-19T11:08:43.435Z"
   },
   {
    "duration": 908,
    "start_time": "2025-06-19T11:12:15.796Z"
   },
   {
    "duration": 13,
    "start_time": "2025-06-19T11:34:02.211Z"
   },
   {
    "duration": 12,
    "start_time": "2025-06-19T11:34:39.516Z"
   },
   {
    "duration": 32,
    "start_time": "2025-06-19T11:34:56.100Z"
   },
   {
    "duration": 600,
    "start_time": "2025-06-19T11:35:23.116Z"
   },
   {
    "duration": 658,
    "start_time": "2025-06-19T11:38:11.852Z"
   },
   {
    "duration": 2682,
    "start_time": "2025-06-19T11:54:10.493Z"
   },
   {
    "duration": 478,
    "start_time": "2025-06-19T11:57:08.294Z"
   },
   {
    "duration": 1142,
    "start_time": "2025-06-19T12:00:25.023Z"
   },
   {
    "duration": 1104,
    "start_time": "2025-06-19T12:02:54.719Z"
   },
   {
    "duration": 1077,
    "start_time": "2025-06-19T12:04:38.729Z"
   },
   {
    "duration": 450,
    "start_time": "2025-06-19T12:05:01.449Z"
   },
   {
    "duration": 307,
    "start_time": "2025-06-19T12:05:13.225Z"
   },
   {
    "duration": 488,
    "start_time": "2025-06-19T12:07:40.288Z"
   },
   {
    "duration": 485,
    "start_time": "2025-06-19T12:09:22.200Z"
   },
   {
    "duration": 485,
    "start_time": "2025-06-19T12:10:40.096Z"
   },
   {
    "duration": 378,
    "start_time": "2025-06-19T12:10:50.536Z"
   },
   {
    "duration": 133,
    "start_time": "2025-06-19T12:21:33.614Z"
   },
   {
    "duration": 3,
    "start_time": "2025-06-19T12:30:28.984Z"
   },
   {
    "duration": 1192,
    "start_time": "2025-06-19T12:30:35.536Z"
   },
   {
    "duration": 1997,
    "start_time": "2025-06-19T12:30:36.729Z"
   },
   {
    "duration": 18,
    "start_time": "2025-06-19T12:30:38.727Z"
   },
   {
    "duration": 98,
    "start_time": "2025-06-19T12:30:38.747Z"
   },
   {
    "duration": 96,
    "start_time": "2025-06-19T12:30:38.847Z"
   },
   {
    "duration": 15,
    "start_time": "2025-06-19T12:30:38.944Z"
   },
   {
    "duration": 31,
    "start_time": "2025-06-19T12:30:38.961Z"
   },
   {
    "duration": 13,
    "start_time": "2025-06-19T12:30:38.994Z"
   },
   {
    "duration": 21,
    "start_time": "2025-06-19T12:30:39.008Z"
   },
   {
    "duration": 16,
    "start_time": "2025-06-19T12:30:39.031Z"
   },
   {
    "duration": 19,
    "start_time": "2025-06-19T12:30:39.048Z"
   },
   {
    "duration": 265,
    "start_time": "2025-06-19T12:30:39.069Z"
   },
   {
    "duration": 59,
    "start_time": "2025-06-19T12:30:39.336Z"
   },
   {
    "duration": 135,
    "start_time": "2025-06-19T12:30:39.396Z"
   },
   {
    "duration": 32,
    "start_time": "2025-06-19T12:30:39.533Z"
   },
   {
    "duration": 5,
    "start_time": "2025-06-19T12:30:39.566Z"
   },
   {
    "duration": 215,
    "start_time": "2025-06-19T12:30:39.572Z"
   },
   {
    "duration": 25,
    "start_time": "2025-06-19T12:30:39.788Z"
   },
   {
    "duration": 194,
    "start_time": "2025-06-19T12:30:39.814Z"
   },
   {
    "duration": 207,
    "start_time": "2025-06-19T12:30:40.010Z"
   },
   {
    "duration": 7434,
    "start_time": "2025-06-19T12:30:40.219Z"
   },
   {
    "duration": 535,
    "start_time": "2025-06-19T12:30:47.654Z"
   },
   {
    "duration": 6173,
    "start_time": "2025-06-19T12:30:48.191Z"
   },
   {
    "duration": 140,
    "start_time": "2025-06-19T12:30:54.365Z"
   },
   {
    "duration": 93,
    "start_time": "2025-06-19T12:30:54.507Z"
   },
   {
    "duration": 198,
    "start_time": "2025-06-19T12:30:54.602Z"
   },
   {
    "duration": 181,
    "start_time": "2025-06-19T12:30:54.802Z"
   },
   {
    "duration": 297,
    "start_time": "2025-06-19T12:30:54.986Z"
   },
   {
    "duration": 661,
    "start_time": "2025-06-19T12:30:55.285Z"
   },
   {
    "duration": 756,
    "start_time": "2025-06-19T12:30:55.948Z"
   },
   {
    "duration": 565,
    "start_time": "2025-06-19T12:30:56.706Z"
   },
   {
    "duration": 941,
    "start_time": "2025-06-19T12:30:57.273Z"
   },
   {
    "duration": 693,
    "start_time": "2025-06-19T12:30:58.216Z"
   },
   {
    "duration": 412,
    "start_time": "2025-06-19T12:30:58.911Z"
   },
   {
    "duration": 390,
    "start_time": "2025-06-19T12:30:59.325Z"
   },
   {
    "duration": 141,
    "start_time": "2025-06-19T12:30:59.717Z"
   },
   {
    "duration": 3372,
    "start_time": "2025-06-19T12:33:50.665Z"
   },
   {
    "duration": 3792,
    "start_time": "2025-06-19T12:34:03.743Z"
   },
   {
    "duration": 3364,
    "start_time": "2025-06-19T12:46:00.265Z"
   },
   {
    "duration": 3660,
    "start_time": "2025-06-19T12:51:19.259Z"
   },
   {
    "duration": 3,
    "start_time": "2025-06-19T12:53:12.755Z"
   },
   {
    "duration": 395,
    "start_time": "2025-06-19T12:54:28.291Z"
   },
   {
    "duration": 601,
    "start_time": "2025-06-19T12:54:48.812Z"
   },
   {
    "duration": 224,
    "start_time": "2025-06-19T13:09:00.211Z"
   },
   {
    "duration": 141,
    "start_time": "2025-06-19T13:09:14.130Z"
   },
   {
    "duration": 137,
    "start_time": "2025-06-19T13:09:15.945Z"
   },
   {
    "duration": 1170,
    "start_time": "2025-06-19T13:09:25.056Z"
   },
   {
    "duration": 1654,
    "start_time": "2025-06-19T13:09:26.228Z"
   },
   {
    "duration": 20,
    "start_time": "2025-06-19T13:09:27.884Z"
   },
   {
    "duration": 100,
    "start_time": "2025-06-19T13:09:27.906Z"
   },
   {
    "duration": 97,
    "start_time": "2025-06-19T13:09:28.008Z"
   },
   {
    "duration": 12,
    "start_time": "2025-06-19T13:09:28.106Z"
   },
   {
    "duration": 18,
    "start_time": "2025-06-19T13:09:28.120Z"
   },
   {
    "duration": 31,
    "start_time": "2025-06-19T13:09:28.139Z"
   },
   {
    "duration": 11,
    "start_time": "2025-06-19T13:09:28.172Z"
   },
   {
    "duration": 11,
    "start_time": "2025-06-19T13:09:28.185Z"
   },
   {
    "duration": 157,
    "start_time": "2025-06-19T13:09:28.197Z"
   },
   {
    "duration": 695,
    "start_time": "2025-06-19T13:09:28.355Z"
   },
   {
    "duration": 189,
    "start_time": "2025-06-19T13:09:29.051Z"
   },
   {
    "duration": 202,
    "start_time": "2025-06-19T13:09:29.257Z"
   },
   {
    "duration": 7945,
    "start_time": "2025-06-19T13:09:29.460Z"
   },
   {
    "duration": 557,
    "start_time": "2025-06-19T13:09:37.407Z"
   },
   {
    "duration": 6334,
    "start_time": "2025-06-19T13:09:37.965Z"
   },
   {
    "duration": 149,
    "start_time": "2025-06-19T13:09:44.301Z"
   },
   {
    "duration": 87,
    "start_time": "2025-06-19T13:09:44.452Z"
   },
   {
    "duration": 205,
    "start_time": "2025-06-19T13:09:44.541Z"
   },
   {
    "duration": 199,
    "start_time": "2025-06-19T13:09:44.748Z"
   },
   {
    "duration": 302,
    "start_time": "2025-06-19T13:09:44.948Z"
   },
   {
    "duration": 652,
    "start_time": "2025-06-19T13:09:45.252Z"
   },
   {
    "duration": 1050,
    "start_time": "2025-06-19T13:09:45.906Z"
   },
   {
    "duration": 307,
    "start_time": "2025-06-19T13:09:46.958Z"
   },
   {
    "duration": 961,
    "start_time": "2025-06-19T13:09:47.266Z"
   },
   {
    "duration": 684,
    "start_time": "2025-06-19T13:09:48.228Z"
   },
   {
    "duration": 430,
    "start_time": "2025-06-19T13:09:48.916Z"
   },
   {
    "duration": 399,
    "start_time": "2025-06-19T13:09:49.348Z"
   },
   {
    "duration": 141,
    "start_time": "2025-06-19T13:09:49.748Z"
   },
   {
    "duration": 3731,
    "start_time": "2025-06-19T13:09:49.891Z"
   },
   {
    "duration": 707,
    "start_time": "2025-06-19T13:09:59.934Z"
   },
   {
    "duration": 764,
    "start_time": "2025-06-19T13:10:11.799Z"
   },
   {
    "duration": 345,
    "start_time": "2025-06-19T13:12:11.615Z"
   },
   {
    "duration": 664,
    "start_time": "2025-06-19T13:12:21.711Z"
   },
   {
    "duration": 537,
    "start_time": "2025-06-19T13:18:21.705Z"
   },
   {
    "duration": 91,
    "start_time": "2025-06-19T13:18:50.673Z"
   },
   {
    "duration": 505,
    "start_time": "2025-06-19T13:18:59.497Z"
   },
   {
    "duration": 599,
    "start_time": "2025-06-19T13:20:54.714Z"
   },
   {
    "duration": 685,
    "start_time": "2025-06-19T13:21:26.345Z"
   },
   {
    "duration": 1373,
    "start_time": "2025-06-19T13:21:33.930Z"
   },
   {
    "duration": 142,
    "start_time": "2025-06-19T13:22:06.042Z"
   },
   {
    "duration": 651,
    "start_time": "2025-06-19T13:22:08.450Z"
   },
   {
    "duration": 140,
    "start_time": "2025-06-19T13:22:14.050Z"
   },
   {
    "duration": 626,
    "start_time": "2025-06-19T13:22:16.282Z"
   },
   {
    "duration": 659,
    "start_time": "2025-06-19T13:25:12.939Z"
   },
   {
    "duration": 578,
    "start_time": "2025-06-19T13:26:00.187Z"
   },
   {
    "duration": 1435,
    "start_time": "2025-06-19T13:35:49.427Z"
   },
   {
    "duration": 1109,
    "start_time": "2025-06-19T13:39:52.157Z"
   },
   {
    "duration": 676,
    "start_time": "2025-06-19T13:40:46.525Z"
   },
   {
    "duration": 615,
    "start_time": "2025-06-19T13:41:52.893Z"
   },
   {
    "duration": 300,
    "start_time": "2025-06-19T13:42:42.103Z"
   },
   {
    "duration": 750,
    "start_time": "2025-06-19T13:42:53.182Z"
   },
   {
    "duration": 947,
    "start_time": "2025-06-19T13:44:18.462Z"
   },
   {
    "duration": 53,
    "start_time": "2025-06-20T05:28:34.474Z"
   },
   {
    "duration": 12,
    "start_time": "2025-06-20T05:28:40.643Z"
   },
   {
    "duration": 1390,
    "start_time": "2025-06-20T05:28:50.812Z"
   },
   {
    "duration": 1978,
    "start_time": "2025-06-20T05:28:52.204Z"
   },
   {
    "duration": 18,
    "start_time": "2025-06-20T05:28:54.184Z"
   },
   {
    "duration": 212,
    "start_time": "2025-06-20T05:28:54.204Z"
   },
   {
    "duration": 192,
    "start_time": "2025-06-20T05:28:54.418Z"
   },
   {
    "duration": 65,
    "start_time": "2025-06-20T05:28:54.612Z"
   },
   {
    "duration": 19,
    "start_time": "2025-06-20T05:28:54.679Z"
   },
   {
    "duration": 21,
    "start_time": "2025-06-20T05:28:54.699Z"
   },
   {
    "duration": 62,
    "start_time": "2025-06-20T05:28:54.722Z"
   },
   {
    "duration": 21,
    "start_time": "2025-06-20T05:28:54.786Z"
   },
   {
    "duration": 11,
    "start_time": "2025-06-20T05:28:54.809Z"
   },
   {
    "duration": 1256,
    "start_time": "2025-06-20T05:28:54.821Z"
   },
   {
    "duration": 198,
    "start_time": "2025-06-20T05:28:56.078Z"
   },
   {
    "duration": 353,
    "start_time": "2025-06-20T05:28:56.278Z"
   },
   {
    "duration": 7861,
    "start_time": "2025-06-20T05:28:56.633Z"
   },
   {
    "duration": 550,
    "start_time": "2025-06-20T05:29:04.496Z"
   },
   {
    "duration": 6473,
    "start_time": "2025-06-20T05:29:05.049Z"
   },
   {
    "duration": 142,
    "start_time": "2025-06-20T05:29:11.524Z"
   },
   {
    "duration": 90,
    "start_time": "2025-06-20T05:29:11.668Z"
   },
   {
    "duration": 212,
    "start_time": "2025-06-20T05:29:11.760Z"
   },
   {
    "duration": 223,
    "start_time": "2025-06-20T05:29:11.977Z"
   },
   {
    "duration": 128,
    "start_time": "2025-06-20T05:29:12.202Z"
   },
   {
    "duration": 0,
    "start_time": "2025-06-20T05:29:12.333Z"
   },
   {
    "duration": 0,
    "start_time": "2025-06-20T05:29:12.334Z"
   },
   {
    "duration": 0,
    "start_time": "2025-06-20T05:29:12.336Z"
   },
   {
    "duration": 0,
    "start_time": "2025-06-20T05:29:12.337Z"
   },
   {
    "duration": 1,
    "start_time": "2025-06-20T05:29:12.339Z"
   },
   {
    "duration": 0,
    "start_time": "2025-06-20T05:29:12.341Z"
   },
   {
    "duration": 0,
    "start_time": "2025-06-20T05:29:12.343Z"
   },
   {
    "duration": 0,
    "start_time": "2025-06-20T05:29:12.344Z"
   },
   {
    "duration": 1344,
    "start_time": "2025-06-20T05:29:40.949Z"
   },
   {
    "duration": 301,
    "start_time": "2025-06-20T05:29:46.229Z"
   },
   {
    "duration": 674,
    "start_time": "2025-06-20T05:29:54.349Z"
   },
   {
    "duration": 773,
    "start_time": "2025-06-20T05:31:08.781Z"
   },
   {
    "duration": 18,
    "start_time": "2025-06-20T05:34:55.542Z"
   },
   {
    "duration": 19,
    "start_time": "2025-06-20T05:35:05.191Z"
   },
   {
    "duration": 173,
    "start_time": "2025-06-20T05:35:09.446Z"
   },
   {
    "duration": 1047,
    "start_time": "2025-06-20T05:39:32.151Z"
   },
   {
    "duration": 104,
    "start_time": "2025-06-20T05:40:17.033Z"
   },
   {
    "duration": 117,
    "start_time": "2025-06-20T05:40:41.512Z"
   },
   {
    "duration": 117,
    "start_time": "2025-06-20T05:40:58.104Z"
   },
   {
    "duration": 141,
    "start_time": "2025-06-20T05:41:39.929Z"
   },
   {
    "duration": 355,
    "start_time": "2025-06-20T05:41:54.840Z"
   },
   {
    "duration": 38,
    "start_time": "2025-06-20T05:42:33.673Z"
   },
   {
    "duration": 223,
    "start_time": "2025-06-20T05:42:45.753Z"
   },
   {
    "duration": 13,
    "start_time": "2025-06-20T05:43:12.864Z"
   },
   {
    "duration": 222,
    "start_time": "2025-06-20T05:43:35.433Z"
   },
   {
    "duration": 237,
    "start_time": "2025-06-20T05:43:58.266Z"
   },
   {
    "duration": 59,
    "start_time": "2025-06-20T05:44:11.969Z"
   },
   {
    "duration": 240,
    "start_time": "2025-06-20T05:44:21.945Z"
   },
   {
    "duration": 343,
    "start_time": "2025-06-20T05:44:34.217Z"
   },
   {
    "duration": 382,
    "start_time": "2025-06-20T05:47:18.698Z"
   },
   {
    "duration": 410,
    "start_time": "2025-06-20T05:48:04.842Z"
   },
   {
    "duration": 224,
    "start_time": "2025-06-20T05:48:54.307Z"
   },
   {
    "duration": 588,
    "start_time": "2025-06-20T05:49:53.771Z"
   },
   {
    "duration": 214,
    "start_time": "2025-06-20T05:49:58.539Z"
   },
   {
    "duration": 260,
    "start_time": "2025-06-20T05:51:12.395Z"
   },
   {
    "duration": 69,
    "start_time": "2025-06-20T05:53:50.804Z"
   },
   {
    "duration": 77,
    "start_time": "2025-06-20T06:00:29.030Z"
   },
   {
    "duration": 139,
    "start_time": "2025-06-20T06:20:34.196Z"
   },
   {
    "duration": 3605,
    "start_time": "2025-06-20T06:20:40.446Z"
   },
   {
    "duration": 423,
    "start_time": "2025-06-20T06:33:53.449Z"
   },
   {
    "duration": 394,
    "start_time": "2025-06-20T06:33:56.177Z"
   },
   {
    "duration": 623,
    "start_time": "2025-06-20T06:35:05.673Z"
   },
   {
    "duration": 816,
    "start_time": "2025-06-20T06:36:07.218Z"
   },
   {
    "duration": 88,
    "start_time": "2025-06-20T06:41:44.211Z"
   },
   {
    "duration": 1483,
    "start_time": "2025-06-20T19:14:28.598Z"
   },
   {
    "duration": 1941,
    "start_time": "2025-06-20T19:14:30.083Z"
   },
   {
    "duration": 18,
    "start_time": "2025-06-20T19:14:32.026Z"
   },
   {
    "duration": 110,
    "start_time": "2025-06-20T19:14:32.046Z"
   },
   {
    "duration": 89,
    "start_time": "2025-06-20T19:14:32.158Z"
   },
   {
    "duration": 12,
    "start_time": "2025-06-20T19:14:32.257Z"
   },
   {
    "duration": 27,
    "start_time": "2025-06-20T19:14:32.271Z"
   },
   {
    "duration": 16,
    "start_time": "2025-06-20T19:14:32.300Z"
   },
   {
    "duration": 38,
    "start_time": "2025-06-20T19:14:32.318Z"
   },
   {
    "duration": 13,
    "start_time": "2025-06-20T19:14:32.359Z"
   },
   {
    "duration": 10,
    "start_time": "2025-06-20T19:14:32.374Z"
   },
   {
    "duration": 668,
    "start_time": "2025-06-20T19:14:32.386Z"
   },
   {
    "duration": 186,
    "start_time": "2025-06-20T19:14:33.055Z"
   },
   {
    "duration": 255,
    "start_time": "2025-06-20T19:14:33.243Z"
   },
   {
    "duration": 7895,
    "start_time": "2025-06-20T19:14:33.500Z"
   },
   {
    "duration": 574,
    "start_time": "2025-06-20T19:14:41.397Z"
   },
   {
    "duration": 6233,
    "start_time": "2025-06-20T19:14:41.973Z"
   },
   {
    "duration": 138,
    "start_time": "2025-06-20T19:14:48.208Z"
   },
   {
    "duration": 100,
    "start_time": "2025-06-20T19:14:48.347Z"
   },
   {
    "duration": 203,
    "start_time": "2025-06-20T19:14:48.449Z"
   },
   {
    "duration": 264,
    "start_time": "2025-06-20T19:14:48.659Z"
   },
   {
    "duration": 498,
    "start_time": "2025-06-20T19:14:48.925Z"
   },
   {
    "duration": 327,
    "start_time": "2025-06-20T19:14:49.425Z"
   },
   {
    "duration": 329,
    "start_time": "2025-06-20T19:14:49.758Z"
   },
   {
    "duration": 492,
    "start_time": "2025-06-20T19:14:50.088Z"
   },
   {
    "duration": 1058,
    "start_time": "2025-06-20T19:14:50.582Z"
   },
   {
    "duration": 803,
    "start_time": "2025-06-20T19:14:51.642Z"
   },
   {
    "duration": 592,
    "start_time": "2025-06-20T19:14:52.448Z"
   },
   {
    "duration": 582,
    "start_time": "2025-06-20T19:14:53.042Z"
   },
   {
    "duration": 133,
    "start_time": "2025-06-20T19:14:53.626Z"
   },
   {
    "duration": 3343,
    "start_time": "2025-06-20T19:14:53.761Z"
   },
   {
    "duration": 51,
    "start_time": "2025-06-21T08:09:15.556Z"
   },
   {
    "duration": 1491,
    "start_time": "2025-06-21T08:09:22.771Z"
   },
   {
    "duration": 1795,
    "start_time": "2025-06-21T08:09:24.825Z"
   },
   {
    "duration": 290,
    "start_time": "2025-06-21T08:09:34.319Z"
   },
   {
    "duration": 75,
    "start_time": "2025-06-21T08:09:36.248Z"
   },
   {
    "duration": 256,
    "start_time": "2025-06-21T08:09:38.230Z"
   },
   {
    "duration": 282,
    "start_time": "2025-06-21T08:11:14.357Z"
   },
   {
    "duration": 3,
    "start_time": "2025-06-21T08:11:14.885Z"
   },
   {
    "duration": 267,
    "start_time": "2025-06-21T08:11:17.244Z"
   },
   {
    "duration": 257,
    "start_time": "2025-06-21T08:12:45.068Z"
   },
   {
    "duration": 235,
    "start_time": "2025-06-21T08:20:15.166Z"
   },
   {
    "duration": 1869,
    "start_time": "2025-06-21T08:22:31.792Z"
   },
   {
    "duration": 2,
    "start_time": "2025-06-21T08:22:54.262Z"
   },
   {
    "duration": 2,
    "start_time": "2025-06-21T08:23:42.467Z"
   },
   {
    "duration": 8646,
    "start_time": "2025-06-21T08:24:05.490Z"
   },
   {
    "duration": 198,
    "start_time": "2025-06-21T08:25:50.528Z"
   },
   {
    "duration": 2,
    "start_time": "2025-06-21T08:25:55.024Z"
   },
   {
    "duration": 2274,
    "start_time": "2025-06-21T08:25:58.855Z"
   },
   {
    "duration": 8572,
    "start_time": "2025-06-21T08:26:14.097Z"
   },
   {
    "duration": 234,
    "start_time": "2025-06-21T08:27:04.853Z"
   },
   {
    "duration": 200,
    "start_time": "2025-06-21T08:27:14.476Z"
   },
   {
    "duration": 212,
    "start_time": "2025-06-21T08:27:18.069Z"
   },
   {
    "duration": 1309,
    "start_time": "2025-06-21T08:27:38.546Z"
   },
   {
    "duration": 1992,
    "start_time": "2025-06-21T08:27:39.857Z"
   },
   {
    "duration": 21,
    "start_time": "2025-06-21T08:27:41.851Z"
   },
   {
    "duration": 117,
    "start_time": "2025-06-21T08:27:41.874Z"
   },
   {
    "duration": 94,
    "start_time": "2025-06-21T08:27:41.993Z"
   },
   {
    "duration": 12,
    "start_time": "2025-06-21T08:27:42.089Z"
   },
   {
    "duration": 21,
    "start_time": "2025-06-21T08:27:42.103Z"
   },
   {
    "duration": 39,
    "start_time": "2025-06-21T08:27:42.126Z"
   },
   {
    "duration": 11,
    "start_time": "2025-06-21T08:27:42.167Z"
   },
   {
    "duration": 11,
    "start_time": "2025-06-21T08:27:42.181Z"
   },
   {
    "duration": 101,
    "start_time": "2025-06-21T08:27:42.193Z"
   },
   {
    "duration": 290,
    "start_time": "2025-06-21T08:27:42.296Z"
   },
   {
    "duration": 78,
    "start_time": "2025-06-21T08:27:42.588Z"
   },
   {
    "duration": 5,
    "start_time": "2025-06-21T08:27:42.667Z"
   },
   {
    "duration": 266,
    "start_time": "2025-06-21T08:27:42.673Z"
   },
   {
    "duration": 250,
    "start_time": "2025-06-21T08:27:42.941Z"
   },
   {
    "duration": 205,
    "start_time": "2025-06-21T08:27:43.193Z"
   },
   {
    "duration": 387,
    "start_time": "2025-06-21T08:27:43.400Z"
   },
   {
    "duration": 2522,
    "start_time": "2025-06-21T08:27:43.789Z"
   },
   {
    "duration": 8314,
    "start_time": "2025-06-21T08:27:46.312Z"
   },
   {
    "duration": 588,
    "start_time": "2025-06-21T08:27:54.628Z"
   },
   {
    "duration": 6907,
    "start_time": "2025-06-21T08:27:55.218Z"
   },
   {
    "duration": 163,
    "start_time": "2025-06-21T08:28:02.127Z"
   },
   {
    "duration": 96,
    "start_time": "2025-06-21T08:28:02.291Z"
   },
   {
    "duration": 212,
    "start_time": "2025-06-21T08:28:02.389Z"
   },
   {
    "duration": 201,
    "start_time": "2025-06-21T08:28:02.603Z"
   },
   {
    "duration": 446,
    "start_time": "2025-06-21T08:28:02.806Z"
   },
   {
    "duration": 255,
    "start_time": "2025-06-21T08:28:03.255Z"
   },
   {
    "duration": 282,
    "start_time": "2025-06-21T08:28:03.512Z"
   },
   {
    "duration": 459,
    "start_time": "2025-06-21T08:28:03.796Z"
   },
   {
    "duration": 268,
    "start_time": "2025-06-21T08:28:04.261Z"
   },
   {
    "duration": 810,
    "start_time": "2025-06-21T08:28:04.531Z"
   },
   {
    "duration": 3,
    "start_time": "2025-06-21T08:28:05.344Z"
   },
   {
    "duration": 832,
    "start_time": "2025-06-21T08:28:05.349Z"
   },
   {
    "duration": 651,
    "start_time": "2025-06-21T08:28:06.183Z"
   },
   {
    "duration": 586,
    "start_time": "2025-06-21T08:28:06.837Z"
   },
   {
    "duration": 167,
    "start_time": "2025-06-21T08:28:07.425Z"
   },
   {
    "duration": 3985,
    "start_time": "2025-06-21T08:28:07.594Z"
   },
   {
    "duration": 8,
    "start_time": "2025-06-21T08:28:11.581Z"
   },
   {
    "duration": 2,
    "start_time": "2025-06-21T08:28:52.784Z"
   },
   {
    "duration": 5577,
    "start_time": "2025-06-21T08:30:52.484Z"
   },
   {
    "duration": 5295,
    "start_time": "2025-06-21T08:32:55.285Z"
   },
   {
    "duration": 7937,
    "start_time": "2025-06-21T08:37:49.644Z"
   },
   {
    "duration": 6896,
    "start_time": "2025-06-21T08:38:07.043Z"
   },
   {
    "duration": 6671,
    "start_time": "2025-06-21T08:43:26.484Z"
   },
   {
    "duration": 6786,
    "start_time": "2025-06-21T08:46:19.339Z"
   },
   {
    "duration": 6625,
    "start_time": "2025-06-21T08:48:18.057Z"
   },
   {
    "duration": 6677,
    "start_time": "2025-06-21T08:48:42.584Z"
   },
   {
    "duration": 151,
    "start_time": "2025-06-21T08:52:50.029Z"
   },
   {
    "duration": 1286,
    "start_time": "2025-06-21T08:53:04.284Z"
   },
   {
    "duration": 1735,
    "start_time": "2025-06-21T08:53:05.571Z"
   },
   {
    "duration": 22,
    "start_time": "2025-06-21T08:53:07.308Z"
   },
   {
    "duration": 113,
    "start_time": "2025-06-21T08:53:07.332Z"
   },
   {
    "duration": 104,
    "start_time": "2025-06-21T08:53:07.447Z"
   },
   {
    "duration": 16,
    "start_time": "2025-06-21T08:53:07.553Z"
   },
   {
    "duration": 22,
    "start_time": "2025-06-21T08:53:07.571Z"
   },
   {
    "duration": 14,
    "start_time": "2025-06-21T08:53:07.595Z"
   },
   {
    "duration": 8,
    "start_time": "2025-06-21T08:53:07.611Z"
   },
   {
    "duration": 42,
    "start_time": "2025-06-21T08:53:07.622Z"
   },
   {
    "duration": 9,
    "start_time": "2025-06-21T08:53:07.666Z"
   },
   {
    "duration": 362,
    "start_time": "2025-06-21T08:53:07.677Z"
   },
   {
    "duration": 73,
    "start_time": "2025-06-21T08:53:08.041Z"
   },
   {
    "duration": 2,
    "start_time": "2025-06-21T08:53:08.116Z"
   },
   {
    "duration": 274,
    "start_time": "2025-06-21T08:53:08.120Z"
   },
   {
    "duration": 250,
    "start_time": "2025-06-21T08:53:08.396Z"
   },
   {
    "duration": 197,
    "start_time": "2025-06-21T08:53:08.647Z"
   },
   {
    "duration": 94,
    "start_time": "2025-06-21T08:53:08.846Z"
   },
   {
    "duration": 276,
    "start_time": "2025-06-21T08:53:08.942Z"
   },
   {
    "duration": 0,
    "start_time": "2025-06-21T08:53:09.220Z"
   },
   {
    "duration": 0,
    "start_time": "2025-06-21T08:53:09.222Z"
   },
   {
    "duration": 0,
    "start_time": "2025-06-21T08:53:09.223Z"
   },
   {
    "duration": 0,
    "start_time": "2025-06-21T08:53:09.224Z"
   },
   {
    "duration": 0,
    "start_time": "2025-06-21T08:53:09.225Z"
   },
   {
    "duration": 0,
    "start_time": "2025-06-21T08:53:09.226Z"
   },
   {
    "duration": 0,
    "start_time": "2025-06-21T08:53:09.228Z"
   },
   {
    "duration": 0,
    "start_time": "2025-06-21T08:53:09.229Z"
   },
   {
    "duration": 0,
    "start_time": "2025-06-21T08:53:09.230Z"
   },
   {
    "duration": 0,
    "start_time": "2025-06-21T08:53:09.231Z"
   },
   {
    "duration": 0,
    "start_time": "2025-06-21T08:53:09.232Z"
   },
   {
    "duration": 0,
    "start_time": "2025-06-21T08:53:09.233Z"
   },
   {
    "duration": 0,
    "start_time": "2025-06-21T08:53:09.235Z"
   },
   {
    "duration": 0,
    "start_time": "2025-06-21T08:53:09.261Z"
   },
   {
    "duration": 0,
    "start_time": "2025-06-21T08:53:09.262Z"
   },
   {
    "duration": 0,
    "start_time": "2025-06-21T08:53:09.263Z"
   },
   {
    "duration": 0,
    "start_time": "2025-06-21T08:53:09.264Z"
   },
   {
    "duration": 0,
    "start_time": "2025-06-21T08:53:09.266Z"
   },
   {
    "duration": 0,
    "start_time": "2025-06-21T08:53:09.267Z"
   },
   {
    "duration": 6874,
    "start_time": "2025-06-21T08:53:46.710Z"
   },
   {
    "duration": 7082,
    "start_time": "2025-06-21T08:54:04.009Z"
   },
   {
    "duration": 144,
    "start_time": "2025-06-21T09:00:25.900Z"
   },
   {
    "duration": 58,
    "start_time": "2025-06-21T12:03:53.668Z"
   },
   {
    "duration": 1586,
    "start_time": "2025-06-21T12:04:01.530Z"
   },
   {
    "duration": 4654,
    "start_time": "2025-06-21T12:04:03.119Z"
   },
   {
    "duration": 19,
    "start_time": "2025-06-21T12:04:07.775Z"
   },
   {
    "duration": 167,
    "start_time": "2025-06-21T12:04:07.796Z"
   },
   {
    "duration": 109,
    "start_time": "2025-06-21T12:04:07.965Z"
   },
   {
    "duration": 16,
    "start_time": "2025-06-21T12:04:08.076Z"
   },
   {
    "duration": 80,
    "start_time": "2025-06-21T12:04:08.094Z"
   },
   {
    "duration": 42,
    "start_time": "2025-06-21T12:04:08.176Z"
   },
   {
    "duration": 46,
    "start_time": "2025-06-21T12:04:08.220Z"
   },
   {
    "duration": 13,
    "start_time": "2025-06-21T12:04:08.269Z"
   },
   {
    "duration": 10,
    "start_time": "2025-06-21T12:04:08.284Z"
   },
   {
    "duration": 276,
    "start_time": "2025-06-21T12:04:08.296Z"
   },
   {
    "duration": 89,
    "start_time": "2025-06-21T12:04:08.574Z"
   },
   {
    "duration": 4,
    "start_time": "2025-06-21T12:04:08.665Z"
   },
   {
    "duration": 277,
    "start_time": "2025-06-21T12:04:08.671Z"
   },
   {
    "duration": 246,
    "start_time": "2025-06-21T12:04:08.952Z"
   },
   {
    "duration": 220,
    "start_time": "2025-06-21T12:04:09.200Z"
   },
   {
    "duration": 29,
    "start_time": "2025-06-21T12:04:09.422Z"
   },
   {
    "duration": 6975,
    "start_time": "2025-06-21T12:04:09.453Z"
   },
   {
    "duration": 626,
    "start_time": "2025-06-21T12:04:16.430Z"
   },
   {
    "duration": 6689,
    "start_time": "2025-06-21T12:04:17.058Z"
   },
   {
    "duration": 138,
    "start_time": "2025-06-21T12:04:23.752Z"
   },
   {
    "duration": 101,
    "start_time": "2025-06-21T12:04:23.892Z"
   },
   {
    "duration": 216,
    "start_time": "2025-06-21T12:04:23.995Z"
   },
   {
    "duration": 198,
    "start_time": "2025-06-21T12:04:24.213Z"
   },
   {
    "duration": 431,
    "start_time": "2025-06-21T12:04:24.413Z"
   },
   {
    "duration": 242,
    "start_time": "2025-06-21T12:04:24.847Z"
   },
   {
    "duration": 270,
    "start_time": "2025-06-21T12:04:25.094Z"
   },
   {
    "duration": 430,
    "start_time": "2025-06-21T12:04:25.366Z"
   },
   {
    "duration": 252,
    "start_time": "2025-06-21T12:04:25.798Z"
   },
   {
    "duration": 800,
    "start_time": "2025-06-21T12:04:26.052Z"
   },
   {
    "duration": 2,
    "start_time": "2025-06-21T12:04:26.854Z"
   },
   {
    "duration": 818,
    "start_time": "2025-06-21T12:04:26.858Z"
   },
   {
    "duration": 621,
    "start_time": "2025-06-21T12:04:27.677Z"
   },
   {
    "duration": 551,
    "start_time": "2025-06-21T12:04:28.300Z"
   },
   {
    "duration": 143,
    "start_time": "2025-06-21T12:04:28.853Z"
   },
   {
    "duration": 3734,
    "start_time": "2025-06-21T12:04:28.998Z"
   },
   {
    "duration": 16,
    "start_time": "2025-06-21T12:04:32.734Z"
   },
   {
    "duration": 116,
    "start_time": "2025-06-21T12:05:13.868Z"
   },
   {
    "duration": 144,
    "start_time": "2025-06-21T12:06:23.420Z"
   },
   {
    "duration": 841,
    "start_time": "2025-06-21T12:09:27.579Z"
   },
   {
    "duration": 925,
    "start_time": "2025-06-21T12:10:51.763Z"
   },
   {
    "duration": 3,
    "start_time": "2025-06-21T12:13:34.534Z"
   },
   {
    "duration": 95,
    "start_time": "2025-06-21T12:15:05.975Z"
   },
   {
    "duration": 630,
    "start_time": "2025-06-21T12:18:12.183Z"
   },
   {
    "duration": 643,
    "start_time": "2025-06-21T12:30:00.041Z"
   },
   {
    "duration": 598,
    "start_time": "2025-06-21T12:32:52.905Z"
   },
   {
    "duration": 1043,
    "start_time": "2025-06-21T13:35:12.345Z"
   },
   {
    "duration": 68,
    "start_time": "2025-06-21T13:37:50.881Z"
   },
   {
    "duration": 74,
    "start_time": "2025-06-21T13:40:58.263Z"
   },
   {
    "duration": 77,
    "start_time": "2025-06-21T13:42:08.121Z"
   },
   {
    "duration": 77,
    "start_time": "2025-06-21T13:46:27.845Z"
   },
   {
    "duration": 73,
    "start_time": "2025-06-21T13:48:46.877Z"
   },
   {
    "duration": 87,
    "start_time": "2025-06-21T13:54:40.682Z"
   },
   {
    "duration": 1174,
    "start_time": "2025-06-21T13:55:50.993Z"
   },
   {
    "duration": 1156,
    "start_time": "2025-06-21T13:55:55.708Z"
   },
   {
    "duration": 666,
    "start_time": "2025-06-21T13:56:27.654Z"
   },
   {
    "duration": 314,
    "start_time": "2025-06-21T14:02:30.107Z"
   },
   {
    "duration": 89,
    "start_time": "2025-06-21T14:05:07.945Z"
   },
   {
    "duration": 93,
    "start_time": "2025-06-21T14:06:11.652Z"
   },
   {
    "duration": 99,
    "start_time": "2025-06-21T14:08:12.996Z"
   },
   {
    "duration": 102,
    "start_time": "2025-06-21T14:09:48.300Z"
   },
   {
    "duration": 98,
    "start_time": "2025-06-21T14:15:54.253Z"
   },
   {
    "duration": 80,
    "start_time": "2025-06-21T14:16:09.320Z"
   },
   {
    "duration": 82,
    "start_time": "2025-06-21T14:16:16.856Z"
   },
   {
    "duration": 72,
    "start_time": "2025-06-21T14:17:29.581Z"
   },
   {
    "duration": 71,
    "start_time": "2025-06-21T14:17:40.751Z"
   },
   {
    "duration": 86,
    "start_time": "2025-06-21T14:19:05.471Z"
   },
   {
    "duration": 91,
    "start_time": "2025-06-21T14:20:35.538Z"
   },
   {
    "duration": 82,
    "start_time": "2025-06-21T14:26:38.211Z"
   },
   {
    "duration": 78,
    "start_time": "2025-06-21T14:28:25.454Z"
   },
   {
    "duration": 78,
    "start_time": "2025-06-21T14:29:06.494Z"
   },
   {
    "duration": 82,
    "start_time": "2025-06-21T14:32:16.751Z"
   },
   {
    "duration": 80,
    "start_time": "2025-06-21T14:36:06.165Z"
   },
   {
    "duration": 115,
    "start_time": "2025-06-21T14:37:01.512Z"
   },
   {
    "duration": 76,
    "start_time": "2025-06-21T14:37:35.487Z"
   },
   {
    "duration": 152,
    "start_time": "2025-06-21T14:40:13.354Z"
   },
   {
    "duration": 3,
    "start_time": "2025-06-21T14:40:32.450Z"
   },
   {
    "duration": 1970,
    "start_time": "2025-06-21T14:40:34.641Z"
   },
   {
    "duration": 168,
    "start_time": "2025-06-21T14:40:41.762Z"
   },
   {
    "duration": 126,
    "start_time": "2025-06-21T14:41:06.867Z"
   },
   {
    "duration": 80,
    "start_time": "2025-06-21T14:43:31.122Z"
   },
   {
    "duration": 117,
    "start_time": "2025-06-21T14:46:39.395Z"
   },
   {
    "duration": 76,
    "start_time": "2025-06-21T14:49:17.801Z"
   },
   {
    "duration": 135,
    "start_time": "2025-06-21T14:49:24.050Z"
   },
   {
    "duration": 8,
    "start_time": "2025-06-21T14:49:28.841Z"
   },
   {
    "duration": 84,
    "start_time": "2025-06-21T14:52:14.212Z"
   },
   {
    "duration": 1173,
    "start_time": "2025-06-22T12:12:35.309Z"
   },
   {
    "duration": 1447,
    "start_time": "2025-06-22T12:12:36.484Z"
   },
   {
    "duration": 18,
    "start_time": "2025-06-22T12:12:37.932Z"
   },
   {
    "duration": 113,
    "start_time": "2025-06-22T12:12:37.951Z"
   },
   {
    "duration": 96,
    "start_time": "2025-06-22T12:12:38.066Z"
   },
   {
    "duration": 11,
    "start_time": "2025-06-22T12:12:38.163Z"
   },
   {
    "duration": 21,
    "start_time": "2025-06-22T12:12:38.176Z"
   },
   {
    "duration": 13,
    "start_time": "2025-06-22T12:12:38.199Z"
   },
   {
    "duration": 25,
    "start_time": "2025-06-22T12:12:38.213Z"
   },
   {
    "duration": 11,
    "start_time": "2025-06-22T12:12:38.240Z"
   },
   {
    "duration": 15,
    "start_time": "2025-06-22T12:12:38.252Z"
   },
   {
    "duration": 260,
    "start_time": "2025-06-22T12:12:38.268Z"
   },
   {
    "duration": 64,
    "start_time": "2025-06-22T12:12:38.530Z"
   },
   {
    "duration": 6,
    "start_time": "2025-06-22T12:12:38.597Z"
   },
   {
    "duration": 336,
    "start_time": "2025-06-22T12:12:38.604Z"
   },
   {
    "duration": 220,
    "start_time": "2025-06-22T12:12:38.942Z"
   },
   {
    "duration": 188,
    "start_time": "2025-06-22T12:12:39.164Z"
   },
   {
    "duration": 78,
    "start_time": "2025-06-22T12:12:39.354Z"
   },
   {
    "duration": 6322,
    "start_time": "2025-06-22T12:12:39.433Z"
   },
   {
    "duration": 512,
    "start_time": "2025-06-22T12:12:45.757Z"
   },
   {
    "duration": 6045,
    "start_time": "2025-06-22T12:12:46.271Z"
   },
   {
    "duration": 138,
    "start_time": "2025-06-22T12:12:52.317Z"
   },
   {
    "duration": 91,
    "start_time": "2025-06-22T12:12:52.457Z"
   },
   {
    "duration": 196,
    "start_time": "2025-06-22T12:12:52.550Z"
   },
   {
    "duration": 189,
    "start_time": "2025-06-22T12:12:52.748Z"
   },
   {
    "duration": 418,
    "start_time": "2025-06-22T12:12:52.939Z"
   },
   {
    "duration": 234,
    "start_time": "2025-06-22T12:12:53.359Z"
   },
   {
    "duration": 255,
    "start_time": "2025-06-22T12:12:53.595Z"
   },
   {
    "duration": 430,
    "start_time": "2025-06-22T12:12:53.852Z"
   },
   {
    "duration": 3,
    "start_time": "2025-06-22T12:12:54.284Z"
   },
   {
    "duration": 851,
    "start_time": "2025-06-22T12:12:54.289Z"
   },
   {
    "duration": 748,
    "start_time": "2025-06-22T12:12:55.142Z"
   },
   {
    "duration": 114,
    "start_time": "2025-06-22T12:12:55.891Z"
   },
   {
    "duration": 89,
    "start_time": "2025-06-22T12:12:56.007Z"
   },
   {
    "duration": 124,
    "start_time": "2025-06-22T12:12:56.097Z"
   },
   {
    "duration": 159,
    "start_time": "2025-06-22T12:12:56.223Z"
   },
   {
    "duration": 8,
    "start_time": "2025-06-22T12:12:56.384Z"
   },
   {
    "duration": 54,
    "start_time": "2025-06-22T12:51:29.790Z"
   },
   {
    "duration": 1511,
    "start_time": "2025-06-22T12:51:40.044Z"
   },
   {
    "duration": 1661,
    "start_time": "2025-06-22T12:51:41.560Z"
   },
   {
    "duration": 18,
    "start_time": "2025-06-22T12:51:43.223Z"
   },
   {
    "duration": 108,
    "start_time": "2025-06-22T12:51:43.243Z"
   },
   {
    "duration": 101,
    "start_time": "2025-06-22T12:51:43.352Z"
   },
   {
    "duration": 19,
    "start_time": "2025-06-22T12:51:43.454Z"
   },
   {
    "duration": 24,
    "start_time": "2025-06-22T12:51:43.476Z"
   },
   {
    "duration": 23,
    "start_time": "2025-06-22T12:51:43.502Z"
   },
   {
    "duration": 88,
    "start_time": "2025-06-22T12:51:43.527Z"
   },
   {
    "duration": 14,
    "start_time": "2025-06-22T12:51:43.618Z"
   },
   {
    "duration": 6,
    "start_time": "2025-06-22T12:51:43.634Z"
   },
   {
    "duration": 319,
    "start_time": "2025-06-22T12:51:43.642Z"
   },
   {
    "duration": 81,
    "start_time": "2025-06-22T12:51:43.963Z"
   },
   {
    "duration": 2,
    "start_time": "2025-06-22T12:51:44.046Z"
   },
   {
    "duration": 352,
    "start_time": "2025-06-22T12:51:44.050Z"
   },
   {
    "duration": 290,
    "start_time": "2025-06-22T12:51:44.403Z"
   },
   {
    "duration": 238,
    "start_time": "2025-06-22T12:51:44.695Z"
   },
   {
    "duration": 3,
    "start_time": "2025-06-22T12:51:44.934Z"
   },
   {
    "duration": 7354,
    "start_time": "2025-06-22T12:51:44.938Z"
   },
   {
    "duration": 557,
    "start_time": "2025-06-22T12:51:52.294Z"
   },
   {
    "duration": 7092,
    "start_time": "2025-06-22T12:51:52.853Z"
   },
   {
    "duration": 163,
    "start_time": "2025-06-22T12:51:59.946Z"
   },
   {
    "duration": 113,
    "start_time": "2025-06-22T12:52:00.111Z"
   },
   {
    "duration": 249,
    "start_time": "2025-06-22T12:52:00.225Z"
   },
   {
    "duration": 226,
    "start_time": "2025-06-22T12:52:00.477Z"
   },
   {
    "duration": 457,
    "start_time": "2025-06-22T12:52:00.706Z"
   },
   {
    "duration": 278,
    "start_time": "2025-06-22T12:52:01.166Z"
   },
   {
    "duration": 338,
    "start_time": "2025-06-22T12:52:01.447Z"
   },
   {
    "duration": 465,
    "start_time": "2025-06-22T12:52:01.786Z"
   },
   {
    "duration": 1241,
    "start_time": "2025-06-22T12:52:02.260Z"
   },
   {
    "duration": 897,
    "start_time": "2025-06-22T12:52:03.503Z"
   },
   {
    "duration": 1302,
    "start_time": "2025-06-22T12:52:04.402Z"
   },
   {
    "duration": 303,
    "start_time": "2025-06-22T12:52:05.760Z"
   },
   {
    "duration": 222,
    "start_time": "2025-06-22T12:52:06.065Z"
   },
   {
    "duration": 306,
    "start_time": "2025-06-22T12:52:06.289Z"
   },
   {
    "duration": 349,
    "start_time": "2025-06-22T12:52:06.596Z"
   },
   {
    "duration": 14,
    "start_time": "2025-06-22T12:52:06.946Z"
   },
   {
    "duration": 4816,
    "start_time": "2025-06-22T12:56:26.301Z"
   },
   {
    "duration": 4741,
    "start_time": "2025-06-22T12:56:31.931Z"
   },
   {
    "duration": 1345,
    "start_time": "2025-06-22T12:58:54.853Z"
   },
   {
    "duration": 1642,
    "start_time": "2025-06-22T13:09:10.318Z"
   },
   {
    "duration": 616,
    "start_time": "2025-06-22T13:13:32.039Z"
   },
   {
    "duration": 1545,
    "start_time": "2025-06-22T13:20:30.233Z"
   },
   {
    "duration": 94,
    "start_time": "2025-06-22T13:23:12.572Z"
   },
   {
    "duration": 1131,
    "start_time": "2025-06-23T09:36:35.682Z"
   },
   {
    "duration": 2648,
    "start_time": "2025-06-23T09:36:36.815Z"
   },
   {
    "duration": 17,
    "start_time": "2025-06-23T09:36:39.465Z"
   },
   {
    "duration": 109,
    "start_time": "2025-06-23T09:36:39.484Z"
   },
   {
    "duration": 92,
    "start_time": "2025-06-23T09:36:39.595Z"
   },
   {
    "duration": 12,
    "start_time": "2025-06-23T09:36:39.688Z"
   },
   {
    "duration": 36,
    "start_time": "2025-06-23T09:36:39.702Z"
   },
   {
    "duration": 14,
    "start_time": "2025-06-23T09:36:39.739Z"
   },
   {
    "duration": 129,
    "start_time": "2025-06-23T09:36:39.755Z"
   },
   {
    "duration": 12,
    "start_time": "2025-06-23T09:36:39.887Z"
   },
   {
    "duration": 7,
    "start_time": "2025-06-23T09:36:39.900Z"
   },
   {
    "duration": 276,
    "start_time": "2025-06-23T09:36:39.908Z"
   },
   {
    "duration": 70,
    "start_time": "2025-06-23T09:36:40.186Z"
   },
   {
    "duration": 3,
    "start_time": "2025-06-23T09:36:40.259Z"
   },
   {
    "duration": 237,
    "start_time": "2025-06-23T09:36:40.264Z"
   },
   {
    "duration": 216,
    "start_time": "2025-06-23T09:36:40.503Z"
   },
   {
    "duration": 191,
    "start_time": "2025-06-23T09:36:40.721Z"
   },
   {
    "duration": 6418,
    "start_time": "2025-06-23T09:36:40.914Z"
   },
   {
    "duration": 502,
    "start_time": "2025-06-23T09:36:47.335Z"
   },
   {
    "duration": 1485,
    "start_time": "2025-06-23T09:36:47.838Z"
   },
   {
    "duration": 114,
    "start_time": "2025-06-23T09:36:49.325Z"
   },
   {
    "duration": 232,
    "start_time": "2025-06-23T09:36:49.441Z"
   },
   {
    "duration": 189,
    "start_time": "2025-06-23T09:36:49.675Z"
   },
   {
    "duration": 454,
    "start_time": "2025-06-23T09:36:49.866Z"
   },
   {
    "duration": 355,
    "start_time": "2025-06-23T09:36:50.322Z"
   },
   {
    "duration": 259,
    "start_time": "2025-06-23T09:36:50.678Z"
   },
   {
    "duration": 449,
    "start_time": "2025-06-23T09:36:50.939Z"
   },
   {
    "duration": 1199,
    "start_time": "2025-06-23T09:36:51.392Z"
   },
   {
    "duration": 749,
    "start_time": "2025-06-23T09:36:52.593Z"
   },
   {
    "duration": 123,
    "start_time": "2025-06-23T09:36:53.344Z"
   },
   {
    "duration": 93,
    "start_time": "2025-06-23T09:36:53.469Z"
   },
   {
    "duration": 138,
    "start_time": "2025-06-23T09:36:53.564Z"
   },
   {
    "duration": 190,
    "start_time": "2025-06-23T09:36:53.704Z"
   },
   {
    "duration": 9,
    "start_time": "2025-06-23T09:36:53.896Z"
   }
  ],
  "colab": {
   "provenance": []
  },
  "kernelspec": {
   "display_name": "Python 3 (ipykernel)",
   "language": "python",
   "name": "python3"
  },
  "language_info": {
   "codemirror_mode": {
    "name": "ipython",
    "version": 3
   },
   "file_extension": ".py",
   "mimetype": "text/x-python",
   "name": "python",
   "nbconvert_exporter": "python",
   "pygments_lexer": "ipython3",
   "version": "3.9.5"
  },
  "toc": {
   "base_numbering": 1,
   "nav_menu": {},
   "number_sections": true,
   "sideBar": true,
   "skip_h1_title": true,
   "title_cell": "Table of Contents",
   "title_sidebar": "Contents",
   "toc_cell": false,
   "toc_position": {
    "height": "calc(100% - 180px)",
    "left": "10px",
    "top": "150px",
    "width": "270px"
   },
   "toc_section_display": true,
   "toc_window_display": true
  }
 },
 "nbformat": 4,
 "nbformat_minor": 1
}
