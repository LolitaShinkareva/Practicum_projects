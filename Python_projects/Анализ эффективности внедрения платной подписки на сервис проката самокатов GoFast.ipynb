{
 "cells": [
  {
   "cell_type": "markdown",
   "metadata": {
    "deletable": false,
    "editable": false,
    "id": "1xwNO7BJsK7k"
   },
   "source": [
    "# Анализ эффективности внедрения платной подписки на сервис проката самокатов GoFast\n",
    "\n",
    "Данный проект направлен на изучение демографического состава пользователей сервиса проката самокатов GoFast, выявление особенностей их поведения и потребления услуги, а также оценку потенциальной выгоды от расширения предложений платных подписок. Используя предоставленные данные о клиентах, истории поездок и сведения о ценах на подписку, команда должна выявить ключевые сегменты клиентов, разработать рекомендации по оптимизации тарифных планов и предложить стратегию продвижения платных подписок для увеличения доходов компании.\n",
    "Проект позволит лучше понять потребности целевой аудитории, повысить лояльность постоянных клиентов и привлечь новых подписчиков благодаря персонализированным условиям подписки и улучшению качества обслуживания.\n",
    "\n",
    "\n",
    "## Цель проекта\n",
    "\n",
    "Оценить потенциал повышения дохода сервиса проката самокатов GoFast путем анализа клиентской базы и разработки стратегии внедрения платных подписок."
   ]
  },
  {
   "cell_type": "markdown",
   "metadata": {
    "deletable": false,
    "editable": false,
    "id": "gzyXNgprsK7m"
   },
   "source": [
    "## Описание данных\n",
    "\n",
    "Таблица с пользователями `users_go.csv`\n",
    "\n",
    "- `user_id` — уникальный идентификатор пользователя.\n",
    "\n",
    "- `name` — имя пользователя.\n",
    "\n",
    "- `age` — возраст.\n",
    "\n",
    "- `city` — город.\n",
    "\n",
    "- `subscription_type` — тип подписки: `free`, `ultra`.\n",
    "\n",
    "Таблица с поездками `rides_go.csv`\n",
    "\n",
    "- `user_id` — уникальный идентификатор пользователя.\n",
    "\n",
    "- `distance` — расстояние в метрах, которое пользователь проехал в текущей сессии.\n",
    "\n",
    "- `duration` — продолжительность сессии в минутах, то есть время с того момента, как пользователь нажал кнопку «Начать поездку», до того, как он нажал кнопку «Завершить поездку».\n",
    "\n",
    "- `date` — дата совершения поездки.\n",
    "\n",
    "Таблица с подписками `subscriptions_go.csv`\n",
    "\n",
    "- `subscription_type` — тип подписки.\n",
    "\n",
    "- `minute_price` — стоимость одной минуты поездки по этой подписке.\n",
    "\n",
    "- `start_ride_price` — стоимость начала поездки.\n",
    "\n",
    "- `subscription_fee` — стоимость ежемесячного платежа."
   ]
  },
  {
   "cell_type": "markdown",
   "metadata": {
    "deletable": false,
    "editable": false,
    "id": "Gpc3MBZRsK7m"
   },
   "source": [
    "---\n",
    "### Задание 1. Загрузка данных"
   ]
  },
  {
   "cell_type": "markdown",
   "metadata": {
    "deletable": false,
    "editable": false,
    "id": "vSu11HpOsK7m",
    "tags": [
     "start_task"
    ]
   },
   "source": [
    "#### Задача 1.1 Импорт библиотеки pandas"
   ]
  },
  {
   "cell_type": "code",
   "execution_count": 2,
   "metadata": {
    "deletable": false,
    "id": "n97uaKsR7LbX"
   },
   "outputs": [],
   "source": [
    "import pandas as pd"
   ]
  },
  {
   "cell_type": "markdown",
   "metadata": {
    "deletable": false,
    "editable": false,
    "id": "iiB5hMdMsK7n",
    "tags": [
     "start_task"
    ]
   },
   "source": [
    "#### Задача 1.2 Чтение данных"
   ]
  },
  {
   "cell_type": "code",
   "execution_count": 3,
   "metadata": {
    "deletable": false,
    "id": "jvIwXMOz7HaE"
   },
   "outputs": [],
   "source": [
    "df_users_go = pd.read_csv('https://code.s3.yandex.net/datasets/users_go.csv')\n",
    "df_rides_go = pd.read_csv('https://code.s3.yandex.net/datasets/rides_go.csv')\n",
    "df_subscriptions_go = pd.read_csv('https://code.s3.yandex.net/datasets/subscriptions_go.csv')\n"
   ]
  },
  {
   "cell_type": "markdown",
   "metadata": {
    "deletable": false,
    "editable": false,
    "id": "sO6J_nPe7aUd"
   },
   "source": [
    "<details>\n",
    "<summary>Открыть подсказку</summary>\n",
    "Чтобы распечатать несколько датафреймов в одной ячейке, можно воспользоваться функцией <code>display()</code>.\n",
    "</details>"
   ]
  },
  {
   "cell_type": "markdown",
   "metadata": {
    "deletable": false,
    "editable": false,
    "id": "zw-1DjajsK7o",
    "tags": [
     "start_task"
    ]
   },
   "source": [
    "#### Задача 1.3 Печать первых строк"
   ]
  },
  {
   "cell_type": "code",
   "execution_count": 4,
   "metadata": {
    "deletable": false,
    "id": "7aqE6vqSHZE-"
   },
   "outputs": [
    {
     "data": {
      "application/vnd.microsoft.datawrangler.viewer.v0+json": {
       "columns": [
        {
         "name": "index",
         "rawType": "int64",
         "type": "integer"
        },
        {
         "name": "user_id",
         "rawType": "int64",
         "type": "integer"
        },
        {
         "name": "name",
         "rawType": "object",
         "type": "string"
        },
        {
         "name": "age",
         "rawType": "int64",
         "type": "integer"
        },
        {
         "name": "city",
         "rawType": "object",
         "type": "string"
        },
        {
         "name": "subscription_type",
         "rawType": "object",
         "type": "string"
        }
       ],
       "ref": "dbbe3bf9-9947-4292-b72d-de3e739b553a",
       "rows": [
        [
         "0",
         "1",
         "Кира",
         "22",
         "Тюмень",
         "ultra"
        ],
        [
         "1",
         "2",
         "Станислав",
         "31",
         "Омск",
         "ultra"
        ],
        [
         "2",
         "3",
         "Алексей",
         "20",
         "Москва",
         "ultra"
        ],
        [
         "3",
         "4",
         "Константин",
         "26",
         "Ростов-на-Дону",
         "ultra"
        ],
        [
         "4",
         "5",
         "Адель",
         "28",
         "Омск",
         "ultra"
        ]
       ],
       "shape": {
        "columns": 5,
        "rows": 5
       }
      },
      "text/html": [
       "<div>\n",
       "<style scoped>\n",
       "    .dataframe tbody tr th:only-of-type {\n",
       "        vertical-align: middle;\n",
       "    }\n",
       "\n",
       "    .dataframe tbody tr th {\n",
       "        vertical-align: top;\n",
       "    }\n",
       "\n",
       "    .dataframe thead th {\n",
       "        text-align: right;\n",
       "    }\n",
       "</style>\n",
       "<table border=\"1\" class=\"dataframe\">\n",
       "  <thead>\n",
       "    <tr style=\"text-align: right;\">\n",
       "      <th></th>\n",
       "      <th>user_id</th>\n",
       "      <th>name</th>\n",
       "      <th>age</th>\n",
       "      <th>city</th>\n",
       "      <th>subscription_type</th>\n",
       "    </tr>\n",
       "  </thead>\n",
       "  <tbody>\n",
       "    <tr>\n",
       "      <th>0</th>\n",
       "      <td>1</td>\n",
       "      <td>Кира</td>\n",
       "      <td>22</td>\n",
       "      <td>Тюмень</td>\n",
       "      <td>ultra</td>\n",
       "    </tr>\n",
       "    <tr>\n",
       "      <th>1</th>\n",
       "      <td>2</td>\n",
       "      <td>Станислав</td>\n",
       "      <td>31</td>\n",
       "      <td>Омск</td>\n",
       "      <td>ultra</td>\n",
       "    </tr>\n",
       "    <tr>\n",
       "      <th>2</th>\n",
       "      <td>3</td>\n",
       "      <td>Алексей</td>\n",
       "      <td>20</td>\n",
       "      <td>Москва</td>\n",
       "      <td>ultra</td>\n",
       "    </tr>\n",
       "    <tr>\n",
       "      <th>3</th>\n",
       "      <td>4</td>\n",
       "      <td>Константин</td>\n",
       "      <td>26</td>\n",
       "      <td>Ростов-на-Дону</td>\n",
       "      <td>ultra</td>\n",
       "    </tr>\n",
       "    <tr>\n",
       "      <th>4</th>\n",
       "      <td>5</td>\n",
       "      <td>Адель</td>\n",
       "      <td>28</td>\n",
       "      <td>Омск</td>\n",
       "      <td>ultra</td>\n",
       "    </tr>\n",
       "  </tbody>\n",
       "</table>\n",
       "</div>"
      ],
      "text/plain": [
       "   user_id        name  age            city subscription_type\n",
       "0        1        Кира   22          Тюмень             ultra\n",
       "1        2   Станислав   31            Омск             ultra\n",
       "2        3     Алексей   20          Москва             ultra\n",
       "3        4  Константин   26  Ростов-на-Дону             ultra\n",
       "4        5       Адель   28            Омск             ultra"
      ]
     },
     "metadata": {},
     "output_type": "display_data"
    },
    {
     "data": {
      "application/vnd.microsoft.datawrangler.viewer.v0+json": {
       "columns": [
        {
         "name": "index",
         "rawType": "int64",
         "type": "integer"
        },
        {
         "name": "user_id",
         "rawType": "int64",
         "type": "integer"
        },
        {
         "name": "distance",
         "rawType": "float64",
         "type": "float"
        },
        {
         "name": "duration",
         "rawType": "float64",
         "type": "float"
        },
        {
         "name": "date",
         "rawType": "object",
         "type": "string"
        }
       ],
       "ref": "982a93a5-834d-400f-b2c5-dd90e4d57eb9",
       "rows": [
        [
         "0",
         "1",
         "4409.919140196136",
         "25.59976897198896",
         "2021-01-01"
        ],
        [
         "1",
         "1",
         "2617.5921534552563",
         "15.816871452122792",
         "2021-01-18"
        ],
        [
         "2",
         "1",
         "754.1598069611837",
         "6.232113458405072",
         "2021-04-20"
        ],
        [
         "3",
         "1",
         "2694.7832537889467",
         "18.510999719255103",
         "2021-08-11"
        ],
        [
         "4",
         "1",
         "4028.6873061660526",
         "26.265802740711653",
         "2021-08-28"
        ]
       ],
       "shape": {
        "columns": 4,
        "rows": 5
       }
      },
      "text/html": [
       "<div>\n",
       "<style scoped>\n",
       "    .dataframe tbody tr th:only-of-type {\n",
       "        vertical-align: middle;\n",
       "    }\n",
       "\n",
       "    .dataframe tbody tr th {\n",
       "        vertical-align: top;\n",
       "    }\n",
       "\n",
       "    .dataframe thead th {\n",
       "        text-align: right;\n",
       "    }\n",
       "</style>\n",
       "<table border=\"1\" class=\"dataframe\">\n",
       "  <thead>\n",
       "    <tr style=\"text-align: right;\">\n",
       "      <th></th>\n",
       "      <th>user_id</th>\n",
       "      <th>distance</th>\n",
       "      <th>duration</th>\n",
       "      <th>date</th>\n",
       "    </tr>\n",
       "  </thead>\n",
       "  <tbody>\n",
       "    <tr>\n",
       "      <th>0</th>\n",
       "      <td>1</td>\n",
       "      <td>4409.919140</td>\n",
       "      <td>25.599769</td>\n",
       "      <td>2021-01-01</td>\n",
       "    </tr>\n",
       "    <tr>\n",
       "      <th>1</th>\n",
       "      <td>1</td>\n",
       "      <td>2617.592153</td>\n",
       "      <td>15.816871</td>\n",
       "      <td>2021-01-18</td>\n",
       "    </tr>\n",
       "    <tr>\n",
       "      <th>2</th>\n",
       "      <td>1</td>\n",
       "      <td>754.159807</td>\n",
       "      <td>6.232113</td>\n",
       "      <td>2021-04-20</td>\n",
       "    </tr>\n",
       "    <tr>\n",
       "      <th>3</th>\n",
       "      <td>1</td>\n",
       "      <td>2694.783254</td>\n",
       "      <td>18.511000</td>\n",
       "      <td>2021-08-11</td>\n",
       "    </tr>\n",
       "    <tr>\n",
       "      <th>4</th>\n",
       "      <td>1</td>\n",
       "      <td>4028.687306</td>\n",
       "      <td>26.265803</td>\n",
       "      <td>2021-08-28</td>\n",
       "    </tr>\n",
       "  </tbody>\n",
       "</table>\n",
       "</div>"
      ],
      "text/plain": [
       "   user_id     distance   duration        date\n",
       "0        1  4409.919140  25.599769  2021-01-01\n",
       "1        1  2617.592153  15.816871  2021-01-18\n",
       "2        1   754.159807   6.232113  2021-04-20\n",
       "3        1  2694.783254  18.511000  2021-08-11\n",
       "4        1  4028.687306  26.265803  2021-08-28"
      ]
     },
     "metadata": {},
     "output_type": "display_data"
    },
    {
     "data": {
      "application/vnd.microsoft.datawrangler.viewer.v0+json": {
       "columns": [
        {
         "name": "index",
         "rawType": "int64",
         "type": "integer"
        },
        {
         "name": "subscription_type",
         "rawType": "object",
         "type": "string"
        },
        {
         "name": "minute_price",
         "rawType": "int64",
         "type": "integer"
        },
        {
         "name": "start_ride_price",
         "rawType": "int64",
         "type": "integer"
        },
        {
         "name": "subscription_fee",
         "rawType": "int64",
         "type": "integer"
        }
       ],
       "ref": "e54263f5-aea8-41cc-900b-1d50fda8b051",
       "rows": [
        [
         "0",
         "free",
         "8",
         "50",
         "0"
        ],
        [
         "1",
         "ultra",
         "6",
         "0",
         "199"
        ]
       ],
       "shape": {
        "columns": 4,
        "rows": 2
       }
      },
      "text/html": [
       "<div>\n",
       "<style scoped>\n",
       "    .dataframe tbody tr th:only-of-type {\n",
       "        vertical-align: middle;\n",
       "    }\n",
       "\n",
       "    .dataframe tbody tr th {\n",
       "        vertical-align: top;\n",
       "    }\n",
       "\n",
       "    .dataframe thead th {\n",
       "        text-align: right;\n",
       "    }\n",
       "</style>\n",
       "<table border=\"1\" class=\"dataframe\">\n",
       "  <thead>\n",
       "    <tr style=\"text-align: right;\">\n",
       "      <th></th>\n",
       "      <th>subscription_type</th>\n",
       "      <th>minute_price</th>\n",
       "      <th>start_ride_price</th>\n",
       "      <th>subscription_fee</th>\n",
       "    </tr>\n",
       "  </thead>\n",
       "  <tbody>\n",
       "    <tr>\n",
       "      <th>0</th>\n",
       "      <td>free</td>\n",
       "      <td>8</td>\n",
       "      <td>50</td>\n",
       "      <td>0</td>\n",
       "    </tr>\n",
       "    <tr>\n",
       "      <th>1</th>\n",
       "      <td>ultra</td>\n",
       "      <td>6</td>\n",
       "      <td>0</td>\n",
       "      <td>199</td>\n",
       "    </tr>\n",
       "  </tbody>\n",
       "</table>\n",
       "</div>"
      ],
      "text/plain": [
       "  subscription_type  minute_price  start_ride_price  subscription_fee\n",
       "0              free             8                50                 0\n",
       "1             ultra             6                 0               199"
      ]
     },
     "metadata": {},
     "output_type": "display_data"
    }
   ],
   "source": [
    "display(df_users_go.head())\n",
    "display(df_rides_go.head())\n",
    "display(df_subscriptions_go.head())"
   ]
  },
  {
   "cell_type": "markdown",
   "metadata": {
    "deletable": false,
    "editable": false,
    "id": "zjZVYVQ3sK7p",
    "tags": [
     "start_task"
    ]
   },
   "source": [
    "#### Задача 1.4 Подсчёт строк"
   ]
  },
  {
   "cell_type": "code",
   "execution_count": 5,
   "metadata": {
    "deletable": false,
    "id": "I-mEFxuHHavX",
    "scrolled": true
   },
   "outputs": [
    {
     "name": "stdout",
     "output_type": "stream",
     "text": [
      "1565 18068 2\n"
     ]
    }
   ],
   "source": [
    "print (len(df_users_go), len(df_rides_go), len(df_subscriptions_go))"
   ]
  },
  {
   "cell_type": "markdown",
   "metadata": {
    "deletable": false,
    "editable": false,
    "id": "xXmiI6QYsK7q"
   },
   "source": [
    "---\n",
    "### Задание 2. Знакомство с данными и их предварительная подготовка\n"
   ]
  },
  {
   "cell_type": "markdown",
   "metadata": {
    "deletable": false,
    "editable": false,
    "id": "2D6UywOBsK7q",
    "tags": [
     "start_task"
    ]
   },
   "source": [
    "#### Задача 2.1 Определение типов данных"
   ]
  },
  {
   "cell_type": "code",
   "execution_count": 6,
   "metadata": {
    "deletable": false,
    "id": "B40wZ2cnHfAM"
   },
   "outputs": [
    {
     "data": {
      "application/vnd.microsoft.datawrangler.viewer.v0+json": {
       "columns": [
        {
         "name": "index",
         "rawType": "object",
         "type": "string"
        },
        {
         "name": "0",
         "rawType": "object",
         "type": "unknown"
        }
       ],
       "ref": "5b1a765b-92fe-43cb-83fd-945b30716985",
       "rows": [
        [
         "user_id",
         "int64"
        ],
        [
         "distance",
         "float64"
        ],
        [
         "duration",
         "float64"
        ],
        [
         "date",
         "object"
        ]
       ],
       "shape": {
        "columns": 1,
        "rows": 4
       }
      },
      "text/plain": [
       "user_id       int64\n",
       "distance    float64\n",
       "duration    float64\n",
       "date         object\n",
       "dtype: object"
      ]
     },
     "execution_count": 6,
     "metadata": {},
     "output_type": "execute_result"
    }
   ],
   "source": [
    "df_rides_go.dtypes "
   ]
  },
  {
   "cell_type": "markdown",
   "metadata": {
    "deletable": false,
    "editable": false,
    "id": "R0EN6gRJsK7r",
    "tags": [
     "start_task"
    ]
   },
   "source": [
    "#### Задача 2.2 Преобразование формата даты"
   ]
  },
  {
   "cell_type": "code",
   "execution_count": 7,
   "metadata": {
    "deletable": false,
    "id": "flLYZquqHggn"
   },
   "outputs": [],
   "source": [
    "df_rides_go['date'] = pd.to_datetime(df_rides_go['date'])"
   ]
  },
  {
   "cell_type": "markdown",
   "metadata": {
    "deletable": false,
    "editable": false,
    "id": "RVxOqAqtsK7r",
    "tags": [
     "start_task"
    ]
   },
   "source": [
    "#### Задача 2.3 Создание столбца с месяцем"
   ]
  },
  {
   "cell_type": "code",
   "execution_count": 8,
   "metadata": {
    "deletable": false,
    "id": "LYkUO3EnHhu5"
   },
   "outputs": [],
   "source": [
    "df_rides_go['month'] = df_rides_go['date'].dt.month"
   ]
  },
  {
   "cell_type": "markdown",
   "metadata": {
    "deletable": false,
    "editable": false,
    "id": "u69-EsMDsK7w"
   },
   "source": [
    "#### Задача 2.4 Поиск дублей и пропусков"
   ]
  },
  {
   "cell_type": "code",
   "execution_count": 9,
   "metadata": {
    "deletable": false,
    "id": "Bsfa7IX3Hi7w"
   },
   "outputs": [
    {
     "name": "stdout",
     "output_type": "stream",
     "text": [
      "0 31\n"
     ]
    }
   ],
   "source": [
    "missing_values = df_users_go.isna().sum().sum()\n",
    "duplicate_rows = df_users_go.duplicated().sum()\n",
    "\n",
    "print(missing_values, duplicate_rows)"
   ]
  },
  {
   "cell_type": "markdown",
   "metadata": {
    "deletable": false,
    "editable": false,
    "id": "0n5_KBqtsK7y",
    "tags": [
     "start_task"
    ]
   },
   "source": [
    "#### Задача 2.5 Заполнение пропусков и удаление дублей"
   ]
  },
  {
   "cell_type": "code",
   "execution_count": 10,
   "metadata": {
    "deletable": false,
    "id": "X75yCyl_HkUS"
   },
   "outputs": [],
   "source": [
    "df_users_go.drop_duplicates(inplace=True)"
   ]
  },
  {
   "cell_type": "markdown",
   "metadata": {
    "deletable": false,
    "editable": false,
    "id": "kAGj3NxDsK7z"
   },
   "source": [
    "#### Задача 2.6 Округление длительности поездки"
   ]
  },
  {
   "cell_type": "code",
   "execution_count": 11,
   "metadata": {
    "deletable": false,
    "id": "pm5FYnl_HlSd"
   },
   "outputs": [],
   "source": [
    "df_rides_go['duration'] = df_rides_go['duration'].round().astype(int)"
   ]
  },
  {
   "cell_type": "markdown",
   "metadata": {
    "deletable": false,
    "editable": false,
    "id": "r5kzIOGGsK7z"
   },
   "source": [
    "---\n",
    "### Задание 3. Исследовательский анализ данных\n"
   ]
  },
  {
   "cell_type": "markdown",
   "metadata": {
    "deletable": false,
    "editable": false,
    "id": "mnLLcghssK70",
    "tags": [
     "start_task"
    ]
   },
   "source": [
    "#### Задача 3.1 Импорт библиотеки matplotlib\n",
    "Импортируйте библиотеку matplotlib.pyplot с сокращением `plt`."
   ]
  },
  {
   "cell_type": "code",
   "execution_count": 12,
   "metadata": {
    "deletable": false,
    "id": "gtf8ylhTHnBO"
   },
   "outputs": [],
   "source": [
    "import matplotlib.pyplot as plt"
   ]
  },
  {
   "cell_type": "markdown",
   "metadata": {
    "deletable": false,
    "editable": false,
    "id": "v4xEIrk1sK70",
    "tags": [
     "start_task"
    ]
   },
   "source": [
    "#### Задача 3.2 Количество пользователей по городам."
   ]
  },
  {
   "cell_type": "code",
   "execution_count": 13,
   "metadata": {
    "deletable": false,
    "id": "rkqVGZ9HHoXm"
   },
   "outputs": [
    {
     "name": "stdout",
     "output_type": "stream",
     "text": [
      "city\n",
      "Пятигорск         219\n",
      "Екатеринбург      204\n",
      "Ростов-на-Дону    198\n",
      "Краснодар         193\n",
      "Сочи              189\n",
      "Омск              183\n",
      "Тюмень            180\n",
      "Москва            168\n",
      "Name: count, dtype: int64\n"
     ]
    }
   ],
   "source": [
    "users_by_city_count = df_users_go['city'].value_counts().sort_values(ascending=False)\n",
    "users_by_city_count.city = 'count'\n",
    "\n",
    "print(users_by_city_count)"
   ]
  },
  {
   "cell_type": "markdown",
   "metadata": {
    "deletable": false,
    "editable": false,
    "id": "T4MURCh8sK76",
    "tags": [
     "start_task"
    ]
   },
   "source": [
    "#### Задача 3.3 Количество пользователей подписки"
   ]
  },
  {
   "cell_type": "code",
   "execution_count": 14,
   "metadata": {
    "deletable": false,
    "id": "Fc_B3eFvHpum"
   },
   "outputs": [
    {
     "name": "stdout",
     "output_type": "stream",
     "text": [
      "subscription_type\n",
      "free     835\n",
      "ultra    699\n",
      "Name: subscription_type, dtype: int64\n"
     ]
    }
   ],
   "source": [
    "subscription_type_count = df_users_go['subscription_type'].value_counts()\n",
    "subscription_type_count.name = 'subscription_type'\n",
    "\n",
    "print(subscription_type_count)"
   ]
  },
  {
   "cell_type": "markdown",
   "metadata": {
    "deletable": false,
    "editable": false,
    "id": "O3lz5rR4sK77",
    "tags": [
     "start_task"
    ]
   },
   "source": [
    "#### Задача 3.4 Круговая диаграмма"
   ]
  },
  {
   "cell_type": "code",
   "execution_count": 15,
   "metadata": {
    "deletable": false,
    "id": "xdIJI_KoHr7b"
   },
   "outputs": [
    {
     "data": {
      "image/png": "[encoded data removed]",
      "text/plain": [
       "<Figure size 640x480 with 1 Axes>"
      ]
     },
     "metadata": {},
     "output_type": "display_data"
    }
   ],
   "source": [
    "subscription_type_count.plot(\n",
    "    kind='pie',\n",
    "    title='Соотношение пользователей с подпиской и без подписки',\n",
    "    autopct='%.0f%%', \n",
    "    ylabel='', \n",
    "    colors=['red', 'green'] \n",
    ")\n",
    "\n",
    "plt.show()"
   ]
  },
  {
   "cell_type": "markdown",
   "metadata": {
    "deletable": false,
    "editable": false,
    "id": "AghuPrntsK78",
    "tags": [
     "start_task"
    ]
   },
   "source": [
    "#### Задача 3.5 Гистограмма возрастов"
   ]
  },
  {
   "cell_type": "code",
   "execution_count": 16,
   "metadata": {
    "deletable": false,
    "id": "E-0ubIOKmbCR"
   },
   "outputs": [
    {
     "data": {
      "image/png": "[encoded data removed]",
      "text/plain": [
       "<Figure size 640x480 with 1 Axes>"
      ]
     },
     "metadata": {},
     "output_type": "display_data"
    }
   ],
   "source": [
    "n_bins = df_users_go['age'].max() - df_users_go['age'].min()\n",
    "\n",
    "df_users_go['age'].hist(bins=n_bins)\n",
    "\n",
    "plt.title('Возраст пользователей')\n",
    "plt.xlabel('Возраст')\n",
    "\n",
    "plt.show()"
   ]
  },
  {
   "cell_type": "markdown",
   "metadata": {
    "deletable": false,
    "editable": false,
    "id": "s0gjcXIasK7-",
    "tags": [
     "start_task"
    ]
   },
   "source": [
    "#### Задача 3.6 Несовершеннолетние пользователи"
   ]
  },
  {
   "cell_type": "code",
   "execution_count": 17,
   "metadata": {
    "deletable": false,
    "id": "OR-1q5LJI9UK",
    "scrolled": true
   },
   "outputs": [
    {
     "name": "stdout",
     "output_type": "stream",
     "text": [
      "Доля несовершеннолетних пользователей самокатов составляет 5%.\n"
     ]
    }
   ],
   "source": [
    "users_under_18 = len(df_users_go[df_users_go['age'] < 18])\n",
    "total_users = df_users_go.shape[0]\n",
    "users_under_18_ratio = round(users_under_18 / total_users * 100)\n",
    "\n",
    "print(f'Доля несовершеннолетних пользователей самокатов составляет {users_under_18_ratio}%.')"
   ]
  },
  {
   "cell_type": "markdown",
   "metadata": {
    "deletable": false,
    "editable": false,
    "id": "FK3h1H-nP5NW",
    "tags": [
     "start_task"
    ]
   },
   "source": [
    "#### Задача 3.7 Характеристики длительности поездки\n"
   ]
  },
  {
   "cell_type": "code",
   "execution_count": 18,
   "metadata": {
    "deletable": false,
    "id": "Gnhi9BqZKr3-"
   },
   "outputs": [
    {
     "name": "stdout",
     "output_type": "stream",
     "text": [
      "Средняя длительность поездки 18 минут со стандартным отклонением 6. Основная часть поездок занимает от 14 до 22 минут.\n"
     ]
    }
   ],
   "source": [
    "duration_mean = round(df_rides_go['duration'].mean())\n",
    "duration_std =round(df_rides_go['duration'].std())\n",
    "\n",
    "duration_pct25 = round(df_rides_go['duration'].quantile(0.25))\n",
    "duration_pct75 = round(df_rides_go['duration'].quantile(0.75))\n",
    "\n",
    "print(f'Средняя длительность поездки {duration_mean} минут со стандартным отклонением {duration_std}. Основная часть поездок занимает от {duration_pct25} до {duration_pct75} минут.')"
   ]
  },
  {
   "cell_type": "markdown",
   "metadata": {
    "deletable": false,
    "editable": false,
    "id": "tyrEdxs0sK8C"
   },
   "source": [
    "---\n",
    "### Задание 4. Объединение данных"
   ]
  },
  {
   "cell_type": "markdown",
   "metadata": {
    "deletable": false,
    "editable": false,
    "id": "diTj4AtBsK8C",
    "tags": [
     "start_task"
    ]
   },
   "source": [
    "#### Задача 4.1 Объединение таблицы пользователей и поездок"
   ]
  },
  {
   "cell_type": "code",
   "execution_count": 19,
   "metadata": {
    "deletable": false,
    "id": "WwPCouN0nhPk"
   },
   "outputs": [],
   "source": [
    "df = pd.merge(df_users_go, df_rides_go, on='user_id', how='left')"
   ]
  },
  {
   "cell_type": "markdown",
   "metadata": {
    "deletable": false,
    "editable": false,
    "id": "-RP6pSRQsK8D",
    "tags": [
     "start_task"
    ]
   },
   "source": [
    "#### Задача 4.2 Присоединение информации о подписках\n"
   ]
  },
  {
   "cell_type": "code",
   "execution_count": 20,
   "metadata": {
    "deletable": false,
    "id": "G2coeCg2n6oe"
   },
   "outputs": [],
   "source": [
    "df = pd.merge(df, df_subscriptions_go, on=['subscription_type'])"
   ]
  },
  {
   "cell_type": "markdown",
   "metadata": {
    "deletable": false,
    "editable": false,
    "id": "RGrvW_QIsK8D",
    "tags": [
     "start_task"
    ]
   },
   "source": [
    "#### Задача 4.3. Размеры объединённого датафрейма"
   ]
  },
  {
   "cell_type": "code",
   "execution_count": 21,
   "metadata": {
    "deletable": false,
    "id": "9isF62fNLWAD"
   },
   "outputs": [
    {
     "data": {
      "application/vnd.microsoft.datawrangler.viewer.v0+json": {
       "columns": [
        {
         "name": "index",
         "rawType": "int64",
         "type": "integer"
        },
        {
         "name": "user_id",
         "rawType": "int64",
         "type": "integer"
        },
        {
         "name": "name",
         "rawType": "object",
         "type": "string"
        },
        {
         "name": "age",
         "rawType": "int64",
         "type": "integer"
        },
        {
         "name": "city",
         "rawType": "object",
         "type": "string"
        },
        {
         "name": "subscription_type",
         "rawType": "object",
         "type": "string"
        },
        {
         "name": "distance",
         "rawType": "float64",
         "type": "float"
        },
        {
         "name": "duration",
         "rawType": "int64",
         "type": "integer"
        },
        {
         "name": "date",
         "rawType": "datetime64[ns]",
         "type": "datetime"
        },
        {
         "name": "month",
         "rawType": "int32",
         "type": "integer"
        },
        {
         "name": "minute_price",
         "rawType": "int64",
         "type": "integer"
        },
        {
         "name": "start_ride_price",
         "rawType": "int64",
         "type": "integer"
        },
        {
         "name": "subscription_fee",
         "rawType": "int64",
         "type": "integer"
        }
       ],
       "ref": "7aef1c4d-c097-4f1c-bc9b-74866d7b3513",
       "rows": [
        [
         "0",
         "1",
         "Кира",
         "22",
         "Тюмень",
         "ultra",
         "4409.919140196136",
         "26",
         "2021-01-01 00:00:00",
         "1",
         "6",
         "0",
         "199"
        ],
        [
         "1",
         "1",
         "Кира",
         "22",
         "Тюмень",
         "ultra",
         "2617.5921534552563",
         "16",
         "2021-01-18 00:00:00",
         "1",
         "6",
         "0",
         "199"
        ],
        [
         "2",
         "1",
         "Кира",
         "22",
         "Тюмень",
         "ultra",
         "754.1598069611837",
         "6",
         "2021-04-20 00:00:00",
         "4",
         "6",
         "0",
         "199"
        ],
        [
         "3",
         "1",
         "Кира",
         "22",
         "Тюмень",
         "ultra",
         "2694.7832537889467",
         "19",
         "2021-08-11 00:00:00",
         "8",
         "6",
         "0",
         "199"
        ],
        [
         "4",
         "1",
         "Кира",
         "22",
         "Тюмень",
         "ultra",
         "4028.6873061660526",
         "26",
         "2021-08-28 00:00:00",
         "8",
         "6",
         "0",
         "199"
        ]
       ],
       "shape": {
        "columns": 12,
        "rows": 5
       }
      },
      "text/html": [
       "<div>\n",
       "<style scoped>\n",
       "    .dataframe tbody tr th:only-of-type {\n",
       "        vertical-align: middle;\n",
       "    }\n",
       "\n",
       "    .dataframe tbody tr th {\n",
       "        vertical-align: top;\n",
       "    }\n",
       "\n",
       "    .dataframe thead th {\n",
       "        text-align: right;\n",
       "    }\n",
       "</style>\n",
       "<table border=\"1\" class=\"dataframe\">\n",
       "  <thead>\n",
       "    <tr style=\"text-align: right;\">\n",
       "      <th></th>\n",
       "      <th>user_id</th>\n",
       "      <th>name</th>\n",
       "      <th>age</th>\n",
       "      <th>city</th>\n",
       "      <th>subscription_type</th>\n",
       "      <th>distance</th>\n",
       "      <th>duration</th>\n",
       "      <th>date</th>\n",
       "      <th>month</th>\n",
       "      <th>minute_price</th>\n",
       "      <th>start_ride_price</th>\n",
       "      <th>subscription_fee</th>\n",
       "    </tr>\n",
       "  </thead>\n",
       "  <tbody>\n",
       "    <tr>\n",
       "      <th>0</th>\n",
       "      <td>1</td>\n",
       "      <td>Кира</td>\n",
       "      <td>22</td>\n",
       "      <td>Тюмень</td>\n",
       "      <td>ultra</td>\n",
       "      <td>4409.919140</td>\n",
       "      <td>26</td>\n",
       "      <td>2021-01-01</td>\n",
       "      <td>1</td>\n",
       "      <td>6</td>\n",
       "      <td>0</td>\n",
       "      <td>199</td>\n",
       "    </tr>\n",
       "    <tr>\n",
       "      <th>1</th>\n",
       "      <td>1</td>\n",
       "      <td>Кира</td>\n",
       "      <td>22</td>\n",
       "      <td>Тюмень</td>\n",
       "      <td>ultra</td>\n",
       "      <td>2617.592153</td>\n",
       "      <td>16</td>\n",
       "      <td>2021-01-18</td>\n",
       "      <td>1</td>\n",
       "      <td>6</td>\n",
       "      <td>0</td>\n",
       "      <td>199</td>\n",
       "    </tr>\n",
       "    <tr>\n",
       "      <th>2</th>\n",
       "      <td>1</td>\n",
       "      <td>Кира</td>\n",
       "      <td>22</td>\n",
       "      <td>Тюмень</td>\n",
       "      <td>ultra</td>\n",
       "      <td>754.159807</td>\n",
       "      <td>6</td>\n",
       "      <td>2021-04-20</td>\n",
       "      <td>4</td>\n",
       "      <td>6</td>\n",
       "      <td>0</td>\n",
       "      <td>199</td>\n",
       "    </tr>\n",
       "    <tr>\n",
       "      <th>3</th>\n",
       "      <td>1</td>\n",
       "      <td>Кира</td>\n",
       "      <td>22</td>\n",
       "      <td>Тюмень</td>\n",
       "      <td>ultra</td>\n",
       "      <td>2694.783254</td>\n",
       "      <td>19</td>\n",
       "      <td>2021-08-11</td>\n",
       "      <td>8</td>\n",
       "      <td>6</td>\n",
       "      <td>0</td>\n",
       "      <td>199</td>\n",
       "    </tr>\n",
       "    <tr>\n",
       "      <th>4</th>\n",
       "      <td>1</td>\n",
       "      <td>Кира</td>\n",
       "      <td>22</td>\n",
       "      <td>Тюмень</td>\n",
       "      <td>ultra</td>\n",
       "      <td>4028.687306</td>\n",
       "      <td>26</td>\n",
       "      <td>2021-08-28</td>\n",
       "      <td>8</td>\n",
       "      <td>6</td>\n",
       "      <td>0</td>\n",
       "      <td>199</td>\n",
       "    </tr>\n",
       "  </tbody>\n",
       "</table>\n",
       "</div>"
      ],
      "text/plain": [
       "   user_id  name  age    city subscription_type     distance  duration  \\\n",
       "0        1  Кира   22  Тюмень             ultra  4409.919140        26   \n",
       "1        1  Кира   22  Тюмень             ultra  2617.592153        16   \n",
       "2        1  Кира   22  Тюмень             ultra   754.159807         6   \n",
       "3        1  Кира   22  Тюмень             ultra  2694.783254        19   \n",
       "4        1  Кира   22  Тюмень             ultra  4028.687306        26   \n",
       "\n",
       "        date  month  minute_price  start_ride_price  subscription_fee  \n",
       "0 2021-01-01      1             6                 0               199  \n",
       "1 2021-01-18      1             6                 0               199  \n",
       "2 2021-04-20      4             6                 0               199  \n",
       "3 2021-08-11      8             6                 0               199  \n",
       "4 2021-08-28      8             6                 0               199  "
      ]
     },
     "metadata": {},
     "output_type": "display_data"
    },
    {
     "name": "stdout",
     "output_type": "stream",
     "text": [
      "В полученном датафрейме 18068 строк и 12 столбцов.\n"
     ]
    }
   ],
   "source": [
    "# Выводим первые строки датафрейма\n",
    "display(df.head())\n",
    "\n",
    "# Выводим количество строк и столбцов в объединённом датафрейме\n",
    "n_rows, n_cols = df.shape\n",
    "print(f\"В полученном датафрейме {n_rows} строк и {n_cols} столбцов.\")\n"
   ]
  },
  {
   "cell_type": "markdown",
   "metadata": {
    "deletable": false,
    "editable": false,
    "id": "j4fAbR0dsK8E",
    "tags": [
     "start_task"
    ]
   },
   "source": [
    "#### Задача 4.4 Отдельные датафреймы для пользователей с подпиской и без"
   ]
  },
  {
   "cell_type": "code",
   "execution_count": 22,
   "metadata": {
    "deletable": false,
    "id": "sKY6MwNNosYg"
   },
   "outputs": [],
   "source": [
    "# Создание датафрейма с пользователями с подпиской (ultra)\n",
    "df_ultra = df[df['subscription_type'] == 'ultra']\n",
    "\n",
    "# Создание датафрейма с пользователями без подписки (free)\n",
    "df_free = df[df['subscription_type'] == 'free']"
   ]
  },
  {
   "cell_type": "markdown",
   "metadata": {
    "deletable": false,
    "editable": false,
    "id": "EsOUpiJ1sK8F",
    "tags": [
     "start_task"
    ]
   },
   "source": [
    "#### Задача 4.5 Гистограмма длительности поездок для обоих групп"
   ]
  },
  {
   "cell_type": "code",
   "execution_count": 23,
   "metadata": {
    "deletable": false,
    "id": "qw6ZmTHspFbc"
   },
   "outputs": [
    {
     "data": {
      "image/png": "[encoded data removed]",
      "text/plain": [
       "<Figure size 1500x500 with 1 Axes>"
      ]
     },
     "metadata": {},
     "output_type": "display_data"
    },
    {
     "name": "stdout",
     "output_type": "stream",
     "text": [
      "Средняя длительность поездки для пользователей без подписки 17 мин, а для пользователей с подпиской 19 мин\n"
     ]
    }
   ],
   "source": [
    "# Гистограмма длительности поездки для пользователей с подпиской и без\n",
    "plt.figure(figsize=(15, 5))\n",
    "\n",
    "# Рисуем гистограмму для пользователей без подписки\n",
    "plt.hist(df_free['duration'], bins=30, alpha=0.5, color='blue', label='free')\n",
    "\n",
    "# Рисуем гистограмму для пользователей с подпиской\n",
    "plt.hist(df_ultra['duration'], bins=30, alpha=0.5, color='green', label='ultra')\n",
    "\n",
    "# Настройка подписи осей и заголовка\n",
    "plt.xlabel('Длительность поездки, мин.')\n",
    "plt.title('Гистограмма распределения длительности поездок')\n",
    "\n",
    "# Легенда для различения категорий\n",
    "plt.legend()\n",
    "\n",
    "# Показываем график\n",
    "plt.show()\n",
    "\n",
    "# Расчет средней длительности поездки для пользователей без подписки\n",
    "mean_duration_free = round(df_free['duration'].mean())\n",
    "\n",
    "# Расчет средней длительности поездки для пользователей с подпиской\n",
    "mean_duration_ultra = round(df_ultra['duration'].mean())\n",
    "\n",
    "# Выводим на экран среднюю длительность поездки\n",
    "print(f'Средняя длительность поездки для пользователей без подписки {mean_duration_free} мин, а для пользователей с подпиской {mean_duration_ultra} мин')"
   ]
  },
  {
   "cell_type": "markdown",
   "metadata": {
    "deletable": false,
    "editable": false,
    "id": "oasgRJ_osK8G"
   },
   "source": [
    "---\n",
    "### Задание 5. Подсчёт выручки"
   ]
  },
  {
   "cell_type": "markdown",
   "metadata": {
    "deletable": false,
    "editable": false,
    "id": "LVBMnLV0sK8G",
    "tags": [
     "start_task"
    ]
   },
   "source": [
    "#### Задача 5.1 Данные сгруппированные по нужным колонкам\n"
   ]
  },
  {
   "cell_type": "code",
   "execution_count": 24,
   "metadata": {
    "deletable": false,
    "id": "Ij2VX1plpVQI"
   },
   "outputs": [],
   "source": [
    "df_gp = df.groupby(['user_id', 'name', 'subscription_type', 'month'], as_index=False)"
   ]
  },
  {
   "cell_type": "markdown",
   "metadata": {
    "deletable": false,
    "editable": false,
    "id": "UVBq7IWjsK8H",
    "tags": [
     "start_task"
    ]
   },
   "source": [
    "#### Задача 5.2 Подсчёт агрегированных метрик"
   ]
  },
  {
   "cell_type": "code",
   "execution_count": 25,
   "metadata": {
    "deletable": false,
    "id": "8NEOkiIONXHF"
   },
   "outputs": [],
   "source": [
    "# Создаем новый датафрейм df_agg, в котором для каждой группы рассчитаем агрегированные значения\n",
    "df_agg = df_gp.agg(\n",
    "    total_distance=('distance', 'sum'),        # Сумма расстояний\n",
    "    total_duration=('duration', 'sum'),        # Сумма длительности\n",
    "    rides_count=('duration', 'count'),         # Количество поездок\n",
    "    subscription_type=('subscription_type', 'first'),  # Берем первое значение типа подписки\n",
    "    minute_price=('minute_price', 'first'),    # Берем первую минутную ставку\n",
    "    start_ride_price=('start_ride_price', 'first'),  # Берем первую плату за поездку\n",
    "    subscription_fee=('subscription_fee', 'first')   # Берем первую абонентскую плату\n",
    ")"
   ]
  },
  {
   "cell_type": "code",
   "execution_count": 26,
   "metadata": {},
   "outputs": [
    {
     "data": {
      "application/vnd.microsoft.datawrangler.viewer.v0+json": {
       "columns": [
        {
         "name": "index",
         "rawType": "int64",
         "type": "integer"
        },
        {
         "name": "user_id",
         "rawType": "int64",
         "type": "integer"
        },
        {
         "name": "name",
         "rawType": "object",
         "type": "string"
        },
        {
         "name": "month",
         "rawType": "int32",
         "type": "integer"
        },
        {
         "name": "total_distance",
         "rawType": "float64",
         "type": "float"
        },
        {
         "name": "total_duration",
         "rawType": "int64",
         "type": "integer"
        },
        {
         "name": "rides_count",
         "rawType": "int64",
         "type": "integer"
        },
        {
         "name": "subscription_type",
         "rawType": "object",
         "type": "string"
        },
        {
         "name": "minute_price",
         "rawType": "int64",
         "type": "integer"
        },
        {
         "name": "start_ride_price",
         "rawType": "int64",
         "type": "integer"
        },
        {
         "name": "subscription_fee",
         "rawType": "int64",
         "type": "integer"
        }
       ],
       "ref": "91be8879-3676-48cd-b487-d9066dd62c7a",
       "rows": [
        [
         "0",
         "1",
         "Кира",
         "1",
         "7027.511293651392",
         "42",
         "2",
         "ultra",
         "6",
         "0",
         "199"
        ],
        [
         "1",
         "1",
         "Кира",
         "4",
         "754.1598069611837",
         "6",
         "1",
         "ultra",
         "6",
         "0",
         "199"
        ],
        [
         "2",
         "1",
         "Кира",
         "8",
         "6723.470559955",
         "45",
         "2",
         "ultra",
         "6",
         "0",
         "199"
        ],
        [
         "3",
         "1",
         "Кира",
         "10",
         "5809.911100174599",
         "32",
         "2",
         "ultra",
         "6",
         "0",
         "199"
        ],
        [
         "4",
         "1",
         "Кира",
         "11",
         "7003.499363306497",
         "53",
         "3",
         "ultra",
         "6",
         "0",
         "199"
        ],
        [
         "5",
         "1",
         "Кира",
         "12",
         "6751.6299424066",
         "28",
         "2",
         "ultra",
         "6",
         "0",
         "199"
        ],
        [
         "6",
         "2",
         "Станислав",
         "3",
         "10187.723006367056",
         "61",
         "3",
         "ultra",
         "6",
         "0",
         "199"
        ],
        [
         "7",
         "2",
         "Станислав",
         "4",
         "6164.381823759214",
         "39",
         "2",
         "ultra",
         "6",
         "0",
         "199"
        ],
        [
         "8",
         "2",
         "Станислав",
         "6",
         "3255.3382024335347",
         "14",
         "1",
         "ultra",
         "6",
         "0",
         "199"
        ],
        [
         "9",
         "2",
         "Станислав",
         "7",
         "6780.722963719634",
         "46",
         "2",
         "ultra",
         "6",
         "0",
         "199"
        ],
        [
         "10",
         "2",
         "Станислав",
         "8",
         "923.0074394588836",
         "7",
         "1",
         "ultra",
         "6",
         "0",
         "199"
        ],
        [
         "11",
         "2",
         "Станислав",
         "10",
         "2824.636598299611",
         "19",
         "1",
         "ultra",
         "6",
         "0",
         "199"
        ],
        [
         "12",
         "2",
         "Станислав",
         "12",
         "3828.248579875955",
         "12",
         "1",
         "ultra",
         "6",
         "0",
         "199"
        ],
        [
         "13",
         "3",
         "Алексей",
         "1",
         "3061.777147236557",
         "13",
         "1",
         "ultra",
         "6",
         "0",
         "199"
        ],
        [
         "14",
         "3",
         "Алексей",
         "2",
         "5421.152015843869",
         "38",
         "2",
         "ultra",
         "6",
         "0",
         "199"
        ],
        [
         "15",
         "3",
         "Алексей",
         "4",
         "2956.65163217227",
         "21",
         "1",
         "ultra",
         "6",
         "0",
         "199"
        ],
        [
         "16",
         "3",
         "Алексей",
         "5",
         "9064.026917685682",
         "61",
         "3",
         "ultra",
         "6",
         "0",
         "199"
        ],
        [
         "17",
         "3",
         "Алексей",
         "7",
         "10919.595402609844",
         "66",
         "3",
         "ultra",
         "6",
         "0",
         "199"
        ],
        [
         "18",
         "3",
         "Алексей",
         "9",
         "2891.0128216436224",
         "22",
         "1",
         "ultra",
         "6",
         "0",
         "199"
        ],
        [
         "19",
         "3",
         "Алексей",
         "12",
         "2593.381928464864",
         "13",
         "1",
         "ultra",
         "6",
         "0",
         "199"
        ],
        [
         "20",
         "4",
         "Константин",
         "2",
         "6339.696747038208",
         "48",
         "2",
         "ultra",
         "6",
         "0",
         "199"
        ],
        [
         "21",
         "4",
         "Константин",
         "6",
         "6753.041805745871",
         "43",
         "2",
         "ultra",
         "6",
         "0",
         "199"
        ],
        [
         "22",
         "4",
         "Константин",
         "7",
         "10491.175555205918",
         "56",
         "3",
         "ultra",
         "6",
         "0",
         "199"
        ],
        [
         "23",
         "4",
         "Константин",
         "8",
         "4649.488243068903",
         "36",
         "1",
         "ultra",
         "6",
         "0",
         "199"
        ],
        [
         "24",
         "4",
         "Константин",
         "10",
         "13260.762273711249",
         "79",
         "4",
         "ultra",
         "6",
         "0",
         "199"
        ],
        [
         "25",
         "4",
         "Константин",
         "11",
         "3343.025290815781",
         "28",
         "2",
         "ultra",
         "6",
         "0",
         "199"
        ],
        [
         "26",
         "5",
         "Адель",
         "1",
         "3914.6469898556697",
         "12",
         "1",
         "ultra",
         "6",
         "0",
         "199"
        ],
        [
         "27",
         "5",
         "Адель",
         "2",
         "2561.108240977678",
         "11",
         "1",
         "ultra",
         "6",
         "0",
         "199"
        ],
        [
         "28",
         "5",
         "Адель",
         "3",
         "10633.732186269779",
         "56",
         "3",
         "ultra",
         "6",
         "0",
         "199"
        ],
        [
         "29",
         "5",
         "Адель",
         "4",
         "3373.080411703445",
         "15",
         "1",
         "ultra",
         "6",
         "0",
         "199"
        ],
        [
         "30",
         "5",
         "Адель",
         "5",
         "5823.074031151285",
         "31",
         "2",
         "ultra",
         "6",
         "0",
         "199"
        ],
        [
         "31",
         "5",
         "Адель",
         "7",
         "3311.9747240839565",
         "12",
         "1",
         "ultra",
         "6",
         "0",
         "199"
        ],
        [
         "32",
         "5",
         "Адель",
         "8",
         "2720.8171107296844",
         "17",
         "1",
         "ultra",
         "6",
         "0",
         "199"
        ],
        [
         "33",
         "5",
         "Адель",
         "10",
         "3218.5159546627824",
         "20",
         "1",
         "ultra",
         "6",
         "0",
         "199"
        ],
        [
         "34",
         "6",
         "Регина",
         "2",
         "3961.4327075361807",
         "28",
         "1",
         "ultra",
         "6",
         "0",
         "199"
        ],
        [
         "35",
         "6",
         "Регина",
         "5",
         "11013.57436387127",
         "70",
         "3",
         "ultra",
         "6",
         "0",
         "199"
        ],
        [
         "36",
         "6",
         "Регина",
         "8",
         "3142.271822956297",
         "17",
         "1",
         "ultra",
         "6",
         "0",
         "199"
        ],
        [
         "37",
         "6",
         "Регина",
         "9",
         "3346.098372211863",
         "20",
         "1",
         "ultra",
         "6",
         "0",
         "199"
        ],
        [
         "38",
         "6",
         "Регина",
         "10",
         "2350.641957324636",
         "10",
         "1",
         "ultra",
         "6",
         "0",
         "199"
        ],
        [
         "39",
         "6",
         "Регина",
         "11",
         "3339.6256395185947",
         "16",
         "1",
         "ultra",
         "6",
         "0",
         "199"
        ],
        [
         "40",
         "6",
         "Регина",
         "12",
         "6924.961829422629",
         "44",
         "2",
         "ultra",
         "6",
         "0",
         "199"
        ],
        [
         "41",
         "7",
         "Игорь",
         "1",
         "6478.080979477003",
         "28",
         "2",
         "ultra",
         "6",
         "0",
         "199"
        ],
        [
         "42",
         "7",
         "Игорь",
         "3",
         "3679.561008802109",
         "21",
         "1",
         "ultra",
         "6",
         "0",
         "199"
        ],
        [
         "43",
         "7",
         "Игорь",
         "4",
         "4888.94616213599",
         "36",
         "2",
         "ultra",
         "6",
         "0",
         "199"
        ],
        [
         "44",
         "7",
         "Игорь",
         "5",
         "2971.5648106631274",
         "14",
         "1",
         "ultra",
         "6",
         "0",
         "199"
        ],
        [
         "45",
         "7",
         "Игорь",
         "6",
         "2508.5541706282065",
         "18",
         "1",
         "ultra",
         "6",
         "0",
         "199"
        ],
        [
         "46",
         "7",
         "Игорь",
         "7",
         "6097.825668981726",
         "33",
         "2",
         "ultra",
         "6",
         "0",
         "199"
        ],
        [
         "47",
         "7",
         "Игорь",
         "8",
         "3008.257504963693",
         "14",
         "1",
         "ultra",
         "6",
         "0",
         "199"
        ],
        [
         "48",
         "7",
         "Игорь",
         "11",
         "12879.35473276228",
         "65",
         "4",
         "ultra",
         "6",
         "0",
         "199"
        ],
        [
         "49",
         "7",
         "Игорь",
         "12",
         "6195.334108296523",
         "29",
         "2",
         "ultra",
         "6",
         "0",
         "199"
        ]
       ],
       "shape": {
        "columns": 10,
        "rows": 11331
       }
      },
      "text/html": [
       "<div>\n",
       "<style scoped>\n",
       "    .dataframe tbody tr th:only-of-type {\n",
       "        vertical-align: middle;\n",
       "    }\n",
       "\n",
       "    .dataframe tbody tr th {\n",
       "        vertical-align: top;\n",
       "    }\n",
       "\n",
       "    .dataframe thead th {\n",
       "        text-align: right;\n",
       "    }\n",
       "</style>\n",
       "<table border=\"1\" class=\"dataframe\">\n",
       "  <thead>\n",
       "    <tr style=\"text-align: right;\">\n",
       "      <th></th>\n",
       "      <th>user_id</th>\n",
       "      <th>name</th>\n",
       "      <th>month</th>\n",
       "      <th>total_distance</th>\n",
       "      <th>total_duration</th>\n",
       "      <th>rides_count</th>\n",
       "      <th>subscription_type</th>\n",
       "      <th>minute_price</th>\n",
       "      <th>start_ride_price</th>\n",
       "      <th>subscription_fee</th>\n",
       "    </tr>\n",
       "  </thead>\n",
       "  <tbody>\n",
       "    <tr>\n",
       "      <th>0</th>\n",
       "      <td>1</td>\n",
       "      <td>Кира</td>\n",
       "      <td>1</td>\n",
       "      <td>7027.511294</td>\n",
       "      <td>42</td>\n",
       "      <td>2</td>\n",
       "      <td>ultra</td>\n",
       "      <td>6</td>\n",
       "      <td>0</td>\n",
       "      <td>199</td>\n",
       "    </tr>\n",
       "    <tr>\n",
       "      <th>1</th>\n",
       "      <td>1</td>\n",
       "      <td>Кира</td>\n",
       "      <td>4</td>\n",
       "      <td>754.159807</td>\n",
       "      <td>6</td>\n",
       "      <td>1</td>\n",
       "      <td>ultra</td>\n",
       "      <td>6</td>\n",
       "      <td>0</td>\n",
       "      <td>199</td>\n",
       "    </tr>\n",
       "    <tr>\n",
       "      <th>2</th>\n",
       "      <td>1</td>\n",
       "      <td>Кира</td>\n",
       "      <td>8</td>\n",
       "      <td>6723.470560</td>\n",
       "      <td>45</td>\n",
       "      <td>2</td>\n",
       "      <td>ultra</td>\n",
       "      <td>6</td>\n",
       "      <td>0</td>\n",
       "      <td>199</td>\n",
       "    </tr>\n",
       "    <tr>\n",
       "      <th>3</th>\n",
       "      <td>1</td>\n",
       "      <td>Кира</td>\n",
       "      <td>10</td>\n",
       "      <td>5809.911100</td>\n",
       "      <td>32</td>\n",
       "      <td>2</td>\n",
       "      <td>ultra</td>\n",
       "      <td>6</td>\n",
       "      <td>0</td>\n",
       "      <td>199</td>\n",
       "    </tr>\n",
       "    <tr>\n",
       "      <th>4</th>\n",
       "      <td>1</td>\n",
       "      <td>Кира</td>\n",
       "      <td>11</td>\n",
       "      <td>7003.499363</td>\n",
       "      <td>53</td>\n",
       "      <td>3</td>\n",
       "      <td>ultra</td>\n",
       "      <td>6</td>\n",
       "      <td>0</td>\n",
       "      <td>199</td>\n",
       "    </tr>\n",
       "    <tr>\n",
       "      <th>...</th>\n",
       "      <td>...</td>\n",
       "      <td>...</td>\n",
       "      <td>...</td>\n",
       "      <td>...</td>\n",
       "      <td>...</td>\n",
       "      <td>...</td>\n",
       "      <td>...</td>\n",
       "      <td>...</td>\n",
       "      <td>...</td>\n",
       "      <td>...</td>\n",
       "    </tr>\n",
       "    <tr>\n",
       "      <th>11326</th>\n",
       "      <td>1534</td>\n",
       "      <td>Альберт</td>\n",
       "      <td>6</td>\n",
       "      <td>3409.468534</td>\n",
       "      <td>24</td>\n",
       "      <td>2</td>\n",
       "      <td>free</td>\n",
       "      <td>8</td>\n",
       "      <td>50</td>\n",
       "      <td>0</td>\n",
       "    </tr>\n",
       "    <tr>\n",
       "      <th>11327</th>\n",
       "      <td>1534</td>\n",
       "      <td>Альберт</td>\n",
       "      <td>8</td>\n",
       "      <td>7622.453034</td>\n",
       "      <td>47</td>\n",
       "      <td>2</td>\n",
       "      <td>free</td>\n",
       "      <td>8</td>\n",
       "      <td>50</td>\n",
       "      <td>0</td>\n",
       "    </tr>\n",
       "    <tr>\n",
       "      <th>11328</th>\n",
       "      <td>1534</td>\n",
       "      <td>Альберт</td>\n",
       "      <td>9</td>\n",
       "      <td>4928.173852</td>\n",
       "      <td>23</td>\n",
       "      <td>1</td>\n",
       "      <td>free</td>\n",
       "      <td>8</td>\n",
       "      <td>50</td>\n",
       "      <td>0</td>\n",
       "    </tr>\n",
       "    <tr>\n",
       "      <th>11329</th>\n",
       "      <td>1534</td>\n",
       "      <td>Альберт</td>\n",
       "      <td>11</td>\n",
       "      <td>13350.015305</td>\n",
       "      <td>76</td>\n",
       "      <td>4</td>\n",
       "      <td>free</td>\n",
       "      <td>8</td>\n",
       "      <td>50</td>\n",
       "      <td>0</td>\n",
       "    </tr>\n",
       "    <tr>\n",
       "      <th>11330</th>\n",
       "      <td>1534</td>\n",
       "      <td>Альберт</td>\n",
       "      <td>12</td>\n",
       "      <td>2371.711192</td>\n",
       "      <td>16</td>\n",
       "      <td>1</td>\n",
       "      <td>free</td>\n",
       "      <td>8</td>\n",
       "      <td>50</td>\n",
       "      <td>0</td>\n",
       "    </tr>\n",
       "  </tbody>\n",
       "</table>\n",
       "<p>11331 rows × 10 columns</p>\n",
       "</div>"
      ],
      "text/plain": [
       "       user_id     name  month  total_distance  total_duration  rides_count  \\\n",
       "0            1     Кира      1     7027.511294              42            2   \n",
       "1            1     Кира      4      754.159807               6            1   \n",
       "2            1     Кира      8     6723.470560              45            2   \n",
       "3            1     Кира     10     5809.911100              32            2   \n",
       "4            1     Кира     11     7003.499363              53            3   \n",
       "...        ...      ...    ...             ...             ...          ...   \n",
       "11326     1534  Альберт      6     3409.468534              24            2   \n",
       "11327     1534  Альберт      8     7622.453034              47            2   \n",
       "11328     1534  Альберт      9     4928.173852              23            1   \n",
       "11329     1534  Альберт     11    13350.015305              76            4   \n",
       "11330     1534  Альберт     12     2371.711192              16            1   \n",
       "\n",
       "      subscription_type  minute_price  start_ride_price  subscription_fee  \n",
       "0                 ultra             6                 0               199  \n",
       "1                 ultra             6                 0               199  \n",
       "2                 ultra             6                 0               199  \n",
       "3                 ultra             6                 0               199  \n",
       "4                 ultra             6                 0               199  \n",
       "...                 ...           ...               ...               ...  \n",
       "11326              free             8                50                 0  \n",
       "11327              free             8                50                 0  \n",
       "11328              free             8                50                 0  \n",
       "11329              free             8                50                 0  \n",
       "11330              free             8                50                 0  \n",
       "\n",
       "[11331 rows x 10 columns]"
      ]
     },
     "execution_count": 26,
     "metadata": {},
     "output_type": "execute_result"
    }
   ],
   "source": [
    "df_agg"
   ]
  },
  {
   "cell_type": "markdown",
   "metadata": {
    "deletable": false,
    "editable": false,
    "id": "l6uH5vWSsK8H",
    "tags": [
     "start_task"
    ]
   },
   "source": [
    "#### Задача 5.3 Функция для подсчёта выручки\n"
   ]
  },
  {
   "cell_type": "code",
   "execution_count": 27,
   "metadata": {
    "deletable": false,
    "id": "4nzdjVb8qDds"
   },
   "outputs": [],
   "source": [
    "def calculate_monthly_revenue(row):\n",
    "    # Выручка от стартовых цен поездок\n",
    "    revenue_from_starts = row['start_ride_price'] * row['rides_count']\n",
    "    \n",
    "    # Выручка от продолжительности поездок\n",
    "    revenue_from_minutes = row['minute_price'] * row['total_duration']\n",
    "    \n",
    "    # Фиксированная подписка\n",
    "    fixed_subscription_revenue = row['subscription_fee']\n",
    "    \n",
    "    # Общая месячная выручка\n",
    "    monthly_revenue = revenue_from_starts + revenue_from_minutes + fixed_subscription_revenue\n",
    "    \n",
    "    return monthly_revenue"
   ]
  },
  {
   "cell_type": "markdown",
   "metadata": {
    "deletable": false,
    "editable": false,
    "id": "bH0zftBAsK8I",
    "tags": [
     "start_task"
    ]
   },
   "source": [
    "#### Задача 5.4 Создание столбца с месячной выручкой на пользователя"
   ]
  },
  {
   "cell_type": "code",
   "execution_count": 28,
   "metadata": {
    "deletable": false,
    "id": "iUo_b7nmqVL3"
   },
   "outputs": [],
   "source": [
    "# Создаем новую колонку 'monthly_revenue', применяя функцию calculate_monthly_revenue()\n",
    "df_agg['monthly_revenue'] = df_agg.apply(calculate_monthly_revenue, axis=1)"
   ]
  },
  {
   "cell_type": "markdown",
   "metadata": {
    "deletable": false,
    "editable": false,
    "id": "HTbnNX3msK8I",
    "tags": [
     "start_task"
    ]
   },
   "source": [
    "#### Задача 5.5 Поиск пользователя с максимальной выручкой"
   ]
  },
  {
   "cell_type": "code",
   "execution_count": 29,
   "metadata": {
    "deletable": false,
    "id": "G93dZkJgqozi"
   },
   "outputs": [
    {
     "name": "stdout",
     "output_type": "stream",
     "text": [
      "      user_id       name  month  rides_count  monthly_revenue\n",
      "8877     1236  Александр      1            2              228\n",
      "8878     1236  Александр      2            3              614\n",
      "8879     1236  Александр      3            5              762\n",
      "8880     1236  Александр      4            1              202\n",
      "8881     1236  Александр      5            3              574\n",
      "8882     1236  Александр      6            1              282\n",
      "8883     1236  Александр      7            1              290\n",
      "8884     1236  Александр      8            2              452\n",
      "8885     1236  Александр      9            1              122\n",
      "8886     1236  Александр     10            3              430\n",
      "8887     1236  Александр     11            3              494\n",
      "8888     1236  Александр     12            2              476\n"
     ]
    }
   ],
   "source": [
    "# Суммируем выручку по каждому пользователю\n",
    "total_revenue_by_user = df_agg.groupby('user_id')['monthly_revenue'].sum().reset_index()\n",
    "\n",
    "# Определяем пользователя с максимальной выручкой\n",
    "max_revenue_user = total_revenue_by_user.loc[total_revenue_by_user['monthly_revenue'].idxmax(), 'user_id']\n",
    "\n",
    "# Данные выбранного пользователя\n",
    "details_for_max_revenue_user = df_agg.query(f\"user_id == {max_revenue_user}\")\n",
    "\n",
    "# Печать результата\n",
    "print(details_for_max_revenue_user[['user_id', 'name', 'month', 'rides_count', 'monthly_revenue']])\n"
   ]
  },
  {
   "cell_type": "markdown",
   "metadata": {
    "deletable": false,
    "editable": false,
    "id": "pTYLbBZEsK8J"
   },
   "source": [
    "---\n",
    "### Задание 6. Проверка гипотез"
   ]
  },
  {
   "cell_type": "markdown",
   "metadata": {
    "deletable": false,
    "editable": false,
    "id": "W4q8-WRDsK8J",
    "tags": [
     "start_task"
    ]
   },
   "source": [
    "#### Задача 6.1 Импорт библиотеки SciPy"
   ]
  },
  {
   "cell_type": "code",
   "execution_count": 30,
   "metadata": {
    "deletable": false,
    "id": "zyNhaTb8q5JY"
   },
   "outputs": [],
   "source": [
    "import scipy.stats as st"
   ]
  },
  {
   "cell_type": "markdown",
   "metadata": {
    "deletable": false,
    "editable": false,
    "id": "kiNRoB5zsK8K",
    "tags": [
     "start_task"
    ]
   },
   "source": [
    "#### Задача 6.2 Вспомогательная функция для интерпретации результатов"
   ]
  },
  {
   "cell_type": "code",
   "execution_count": 31,
   "metadata": {
    "deletable": false,
    "id": "xRuwp-yeQwTD"
   },
   "outputs": [
    {
     "name": "stdout",
     "output_type": "stream",
     "text": [
      "Полученное значение p_value=0.0001 меньше критического уровня alpha=0.05. Принимаем альтернативную гипотезу.\n",
      "Полученное значение p_value=0.1 больше критического уровня alpha=0.05. Опровергнуть нулевую гипотезу нельзя.\n"
     ]
    }
   ],
   "source": [
    "def print_stattest_results(p_value:float, alpha:float = 0.05):\n",
    "    if (p_value < alpha):\n",
    "        print(f\"Полученное значение {p_value=} меньше критического уровня {alpha=}. Принимаем альтернативную гипотезу.\")\n",
    "    else:\n",
    "        print(f\"Полученное значение {p_value=} больше критического уровня {alpha=}. Опровергнуть нулевую гипотезу нельзя.\")\n",
    "# Вызов функции с тестовыми значениями\n",
    "print_stattest_results(0.0001)\n",
    "print_stattest_results(0.1)\n"
   ]
  },
  {
   "cell_type": "markdown",
   "metadata": {
    "deletable": false,
    "editable": false,
    "id": "6sLXAPjjsK8K",
    "tags": [
     "start_task"
    ]
   },
   "source": [
    "#### Задача 6.3 Длительность для пользователей с подпиской и без"
   ]
  },
  {
   "cell_type": "code",
   "execution_count": 32,
   "metadata": {
    "deletable": false,
    "id": "DJ1nCMZQRfFX"
   },
   "outputs": [
    {
     "name": "stdout",
     "output_type": "stream",
     "text": [
      "Полученное значение p_value=np.float64(3.1600689435611813e-35) меньше критического уровня alpha=0.05. Принимаем альтернативную гипотезу.\n",
      "Средняя длительность поездки тарифа Ultra 18.55\n",
      "Средняя длительность поездки тарифа Free 17.39\n"
     ]
    }
   ],
   "source": [
    "# Загружаем данные о длительности поездок для пользователей с тарифом Ultra и Free\n",
    "ultra_duration = df_ultra['duration']\n",
    "free_duration = df_free['duration']\n",
    "\n",
    "# Проводим односторонний t-тест\n",
    "results = st.ttest_ind(ultra_duration, free_duration, alternative='greater')\n",
    "\n",
    "# Получаем p-value\n",
    "p_value = results.pvalue\n",
    "\n",
    "# Устанавливаем уровень значимости\n",
    "alpha = 0.05  # Стандартный уровень значимости\n",
    "\n",
    "# Выводим интерпретацию результата теста\n",
    "print_stattest_results(p_value, alpha)  # Передача alpha\n",
    "\n",
    "# Считаем среднюю длительность поездок для тарифов Ultra и Free\n",
    "ultra_mean_duration = round(ultra_duration.mean(), 2)\n",
    "free_mean_duration = round(free_duration.mean(), 2)\n",
    "\n",
    "print(f'Средняя длительность поездки тарифа Ultra {ultra_mean_duration}')\n",
    "print(f'Средняя длительность поездки тарифа Free {free_mean_duration}')"
   ]
  },
  {
   "cell_type": "markdown",
   "metadata": {
    "deletable": false,
    "editable": false,
    "id": "HLlf6BYfsK8L",
    "tags": [
     "start_task"
    ]
   },
   "source": [
    "#### Задача 6.4 Длительность поездки: больше или меньше критического значения"
   ]
  },
  {
   "cell_type": "code",
   "execution_count": 33,
   "metadata": {
    "deletable": false,
    "id": "sXgKlO-bSJI-"
   },
   "outputs": [
    {
     "name": "stdout",
     "output_type": "stream",
     "text": [
      "Полученное значение p_value=np.float64(0.9195368847849785) больше критического уровня alpha=0.05. Опровергнуть нулевую гипотезу нельзя.\n"
     ]
    }
   ],
   "source": [
    "null_hypothesis = 3130\n",
    "ultra_distance = df_ultra['distance']\n",
    "alpha = 0.05  # Уровень значимости\n",
    "results = st.ttest_1samp(ultra_distance, null_hypothesis, alternative='greater')\n",
    "p_value = results.pvalue\n",
    "print_stattest_results(p_value, alpha)"
   ]
  },
  {
   "cell_type": "markdown",
   "metadata": {
    "deletable": false,
    "editable": false,
    "id": "5TmnT74FsK8L",
    "tags": [
     "start_task"
    ]
   },
   "source": [
    "#### Задача 6.5 Прибыль от пользователей с подпиской и без\n",
    "Проверяем гипотезу о том, что выручка от пользователей с подпиской выше, чем выручка от пользователей без подписки.\n",
    "\n",
    "Сформулируем нулевую и альтернативную гипотезы:\n",
    "\n",
    "- Нулевая гипотеза (Н0): Средняя месячная выручка у пользователей с подпиской и без подписки одинаковая.\n",
    "- Альтернативная гипотеза (Н1): Средняя месячная выручка у пользователей с подпиской выше, чем у пользователей без подписки."
   ]
  },
  {
   "cell_type": "code",
   "execution_count": 34,
   "metadata": {
    "deletable": false,
    "id": "Gvfo6GlvSrHl"
   },
   "outputs": [
    {
     "name": "stdout",
     "output_type": "stream",
     "text": [
      "Полученное значение p_value=np.float64(1.7274069878387966e-37) меньше критического уровня alpha=0.05. Принимаем альтернативную гипотезу.\n",
      "Средняя выручка подписчиков Ultra: 359 руб.\n",
      "Средняя выручка подписчиков Free: 322 руб.\n"
     ]
    }
   ],
   "source": [
    "# Выделяем данные о выручке для пользователей с тарифом Ultra и Free\n",
    "revenue_ultra = df_agg.loc[df_agg['subscription_type'] == 'ultra', 'monthly_revenue'].dropna()\n",
    "revenue_free = df_agg.loc[df_agg['subscription_type'] == 'free', 'monthly_revenue'].dropna()\n",
    "\n",
    "# Проведение одностороннего t-теста для независимых выборок\n",
    "# Проверяем, что средняя выручка группы Ultra больше, чем у Free\n",
    "results = st.ttest_ind(revenue_ultra, revenue_free, alternative='greater')\n",
    "\n",
    "# Получаем p-значение\n",
    "p_value = results.pvalue\n",
    "\n",
    "# Уровень значимости\n",
    "alpha = 0.05\n",
    "\n",
    "# Реализуем функцию вывода согласно рекомендациям тренера\n",
    "def print_stattest_results(p_value: float, alpha: float = 0.05):\n",
    "    if p_value < alpha:\n",
    "        print(f\"Полученное значение {p_value=} меньше критического уровня {alpha=}. Принимаем альтернативную гипотезу.\")\n",
    "    else:\n",
    "        print(f\"Полученное значение {p_value=} больше критического уровня {alpha=}. Опровергнуть нулевую гипотезу нельзя.\")\n",
    "\n",
    "# Выводим результат тестирования\n",
    "print_stattest_results(p_value, alpha)\n",
    "\n",
    "# Дополнительно считаем среднюю выручку для каждого тарифа\n",
    "mean_revenue_ultra = round(revenue_ultra.mean())\n",
    "mean_revenue_free = round(revenue_free.mean())\n",
    "\n",
    "# Выводим средние значения выручки\n",
    "print(f'Средняя выручка подписчиков Ultra: {mean_revenue_ultra} руб.')\n",
    "print(f'Средняя выручка подписчиков Free: {mean_revenue_free} руб.')"
   ]
  },
  {
   "cell_type": "markdown",
   "metadata": {
    "deletable": false,
    "editable": false,
    "id": "C3EoEcibyzeu"
   },
   "source": [
    "---\n",
    "### Задание 7. Распределения"
   ]
  },
  {
   "cell_type": "markdown",
   "metadata": {
    "deletable": false,
    "editable": false,
    "id": "C2C1nTJx5Hf_",
    "tags": [
     "start_task"
    ]
   },
   "source": [
    "#### Задача 7.1 Расчёт выборочного среднего и стандартного отклонения"
   ]
  },
  {
   "cell_type": "code",
   "execution_count": 35,
   "metadata": {
    "deletable": false,
    "id": "LNVfLHzUTkAJ"
   },
   "outputs": [
    {
     "name": "stdout",
     "output_type": "stream",
     "text": [
      "Средняя длительность поездки 18.5, стандартное отклонение 5.6.\n"
     ]
    }
   ],
   "source": [
    "# Вычисляем среднее значение длительности поездок\n",
    "mu = df_ultra['duration'].mean()\n",
    "\n",
    "# Вычисляем стандартное отклонение длительности поездок\n",
    "sigma = df_ultra['duration'].std()\n",
    "\n",
    "# Целевой временной промежуток для моделирования\n",
    "target_time = 30\n",
    "\n",
    "# Выводим результаты, округляя до одного знака после запятой\n",
    "print(f'Средняя длительность поездки {round(mu, 1)}, стандартное отклонение {round(sigma, 1)}.')\n"
   ]
  },
  {
   "cell_type": "markdown",
   "metadata": {
    "deletable": false,
    "editable": false,
    "id": "M65RN8Ic6ozL",
    "tags": [
     "start_task"
    ]
   },
   "source": [
    "#### Задача 7.2 Вычисление значения функции распределения в точке (CDF)"
   ]
  },
  {
   "cell_type": "code",
   "execution_count": 36,
   "metadata": {
    "deletable": false,
    "id": "l3kJCKfvUQMP"
   },
   "outputs": [
    {
     "name": "stdout",
     "output_type": "stream",
     "text": [
      "Вероятность поездки более 30 минут 0.02\n"
     ]
    }
   ],
   "source": [
    "# Вычисляем вероятность того, что случайная величина будет меньше указанного значения или равна ему\n",
    "\n",
    "duration_norm_dist  = st.norm(loc=mu, scale=sigma)\n",
    "\n",
    "# Вычисляем вероятность того, что поездка займет меньше или ровно 30 минут\n",
    "prob_less_or_equal = duration_norm_dist.cdf(target_time)\n",
    "\n",
    "# Нас интересует вероятность того, что поездка занимает БОЛЬШЕ 30 минут\n",
    "prob_more_than_target = 1 - prob_less_or_equal\n",
    "\n",
    "prob = round(prob_more_than_target, 3) # Используем CDF для нахождения накопленной вероятности\n",
    "\n",
    "print(f'Вероятность поездки более 30 минут {prob}')"
   ]
  },
  {
   "cell_type": "markdown",
   "metadata": {
    "deletable": false,
    "editable": false,
    "id": "G6r8KA03IrNe",
    "tags": [
     "start_task"
    ]
   },
   "source": [
    "#### Задача 7.3 Вероятность для интервала (CDF)\n",
    "Проверим какой процент пользователей совершает поездки в интервале от 20 до 30 минут. Возможно, именно для них стоит провести промоакцию.\n"
   ]
  },
  {
   "cell_type": "code",
   "execution_count": 37,
   "metadata": {
    "deletable": false,
    "id": "aujB5fDhU15e"
   },
   "outputs": [
    {
     "name": "stdout",
     "output_type": "stream",
     "text": [
      "Вероятность того, что пользователь совершит поездку длительностью от 20 до 30 минут: 0.377\n"
     ]
    }
   ],
   "source": [
    "# Определяем границы интервала\n",
    "low = 20\n",
    "high = 30\n",
    "\n",
    "# Вычисляем вероятность попадания в интервал\n",
    "# CDF(high) - CDF(low) покажет вероятность попасть в диапазон\n",
    "prob_interval = round(duration_norm_dist.cdf(high) - duration_norm_dist.cdf(low), 3)\n",
    "\n",
    "# Выводим результат\n",
    "print(f'Вероятность того, что пользователь совершит поездку длительностью от {low} до {high} минут: {prob_interval}')"
   ]
  },
  {
   "cell_type": "markdown",
   "metadata": {
    "deletable": false,
    "editable": false,
    "id": "HDjUsAV8VB_t",
    "tags": [
     "start_task"
    ]
   },
   "source": [
    "#### Задача 7.4 Определение критической дистанции поездок (PPF)\n",
    "Длительные поездки могут негативно сказываться на сроке службы самоката. В связи с этим принято решение установить критическую дистанцию, превышение которой будет сопровождаться дополнительной платой. Для этого необходимо определить расстояние, которое превышается только в 10% поездок (90-й процентиль).\n"
   ]
  },
  {
   "cell_type": "code",
   "execution_count": 38,
   "metadata": {
    "deletable": false,
    "id": "uviLDRSKVkho"
   },
   "outputs": [
    {
     "name": "stdout",
     "output_type": "stream",
     "text": [
      "90.0 % поездок имеют дистанцию ниже критического значения 4501.94 км.\n"
     ]
    }
   ],
   "source": [
    "# Вычисляем среднее значение\n",
    "mu = df['distance'].mean()\n",
    "\n",
    "# Вычисляем стандартное отклонение\n",
    "sigma = df['distance'].std()\n",
    "\n",
    "# Вероятность, для которой хотим найти значение (90% случаев)\n",
    "target_prob = 0.90\n",
    "\n",
    "# Создаём объект нормального распределения\n",
    "distance_norm = st.norm(loc=mu, scale=sigma)\n",
    "\n",
    "# Рассчитываем критическую дистанцию для заданного процентиля поездок\n",
    "critical_distance = distance_norm.ppf(target_prob)\n",
    "\n",
    "# Выводим результат\n",
    "print(f'{100 * target_prob} % поездок имеют дистанцию ниже критического значения {critical_distance:.2f} км.')"
   ]
  }
 ],
 "metadata": {
  "ExecuteTimeLog": [
   {
    "duration": 388,
    "start_time": "2025-05-07T08:10:27.994Z"
   },
   {
    "duration": 164,
    "start_time": "2025-05-07T08:10:52.830Z"
   },
   {
    "duration": 85,
    "start_time": "2025-05-07T08:11:24.724Z"
   },
   {
    "duration": 176,
    "start_time": "2025-05-07T08:11:57.174Z"
   },
   {
    "duration": 195,
    "start_time": "2025-05-07T08:12:05.109Z"
   },
   {
    "duration": 154,
    "start_time": "2025-05-07T08:12:25.959Z"
   },
   {
    "duration": 70,
    "start_time": "2025-05-07T08:12:52.613Z"
   },
   {
    "duration": 22,
    "start_time": "2025-05-07T08:13:06.849Z"
   },
   {
    "duration": 46,
    "start_time": "2025-05-07T08:17:23.133Z"
   },
   {
    "duration": 6,
    "start_time": "2025-05-07T08:17:43.512Z"
   },
   {
    "duration": 7,
    "start_time": "2025-05-07T08:17:55.513Z"
   },
   {
    "duration": 6,
    "start_time": "2025-05-07T08:18:11.872Z"
   },
   {
    "duration": 350,
    "start_time": "2025-05-07T08:18:19.016Z"
   },
   {
    "duration": 175,
    "start_time": "2025-05-07T08:18:21.832Z"
   },
   {
    "duration": 29,
    "start_time": "2025-05-07T08:18:23.744Z"
   },
   {
    "duration": 4,
    "start_time": "2025-05-07T08:18:26.344Z"
   },
   {
    "duration": 4,
    "start_time": "2025-05-07T08:18:43.176Z"
   },
   {
    "duration": 4,
    "start_time": "2025-05-07T08:18:58.257Z"
   },
   {
    "duration": 5,
    "start_time": "2025-05-07T08:19:08.113Z"
   },
   {
    "duration": 50,
    "start_time": "2025-05-07T08:35:49.086Z"
   },
   {
    "duration": 7,
    "start_time": "2025-05-07T08:35:51.280Z"
   },
   {
    "duration": 6,
    "start_time": "2025-05-07T08:35:57.375Z"
   },
   {
    "duration": 6,
    "start_time": "2025-05-07T08:35:59.463Z"
   },
   {
    "duration": 364,
    "start_time": "2025-05-07T08:36:07.600Z"
   },
   {
    "duration": 189,
    "start_time": "2025-05-07T08:36:08.728Z"
   },
   {
    "duration": 24,
    "start_time": "2025-05-07T08:36:10.488Z"
   },
   {
    "duration": 6,
    "start_time": "2025-05-07T08:36:12.856Z"
   },
   {
    "duration": 6,
    "start_time": "2025-05-07T08:36:29.016Z"
   },
   {
    "duration": 29,
    "start_time": "2025-05-07T08:45:42.708Z"
   },
   {
    "duration": 3,
    "start_time": "2025-05-07T08:45:57.436Z"
   },
   {
    "duration": 8,
    "start_time": "2025-05-07T08:49:00.004Z"
   },
   {
    "duration": 56,
    "start_time": "2025-05-07T08:49:24.212Z"
   },
   {
    "duration": 10,
    "start_time": "2025-05-07T08:49:52.213Z"
   },
   {
    "duration": 5,
    "start_time": "2025-05-07T08:51:31.317Z"
   },
   {
    "duration": 5,
    "start_time": "2025-05-07T08:51:49.701Z"
   },
   {
    "duration": 3,
    "start_time": "2025-05-07T08:51:55.228Z"
   },
   {
    "duration": 5,
    "start_time": "2025-05-07T08:51:57.604Z"
   },
   {
    "duration": 13,
    "start_time": "2025-05-07T08:52:15.532Z"
   },
   {
    "duration": 5,
    "start_time": "2025-05-07T08:55:52.679Z"
   },
   {
    "duration": 13,
    "start_time": "2025-05-07T08:57:40.775Z"
   },
   {
    "duration": 8,
    "start_time": "2025-05-07T08:58:48.351Z"
   },
   {
    "duration": 6,
    "start_time": "2025-05-07T10:47:34.522Z"
   },
   {
    "duration": 7,
    "start_time": "2025-05-07T10:52:08.155Z"
   },
   {
    "duration": 8,
    "start_time": "2025-05-07T10:52:17.070Z"
   },
   {
    "duration": 7,
    "start_time": "2025-05-07T10:52:19.519Z"
   },
   {
    "duration": 3,
    "start_time": "2025-05-07T10:54:45.720Z"
   },
   {
    "duration": 5,
    "start_time": "2025-05-07T10:55:01.384Z"
   },
   {
    "duration": 10,
    "start_time": "2025-05-07T10:55:46.055Z"
   },
   {
    "duration": 9,
    "start_time": "2025-05-07T10:56:27.320Z"
   },
   {
    "duration": 5,
    "start_time": "2025-05-07T10:56:29.608Z"
   },
   {
    "duration": 9,
    "start_time": "2025-05-07T10:56:30.848Z"
   },
   {
    "duration": 10,
    "start_time": "2025-05-07T10:56:46.192Z"
   },
   {
    "duration": 10,
    "start_time": "2025-05-07T10:56:54.600Z"
   },
   {
    "duration": 9,
    "start_time": "2025-05-07T10:56:56.807Z"
   },
   {
    "duration": 9,
    "start_time": "2025-05-07T10:56:59.049Z"
   },
   {
    "duration": 3,
    "start_time": "2025-05-07T10:57:05.279Z"
   },
   {
    "duration": 173,
    "start_time": "2025-05-07T10:57:06.832Z"
   },
   {
    "duration": 17,
    "start_time": "2025-05-07T10:57:08.416Z"
   },
   {
    "duration": 3,
    "start_time": "2025-05-07T10:57:11.072Z"
   },
   {
    "duration": 5,
    "start_time": "2025-05-07T10:57:12.863Z"
   },
   {
    "duration": 6,
    "start_time": "2025-05-07T10:57:23.640Z"
   },
   {
    "duration": 10,
    "start_time": "2025-05-07T10:57:40.272Z"
   },
   {
    "duration": 12,
    "start_time": "2025-05-07T10:57:45.544Z"
   },
   {
    "duration": 6,
    "start_time": "2025-05-07T10:57:46.831Z"
   },
   {
    "duration": 7,
    "start_time": "2025-05-07T10:57:49.008Z"
   },
   {
    "duration": 5,
    "start_time": "2025-05-07T10:57:50.896Z"
   },
   {
    "duration": 4,
    "start_time": "2025-05-07T10:57:54.072Z"
   },
   {
    "duration": 15,
    "start_time": "2025-05-07T10:58:06.968Z"
   },
   {
    "duration": 13,
    "start_time": "2025-05-07T10:58:16.721Z"
   },
   {
    "duration": 346,
    "start_time": "2025-05-07T10:59:35.968Z"
   },
   {
    "duration": 7,
    "start_time": "2025-05-07T11:04:56.602Z"
   },
   {
    "duration": 6,
    "start_time": "2025-05-07T11:06:11.043Z"
   },
   {
    "duration": 5,
    "start_time": "2025-05-07T11:22:19.648Z"
   },
   {
    "duration": 20,
    "start_time": "2025-05-07T11:23:16.960Z"
   },
   {
    "duration": 4,
    "start_time": "2025-05-07T11:23:34.017Z"
   },
   {
    "duration": 5,
    "start_time": "2025-05-07T11:25:22.041Z"
   },
   {
    "duration": 96,
    "start_time": "2025-05-07T11:36:32.132Z"
   },
   {
    "duration": 220,
    "start_time": "2025-05-07T11:42:38.365Z"
   },
   {
    "duration": 10,
    "start_time": "2025-05-07T11:47:37.464Z"
   },
   {
    "duration": 4,
    "start_time": "2025-05-07T11:48:00.609Z"
   },
   {
    "duration": 6,
    "start_time": "2025-05-07T11:50:52.905Z"
   },
   {
    "duration": 90,
    "start_time": "2025-05-07T11:51:55.545Z"
   },
   {
    "duration": 4,
    "start_time": "2025-05-07T11:52:07.498Z"
   },
   {
    "duration": 4,
    "start_time": "2025-05-07T11:52:11.985Z"
   },
   {
    "duration": 5,
    "start_time": "2025-05-07T11:52:13.802Z"
   },
   {
    "duration": 156,
    "start_time": "2025-05-07T11:52:22.033Z"
   },
   {
    "duration": 5,
    "start_time": "2025-05-07T11:52:24.817Z"
   },
   {
    "duration": 4,
    "start_time": "2025-05-07T11:53:12.938Z"
   },
   {
    "duration": 5,
    "start_time": "2025-05-07T11:54:07.834Z"
   },
   {
    "duration": 6,
    "start_time": "2025-05-07T11:55:23.882Z"
   },
   {
    "duration": 10,
    "start_time": "2025-05-07T11:56:59.059Z"
   },
   {
    "duration": 10,
    "start_time": "2025-05-07T11:57:17.547Z"
   },
   {
    "duration": 10,
    "start_time": "2025-05-07T11:57:18.794Z"
   },
   {
    "duration": 6,
    "start_time": "2025-05-07T11:57:45.003Z"
   },
   {
    "duration": 10,
    "start_time": "2025-05-07T11:58:28.987Z"
   },
   {
    "duration": 10,
    "start_time": "2025-05-07T11:58:30.580Z"
   },
   {
    "duration": 9,
    "start_time": "2025-05-07T11:58:45.028Z"
   },
   {
    "duration": 6,
    "start_time": "2025-05-07T11:58:53.011Z"
   },
   {
    "duration": 5,
    "start_time": "2025-05-07T12:20:58.818Z"
   },
   {
    "duration": 8,
    "start_time": "2025-05-07T12:53:55.947Z"
   },
   {
    "duration": 8,
    "start_time": "2025-05-07T12:54:04.213Z"
   },
   {
    "duration": 7,
    "start_time": "2025-05-07T12:54:07.227Z"
   },
   {
    "duration": 8,
    "start_time": "2025-05-07T12:55:02.883Z"
   },
   {
    "duration": 4,
    "start_time": "2025-05-07T12:55:49.475Z"
   },
   {
    "duration": 5,
    "start_time": "2025-05-07T12:55:54.411Z"
   },
   {
    "duration": 7,
    "start_time": "2025-05-07T12:55:57.139Z"
   },
   {
    "duration": 8,
    "start_time": "2025-05-07T12:58:42.206Z"
   },
   {
    "duration": 7,
    "start_time": "2025-05-07T12:59:13.148Z"
   },
   {
    "duration": 8,
    "start_time": "2025-05-07T12:59:19.604Z"
   },
   {
    "duration": 1327,
    "start_time": "2025-05-07T13:02:48.621Z"
   },
   {
    "duration": 17,
    "start_time": "2025-05-07T13:04:04.261Z"
   },
   {
    "duration": 13,
    "start_time": "2025-05-07T13:04:05.669Z"
   },
   {
    "duration": 8,
    "start_time": "2025-05-07T13:04:32.741Z"
   },
   {
    "duration": 12,
    "start_time": "2025-05-07T13:04:33.974Z"
   },
   {
    "duration": 6,
    "start_time": "2025-05-07T13:05:03.814Z"
   },
   {
    "duration": 5,
    "start_time": "2025-05-07T13:26:37.267Z"
   },
   {
    "duration": 5,
    "start_time": "2025-05-07T13:31:38.070Z"
   },
   {
    "duration": 125,
    "start_time": "2025-05-07T13:37:17.281Z"
   },
   {
    "duration": 5,
    "start_time": "2025-05-07T13:37:33.170Z"
   },
   {
    "duration": 7,
    "start_time": "2025-05-07T13:39:19.508Z"
   },
   {
    "duration": 10,
    "start_time": "2025-05-07T13:40:30.002Z"
   },
   {
    "duration": 10,
    "start_time": "2025-05-07T13:40:48.043Z"
   },
   {
    "duration": 9,
    "start_time": "2025-05-07T13:40:55.938Z"
   },
   {
    "duration": 8,
    "start_time": "2025-05-07T13:41:26.699Z"
   },
   {
    "duration": 7,
    "start_time": "2025-05-07T13:42:31.354Z"
   },
   {
    "duration": 7,
    "start_time": "2025-05-07T13:42:33.179Z"
   },
   {
    "duration": 7,
    "start_time": "2025-05-07T13:44:22.316Z"
   },
   {
    "duration": 12,
    "start_time": "2025-05-07T13:45:02.076Z"
   },
   {
    "duration": 7,
    "start_time": "2025-05-07T13:45:39.764Z"
   },
   {
    "duration": 9,
    "start_time": "2025-05-07T13:46:15.564Z"
   },
   {
    "duration": 8,
    "start_time": "2025-05-07T13:57:02.959Z"
   },
   {
    "duration": 52,
    "start_time": "2025-05-09T09:12:43.384Z"
   },
   {
    "duration": 6,
    "start_time": "2025-05-09T09:12:47.641Z"
   },
   {
    "duration": 11,
    "start_time": "2025-05-09T09:15:36.077Z"
   },
   {
    "duration": 7,
    "start_time": "2025-05-09T09:15:50.296Z"
   },
   {
    "duration": 8,
    "start_time": "2025-05-09T09:15:57.097Z"
   },
   {
    "duration": 7,
    "start_time": "2025-05-09T09:16:04.538Z"
   },
   {
    "duration": 372,
    "start_time": "2025-05-09T09:16:12.333Z"
   },
   {
    "duration": 110,
    "start_time": "2025-05-09T09:16:15.331Z"
   },
   {
    "duration": 39,
    "start_time": "2025-05-09T09:16:21.971Z"
   },
   {
    "duration": 3,
    "start_time": "2025-05-09T09:16:26.609Z"
   },
   {
    "duration": 7,
    "start_time": "2025-05-09T09:16:32.587Z"
   },
   {
    "duration": 12,
    "start_time": "2025-05-09T09:16:36.980Z"
   },
   {
    "duration": 6,
    "start_time": "2025-05-09T09:16:39.725Z"
   },
   {
    "duration": 8,
    "start_time": "2025-05-09T09:16:43.907Z"
   },
   {
    "duration": 5,
    "start_time": "2025-05-09T09:16:46.788Z"
   },
   {
    "duration": 4,
    "start_time": "2025-05-09T09:16:50.193Z"
   },
   {
    "duration": 437,
    "start_time": "2025-05-09T09:16:54.627Z"
   },
   {
    "duration": 8,
    "start_time": "2025-05-09T09:16:58.734Z"
   },
   {
    "duration": 5,
    "start_time": "2025-05-09T09:17:06.689Z"
   },
   {
    "duration": 124,
    "start_time": "2025-05-09T09:17:09.870Z"
   },
   {
    "duration": 179,
    "start_time": "2025-05-09T09:17:18.971Z"
   },
   {
    "duration": 4,
    "start_time": "2025-05-09T09:17:22.612Z"
   },
   {
    "duration": 8,
    "start_time": "2025-05-09T09:17:26.248Z"
   },
   {
    "duration": 14,
    "start_time": "2025-05-09T09:17:31.549Z"
   },
   {
    "duration": 43,
    "start_time": "2025-05-09T09:17:35.153Z"
   },
   {
    "duration": 15,
    "start_time": "2025-05-09T09:18:55.176Z"
   },
   {
    "duration": 10,
    "start_time": "2025-05-09T09:20:56.319Z"
   },
   {
    "duration": 11,
    "start_time": "2025-05-09T09:24:51.916Z"
   },
   {
    "duration": 11,
    "start_time": "2025-05-09T09:25:08.404Z"
   },
   {
    "duration": 3,
    "start_time": "2025-05-09T09:27:08.659Z"
   },
   {
    "duration": 400,
    "start_time": "2025-05-09T09:41:32.000Z"
   },
   {
    "duration": 111,
    "start_time": "2025-05-09T09:41:32.402Z"
   },
   {
    "duration": 28,
    "start_time": "2025-05-09T09:41:32.514Z"
   },
   {
    "duration": 14,
    "start_time": "2025-05-09T09:41:32.544Z"
   },
   {
    "duration": 18,
    "start_time": "2025-05-09T09:41:32.561Z"
   },
   {
    "duration": 12,
    "start_time": "2025-05-09T09:41:32.589Z"
   },
   {
    "duration": 20,
    "start_time": "2025-05-09T09:41:32.602Z"
   },
   {
    "duration": 24,
    "start_time": "2025-05-09T09:41:32.623Z"
   },
   {
    "duration": 15,
    "start_time": "2025-05-09T09:41:32.648Z"
   },
   {
    "duration": 130,
    "start_time": "2025-05-09T09:41:32.665Z"
   },
   {
    "duration": 290,
    "start_time": "2025-05-09T09:41:32.797Z"
   },
   {
    "duration": 10,
    "start_time": "2025-05-09T09:41:33.090Z"
   },
   {
    "duration": 19,
    "start_time": "2025-05-09T09:41:33.102Z"
   },
   {
    "duration": 124,
    "start_time": "2025-05-09T09:41:33.125Z"
   },
   {
    "duration": 199,
    "start_time": "2025-05-09T09:41:33.251Z"
   },
   {
    "duration": 5,
    "start_time": "2025-05-09T09:41:33.451Z"
   },
   {
    "duration": 32,
    "start_time": "2025-05-09T09:41:33.457Z"
   },
   {
    "duration": 16,
    "start_time": "2025-05-09T09:41:33.494Z"
   },
   {
    "duration": 12,
    "start_time": "2025-05-09T09:41:33.512Z"
   },
   {
    "duration": 15,
    "start_time": "2025-05-09T09:41:33.526Z"
   },
   {
    "duration": 104,
    "start_time": "2025-05-09T09:41:33.543Z"
   },
   {
    "duration": 0,
    "start_time": "2025-05-09T09:41:33.649Z"
   },
   {
    "duration": 0,
    "start_time": "2025-05-09T09:41:33.650Z"
   },
   {
    "duration": 0,
    "start_time": "2025-05-09T09:41:33.651Z"
   },
   {
    "duration": 0,
    "start_time": "2025-05-09T09:41:33.652Z"
   },
   {
    "duration": 0,
    "start_time": "2025-05-09T09:41:33.653Z"
   },
   {
    "duration": 0,
    "start_time": "2025-05-09T09:41:33.653Z"
   },
   {
    "duration": 0,
    "start_time": "2025-05-09T09:41:33.654Z"
   },
   {
    "duration": 0,
    "start_time": "2025-05-09T09:41:33.655Z"
   },
   {
    "duration": 0,
    "start_time": "2025-05-09T09:41:33.656Z"
   },
   {
    "duration": 0,
    "start_time": "2025-05-09T09:41:33.657Z"
   },
   {
    "duration": 12,
    "start_time": "2025-05-09T09:42:20.433Z"
   },
   {
    "duration": 4,
    "start_time": "2025-05-09T09:42:21.354Z"
   },
   {
    "duration": 11,
    "start_time": "2025-05-09T09:49:44.862Z"
   },
   {
    "duration": 4,
    "start_time": "2025-05-09T09:49:56.766Z"
   },
   {
    "duration": 15,
    "start_time": "2025-05-09T09:49:58.892Z"
   },
   {
    "duration": 9,
    "start_time": "2025-05-09T09:50:16.018Z"
   },
   {
    "duration": 3,
    "start_time": "2025-05-09T09:50:17.169Z"
   },
   {
    "duration": 18,
    "start_time": "2025-05-09T09:50:18.741Z"
   },
   {
    "duration": 4,
    "start_time": "2025-05-09T09:52:15.001Z"
   },
   {
    "duration": 11,
    "start_time": "2025-05-09T09:52:53.546Z"
   },
   {
    "duration": 9,
    "start_time": "2025-05-09T09:53:53.102Z"
   },
   {
    "duration": 8,
    "start_time": "2025-05-09T09:53:57.129Z"
   },
   {
    "duration": 17,
    "start_time": "2025-05-09T09:55:53.796Z"
   },
   {
    "duration": 8,
    "start_time": "2025-05-09T09:56:01.633Z"
   },
   {
    "duration": 285,
    "start_time": "2025-05-09T09:57:17.529Z"
   },
   {
    "duration": 12,
    "start_time": "2025-05-09T09:58:32.157Z"
   },
   {
    "duration": 11,
    "start_time": "2025-05-09T09:58:36.709Z"
   },
   {
    "duration": 80,
    "start_time": "2025-05-09T10:00:12.177Z"
   },
   {
    "duration": 15,
    "start_time": "2025-05-09T10:01:47.349Z"
   },
   {
    "duration": 3,
    "start_time": "2025-05-09T10:03:23.322Z"
   },
   {
    "duration": 429,
    "start_time": "2025-05-10T12:08:01.673Z"
   },
   {
    "duration": 99,
    "start_time": "2025-05-10T12:08:04.024Z"
   },
   {
    "duration": 27,
    "start_time": "2025-05-10T12:08:07.320Z"
   },
   {
    "duration": 5,
    "start_time": "2025-05-10T12:08:10.702Z"
   },
   {
    "duration": 5,
    "start_time": "2025-05-10T12:08:13.858Z"
   },
   {
    "duration": 93,
    "start_time": "2025-05-10T12:08:16.617Z"
   },
   {
    "duration": 10,
    "start_time": "2025-05-10T12:08:19.345Z"
   },
   {
    "duration": 9,
    "start_time": "2025-05-10T12:08:22.868Z"
   },
   {
    "duration": 5,
    "start_time": "2025-05-10T12:08:25.684Z"
   },
   {
    "duration": 9,
    "start_time": "2025-05-10T12:08:28.153Z"
   },
   {
    "duration": 5,
    "start_time": "2025-05-10T12:08:30.802Z"
   },
   {
    "duration": 5,
    "start_time": "2025-05-10T12:08:33.544Z"
   },
   {
    "duration": 453,
    "start_time": "2025-05-10T12:08:36.496Z"
   },
   {
    "duration": 8,
    "start_time": "2025-05-10T12:08:38.745Z"
   },
   {
    "duration": 5,
    "start_time": "2025-05-10T12:08:42.000Z"
   },
   {
    "duration": 107,
    "start_time": "2025-05-10T12:08:46.089Z"
   },
   {
    "duration": 176,
    "start_time": "2025-05-10T12:08:50.218Z"
   },
   {
    "duration": 5,
    "start_time": "2025-05-10T12:08:53.930Z"
   },
   {
    "duration": 8,
    "start_time": "2025-05-10T12:08:56.822Z"
   },
   {
    "duration": 13,
    "start_time": "2025-05-10T12:09:00.123Z"
   },
   {
    "duration": 11,
    "start_time": "2025-05-10T12:09:08.533Z"
   },
   {
    "duration": 18,
    "start_time": "2025-05-10T12:09:09.365Z"
   },
   {
    "duration": 3,
    "start_time": "2025-05-10T12:09:15.804Z"
   },
   {
    "duration": 19,
    "start_time": "2025-05-10T12:09:37.375Z"
   },
   {
    "duration": 15,
    "start_time": "2025-05-10T12:09:56.021Z"
   },
   {
    "duration": 277,
    "start_time": "2025-05-10T12:10:27.790Z"
   },
   {
    "duration": 13,
    "start_time": "2025-05-10T12:11:03.875Z"
   },
   {
    "duration": 4,
    "start_time": "2025-05-10T12:11:05.599Z"
   },
   {
    "duration": 3,
    "start_time": "2025-05-10T12:12:56.707Z"
   },
   {
    "duration": 9,
    "start_time": "2025-05-10T12:12:58.317Z"
   },
   {
    "duration": 3,
    "start_time": "2025-05-10T12:13:13.114Z"
   },
   {
    "duration": 10,
    "start_time": "2025-05-10T12:13:41.118Z"
   },
   {
    "duration": 98,
    "start_time": "2025-05-10T12:14:52.807Z"
   },
   {
    "duration": 71,
    "start_time": "2025-05-10T12:14:56.531Z"
   },
   {
    "duration": 11,
    "start_time": "2025-05-10T12:16:13.131Z"
   },
   {
    "duration": 123,
    "start_time": "2025-05-10T12:18:08.583Z"
   },
   {
    "duration": 63,
    "start_time": "2025-05-10T12:18:18.978Z"
   },
   {
    "duration": 200,
    "start_time": "2025-05-10T12:21:49.581Z"
   },
   {
    "duration": 3,
    "start_time": "2025-05-10T12:26:13.070Z"
   },
   {
    "duration": 204,
    "start_time": "2025-05-10T12:27:22.458Z"
   },
   {
    "duration": 15,
    "start_time": "2025-05-10T12:30:16.288Z"
   },
   {
    "duration": 464,
    "start_time": "2025-05-10T12:32:56.403Z"
   },
   {
    "duration": 5,
    "start_time": "2025-05-10T12:34:41.604Z"
   },
   {
    "duration": 6,
    "start_time": "2025-05-10T12:35:24.259Z"
   },
   {
    "duration": 6,
    "start_time": "2025-05-10T12:36:48.015Z"
   },
   {
    "duration": 5,
    "start_time": "2025-05-10T12:39:39.419Z"
   },
   {
    "duration": 37,
    "start_time": "2025-05-10T12:56:51.337Z"
   },
   {
    "duration": 68,
    "start_time": "2025-05-10T12:58:37.817Z"
   },
   {
    "duration": 64,
    "start_time": "2025-05-10T12:58:43.593Z"
   },
   {
    "duration": 4,
    "start_time": "2025-05-10T12:59:38.711Z"
   },
   {
    "duration": 5,
    "start_time": "2025-05-10T13:00:54.135Z"
   },
   {
    "duration": 4,
    "start_time": "2025-05-10T13:01:52.064Z"
   },
   {
    "duration": 62,
    "start_time": "2025-05-10T13:03:47.627Z"
   },
   {
    "duration": 5,
    "start_time": "2025-05-10T13:04:04.774Z"
   },
   {
    "duration": 12,
    "start_time": "2025-05-10T13:07:49.764Z"
   },
   {
    "duration": 8,
    "start_time": "2025-05-10T13:08:50.318Z"
   },
   {
    "duration": 12,
    "start_time": "2025-05-10T13:12:53.241Z"
   },
   {
    "duration": 7,
    "start_time": "2025-05-10T13:15:55.354Z"
   },
   {
    "duration": 13,
    "start_time": "2025-05-10T13:27:08.833Z"
   },
   {
    "duration": 9,
    "start_time": "2025-05-10T13:27:23.586Z"
   },
   {
    "duration": 8,
    "start_time": "2025-05-10T13:32:14.028Z"
   },
   {
    "duration": 8,
    "start_time": "2025-05-10T13:39:34.120Z"
   },
   {
    "duration": 66,
    "start_time": "2025-05-10T13:41:08.281Z"
   },
   {
    "duration": 12,
    "start_time": "2025-05-10T13:46:23.279Z"
   },
   {
    "duration": 12,
    "start_time": "2025-05-10T13:46:41.085Z"
   },
   {
    "duration": 8,
    "start_time": "2025-05-10T13:48:09.601Z"
   },
   {
    "duration": 8,
    "start_time": "2025-05-10T13:49:12.016Z"
   },
   {
    "duration": 13,
    "start_time": "2025-05-10T13:51:02.055Z"
   },
   {
    "duration": 15,
    "start_time": "2025-05-10T13:51:30.827Z"
   },
   {
    "duration": 6,
    "start_time": "2025-05-10T13:52:10.832Z"
   },
   {
    "duration": 6,
    "start_time": "2025-05-10T13:52:49.693Z"
   },
   {
    "duration": 7,
    "start_time": "2025-05-10T13:53:35.473Z"
   },
   {
    "duration": 7,
    "start_time": "2025-05-10T13:53:43.875Z"
   },
   {
    "duration": 56,
    "start_time": "2025-05-11T07:52:06.443Z"
   },
   {
    "duration": 8,
    "start_time": "2025-05-11T07:52:19.855Z"
   },
   {
    "duration": 9,
    "start_time": "2025-05-11T07:52:23.200Z"
   },
   {
    "duration": 406,
    "start_time": "2025-05-11T07:52:34.287Z"
   },
   {
    "duration": 132,
    "start_time": "2025-05-11T07:52:35.778Z"
   },
   {
    "duration": 25,
    "start_time": "2025-05-11T07:52:41.327Z"
   },
   {
    "duration": 4,
    "start_time": "2025-05-11T07:52:44.936Z"
   },
   {
    "duration": 6,
    "start_time": "2025-05-11T07:52:47.936Z"
   },
   {
    "duration": 7,
    "start_time": "2025-05-11T07:52:51.785Z"
   },
   {
    "duration": 5,
    "start_time": "2025-05-11T07:52:54.475Z"
   },
   {
    "duration": 9,
    "start_time": "2025-05-11T07:52:58.242Z"
   },
   {
    "duration": 7,
    "start_time": "2025-05-11T07:53:01.792Z"
   },
   {
    "duration": 4,
    "start_time": "2025-05-11T07:53:08.347Z"
   },
   {
    "duration": 493,
    "start_time": "2025-05-11T07:53:11.138Z"
   },
   {
    "duration": 8,
    "start_time": "2025-05-11T07:53:14.311Z"
   },
   {
    "duration": 5,
    "start_time": "2025-05-11T07:53:59.518Z"
   },
   {
    "duration": 105,
    "start_time": "2025-05-11T07:54:05.470Z"
   },
   {
    "duration": 173,
    "start_time": "2025-05-11T07:54:09.301Z"
   },
   {
    "duration": 5,
    "start_time": "2025-05-11T07:54:13.002Z"
   },
   {
    "duration": 10,
    "start_time": "2025-05-11T07:54:18.125Z"
   },
   {
    "duration": 14,
    "start_time": "2025-05-11T07:54:23.157Z"
   },
   {
    "duration": 12,
    "start_time": "2025-05-11T07:54:26.486Z"
   },
   {
    "duration": 14,
    "start_time": "2025-05-11T07:54:29.470Z"
   },
   {
    "duration": 11,
    "start_time": "2025-05-11T07:54:32.830Z"
   },
   {
    "duration": 269,
    "start_time": "2025-05-11T07:54:39.345Z"
   },
   {
    "duration": 5,
    "start_time": "2025-05-11T07:54:48.990Z"
   },
   {
    "duration": 116,
    "start_time": "2025-05-11T07:54:53.810Z"
   },
   {
    "duration": 4,
    "start_time": "2025-05-11T07:54:58.344Z"
   },
   {
    "duration": 199,
    "start_time": "2025-05-11T07:55:01.008Z"
   },
   {
    "duration": 14,
    "start_time": "2025-05-11T07:55:04.711Z"
   },
   {
    "duration": 437,
    "start_time": "2025-05-11T07:55:33.463Z"
   },
   {
    "duration": 6,
    "start_time": "2025-05-11T07:55:37.535Z"
   },
   {
    "duration": 8,
    "start_time": "2025-05-11T07:55:45.185Z"
   },
   {
    "duration": 7,
    "start_time": "2025-05-11T07:55:52.918Z"
   },
   {
    "duration": 534,
    "start_time": "2025-05-11T08:10:23.549Z"
   },
   {
    "duration": 88,
    "start_time": "2025-05-11T08:11:22.153Z"
   },
   {
    "duration": 26,
    "start_time": "2025-05-11T08:15:22.545Z"
   },
   {
    "duration": 25,
    "start_time": "2025-05-11T08:15:27.291Z"
   },
   {
    "duration": 27,
    "start_time": "2025-05-11T08:21:58.487Z"
   },
   {
    "duration": 12,
    "start_time": "2025-05-11T08:23:09.638Z"
   },
   {
    "duration": 17,
    "start_time": "2025-05-11T08:25:28.475Z"
   },
   {
    "duration": 5,
    "start_time": "2025-05-11T08:43:45.284Z"
   },
   {
    "duration": 6,
    "start_time": "2025-05-11T08:44:31.600Z"
   },
   {
    "duration": 9,
    "start_time": "2025-05-11T08:45:12.044Z"
   },
   {
    "duration": 5,
    "start_time": "2025-05-11T08:48:42.032Z"
   },
   {
    "duration": 5,
    "start_time": "2025-05-11T08:50:53.326Z"
   },
   {
    "duration": 7,
    "start_time": "2025-05-11T09:04:55.752Z"
   },
   {
    "duration": 73,
    "start_time": "2025-05-11T09:08:24.710Z"
   },
   {
    "duration": 74,
    "start_time": "2025-05-11T09:08:35.255Z"
   },
   {
    "duration": 5,
    "start_time": "2025-05-11T09:08:44.608Z"
   },
   {
    "duration": 74,
    "start_time": "2025-05-11T09:08:49.583Z"
   },
   {
    "duration": 11,
    "start_time": "2025-05-11T09:10:12.052Z"
   },
   {
    "duration": 11,
    "start_time": "2025-05-11T09:17:02.949Z"
   },
   {
    "duration": 10,
    "start_time": "2025-05-11T09:21:20.175Z"
   },
   {
    "duration": 11,
    "start_time": "2025-05-11T09:21:41.135Z"
   },
   {
    "duration": 6,
    "start_time": "2025-05-11T09:21:47.199Z"
   },
   {
    "duration": 454,
    "start_time": "2025-05-11T09:22:53.546Z"
   },
   {
    "duration": 112,
    "start_time": "2025-05-11T09:22:54.003Z"
   },
   {
    "duration": 28,
    "start_time": "2025-05-11T09:22:54.116Z"
   },
   {
    "duration": 4,
    "start_time": "2025-05-11T09:22:54.146Z"
   },
   {
    "duration": 11,
    "start_time": "2025-05-11T09:22:54.152Z"
   },
   {
    "duration": 8,
    "start_time": "2025-05-11T09:22:54.165Z"
   },
   {
    "duration": 5,
    "start_time": "2025-05-11T09:22:54.175Z"
   },
   {
    "duration": 8,
    "start_time": "2025-05-11T09:22:54.182Z"
   },
   {
    "duration": 5,
    "start_time": "2025-05-11T09:22:54.192Z"
   },
   {
    "duration": 5,
    "start_time": "2025-05-11T09:22:54.200Z"
   },
   {
    "duration": 300,
    "start_time": "2025-05-11T09:22:54.206Z"
   },
   {
    "duration": 7,
    "start_time": "2025-05-11T09:22:54.507Z"
   },
   {
    "duration": 7,
    "start_time": "2025-05-11T09:22:54.516Z"
   },
   {
    "duration": 120,
    "start_time": "2025-05-11T09:22:54.525Z"
   },
   {
    "duration": 188,
    "start_time": "2025-05-11T09:22:54.647Z"
   },
   {
    "duration": 6,
    "start_time": "2025-05-11T09:22:54.837Z"
   },
   {
    "duration": 22,
    "start_time": "2025-05-11T09:22:54.844Z"
   },
   {
    "duration": 12,
    "start_time": "2025-05-11T09:22:54.868Z"
   },
   {
    "duration": 10,
    "start_time": "2025-05-11T09:22:54.882Z"
   },
   {
    "duration": 14,
    "start_time": "2025-05-11T09:22:54.894Z"
   },
   {
    "duration": 14,
    "start_time": "2025-05-11T09:22:54.910Z"
   },
   {
    "duration": 312,
    "start_time": "2025-05-11T09:22:54.926Z"
   },
   {
    "duration": 3,
    "start_time": "2025-05-11T09:22:55.240Z"
   },
   {
    "duration": 65,
    "start_time": "2025-05-11T09:22:55.245Z"
   },
   {
    "duration": 18,
    "start_time": "2025-05-11T09:22:55.312Z"
   },
   {
    "duration": 26,
    "start_time": "2025-05-11T09:22:55.332Z"
   },
   {
    "duration": 205,
    "start_time": "2025-05-11T09:22:55.360Z"
   },
   {
    "duration": 13,
    "start_time": "2025-05-11T09:22:55.569Z"
   },
   {
    "duration": 497,
    "start_time": "2025-05-11T09:22:55.584Z"
   },
   {
    "duration": 4,
    "start_time": "2025-05-11T09:22:56.083Z"
   },
   {
    "duration": 65,
    "start_time": "2025-05-11T09:22:56.089Z"
   },
   {
    "duration": 6,
    "start_time": "2025-05-11T09:22:56.156Z"
   },
   {
    "duration": 11,
    "start_time": "2025-05-11T09:22:56.164Z"
   },
   {
    "duration": 5,
    "start_time": "2025-05-11T09:22:56.177Z"
   },
   {
    "duration": 8,
    "start_time": "2025-05-11T09:22:56.184Z"
   },
   {
    "duration": 73,
    "start_time": "2025-05-11T09:22:56.194Z"
   },
   {
    "duration": 0,
    "start_time": "2025-05-11T09:22:56.268Z"
   },
   {
    "duration": 47,
    "start_time": "2025-05-11T15:28:12.903Z"
   },
   {
    "duration": 367,
    "start_time": "2025-05-11T15:28:20.111Z"
   },
   {
    "duration": 284,
    "start_time": "2025-05-11T15:28:20.479Z"
   },
   {
    "duration": 25,
    "start_time": "2025-05-11T15:28:20.771Z"
   },
   {
    "duration": 5,
    "start_time": "2025-05-11T15:28:20.798Z"
   },
   {
    "duration": 7,
    "start_time": "2025-05-11T15:28:20.804Z"
   },
   {
    "duration": 27,
    "start_time": "2025-05-11T15:28:20.813Z"
   },
   {
    "duration": 7,
    "start_time": "2025-05-11T15:28:20.842Z"
   },
   {
    "duration": 6,
    "start_time": "2025-05-11T15:28:20.850Z"
   },
   {
    "duration": 7,
    "start_time": "2025-05-11T15:28:20.861Z"
   },
   {
    "duration": 6,
    "start_time": "2025-05-11T15:28:20.872Z"
   },
   {
    "duration": 434,
    "start_time": "2025-05-11T15:28:20.879Z"
   },
   {
    "duration": 6,
    "start_time": "2025-05-11T15:28:21.315Z"
   },
   {
    "duration": 33,
    "start_time": "2025-05-11T15:28:21.322Z"
   },
   {
    "duration": 105,
    "start_time": "2025-05-11T15:28:21.357Z"
   },
   {
    "duration": 183,
    "start_time": "2025-05-11T15:28:21.464Z"
   },
   {
    "duration": 4,
    "start_time": "2025-05-11T15:28:21.649Z"
   },
   {
    "duration": 14,
    "start_time": "2025-05-11T15:28:21.661Z"
   },
   {
    "duration": 11,
    "start_time": "2025-05-11T15:28:21.677Z"
   },
   {
    "duration": 10,
    "start_time": "2025-05-11T15:28:21.690Z"
   },
   {
    "duration": 14,
    "start_time": "2025-05-11T15:28:21.701Z"
   },
   {
    "duration": 11,
    "start_time": "2025-05-11T15:28:21.716Z"
   },
   {
    "duration": 295,
    "start_time": "2025-05-11T15:28:21.728Z"
   },
   {
    "duration": 4,
    "start_time": "2025-05-11T15:28:22.024Z"
   },
   {
    "duration": 119,
    "start_time": "2025-05-11T15:28:22.029Z"
   },
   {
    "duration": 26,
    "start_time": "2025-05-11T15:28:22.149Z"
   },
   {
    "duration": 8,
    "start_time": "2025-05-11T15:28:22.177Z"
   },
   {
    "duration": 203,
    "start_time": "2025-05-11T15:28:22.187Z"
   },
   {
    "duration": 12,
    "start_time": "2025-05-11T15:28:22.393Z"
   },
   {
    "duration": 394,
    "start_time": "2025-05-11T15:28:22.407Z"
   },
   {
    "duration": 5,
    "start_time": "2025-05-11T15:28:22.802Z"
   },
   {
    "duration": 7,
    "start_time": "2025-05-11T15:28:22.808Z"
   },
   {
    "duration": 4,
    "start_time": "2025-05-11T15:28:22.816Z"
   },
   {
    "duration": 9,
    "start_time": "2025-05-11T15:28:22.821Z"
   },
   {
    "duration": 33,
    "start_time": "2025-05-11T15:28:22.832Z"
   },
   {
    "duration": 13,
    "start_time": "2025-05-11T15:28:22.866Z"
   },
   {
    "duration": 58,
    "start_time": "2025-05-11T15:28:22.881Z"
   },
   {
    "duration": 0,
    "start_time": "2025-05-11T15:28:22.941Z"
   },
   {
    "duration": 52,
    "start_time": "2025-05-12T05:04:09.674Z"
   },
   {
    "duration": 8,
    "start_time": "2025-05-12T05:04:12.663Z"
   },
   {
    "duration": 430,
    "start_time": "2025-05-12T05:04:18.917Z"
   },
   {
    "duration": 107,
    "start_time": "2025-05-12T05:04:20.516Z"
   },
   {
    "duration": 25,
    "start_time": "2025-05-12T05:04:22.359Z"
   },
   {
    "duration": 3,
    "start_time": "2025-05-12T05:04:24.574Z"
   },
   {
    "duration": 5,
    "start_time": "2025-05-12T05:04:26.206Z"
   },
   {
    "duration": 7,
    "start_time": "2025-05-12T05:04:27.916Z"
   },
   {
    "duration": 5,
    "start_time": "2025-05-12T05:04:28.917Z"
   },
   {
    "duration": 9,
    "start_time": "2025-05-12T05:04:30.005Z"
   },
   {
    "duration": 6,
    "start_time": "2025-05-12T05:04:31.725Z"
   },
   {
    "duration": 4,
    "start_time": "2025-05-12T05:04:33.173Z"
   },
   {
    "duration": 423,
    "start_time": "2025-05-12T05:04:35.085Z"
   },
   {
    "duration": 8,
    "start_time": "2025-05-12T05:04:37.429Z"
   },
   {
    "duration": 5,
    "start_time": "2025-05-12T05:04:39.029Z"
   },
   {
    "duration": 93,
    "start_time": "2025-05-12T05:04:40.654Z"
   },
   {
    "duration": 157,
    "start_time": "2025-05-12T05:04:43.694Z"
   },
   {
    "duration": 5,
    "start_time": "2025-05-12T05:04:46.013Z"
   },
   {
    "duration": 9,
    "start_time": "2025-05-12T05:04:49.277Z"
   },
   {
    "duration": 12,
    "start_time": "2025-05-12T05:04:51.780Z"
   },
   {
    "duration": 10,
    "start_time": "2025-05-12T05:04:53.366Z"
   },
   {
    "duration": 14,
    "start_time": "2025-05-12T05:04:54.926Z"
   },
   {
    "duration": 10,
    "start_time": "2025-05-12T05:04:59.701Z"
   },
   {
    "duration": 256,
    "start_time": "2025-05-12T05:05:02.254Z"
   },
   {
    "duration": 4,
    "start_time": "2025-05-12T05:05:05.713Z"
   },
   {
    "duration": 128,
    "start_time": "2025-05-12T05:05:07.446Z"
   },
   {
    "duration": 21,
    "start_time": "2025-05-12T05:05:10.047Z"
   },
   {
    "duration": 4,
    "start_time": "2025-05-12T05:05:12.468Z"
   },
   {
    "duration": 192,
    "start_time": "2025-05-12T05:05:14.933Z"
   },
   {
    "duration": 15,
    "start_time": "2025-05-12T05:05:18.117Z"
   },
   {
    "duration": 441,
    "start_time": "2025-05-12T05:05:27.742Z"
   },
   {
    "duration": 4,
    "start_time": "2025-05-12T05:05:30.006Z"
   },
   {
    "duration": 8,
    "start_time": "2025-05-12T05:05:39.614Z"
   },
   {
    "duration": 7,
    "start_time": "2025-05-12T05:06:02.270Z"
   },
   {
    "duration": 4,
    "start_time": "2025-05-12T05:10:39.311Z"
   },
   {
    "duration": 7,
    "start_time": "2025-05-12T05:10:41.599Z"
   },
   {
    "duration": 5,
    "start_time": "2025-05-12T05:10:45.136Z"
   },
   {
    "duration": 11,
    "start_time": "2025-05-12T05:10:47.121Z"
   },
   {
    "duration": 10,
    "start_time": "2025-05-12T05:11:54.303Z"
   },
   {
    "duration": 416,
    "start_time": "2025-05-12T05:12:13.447Z"
   },
   {
    "duration": 131,
    "start_time": "2025-05-12T05:12:13.865Z"
   },
   {
    "duration": 23,
    "start_time": "2025-05-12T05:12:13.998Z"
   },
   {
    "duration": 3,
    "start_time": "2025-05-12T05:12:14.023Z"
   },
   {
    "duration": 11,
    "start_time": "2025-05-12T05:12:14.028Z"
   },
   {
    "duration": 13,
    "start_time": "2025-05-12T05:12:14.041Z"
   },
   {
    "duration": 7,
    "start_time": "2025-05-12T05:12:14.055Z"
   },
   {
    "duration": 15,
    "start_time": "2025-05-12T05:12:14.063Z"
   },
   {
    "duration": 9,
    "start_time": "2025-05-12T05:12:14.080Z"
   },
   {
    "duration": 14,
    "start_time": "2025-05-12T05:12:14.092Z"
   },
   {
    "duration": 308,
    "start_time": "2025-05-12T05:12:14.108Z"
   },
   {
    "duration": 5,
    "start_time": "2025-05-12T05:12:14.418Z"
   },
   {
    "duration": 10,
    "start_time": "2025-05-12T05:12:14.425Z"
   },
   {
    "duration": 100,
    "start_time": "2025-05-12T05:12:14.439Z"
   },
   {
    "duration": 172,
    "start_time": "2025-05-12T05:12:14.541Z"
   },
   {
    "duration": 5,
    "start_time": "2025-05-12T05:12:14.714Z"
   },
   {
    "duration": 24,
    "start_time": "2025-05-12T05:12:14.721Z"
   },
   {
    "duration": 28,
    "start_time": "2025-05-12T05:12:14.747Z"
   },
   {
    "duration": 11,
    "start_time": "2025-05-12T05:12:14.777Z"
   },
   {
    "duration": 13,
    "start_time": "2025-05-12T05:12:14.790Z"
   },
   {
    "duration": 28,
    "start_time": "2025-05-12T05:12:14.804Z"
   },
   {
    "duration": 267,
    "start_time": "2025-05-12T05:12:14.834Z"
   },
   {
    "duration": 4,
    "start_time": "2025-05-12T05:12:15.103Z"
   },
   {
    "duration": 130,
    "start_time": "2025-05-12T05:12:15.108Z"
   },
   {
    "duration": 35,
    "start_time": "2025-05-12T05:12:15.240Z"
   },
   {
    "duration": 93,
    "start_time": "2025-05-12T05:12:15.276Z"
   },
   {
    "duration": 229,
    "start_time": "2025-05-12T05:12:15.371Z"
   },
   {
    "duration": 12,
    "start_time": "2025-05-12T05:12:15.603Z"
   },
   {
    "duration": 463,
    "start_time": "2025-05-12T05:12:15.616Z"
   },
   {
    "duration": 5,
    "start_time": "2025-05-12T05:12:16.080Z"
   },
   {
    "duration": 7,
    "start_time": "2025-05-12T05:12:16.087Z"
   },
   {
    "duration": 8,
    "start_time": "2025-05-12T05:12:16.095Z"
   },
   {
    "duration": 11,
    "start_time": "2025-05-12T05:12:16.104Z"
   },
   {
    "duration": 26,
    "start_time": "2025-05-12T05:12:16.116Z"
   },
   {
    "duration": 19,
    "start_time": "2025-05-12T05:12:16.143Z"
   },
   {
    "duration": 65,
    "start_time": "2025-05-12T05:12:16.163Z"
   },
   {
    "duration": 0,
    "start_time": "2025-05-12T05:12:16.230Z"
   },
   {
    "duration": 10,
    "start_time": "2025-05-12T05:13:57.299Z"
   },
   {
    "duration": 5,
    "start_time": "2025-05-12T05:58:28.598Z"
   },
   {
    "duration": 6,
    "start_time": "2025-05-12T06:03:01.439Z"
   }
  ],
  "colab": {
   "provenance": [],
   "toc_visible": true
  },
  "kernelspec": {
   "display_name": "Python 3",
   "language": "python",
   "name": "python3"
  },
  "language_info": {
   "codemirror_mode": {
    "name": "ipython",
    "version": 3
   },
   "file_extension": ".py",
   "mimetype": "text/x-python",
   "name": "python",
   "nbconvert_exporter": "python",
   "pygments_lexer": "ipython3",
   "version": "3.12.5"
  },
  "toc": {
   "base_numbering": 1,
   "nav_menu": {},
   "number_sections": true,
   "sideBar": true,
   "skip_h1_title": true,
   "title_cell": "Table of Contents",
   "title_sidebar": "Contents",
   "toc_cell": false,
   "toc_position": {},
   "toc_section_display": true,
   "toc_window_display": false
  }
 },
 "nbformat": 4,
 "nbformat_minor": 1
}
